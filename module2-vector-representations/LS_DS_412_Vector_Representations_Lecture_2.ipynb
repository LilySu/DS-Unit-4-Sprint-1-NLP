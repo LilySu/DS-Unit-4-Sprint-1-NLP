{
 "cells": [
  {
   "cell_type": "markdown",
   "metadata": {},
   "source": [
    "<img align=\"left\" src=\"https://lever-client-logos.s3.amazonaws.com/864372b1-534c-480e-acd5-9711f850815c-1524247202159.png\" width=200>\n",
    "<br></br>\n",
    "<br></br>\n",
    "\n",
    "# Vector Representations\n",
    "## *Data Science Unit 4 Sprint 1 Lesson 2*\n",
    "\n",
    "As we learned yesterday, machines cannot intrepret raw text. We need to transform that text into something we/machines can more readily analyze. Yesterday, we did simple counts of counts to summarize the content of Amazon reviews. Today, we'll extend those concepts to talk about vector representations such as Bag of Words (BoW) and word embedding models. We'll use those representations for search, visualization, and prepare for our classification day tomorrow. \n",
    "\n",
    "Processing text data to prepare it for maching learning models often means translating the information from documents into a numerical format. Bag-of-Words approaches (sometimes referred to as Frequency-Based word embeddings) accomplish this by \"vectorizing\" tokenized documents. This is done by representing each document as a row in a dataframe and creating a column for each unique word in the corpora (group of documents). The presence or lack of a given word in a document is then represented either as a raw count of how many times a given word appears in a document (CountVectorizer) or as that word's TF-IDF score (TfidfVectorizer).\n",
    "\n",
    "On the python side, we will be focusing on `sklearn` and `spacy` today.  \n",
    "\n",
    "## Case Study\n",
    "\n",
    "We're going to pretend we're on the datascience team at the BBC. We want to recommend articles to visiters to on the BBC website based on the article they just read. Our team wants \n",
    "\n",
    "**Dataset:**\n",
    "\n",
    "[D. Greene and P. Cunningham. \"Practical Solutions to the Problem of Diagonal Dominance in Kernel Document Clustering\", Proc. ICML 2006.](http://mlg.ucd.ie/datasets/bbc.html)\n",
    "*Please note that the dataset has been sampled down to tech articles only.* \n",
    "\n",
    "## Learning Objectives\n",
    "* <a href=\"#p1\">Part 1</a>: Represent a document as a vector\n",
    "* <a href=\"#p2\">Part 2</a>: Query Documents by Similarity\n",
    "* <a href=\"#p3\">Part 3</a>: Apply word embedding models to create document vectors"
   ]
  },
  {
   "cell_type": "code",
   "execution_count": null,
   "metadata": {},
   "outputs": [],
   "source": [
    "#today is about content-based recommendations"
   ]
  },
  {
   "cell_type": "code",
   "execution_count": 3,
   "metadata": {},
   "outputs": [],
   "source": [
    "\"\"\" Import Statements \"\"\"\n",
    "\n",
    "# Classics\n",
    "import pandas as pd\n",
    "import seaborn as sns\n",
    "import matplotlib.pyplot as plt\n",
    "\n",
    "from sklearn.feature_extraction.text import CountVectorizer, TfidfVectorizer\n",
    "from sklearn.metrics.pairwise import cosine_similarity\n",
    "from sklearn.neighbors import NearestNeighbors\n",
    "from sklearn.decomposition import PCA\n",
    "\n",
    "import spacy\n",
    "nlp = spacy.load(\"en_core_web_md\")"
   ]
  },
  {
   "cell_type": "markdown",
   "metadata": {},
   "source": [
    "**Warm Up (_3 Minutes_)**\n",
    "\n",
    "Extract the tokens from this sentence using Spacy. Text is from [OpenAI](https://openai.com/blog/better-language-models/)"
   ]
  },
  {
   "cell_type": "code",
   "execution_count": 4,
   "metadata": {},
   "outputs": [],
   "source": [
    "text = \"We created a new dataset which emphasizes diversity of content, by scraping content from the Internet. In order to preserve document quality, we used only pages which have been curated/filtered by humans—specifically, we used outbound links from Reddit which received at least 3 karma. This can be thought of as a heuristic indicator for whether other users found the link interesting (whether educational or funny), leading to higher data quality than other similar datasets, such as CommonCrawl.\""
   ]
  },
  {
   "cell_type": "code",
   "execution_count": 5,
   "metadata": {},
   "outputs": [
    {
     "name": "stdout",
     "output_type": "stream",
     "text": [
      "['We', 'created', 'a', 'new', 'dataset', 'which', 'emphasizes', 'diversity', 'of', 'content,', 'by', 'scraping', 'content', 'from', 'the', 'Internet.', 'In', 'order', 'to', 'preserve', 'document', 'quality,', 'we', 'used', 'only', 'pages', 'which', 'have', 'been', 'curated/filtered', 'by', 'humans—specifically,', 'we', 'used', 'outbound', 'links', 'from', 'Reddit', 'which', 'received', 'at', 'least', '3', 'karma.', 'This', 'can', 'be', 'thought', 'of', 'as', 'a', 'heuristic', 'indicator', 'for', 'whether', 'other', 'users', 'found', 'the', 'link', 'interesting', '(whether', 'educational', 'or', 'funny),', 'leading', 'to', 'higher', 'data', 'quality', 'than', 'other', 'similar', 'datasets,', 'such', 'as', 'CommonCrawl.']\n"
     ]
    }
   ],
   "source": [
    "# Liv's Answer to Warm Up\n",
    "from spacy.tokenizer import Tokenizer\n",
    "tokenizer = Tokenizer(nlp.vocab)\n",
    "print([token.text for token in tokenizer(text)])"
   ]
  },
  {
   "cell_type": "code",
   "execution_count": 6,
   "metadata": {},
   "outputs": [
    {
     "name": "stdout",
     "output_type": "stream",
     "text": [
      "['create', 'a', 'new', 'dataset', 'which', 'emphasize', 'diversity', 'of', 'content', 'by', 'scrape', 'content', 'from', 'the', 'internet', 'in', 'order', 'to', 'preserve', 'document', 'quality', 'use', 'only', 'page', 'which', 'have', 'be', 'curate', 'filter', 'by', 'human', 'specifically', 'use', 'outbound', 'link', 'from', 'Reddit', 'which', 'receive', 'at', 'least', '3', 'karma', 'this', 'can', 'be', 'think', 'of', 'as', 'a', 'heuristic', 'indicator', 'for', 'whether', 'other', 'user', 'find', 'the', 'link', 'interesting', 'whether', 'educational', 'or', 'funny', 'lead', 'to', 'high', 'data', 'quality', 'than', 'other', 'similar', 'dataset', 'such', 'as', 'CommonCrawl']\n"
     ]
    }
   ],
   "source": [
    "import spacy\n",
    "\n",
    "nlp = spacy.load(\"en_core_web_md\")\n",
    "\n",
    "doc = nlp(text)\n",
    "\n",
    "print([token.lemma_ for token in doc if (token.is_punct != True) and (token.lemma_ != '-PRON-')])"
   ]
  },
  {
   "cell_type": "code",
   "execution_count": 7,
   "metadata": {},
   "outputs": [],
   "source": [
    "# Build a generator to return our BBC Data\n",
    "import os\n",
    "\n",
    "def genator_gather_data(filefolder):\n",
    "    \n",
    "    _list = []\n",
    "    \n",
    "    files = os.listdir(filefolder)\n",
    "    \n",
    "    for article in files: \n",
    "        \n",
    "        path = os.path.join(filefolder, article)\n",
    "                    \n",
    "        if  path[-3:] == 'txt':\n",
    "            with open(path, 'rb') as f:\n",
    "                _list.append(f.read())\n",
    "    \n",
    "    yield _list"
   ]
  },
  {
   "cell_type": "code",
   "execution_count": 8,
   "metadata": {},
   "outputs": [],
   "source": [
    "def gather_data(filefolder):\n",
    "    \n",
    "    data = []\n",
    "    \n",
    "    files = os.listdir(filefolder)\n",
    "    \n",
    "    for article in files: \n",
    "        \n",
    "        path = os.path.join(filefolder, article)\n",
    "                    \n",
    "        if  path[-3:] == 'txt':\n",
    "            with open(path, 'rb') as f:\n",
    "                data.append(f.read())\n",
    "    \n",
    "    return data"
   ]
  },
  {
   "cell_type": "code",
   "execution_count": 9,
   "metadata": {},
   "outputs": [],
   "source": [
    "data = gather_data('./data')"
   ]
  },
  {
   "cell_type": "code",
   "execution_count": 10,
   "metadata": {},
   "outputs": [],
   "source": [
    "# data"
   ]
  },
  {
   "cell_type": "code",
   "execution_count": 11,
   "metadata": {},
   "outputs": [
    {
     "data": {
      "text/plain": [
       "b'Ink helps drive democracy in Asia\\r\\n\\r\\nThe Kyrgyz Re'"
      ]
     },
     "execution_count": 11,
     "metadata": {},
     "output_type": "execute_result"
    }
   ],
   "source": [
    "data[0][:50]"
   ]
  },
  {
   "cell_type": "code",
   "execution_count": null,
   "metadata": {},
   "outputs": [],
   "source": []
  },
  {
   "cell_type": "markdown",
   "metadata": {},
   "source": [
    "## Represent a document as a vector\n",
    "<a id=\"p1\"></a>\n",
    "\n",
    "In this section, we are going to create Document Term Matrices (DTM). Each column represents a word. Each row represents a document. The value in each cell can be range of different things. The most traditional: counts of appearences of words, does the word appear at all (binary), and term-frequency inverse-document frequence (TF-IDF). \n",
    "\n",
    "**Discussion:** Don't we loose all the context and grammer if we do this? So Why does it work?\n"
   ]
  },
  {
   "cell_type": "markdown",
   "metadata": {},
   "source": [
    "### CountVectorizer"
   ]
  },
  {
   "cell_type": "code",
   "execution_count": 12,
   "metadata": {},
   "outputs": [
    {
     "ename": "NameError",
     "evalue": "name 'spacy_tokenizer' is not defined",
     "output_type": "error",
     "traceback": [
      "\u001b[1;31m---------------------------------------------------------------------------\u001b[0m",
      "\u001b[1;31mNameError\u001b[0m                                 Traceback (most recent call last)",
      "\u001b[1;32m<ipython-input-12-b7f838d5c40b>\u001b[0m in \u001b[0;36m<module>\u001b[1;34m\u001b[0m\n\u001b[0;32m      5\u001b[0m \u001b[1;33m\u001b[0m\u001b[0m\n\u001b[0;32m      6\u001b[0m \u001b[1;31m# create the transformer\u001b[0m\u001b[1;33m\u001b[0m\u001b[1;33m\u001b[0m\u001b[1;33m\u001b[0m\u001b[0m\n\u001b[1;32m----> 7\u001b[1;33m \u001b[0mvectorizer\u001b[0m \u001b[1;33m=\u001b[0m \u001b[0mCountVectorizer\u001b[0m\u001b[1;33m(\u001b[0m\u001b[0mstop_words\u001b[0m\u001b[1;33m=\u001b[0m\u001b[1;34m'english'\u001b[0m\u001b[1;33m,\u001b[0m \u001b[0mtokenizer\u001b[0m\u001b[1;33m=\u001b[0m\u001b[0mspacy_tokenizer\u001b[0m\u001b[1;33m)\u001b[0m\u001b[1;33m\u001b[0m\u001b[1;33m\u001b[0m\u001b[0m\n\u001b[0m\u001b[0;32m      8\u001b[0m \u001b[1;33m\u001b[0m\u001b[0m\n\u001b[0;32m      9\u001b[0m \u001b[1;31m# tokenize and build vocab\u001b[0m\u001b[1;33m\u001b[0m\u001b[1;33m\u001b[0m\u001b[1;33m\u001b[0m\u001b[0m\n",
      "\u001b[1;31mNameError\u001b[0m: name 'spacy_tokenizer' is not defined"
     ]
    }
   ],
   "source": [
    "from sklearn.feature_extraction.text import CountVectorizer\n",
    "\n",
    "# list of text documents\n",
    "text = [\"We created a new dataset which emphasizes diversity of content, by scraping content from the Internet.\",\" In order to preserve document quality, we used only pages which have been curated/filtered by humans—specifically, we used outbound links from Reddit which received at least 3 karma.\",\" This can be thought of as a heuristic indicator for whether other users found the link interesting (whether educational or funny), leading to higher data quality than other similar datasets, such as CommonCrawl.\"]\n",
    "\n",
    "# create the transformer\n",
    "vectorizer = CountVectorizer(stop_words='english', tokenizer=spacy_tokenizer)\n",
    "\n",
    "# tokenize and build vocab\n",
    "vectorizer.fit(data)\n",
    "\n",
    "\n",
    "# Create a Vocabulary\n",
    "# The vocabulary establishes all of the possible words that we might use.\n",
    "vectorizer.vocabulary_\n",
    "\n",
    "# The vocabulary dictionary does not represent the counts of words!!\n",
    "dtm = vectorizer.transform(data)"
   ]
  },
  {
   "cell_type": "code",
   "execution_count": null,
   "metadata": {},
   "outputs": [],
   "source": [
    "dtm.todense() "
   ]
  },
  {
   "cell_type": "code",
   "execution_count": null,
   "metadata": {},
   "outputs": [],
   "source": [
    "# Get Word Counts for each document\n",
    "dtm = pd.DataFrame(dtm.todense(), columns = vectorizer.get_feature_names())"
   ]
  },
  {
   "cell_type": "code",
   "execution_count": null,
   "metadata": {},
   "outputs": [],
   "source": []
  },
  {
   "cell_type": "code",
   "execution_count": null,
   "metadata": {},
   "outputs": [],
   "source": [
    "# Apply CountVectorizer to our Data\n",
    "# Use custom Spacy Vectorizer\n"
   ]
  },
  {
   "cell_type": "markdown",
   "metadata": {},
   "source": [
    "### TfidfVectorizer\n",
    "\n",
    "## Term Frequency - Inverse Document Frequency (TF-IDF)\n",
    "\n",
    "<center><img src=\"https://mungingdata.files.wordpress.com/2017/11/equation.png?w=430&h=336\" width=\"300\"></center>\n",
    "\n",
    "Term Frequency: Percentage of words in document for each word\n",
    "\n",
    "Document Frequency: A penalty for the word existing in a high number of documents.\n",
    "\n",
    "The purpose of TF-IDF is to find what is **unique** to each document. Because of this we will penalize the term frequencies of words that are common across all documents which will allow for each document's most different topics to rise to the top."
   ]
  },
  {
   "cell_type": "code",
   "execution_count": null,
   "metadata": {},
   "outputs": [],
   "source": [
    "from sklearn.feature_extraction.text import TfidfVectorizer\n",
    "\n",
    "# Instantiate vectorizer object\n",
    "tfidf = TfidfVectorizer(stop_words='english', max_features=5000)\n",
    "\n",
    "# Create a vocabulary and get word counts per document\n",
    "dtm = tfidf.fit_transform(data)\n",
    "#dtm = tfidf.transform(new_data)\n",
    "\n",
    "# Print word counts\n",
    "\n",
    "# Get feature names to use as dataframe column headers\n",
    "\n",
    "# View Feature Matrix as DataFrame\n",
    "docs = pd.DataFrame(dtm.todense(), columns = tfidf.get_feature_names())\n",
    "docs.head()"
   ]
  },
  {
   "cell_type": "code",
   "execution_count": null,
   "metadata": {},
   "outputs": [],
   "source": [
    "# Tunning Parameters\n"
   ]
  },
  {
   "cell_type": "markdown",
   "metadata": {},
   "source": [
    "## Query Documents by Similarity\n",
    "<a id=\"p2\"></a>"
   ]
  },
  {
   "cell_type": "markdown",
   "metadata": {},
   "source": [
    "### Cosine Similarity (Brute Force)"
   ]
  },
  {
   "cell_type": "code",
   "execution_count": null,
   "metadata": {},
   "outputs": [],
   "source": [
    "# Calculate Distance of TF-IDF Vectors\n",
    "from sklearn.metrics.pairwise import cosine_similarity\n",
    "\n",
    "dist_matrix  = cosine_similarity(dtm)"
   ]
  },
  {
   "cell_type": "code",
   "execution_count": null,
   "metadata": {},
   "outputs": [],
   "source": [
    "# Turn it into a DataFrame\n",
    "dist_df = pd.DataFrame(dist_matrix)\n",
    "\n",
    "dist_df[0].idxmax(axis=0)"
   ]
  },
  {
   "cell_type": "code",
   "execution_count": null,
   "metadata": {},
   "outputs": [],
   "source": [
    "# Our Similarity Matrix is 401 x 401\n",
    "dist_df.shape"
   ]
  },
  {
   "cell_type": "code",
   "execution_count": null,
   "metadata": {},
   "outputs": [],
   "source": [
    "# Each row is the similarity of one document to all other documents (including itself)\n",
    "dist_df[0]"
   ]
  },
  {
   "cell_type": "code",
   "execution_count": null,
   "metadata": {},
   "outputs": [],
   "source": [
    "# Grab the row\n",
    "dist_df[392].sort_values(ascending=False)[:5]"
   ]
  },
  {
   "cell_type": "code",
   "execution_count": null,
   "metadata": {},
   "outputs": [],
   "source": [
    "print(data[0][:100])\n",
    "print(data[297][:100])"
   ]
  },
  {
   "cell_type": "markdown",
   "metadata": {},
   "source": [
    "### NearestNeighbor (K-NN) \n",
    "\n",
    "To address the computational inefficiencies of the brute-force approach, a variety of tree-based data structures have been invented. In general, these structures attempt to reduce the required number of distance calculations by efficiently encoding aggregate distance information for the sample. The basic idea is that if point  is very distant from point , and point  is very close to point , then we know that points  and  are very distant, without having to explicitly calculate their distance. In this way, the computational cost of a nearest neighbors search can be reduced to  or better. This is a significant improvement over brute-force for large data.\n",
    "\n",
    "To address the inefficiencies of KD Trees in higher dimensions, the ball tree data structure was developed. Where KD trees partition data along Cartesian axes, ball trees partition data in a series of nesting hyper-spheres. This makes tree construction more costly than that of the KD tree, but results in a data structure which can be very efficient on highly structured data, even in very high dimensions.\n",
    "\n",
    "A ball tree recursively divides the data into nodes defined by a centroid  and radius , such that each point in the node lies within the hyper-sphere defined by  and . The number of candidate points for a neighbor search is reduced through use of the triangle inequality:\n",
    "\n",
    "With this setup, a single distance calculation between a test point and the centroid is sufficient to determine a lower and upper bound on the distance to all points within the node. Because of the spherical geometry of the ball tree nodes, it can out-perform a KD-tree in high dimensions, though the actual performance is highly dependent on the structure of the training data. In scikit-learn, ball-tree-based neighbors searches are specified using the keyword algorithm = 'ball_tree', and are computed using the class sklearn.neighbors.BallTree. Alternatively, the user can work with the BallTree class directly."
   ]
  },
  {
   "cell_type": "code",
   "execution_count": null,
   "metadata": {},
   "outputs": [],
   "source": [
    "#using a tree based data structure, reduces total number of distance spaces\n",
    "#kdvault\n",
    "dtm"
   ]
  },
  {
   "cell_type": "code",
   "execution_count": null,
   "metadata": {},
   "outputs": [],
   "source": [
    "# Instantiate\n",
    "from sklearn.neighbors import NearestNeighbors\n",
    "\n",
    "nn = NearestNeighbors(n_neighbors=5, algorithm='ball_tree')\n",
    "\n",
    "# Fit on TF-IDF Vectors\n",
    "nn.fit(dtm)\n",
    "#nn.fit(dtm.todense())"
   ]
  },
  {
   "cell_type": "code",
   "execution_count": null,
   "metadata": {},
   "outputs": [],
   "source": [
    "nn.kneighbors([dtm.iloc[0]])"
   ]
  },
  {
   "cell_type": "code",
   "execution_count": null,
   "metadata": {},
   "outputs": [],
   "source": [
    "# Query Using kneighbors \n",
    "nn.kneighbors(dtm.todense()[0])"
   ]
  },
  {
   "cell_type": "code",
   "execution_count": null,
   "metadata": {},
   "outputs": [],
   "source": [
    "medium_random_ass_tech = [ \"\"\"1. The VR and AI Enhancement\n",
    "The list of trends in VR can never be complete without Artificial Intelligence. The duo has the potential to change the world. The two are in their infancy, to begin with, but they have made some appearances.\n",
    "\n",
    "Take the example of Instagram and Snapchat. The dog faces and other funny filters are a creation of AI and VR. If you are looking for a scientific example, the Machine Learning Microscope of Google is a perfect example. This tool is capable of highlighting cancerous tissues. Now we are just waiting for AR and VR to create something powerful.\n",
    "\n",
    "2. Consumer Entertainment\n",
    "Oculus has partnered with the NBA. The brand is using VR to provide state of the art entertainment to its users. Yes, you have guessed it right. While you are wearing the Oculus VR headsets sitting on the courtside, you will feel as if you are actually in the NBA game. Cool, right?\n",
    "\n",
    "VR headset technology is becoming accessible than before. It’s not just limited to gamers. TV watchers can get entertainment as well.\n",
    "\n",
    "3. Education and Training\n",
    "Education and training are one of the most costly and dangerous exercises in the workplace. With VR technology, organizations can cut back on the costs and give their employees the best training without exposing them to risk.\n",
    "\n",
    "Recently, Walmart has used 17,000 Oculus Go headsets for training its employees in the customer service department. Similarly, the U.S. Army has been using Microsoft HoloLens technology to offer soldiers real-time updates on their environment.\n",
    "\n",
    "4. Travel and Tourism\n",
    "Traveling through VR is a different kind of traveling. The immersive video allows you to experience your destinations before even packing your suitcase. With VR, you can have the “try it before buy it experience.”\n",
    "\n",
    "If you think you will feel claustrophobic in the cruise stateroom, then why not test the waters? Maybe you will feel better in a suit. VR allows you to explore the cruise ship rooms as well as the rooms in a hotel prior to booking it.\n",
    "\n",
    "Apart from checking your room, you can also have a street view, check the venues, and restaurants nearby. With this virtual tour, you can decide whether the destination you have picked for yourself is good or not.\n",
    "\n",
    "That’s not all, with VR travel apps, you can even relive your vacation after returning home. Now that’s something you will cherish for sure.\n",
    "\n",
    "What’s the Future of VR?\n",
    "Experts say the future of VR is location-based. But wait, it has nothing to do with the GPS technology. Location-based means bringing the VR experience to users where they are regardless of their location. They will be introduced to technology without having to purchase it.\n",
    "\n",
    "However, for that, customers need to be aware of the proactiveness of VR. They must have an interest in VR for home as well. It still has a long way to go.\n",
    "\n",
    "Conclusion\n",
    "Consumers in today’s time are looking for experience. VR has the ability to play a huge role in the future of learning and development. With virtual simulation, a user can have real life-like experience at a fraction of cost.\n",
    "\n",
    "The future for Virtual Reality is still in progress. It’s pretty much like the Cox channel lineup for different channels. Not all popular channels are available in all areas. Some of the VR tech and apps are in use but a majority of them are still in progress.\"\"\"]\n"
   ]
  },
  {
   "cell_type": "code",
   "execution_count": null,
   "metadata": {},
   "outputs": [],
   "source": [
    "new = tfidf.transform(medium_random_ass_tech)\n",
    "\n",
    "nn.kneighbors(new.todense())"
   ]
  },
  {
   "cell_type": "code",
   "execution_count": null,
   "metadata": {},
   "outputs": [],
   "source": [
    "data[135]"
   ]
  },
  {
   "cell_type": "code",
   "execution_count": null,
   "metadata": {},
   "outputs": [],
   "source": [
    "#above allow you to do document similarty queries ie get highlights of a long document\n",
    "#content-based recommendations \n",
    "#spotify- collaborative filtering, not same thing\n",
    "#document vector representations\n",
    "#word embedding models: bag of words (disregard context and grammar)\n",
    "#-limitations - hononyms context is lost, with bigger data, nuances will throw off model\n",
    "#word embeddings preserve more contextual information - word2vec is most famous\n",
    "#we take pre-trained models and access existing vectors it has produced. "
   ]
  },
  {
   "cell_type": "markdown",
   "metadata": {},
   "source": [
    "## Apply word embedding models to create document vectors\n",
    "<a id=\"p3\"></a>\n",
    "\n",
    "### BoW discards textual context\n",
    "\n",
    "One of the limitations of Bag-of-Words approaches is that any information about the textual context surrounding that word is lost. This also means that with bag-of-words approaches often the only tools that we have for identifying words with similar usage or meaning and subsequently consolidating them into a single vector is through the processes of stemming and lemmatization which tend to be quite limited at consolidating words unless the two words are very close in their spelling or in their root parts-of-speech.\n",
    "\n",
    "### Embedding approaches preserve more textual context\n",
    "Word2Vec is an increasingly popular word embedding technique. Like Bag-of-words it learns a real-value vector representation for a predefined fixed-size vocabulary that is generated from a corpus of text. However, in contrast to BoW, Word2Vec approaches are much more capable of accounting for textual context, and are better at discovering words with similar meanings or usages (semantic or syntactic similarity).\n",
    "\n",
    "### Word2Vec Intuition\n",
    "### The Distribution Hypothesis\n",
    "\n",
    "In order to understand how Word2Vec preserves textual context we have to understand what's called the Distribution Hypothesis (Reference: Distribution Hypothesis Theory  -https://en.wikipedia.org/wiki/Distributional_semantics. The Distribution Hypothesis operates under the assumption that words that have similar contexts will have similar meanings. Practically speaking, this means that if two words are found to have similar words both to the right and to the left of them throughout the corpora then those words have the same context and are assumed to have the same meaning. \n",
    "\n",
    "> \"You shall know a word by the company it keeps\" - John Firth\n",
    "\n",
    "This means that we let the usage of a word define its meaning and its \"similarity\" to other words. In the following example, which words would you say have a similar meaning? \n",
    "\n",
    "**Sentence 1**: Traffic was light today\n",
    "\n",
    "**Sentence 2**: Traffic was heavy yesterday\n",
    "\n",
    "**Sentence 3**: Prediction is that traffic will be smooth-flowing tomorrow since it is a national holiday\n",
    "\n",
    "What words in the above sentences seem to have a similar meaning if all you knew about them was the context in which they appeared above? \n",
    "\n",
    "Lets take a look at how this might work in action, the following example is simplified, but will give you an idea of the intuition for how this works.\n",
    "\n",
    "#### Corpora:\n",
    "\n",
    "1) \"It was the sunniest of days.\"\n",
    "\n",
    "2) \"It was the raniest of days.\"\n",
    "\n",
    "#### Vocabulary:\n",
    "\n",
    "{\"it\": 1, \"was\": 2, \"the\": 3, \"of\": 4, \"days\": 5, \"sunniest\": 6, \"raniest\": 7}\n",
    "\n",
    "### Vectorization\n",
    "\n",
    "|       doc   | START_was | it_the | was_sunniest | the_of | sunniest_days | of_it | days_was | it_the | was_raniest | raniest_days | of_END |\n",
    "|----------|-----------|--------|--------------|--------|---------------|-------|----------|--------|-------------|--------------|--------|\n",
    "| it       | 1         | 0      | 0            | 0      | 0             | 0     | 1        | 0      | 0           | 0            | 0      |\n",
    "| was      | 0         | 1      | 0            | 0      | 0             | 0     | 0        | 1      | 0           | 0            | 0      |\n",
    "| the      | 0         | 0      | 1            | 0      | 0             | 0     | 0        | 0      | 1           | 0            | 0      |\n",
    "| sunniest | 0         | 0      | 0            | 1      | 0             | 0     | 0        | 0      | 0           | 0            | 0      |\n",
    "| of       | 0         | 0      | 0            | 0      | 1             | 0     | 0        | 0      | 0           | 1            | 0      |\n",
    "| days     | 0         | 0      | 0            | 0      | 0             | 0     | 0        | 0      | 0           | 0            | 1      |\n",
    "| raniest  | 0         | 0      | 0            | 1      | 0             | 0     | 0        | 0      | 0           | 0            | 0      |\n",
    "\n",
    "Each column vector represents the word's context -in this case defined by the words to the left and right of the center word. How far we look to the left and right of a given word is referred to as our \"window of context.\" Each row vector represents the the different usages of a given word. Word2Vec can consider a larger context than only words that are immediately to the left and right of a given word, but we're going to keep our window of context small for this example. What's most important is that this vectorization has translated our documents from a text representation to a numeric one in a way that preserves information about the underlying context. \n",
    "\n",
    "We can see that words that have a similar context will have similar row-vector representations, but before looking that more in-depth, lets simplify our vectorization slightly. You'll notice that we're repeating the column-vector \"it_the\" twice. Lets combine those into a single vector by adding them element-wise. \n",
    "\n",
    "|       *   | START_was | it_the | was_sunniest | the_of | sunniest_days | of_it | days_was | was_raniest | raniest_days | of_END |\n",
    "|----------|-----------|--------|--------------|--------|---------------|-------|----------|-------------|--------------|--------|\n",
    "| it       | 1         | 0      | 0            | 0      | 0             | 0     | 1        | 0           | 0            | 0      |\n",
    "| was      | 0         | 2      | 0            | 0      | 0             | 0     | 0        | 0           | 0            | 0      |\n",
    "| the      | 0         | 0      | 1            | 0      | 0             | 0     | 0        | 1           | 0            | 0      |\n",
    "| sunniest | 0         | 0      | 0            | 1      | 0             | 0     | 0        | 0           | 0            | 0      |\n",
    "| of       | 0         | 0      | 0            | 0      | 1             | 0     | 0        | 0           | 1            | 0      |\n",
    "| days     | 0         | 0      | 0            | 0      | 0             | 0     | 0        | 0           | 0            | 1      |\n",
    "| raniest  | 0         | 0      | 0            | 1      | 0             | 0     | 0        | 0           | 0            | 0      |\n",
    "\n",
    "Now, can you spot which words have a similar row-vector representation? Hint: Look for values that are repeated in a given column. Each column represents the context that word was found in. If there are multiple words that share a context then those words are understood to have a closer meaning with each other than with other words in the text.\n",
    "\n",
    "Lets look specifically at the words sunniest and raniest. You'll notice that these two words have exactly the same 10-dimensional vector representation. Based on this very small corpora of text we would conclude that these two words have the same meaning because they share the same usage. Is this a good assumption? Well, they are both referring to the weather outside so that's better than nothing. You could imagine that as our corpora grows larger we will be exposed a greater number of contexts and the Distribution Hypothesis assumption will improve. \n",
    "\n",
    "### Word2Vec Variants\n",
    "\n",
    "#### Skip-Gram\n",
    "\n",
    "The Skip-Gram method predicts the neighbors’ of a word given a center word. In the skip-gram model, we take a center word and a window of context (neighbors) words to train the model and then predict context words out to some window size for each center word.\n",
    "\n",
    "This notion of “context” or “neighboring” words is best described by considering a center word and a window of words around it. \n",
    "\n",
    "For example, if we consider the sentence **“The speedy Porsche drove past the elegant Rolls-Royce”** and a window size of 2, we’d have the following pairs for the skip-gram model:\n",
    "\n",
    "**Text:**\n",
    "**The**\tspeedy\tPorsche\tdrove\tpast\tthe\telegant\tRolls-Royce\n",
    "\n",
    "*Training Sample with window of 2*: (the, speedy), (the, Porsche)\n",
    "\n",
    "**Text:**\n",
    "The\t**speedy**\tPorsche\tdrove\tpast\tthe\telegant\tRolls-Royce\n",
    "\n",
    "*Training Sample with window of 2*: (speedy, the), (speedy, Porsche), (speedy, drove)\n",
    "\n",
    "**Text:**\n",
    "The\tspeedy\t**Porsche**\tdrove\tpast\tthe\telegant\tRolls-Royce\n",
    "\n",
    "*Training Sample with window of 2*: (Porsche, the), (Porsche, speedy), (Porsche, drove), (Porsche, past)\n",
    "\n",
    "**Text:**\n",
    "The\tspeedy\tPorsche\t**drove**\tpast\tthe\telegant\tRolls-Royce\n",
    "\n",
    "*Training Sample with window of 2*: (drove, speedy), (drove, Porsche), (drove, past), (drove, the)\n",
    "\n",
    "The **Skip-gram model** is going to output a probability distribution i.e. the probability of a word appearing in context given a center word and we are going to select the vector representation that maximizes the probability.\n",
    "\n",
    "With CountVectorizer and TF-IDF the best we could do for context was to look at common bi-grams and tri-grams (n-grams). Well, skip-grams go far beyond that and give our model much stronger contextual information.\n",
    "\n",
    "![alt text](https://www.dropbox.com/s/c7mwy6dk9k99bgh/Image%202%20-%20SkipGrams.jpg?raw=1)\n",
    "\n",
    "## Continuous Bag of Words\n",
    "\n",
    "This model takes thes opposite approach from the skip-gram model in that it tries to predict a center word based on the neighboring words. In the case of the CBOW model, we input the context words within the window (such as “the”, “Proshe”, “drove”) and aim to predict the target or center word “speedy” (the input to the prediction pipeline is reversed as compared to the SkipGram model).\n",
    "\n",
    "A graphical depiction of the input to output prediction pipeline for both variants of the Word2vec model is attached. The graphical depiction will help crystallize the difference between SkipGrams and Continuous Bag of Words.\n",
    "\n",
    "![alt text](https://www.dropbox.com/s/k3ddmbtd52wq2li/Image%203%20-%20CBOW%20Model.jpg?raw=1)\n",
    "\n",
    "## Notable Differences between Word Embedding methods:\n",
    "\n",
    "1) W2V focuses less document topic-modeling. You'll notice that the vectorizations don't really retain much information about the original document that the information came from. At least not in our examples.\n",
    "\n",
    "2) W2V can result in really large and complex vectorizations. In fact, you need Deep Neural Networks to train your Word2Vec models from scratch, but we can use helpful pretrained embeddings (thank you Google) to do really cool things!\n",
    "\n",
    "*^ All that noise....AND Spacy has pretrained a Word2Vec model you can just use? WTF JC?*\n",
    "\n",
    "Let's take a look at how to do it. "
   ]
  },
  {
   "cell_type": "code",
   "execution_count": 14,
   "metadata": {},
   "outputs": [
    {
     "name": "stdout",
     "output_type": "stream",
     "text": [
      "[ 6.34517521e-02 -1.53290495e-01 -1.14387251e-01 -1.75404251e-01\n",
      "  4.27425019e-02  5.13549969e-02 -2.48702496e-01 -1.38284758e-01\n",
      "  5.90977445e-02  1.54226243e+00 -2.07719997e-01  1.44310758e-01\n",
      "  9.43950042e-02  1.16385464e-02 -9.18349624e-03 -9.17939991e-02\n",
      "  1.13051996e-01  7.85982549e-01 -1.68155003e-02 -1.88052505e-01\n",
      " -2.34477490e-01 -1.17657498e-01 -1.57372817e-01  6.44085035e-02\n",
      "  8.99812430e-02 -4.16759998e-01 -4.27125208e-03 -2.21602432e-02\n",
      "  9.36290771e-02 -1.42131418e-01  2.44912487e-02  2.06500590e-01\n",
      "  9.17974934e-02  2.52102017e-01  1.86319247e-01 -2.53755003e-01\n",
      "  2.01876506e-01 -2.46630013e-02 -1.91813558e-01  1.02967501e-01\n",
      "  7.89249986e-02 -4.14250046e-03 -2.82162488e-01 -7.54155070e-02\n",
      " -8.20499957e-02  2.28241980e-01  8.94804969e-02  2.58928508e-01\n",
      "  2.57570505e-01  4.97375950e-02  7.54217505e-02  1.10961504e-01\n",
      " -8.02100003e-02 -1.87005758e-01  3.91245008e-01 -2.55717248e-01\n",
      "  1.89477503e-01  5.87575138e-02  1.70061260e-01 -9.24875066e-02\n",
      "  2.06659883e-02 -1.65989757e-01  1.18275002e-01  1.96592763e-01\n",
      " -8.24327469e-02 -2.31342003e-01 -1.72220737e-01  5.69632500e-02\n",
      " -2.46600006e-02  4.27749991e-01  1.37489485e-02  3.03227484e-01\n",
      "  2.82402515e-01  1.34433702e-01  1.03694990e-01 -7.06890002e-02\n",
      "  2.25999251e-01 -4.54097465e-02  2.24599987e-02 -5.76549992e-02\n",
      " -2.17425004e-02  1.07036814e-01 -7.04777539e-02 -4.57355045e-02\n",
      "  3.27858329e-02 -1.11114003e-01  3.00810009e-01  3.28254104e-01\n",
      " -1.87792629e-02  2.14235991e-01 -8.98174569e-03  1.02360755e-01\n",
      "  1.65176541e-01 -1.37267247e-01 -6.90887570e-02  1.14668258e-01\n",
      "  1.57940000e-01 -2.00419948e-01 -6.55297488e-02 -3.63882482e-01\n",
      "  2.10485030e-02  2.82334983e-01 -7.29152486e-02  2.72599980e-03\n",
      " -1.55699998e-01 -8.71120036e-01  1.85102522e-02  1.86045498e-01\n",
      "  2.71914989e-01  8.44824910e-02  2.59245008e-01 -5.64115047e-01\n",
      " -1.84528008e-01  1.61457509e-01 -2.81300023e-02 -1.87310502e-02\n",
      "  1.96432501e-01  1.93041027e-01  3.03522535e-02  9.23050120e-02\n",
      " -1.06718972e-01 -3.12280059e-02  6.11012504e-02 -1.96199760e-01\n",
      " -1.00137414e-02 -1.23744786e-01  8.29732567e-02  4.59206738e-02\n",
      " -1.26942992e-01 -2.75647454e-02  3.11025009e-02  9.91562605e-02\n",
      " -1.57924995e-01  9.99345034e-02  2.08427519e-01  2.59942502e-01\n",
      "  1.73117489e-01  1.90024972e-02 -2.08682492e-01  3.01244497e-01\n",
      " -1.38826001e+00  4.70525026e-02  1.67138755e-01 -1.34834260e-01\n",
      " -7.42180049e-02  1.39752999e-01 -1.10719517e-01  6.16974980e-02\n",
      "  1.54655501e-01  1.21817738e-01  9.18845013e-02  5.05302511e-02\n",
      " -8.21979567e-02  5.08100018e-02 -2.99809992e-01 -1.28457248e-01\n",
      " -1.76802501e-01 -9.93624926e-02 -1.53784752e-01 -5.33508137e-04\n",
      " -2.74455011e-01  1.26630485e-01  5.90642579e-02  6.25617579e-02\n",
      " -2.67441243e-01 -1.35938242e-01 -2.30593249e-01 -1.44084454e-01\n",
      "  3.41624916e-02 -2.94625014e-03 -3.99067551e-02  2.43215755e-01\n",
      "  3.74777541e-02 -1.04042493e-01 -2.92869508e-01 -1.98457465e-02\n",
      " -8.91549960e-02 -8.40215012e-02  1.72542334e-01 -2.56542742e-01\n",
      "  3.15375626e-03 -1.12027496e-01 -2.72152483e-01 -1.51958510e-01\n",
      " -9.42385197e-03  7.77375028e-02 -1.08546950e-01 -1.05943993e-01\n",
      "  6.46927506e-02  4.17249985e-02  5.57057858e-02  2.31654987e-01\n",
      "  1.10123001e-01 -8.15257579e-02 -1.91023245e-01  4.78882752e-02\n",
      " -8.59998167e-04 -6.65717199e-02 -2.83349991e-01  4.51012552e-02\n",
      " -2.86038488e-01  1.31972507e-02  1.00722745e-01  1.47569761e-01\n",
      "  2.57830501e-01  9.66457427e-02  9.28100049e-02 -6.28397986e-02\n",
      " -1.93937331e-01  1.26347005e-01  3.58339921e-02  2.19944999e-01\n",
      " -2.16059998e-01 -5.97514987e-01 -1.12867504e-01  1.18738495e-01\n",
      " -2.30529010e-01 -8.87432247e-02 -2.34240502e-01 -1.19610250e-01\n",
      " -4.07907516e-01  6.15367293e-03  6.86577410e-02 -3.81562501e-01\n",
      "  1.05025023e-02 -3.64289954e-02 -1.41753256e-01  1.43135995e-01\n",
      " -3.68589945e-02  2.71432340e-01 -2.18721509e-01  6.02362491e-02\n",
      " -5.48174009e-02  7.11032525e-02 -6.34739846e-02 -2.91745007e-01\n",
      " -1.28950030e-02 -2.69232541e-02  7.65182525e-02  1.92801267e-01\n",
      " -2.42803246e-01 -9.06127542e-02 -3.29549998e-01  6.81057498e-02\n",
      "  9.08724964e-02 -3.53974104e-03 -4.91457470e-02 -5.12760058e-02\n",
      " -1.73285007e-01  3.05065006e-01 -1.76639512e-01 -1.21839747e-01\n",
      " -1.26055494e-01  4.11374941e-02 -2.90890038e-02  2.47484103e-01\n",
      "  2.87877500e-01  4.58159983e-01  1.63647495e-02  1.47395000e-01\n",
      "  1.99816510e-01  1.14140004e-01 -2.94132769e-01  2.08198011e-01\n",
      " -9.94169936e-02  2.96587467e-01 -5.90450019e-02  1.73589945e-01\n",
      " -4.52946007e-01 -4.02727515e-01 -1.12966754e-01 -6.17775023e-02\n",
      " -1.93115007e-02 -6.54014945e-02 -1.80532455e-01  1.17038250e-01\n",
      "  2.17555746e-01  3.19197744e-01  1.32842541e-01  3.42754990e-01\n",
      "  3.35804999e-01  1.01410747e-01 -2.73312509e-01  1.99523747e-01\n",
      " -6.12884983e-02 -5.07675037e-02  1.87599495e-01 -1.13971248e-01\n",
      " -6.88270107e-03 -1.83249995e-01  1.38852522e-02  3.30707505e-02\n",
      "  1.09458745e-01 -2.89824486e-01 -3.94702494e-01  3.00410509e-01\n",
      "  1.65868759e-01 -3.36420000e-01  1.93287492e-01  5.88700026e-02]\n"
     ]
    }
   ],
   "source": [
    "#word embeddings models are pre-trained neural networks that produces a fix-length vector, we take model and access the vectors\n",
    "#designed to preserve more contextual information, not bag of words like count vectorizor and tfidf disregard context and grammar\n",
    "# Process a text\n",
    "doc = nlp(\"Two bananas in pyjamas\")\n",
    "\n",
    "# Get the vector for the token \"bananas\"\n",
    "bananas_vector = doc.vector\n",
    "print(bananas_vector)"
   ]
  },
  {
   "cell_type": "code",
   "execution_count": 15,
   "metadata": {},
   "outputs": [
    {
     "data": {
      "text/plain": [
       "300"
      ]
     },
     "execution_count": 15,
     "metadata": {},
     "output_type": "execute_result"
    }
   ],
   "source": [
    "len(bananas_vector)#shape of vector depends on architecture of neural network, length of vector depends on last output. "
   ]
  },
  {
   "cell_type": "code",
   "execution_count": 16,
   "metadata": {},
   "outputs": [
    {
     "name": "stdout",
     "output_type": "stream",
     "text": [
      "[ 1.92744672e-01  2.46878192e-01  6.58435002e-02  8.51958394e-02\n",
      "  5.43755330e-02 -8.68267287e-03 -2.58049313e-02 -1.35098726e-01\n",
      "  1.79639999e-02  2.41096663e+00 -1.48898825e-01 -2.03088835e-01\n",
      " -9.89535227e-02 -1.03275120e-01 -1.78346500e-01 -9.25900713e-02\n",
      " -1.00365840e-01  1.13418341e+00  1.02856681e-02 -1.80712819e-01\n",
      " -1.41739175e-01 -1.69359490e-01 -2.21541658e-01  1.31741673e-01\n",
      " -6.30383343e-02  1.39729967e-02 -1.04047127e-01  3.33440006e-02\n",
      "  1.54353335e-01 -5.61148413e-02 -7.93390349e-02 -9.00483355e-02\n",
      " -3.21440510e-02 -1.21463664e-01  1.72498509e-01 -2.07116697e-02\n",
      "  2.14606687e-01 -4.91766632e-02  9.13834944e-02 -1.53652832e-01\n",
      "  1.37981670e-02  1.49225995e-01  1.03531994e-01 -7.70686567e-02\n",
      "  1.73393860e-01  2.47923151e-01 -2.40127400e-01  7.11250305e-03\n",
      " -3.17283976e-03 -7.78269991e-02 -1.06969662e-01  1.60523340e-01\n",
      "  8.40356722e-02  6.71955049e-02  2.07196489e-01 -5.45569956e-02\n",
      " -1.59541685e-02  7.99636766e-02  1.20989822e-01 -1.62120983e-01\n",
      "  1.14864334e-02 -2.61365548e-02  8.23741630e-02  1.72635436e-01\n",
      "  4.29473408e-02 -1.51841208e-01 -2.52872348e-01  2.12813497e-01\n",
      " -8.98983255e-02  2.26794004e-01  1.08630158e-01  1.88747242e-01\n",
      "  2.69433260e-02 -1.14456661e-01 -4.72996123e-02  1.53424010e-01\n",
      "  1.07727669e-01  1.58357337e-01 -3.16019595e-01  2.61900034e-02\n",
      "  7.64368325e-02  9.90861654e-02 -1.21254176e-02  1.01014733e-01\n",
      "  2.05038004e-02 -3.02913427e-01 -1.54393345e-01  1.09431513e-01\n",
      "  4.01701659e-01  1.88209489e-01  4.37768400e-02  1.09959662e-01\n",
      "  1.06313033e-02  1.11046629e-02 -4.18423414e-02  8.65053311e-02\n",
      " -5.38199991e-02 -1.23407163e-01  2.37256512e-01  1.62886828e-01\n",
      "  1.12900674e-01  9.67989638e-02 -1.53593823e-01 -6.36531636e-02\n",
      " -9.16566625e-02 -4.69856650e-01  4.19066668e-01 -3.05993557e-02\n",
      " -5.78560047e-02 -2.32481182e-01  2.60330528e-01 -2.45894983e-01\n",
      "  8.19050055e-03  1.62492514e-01 -3.46733369e-02 -4.18365002e-02\n",
      "  1.13918856e-02  1.54284164e-01  1.83876678e-02  3.73003371e-02\n",
      "  1.42785668e-01 -1.68701008e-01 -2.80841053e-01 -1.46688335e-02\n",
      " -1.39633745e-01  1.45774662e-01 -2.37783436e-02 -1.09238334e-01\n",
      "  9.55235884e-02 -1.29320011e-01 -2.85638366e-02 -2.79853314e-01\n",
      "  6.81253374e-02  1.49308324e-01  6.04210198e-02  2.90584210e-02\n",
      "  1.09850019e-02  9.13711563e-02 -8.02044868e-02 -5.48119992e-02\n",
      " -1.68650007e+00  8.27276632e-02  2.93900013e-01  1.55264184e-01\n",
      " -2.05041673e-02 -5.83691746e-02 -2.36590669e-01  1.32606834e-01\n",
      "  9.02941599e-02 -9.17764977e-02 -7.71487504e-02  2.22311839e-01\n",
      "  1.04599990e-01  7.43553266e-02 -1.79509565e-01 -1.23775661e-01\n",
      " -2.07229838e-01 -1.05829975e-02 -5.81238382e-02 -2.71695167e-01\n",
      " -1.62469476e-01  1.10049665e-01  5.80873229e-02 -2.70499545e-03\n",
      " -2.83733383e-02 -1.35829017e-01  9.33175012e-02 -6.01531602e-02\n",
      "  2.73395002e-01 -4.12076600e-02  5.73481619e-02 -4.67111655e-02\n",
      "  1.29704162e-01 -2.62144327e-01 -2.41328359e-01  1.00404166e-01\n",
      "  1.60374671e-01 -3.50584507e-01 -3.47111635e-02  1.26570165e-01\n",
      " -5.18308319e-02 -2.00363502e-01 -6.72886670e-02 -2.18872237e-03\n",
      "  1.24383502e-01 -4.19902690e-02 -1.37408838e-01  6.43313304e-02\n",
      "  1.09100670e-01 -2.32982993e-01 -1.00292176e-01  1.51504338e-01\n",
      " -2.33263507e-01  1.96006671e-02  1.56016171e-01  2.33418345e-01\n",
      "  9.35331658e-02 -2.07835004e-01  1.67496670e-02  2.30595022e-02\n",
      " -1.90467671e-01  8.90365019e-02 -2.33427342e-02  1.44793326e-02\n",
      "  2.81082332e-01  3.65478359e-02  6.53750217e-03 -4.01954986e-02\n",
      "  7.09739998e-02 -3.46421637e-02 -2.03066692e-01 -1.65799931e-02\n",
      "  1.19719572e-01 -4.04080003e-01  1.38318643e-01  3.81131679e-01\n",
      "  1.01045825e-01 -1.69475988e-01 -1.99143812e-01 -3.72564942e-02\n",
      " -6.19709939e-02 -4.55386676e-02 -5.05686700e-02  1.62820015e-02\n",
      " -8.89828522e-03 -8.72603282e-02  3.87313329e-02  1.02086164e-01\n",
      " -2.92108357e-02  1.34407833e-01 -2.07199994e-02  1.81052327e-01\n",
      " -5.02641685e-02  1.83315992e-01 -2.64740009e-02 -2.30692998e-01\n",
      " -3.02976668e-02 -3.53965670e-01 -1.93941161e-01  5.10510020e-02\n",
      " -7.96454996e-02  7.94941708e-02 -6.89130798e-02  2.40573168e-01\n",
      "  7.51268193e-02  1.39525339e-01 -7.86924288e-02 -1.31166652e-01\n",
      "  2.41483259e-03 -3.19783315e-02 -2.25055337e-01 -2.21336842e-01\n",
      " -8.87117069e-03  4.22251634e-02 -1.11230165e-01  4.70888346e-01\n",
      "  1.11453682e-01 -1.79582000e-01 -2.74371821e-02  1.61540329e-01\n",
      "  1.56751662e-01  2.75404006e-01  3.53844948e-02  4.53660004e-02\n",
      "  1.30728170e-01 -8.34079981e-02 -1.52660161e-01  9.09624323e-02\n",
      " -1.11066669e-01  9.96199995e-03  1.83417499e-01 -5.76223247e-02\n",
      " -3.19460005e-01 -2.70391494e-01 -1.40720174e-01  1.15180828e-01\n",
      " -3.72629650e-02 -4.37540002e-02  2.28140041e-01  3.52438331e-01\n",
      "  3.04009527e-01 -1.49279997e-01 -2.52950162e-01  1.56335667e-01\n",
      " -9.88116786e-02 -2.40333360e-02  2.35665008e-01 -4.10191678e-02\n",
      "  1.23786159e-01 -5.88955097e-02  4.12623324e-02  1.53474882e-01\n",
      "  1.65203333e-01 -2.88430989e-01  3.86596508e-02 -1.73592672e-01\n",
      " -8.53618458e-02 -9.42378342e-02 -8.52018371e-02  2.52048317e-02]\n"
     ]
    }
   ],
   "source": [
    "doc1 = nlp(\"It's a warm summer day\")\n",
    "doc2 = nlp(\"It's sunny outside\")\n",
    "\n",
    "# Get the similarity of doc1 and doc2\n",
    "similarity = doc1.vector\n",
    "print(similarity)"
   ]
  },
  {
   "cell_type": "code",
   "execution_count": 18,
   "metadata": {},
   "outputs": [
    {
     "data": {
      "text/plain": [
       "array([[ 5.10239897, -0.11624807],\n",
       "       [ 4.7837869 ,  0.12781483],\n",
       "       [ 4.58166138, -2.12210056],\n",
       "       [-1.985363  ,  0.36337517],\n",
       "       [-2.10066374,  1.70808636],\n",
       "       [-2.47306538,  1.401015  ],\n",
       "       [-2.47530574, -2.99929777],\n",
       "       [-2.01485749, -3.27865377],\n",
       "       [-2.17801706, -2.45275385],\n",
       "       [ 0.42245091,  1.99979409],\n",
       "       [-0.21746301,  4.08991784],\n",
       "       [-1.44556275,  1.27905073]])"
      ]
     },
     "execution_count": 18,
     "metadata": {},
     "output_type": "execute_result"
    }
   ],
   "source": [
    "#take a sample of words, encode with spacy vectors, project 300 dimensions into a 2D space\n",
    "\n",
    "# import the PCA module from sklearn\n",
    "from sklearn.decomposition import PCA\n",
    "\n",
    "def get_word_vectors(words):\n",
    "    # converts a list of words into their word vectors\n",
    "    return [nlp(word).vector for word in words]\n",
    "\n",
    "words = ['car', 'truck', 'suv', 'elves', 'dragon', 'sword', 'king', 'queen', 'prince', 'horse', 'fish' , 'lion']\n",
    "\n",
    "#we encode with spacy vectors\n",
    "# intialise pca model and tell it to project data down onto 2 dimensions\n",
    "pca = PCA(n_components=2)\n",
    "\n",
    "# fit the pca model to our 300D data, this will work out which is the best \n",
    "# way to project the data down that will best maintain the relative distances \n",
    "# between data points. It will store these intructioons on how to transform the data.\n",
    "pca.fit(get_word_vectors(words))\n",
    "\n",
    "# Tell our (fitted) pca model to transform our 300D data down onto 2D using the \n",
    "# instructions it learnt during the fit phase.\n",
    "word_vecs_2d = pca.transform(get_word_vectors(words))\n",
    "\n",
    "# let's look at our new 2D word vectors\n",
    "word_vecs_2d"
   ]
  },
  {
   "cell_type": "code",
   "execution_count": 19,
   "metadata": {},
   "outputs": [
    {
     "data": {
      "image/png": "[encoded data removed]",
      "text/plain": [
       "<Figure size 1440x1080 with 1 Axes>"
      ]
     },
     "metadata": {
      "needs_background": "light"
     },
     "output_type": "display_data"
    }
   ],
   "source": [
    "# create a nice big plot \n",
    "plt.figure(figsize=(20,15))\n",
    "\n",
    "# plot the scatter plot of where the words will be\n",
    "plt.scatter(word_vecs_2d[:,0], word_vecs_2d[:,1])\n",
    "\n",
    "# for each word and coordinate pair: draw the text on the plot\n",
    "for word, coord in zip(words, word_vecs_2d):\n",
    "    x, y = coord\n",
    "    plt.text(x, y, word, size= 15)\n",
    "\n",
    "# show the plot\n",
    "plt.show()\n",
    "\n",
    "#limitation of pre-trained models are:\n",
    "#only works well on what it gets trains on like reddit from common crawl, basic website data\n",
    "#to recreate quality, there needs to be hundreds and thousands of datasets\n",
    "\n",
    "#'$''s may be useful in text maybe to talk about how expensive something is, so include it\n",
    "#paperswithcode.com is a great resource bert elmo gloveb doc2vec(complication of word2vec)"
   ]
  },
  {
   "cell_type": "markdown",
   "metadata": {},
   "source": [
    "### Extract Document Vectors\n",
    "\n",
    "Let's see how much the quality of our query will work when we try a new embedding model.\n",
    "\n",
    "Steps:\n",
    "* Extract Vectors from Each Document\n",
    "* Search using KNN\n"
   ]
  },
  {
   "cell_type": "code",
   "execution_count": null,
   "metadata": {},
   "outputs": [],
   "source": []
  }
 ],
 "metadata": {
  "kernelspec": {
   "display_name": "U4-S1-NLP (Python 3.6)",
   "language": "python",
   "name": "u4-s1-nlp"
  },
  "language_info": {
   "codemirror_mode": {
    "name": "ipython",
    "version": 3
   },
   "file_extension": ".py",
   "mimetype": "text/x-python",
   "name": "python",
   "nbconvert_exporter": "python",
   "pygments_lexer": "ipython3",
   "version": "3.7.3"
  }
 },
 "nbformat": 4,
 "nbformat_minor": 2
}
