{
 "cells": [
  {
   "cell_type": "markdown",
   "metadata": {},
   "source": [
    "<img align=\"left\" src=\"https://lever-client-logos.s3.amazonaws.com/864372b1-534c-480e-acd5-9711f850815c-1524247202159.png\" width=200>\n",
    "<br></br>\n",
    "<br></br>\n",
    "\n",
    "# Vector Representations\n",
    "## *Data Science Unit 4 Sprint 1 Lesson 2*\n",
    "\n",
    "As we learned yesterday, machines cannot intrepret raw text. We need to transform that text into something we/machines can more readily analyze. Yesterday, we did simple counts of counts to summarize the content of Amazon reviews. Today, we'll extend those concepts to talk about vector representations such as Bag of Words (BoW) and word embedding models. We'll use those representations for search, visualization, and prepare for our classification day tomorrow. \n",
    "\n",
    "Processing text data to prepare it for maching learning models often means translating the information from documents into a numerical format. Bag-of-Words approaches (sometimes referred to as Frequency-Based word embeddings) accomplish this by \"vectorizing\" tokenized documents. This is done by representing each document as a row in a dataframe and creating a column for each unique word in the corpora (group of documents). The presence or lack of a given word in a document is then represented either as a raw count of how many times a given word appears in a document (CountVectorizer) or as that word's TF-IDF score (TfidfVectorizer).\n",
    "\n",
    "On the python side, we will be focusing on `sklearn` and `spacy` today.  \n",
    "\n",
    "## Case Study\n",
    "\n",
    "We're going to pretend we're on the datascience team at the BBC. We want to recommend articles to visiters to on the BBC website based on the article they just read. Our team wants \n",
    "\n",
    "**Dataset:**\n",
    "\n",
    "[D. Greene and P. Cunningham. \"Practical Solutions to the Problem of Diagonal Dominance in Kernel Document Clustering\", Proc. ICML 2006.](http://mlg.ucd.ie/datasets/bbc.html)\n",
    "*Please note that the dataset has been sampled down to tech articles only.* \n",
    "\n",
    "## Learning Objectives\n",
    "* <a href=\"#p1\">Part 1</a>: Represent a document as a vector\n",
    "* <a href=\"#p2\">Part 2</a>: Query Documents by Similarity\n",
    "* <a href=\"#p3\">Part 3</a>: Apply word embedding models to create document vectors"
   ]
  },
  {
   "cell_type": "code",
<<<<<<< HEAD
   "execution_count": 53,
=======
   "execution_count": 1,
>>>>>>> 95a9ec431168796939059a07f8361caae75c2225
   "metadata": {},
   "outputs": [],
   "source": [
    "\"\"\" Import Statements \"\"\"\n",
    "\n",
    "# Classics\n",
    "import pandas as pd\n",
    "import seaborn as sns\n",
    "import matplotlib.pyplot as plt\n",
    "\n",
    "from sklearn.feature_extraction.text import CountVectorizer, TfidfVectorizer\n",
    "from sklearn.metrics.pairwise import cosine_similarity\n",
    "from sklearn.neighbors import NearestNeighbors\n",
    "from sklearn.decomposition import PCA\n",
    "\n",
    "import spacy\n",
    "nlp = spacy.load(\"en_core_web_md\")"
   ]
  },
  {
   "cell_type": "markdown",
   "metadata": {},
   "source": [
    "**Warm Up (_3 Minutes_)**\n",
    "\n",
    "Extract the tokens from this sentence using Spacy. Text is from [OpenAI](https://openai.com/blog/better-language-models/)"
   ]
  },
  {
   "cell_type": "code",
<<<<<<< HEAD
   "execution_count": 54,
=======
   "execution_count": 3,
>>>>>>> 95a9ec431168796939059a07f8361caae75c2225
   "metadata": {},
   "outputs": [],
   "source": [
    "text = \"We created a new dataset which emphasizes diversity of content, by scraping content from the Internet. In order to preserve document quality, we used only pages which have been curated/filtered by humans—specifically, we used outbound links from Reddit which received at least 3 karma. This can be thought of as a heuristic indicator for whether other users found the link interesting (whether educational or funny), leading to higher data quality than other similar datasets, such as CommonCrawl.\""
   ]
  },
  {
   "cell_type": "code",
<<<<<<< HEAD
   "execution_count": 55,
=======
   "execution_count": 5,
>>>>>>> 95a9ec431168796939059a07f8361caae75c2225
   "metadata": {},
   "outputs": [
    {
     "name": "stdout",
     "output_type": "stream",
     "text": [
      "['create', 'new', 'dataset', 'emphasize', 'diversity', 'content', 'scrape', 'content', 'internet', 'order', 'preserve', 'document', 'quality', 'page', 'curate', 'filter', 'human', 'specifically', 'outbound', 'link', 'Reddit', 'receive', '3', 'karma', 'think', 'heuristic', 'indicator', 'user', 'find', 'link', 'interesting', 'educational', 'funny', 'lead', 'high', 'datum', 'quality', 'similar', 'dataset', 'CommonCrawl']\n"
     ]
    }
   ],
<<<<<<< HEAD
   "source": [
    "# Liv's Answer to Warm Up\n",
    "from spacy.tokenizer import Tokenizer\n",
    "tokenizer = Tokenizer(nlp.vocab)\n",
    "print([token.text for token in tokenizer(text)])"
   ]
  },
  {
   "cell_type": "code",
   "execution_count": 56,
   "metadata": {},
   "outputs": [
    {
     "name": "stdout",
     "output_type": "stream",
     "text": [
      "['create', 'a', 'new', 'dataset', 'which', 'emphasize', 'diversity', 'of', 'content', 'by', 'scrape', 'content', 'from', 'the', 'internet', 'in', 'order', 'to', 'preserve', 'document', 'quality', 'use', 'only', 'page', 'which', 'have', 'be', 'curate', 'filter', 'by', 'human', 'specifically', 'use', 'outbound', 'link', 'from', 'Reddit', 'which', 'receive', 'at', 'least', '3', 'karma', 'this', 'can', 'be', 'think', 'of', 'as', 'a', 'heuristic', 'indicator', 'for', 'whether', 'other', 'user', 'find', 'the', 'link', 'interesting', 'whether', 'educational', 'or', 'funny', 'lead', 'to', 'high', 'data', 'quality', 'than', 'other', 'similar', 'dataset', 'such', 'as', 'CommonCrawl']\n"
     ]
    }
   ],
   "source": [
    "import spacy\n",
    "\n",
    "nlp = spacy.load(\"en_core_web_md\")\n",
    "\n",
    "doc = nlp(text)\n",
    "\n",
    "print([token.lemma_ for token in doc if (token.is_punct != True) and (token.lemma_ != '-PRON-')])"
   ]
  },
  {
   "cell_type": "code",
   "execution_count": 57,
   "metadata": {},
   "outputs": [],
   "source": [
    "# Build a generator to return our BBC Data\n",
    "import os\n",
    "\n",
    "def genator_gather_data(filefolder):\n",
    "    \n",
    "    _list = []\n",
    "    \n",
    "    files = os.listdir(filefolder)\n",
    "    \n",
    "    for article in files: \n",
    "        \n",
    "        path = os.path.join(filefolder, article)\n",
    "                    \n",
    "        if  path[-3:] == 'txt':\n",
    "            with open(path, 'rb') as f:\n",
    "                _list.append(f.read())\n",
    "    \n",
    "    yield _list"
   ]
  },
  {
   "cell_type": "code",
   "execution_count": 58,
=======
   "source": []
  },
  {
   "cell_type": "code",
   "execution_count": 20,
>>>>>>> 95a9ec431168796939059a07f8361caae75c2225
   "metadata": {},
   "outputs": [],
   "source": [
    "def gather_data(filefolder):\n",
    "    '''returns a list of strings'''\n",
    "    data = []\n",
    "    \n",
    "    files = os.listdir(filefolder)\n",
    "    \n",
    "    for article in files: \n",
    "        \n",
    "        path = os.path.join(filefolder, article)\n",
    "                    \n",
    "        if  path[-3:] == 'txt':\n",
    "            with open(path, 'rb') as f:\n",
    "                data.append(f.read())\n",
    "    \n",
    "    return data"
   ]
  },
  {
   "cell_type": "code",
<<<<<<< HEAD
   "execution_count": 59,
=======
   "execution_count": 21,
>>>>>>> 95a9ec431168796939059a07f8361caae75c2225
   "metadata": {},
   "outputs": [],
   "source": [
    "data = gather_data('./data')"
   ]
  },
  {
<<<<<<< HEAD
   "cell_type": "code",
   "execution_count": 60,
   "metadata": {},
   "outputs": [
    {
     "data": {
      "text/plain": [
       "b'Ink helps drive democracy in Asia\\r\\n\\r\\nThe Kyrgyz Re'"
      ]
     },
     "execution_count": 60,
     "metadata": {},
     "output_type": "execute_result"
    }
   ],
   "source": [
    "data[0][:50]"
   ]
  },
  {
   "cell_type": "code",
   "execution_count": null,
   "metadata": {},
   "outputs": [],
   "source": []
  },
  {
=======
>>>>>>> 95a9ec431168796939059a07f8361caae75c2225
   "cell_type": "markdown",
   "metadata": {},
   "source": [
    "## Represent a document as a vector\n",
    "<a id=\"p1\"></a>\n",
    "\n",
    "In this section, we are going to create Document Term Matrices (DTM). Each column represents a word. Each row represents a document. The value in each cell can be range of different things. The most traditional: counts of appearences of words, does the word appear at all (binary), and term-frequency inverse-document frequence (TF-IDF). \n",
    "\n",
    "**Discussion:** Don't we loose all the context and grammer if we do this? So Why does it work?\n"
   ]
  },
  {
   "cell_type": "markdown",
   "metadata": {},
   "source": [
    "### CountVectorizer"
   ]
  },
  {
   "cell_type": "code",
   "execution_count": 61,
   "metadata": {},
   "outputs": [],
   "source": [
    "from sklearn.feature_extraction.text import CountVectorizer\n",
    "\n",
    "# list of text documents\n",
    "#text = [\"We created a new dataset which emphasizes diversity of content, by scraping content from the Internet.\",\" In order to preserve document quality, we used only pages which have been curated/filtered by humans—specifically, we used outbound links from Reddit which received at least 3 karma.\",\" This can be thought of as a heuristic indicator for whether other users found the link interesting (whether educational or funny), leading to higher data quality than other similar datasets, such as CommonCrawl.\"]\n",
    "\n",
    "# create the transformer\n",
<<<<<<< HEAD
    "vectorizer = CountVectorizer(stop_words='english', min_df = 0.05, max_df=0.90)#min_df word has to appear in at least x% documents\n",
    "\n",
    "# tokenize and build vocab\n",
    "vectorizer.fit(data)#learns vocabulary of the text\n",
=======
    "\n",
    "\n",
    "# tokenize and build vocab\n",
    "\n",
>>>>>>> 95a9ec431168796939059a07f8361caae75c2225
    "\n",
    "\n",
    "# Create a Vocabulary\n",
    "# The vocabulary establishes all of the possible words that we might use.\n",
<<<<<<< HEAD
    "#vectorizer.vocabulary_\n",
    "\n",
    "# The vocabulary dictionary does not represent the counts of words!!\n",
    "datatm = vectorizer.transform(data)"
=======
    "\n",
    "# The vocabulary dictionary does not represent the counts of words!!\n"
>>>>>>> 95a9ec431168796939059a07f8361caae75c2225
   ]
  },
  {
   "cell_type": "code",
   "execution_count": 63,
   "metadata": {},
   "outputs": [
    {
     "name": "stdout",
     "output_type": "stream",
     "text": [
      "['000', '10', '100', '11', '12', '13', '14', '15', '18', '20', '200', '2003', '2004', '2005', '2006', '25', '30', '40', '50', '60', '80', 'ability', 'able', 'access', 'according', 'account', 'action', 'activity', 'actually', 'add', 'added', 'address', 'advantage', 'age', 'ago', 'agreed', 'aimed', 'allow', 'allows', 'america', 'american', 'analyst', 'analysts', 'announced', 'anti', 'appeal', 'appear', 'apple', 'area', 'areas', 'ask', 'association', 'attack', 'attacks', 'audience', 'audio', 'automatically', 'available', 'average', 'aware', 'away', 'bad', 'based', 'basic', 'battle', 'bbc', 'believe', 'best', 'better', 'big', 'biggest', 'billion', 'bit', 'body', 'bought', 'box', 'bring', 'britain', 'british', 'broadband', 'broadcast', 'brought', 'bt', 'build', 'built', 'business', 'buy', 'buying', 'cable', 'california', 'called', 'calls', 'came', 'camera', 'cameras', 'campaign', 'capacity', 'car', 'card', 'cards', 'carry', 'case', 'cash', 'centre', 'challenge', 'chance', 'change', 'changed', 'changing', 'cheaper', 'chief', 'children', 'chip', 'choice', 'christmas', 'clear', 'close', 'code', 'com', 'come', 'comes', 'coming', 'commercial', 'common', 'community', 'companies', 'company', 'compared', 'competition', 'completely', 'computer', 'computers', 'concerned', 'conference', 'connection', 'connections', 'consider', 'considered', 'console', 'consoles', 'consumer', 'consumers', 'content', 'continue', 'control', 'copies', 'cost', 'costs', 'countries', 'country', 'create', 'created', 'crucial', 'current', 'currently', 'customers', 'cut', 'data', 'date', 'david', 'day', 'days', 'deal', 'december', 'decision', 'definition', 'demand', 'design', 'designed', 'despite', 'details', 'develop', 'developed', 'developers', 'developing', 'development', 'device', 'devices', 'did', 'different', 'difficult', 'digital', 'direct', 'director', 'display', 'does', 'doing', 'don', 'double', 'download', 'downloaded', 'downloading', 'downloads', 'dr', 'drive', 'dvd', 'earlier', 'early', 'easier', 'easily', 'easy', 'editor', 'electronic', 'electronics', 'elements', 'end', 'engine', 'engineering', 'ensure', 'entertainment', 'especially', 'estimated', 'europe', 'european', 'example', 'executive', 'existing', 'expected', 'expensive', 'experience', 'experts', 'extra', 'face', 'fact', 'fans', 'far', 'fast', 'faster', 'features', 'february', 'feel', 'fight', 'figure', 'figures', 'file', 'files', 'film', 'films', 'financial', 'finding', 'firm', 'firms', 'focus', 'following', 'force', 'form', 'format', 'free', 'friends', 'future', 'gadget', 'gadgets', 'game', 'gamers', 'games', 'gaming', 'gathered', 'general', 'generation', 'gets', 'getting', 'giant', 'given', 'gives', 'giving', 'global', 'globally', 'going', 'good', 'google', 'got', 'government', 'graphics', 'great', 'greater', 'group', 'groups', 'grow', 'growing', 'growth', 'half', 'hand', 'handheld', 'handle', 'hands', 'handset', 'handsets', 'hard', 'hardware', 'having', 'head', 'held', 'help', 'helped', 'helping', 'hi', 'high', 'hit', 'hold', 'home', 'homes', 'hopes', 'hours', 'house', 'huge', 'hugely', 'human', 'ibm', 'idea', 'illegal', 'images', 'impact', 'important', 'include', 'included', 'includes', 'including', 'increase', 'increasing', 'increasingly', 'individual', 'industry', 'infected', 'information', 'initially', 'innovation', 'inside', 'installed', 'instance', 'instead', 'intel', 'interactive', 'international', 'internet', 'involved', 'ipod', 'issue', 'issues', 'itunes', 'january', 'japan', 'job', 'just', 'keen', 'key', 'kind', 'know', 'known', 'language', 'large', 'larger', 'largest', 'later', 'latest', 'launch', 'launched', 'law', 'lead', 'led', 'left', 'legal', 'legitimate', 'let', 'lets', 'level', 'levels', 'life', 'like', 'likely', 'limited', 'line', 'link', 'links', 'list', 'listen', 'little', 'live', 'lives', 'living', 'local', 'london', 'long', 'longer', 'look', 'looking', 'looks', 'lot', 'low', 'machine', 'machines', 'magazine', 'mail', 'mails', 'main', 'major', 'make', 'maker', 'makers', 'makes', 'making', 'malicious', 'man', 'manager', 'managing', 'march', 'mark', 'market', 'marketing', 'matter', 'mean', 'means', 'meant', 'media', 'memory', 'message', 'messages', 'messaging', 'microsoft', 'million', 'millions', 'mini', 'minutes', 'mobile', 'mobiles', 'model', 'models', 'moment', 'money', 'monitor', 'month', 'months', 'movie', 'movies', 'moving', 'mp3', 'mr', 'ms', 'multi', 'multimedia', 'music', 'national', 'need', 'needed', 'needs', 'net', 'network', 'networks', 'new', 'news', 'nintendo', 'nokia', 'non', 'november', 'number', 'numbers', 'october', 'offer', 'offered', 'offering', 'offers', 'office', 'official', 'old', 'online', 'open', 'operating', 'operators', 'order', 'organisation', 'organisations', 'original', 'owners', 'paid', 'particular', 'particularly', 'past', 'pay', 'pc', 'pcs', 'peer', 'people', 'person', 'personal', 'phone', 'phones', 'picture', 'pictures', 'piracy', 'place', 'planning', 'plans', 'play', 'player', 'players', 'playing', 'playstation', 'point', 'popular', 'popularity', 'portable', 'possible', 'potential', 'power', 'powerful', 'pre', 'predicted', 'president', 'press', 'previous', 'price', 'prices', 'probably', 'problem', 'problems', 'process', 'produce', 'produced', 'product', 'products', 'program', 'programme', 'programmes', 'programs', 'project', 'protect', 'protection', 'provide', 'public', 'push', 'putting', 'quality', 'quarter', 'quickly', 'quite', 'radio', 'range', 'rate', 'reach', 'read', 'real', 'really', 'reason', 'receive', 'received', 'recent', 'recently', 'record', 'regularly', 'release', 'released', 'remain', 'replace', 'report', 'reported', 'reports', 'research', 'response', 'result', 'results', 'right', 'rights', 'rise', 'rival', 'role', 'run', 'running', 'said', 'sale', 'sales', 'samsung', 'san', 'say', 'saying', 'says', 'screen', 'screens', 'search', 'second', 'secure', 'security', 'seeing', 'seen', 'sell', 'selling', 'send', 'sending', 'senior', 'sent', 'separate', 'september', 'series', 'servers', 'service', 'services', 'set', 'seven', 'share', 'sharing', 'short', 'showed', 'shows', 'sign', 'significant', 'similar', 'simple', 'simply', 'single', 'site', 'sites', 'size', 'slow', 'small', 'smaller', 'society', 'software', 'sold', 'songs', 'sony', 'soon', 'sophisticated', 'sound', 'source', 'space', 'spam', 'special', 'speech', 'speed', 'speeds', 'spend', 'spent', 'spokesman', 'spot', 'spread', 'staff', 'standard', 'standards', 'start', 'started', 'starting', 'state', 'statement', 'step', 'stop', 'storage', 'store', 'story', 'studios', 'study', 'success', 'suggests', 'summer', 'support', 'sure', 'survey', 'systems', 'taken', 'takes', 'taking', 'talk', 'talking', 'team', 'tech', 'technical', 'technologies', 'technology', 'television', 'tell', 'tend', 'terms', 'test', 'text', 'theft', 'thing', 'things', 'think', 'thinking', 'thinks', 'thought', 'thousands', 'time', 'times', 'title', 'titles', 'today', 'told', 'took', 'tool', 'tools', 'total', 'track', 'trade', 'traffic', 'trend', 'try', 'trying', 'turn', 'tv', 'type', 'uk', 'university', 'upgrade', 'use', 'used', 'useful', 'user', 'users', 'uses', 'using', 'value', 'variety', 've', 'version', 'versions', 'vice', 'video', 'virus', 'viruses', 'voice', 'want', 'wanted', 'wants', 'warned', 'warning', 'watch', 'watching', 'way', 'ways', 'web', 'website', 'websites', 'week', 'weeks', 'went', 'wide', 'widely', 'win', 'windows', 'wireless', 'won', 'work', 'worked', 'working', 'works', 'world', 'worldwide', 'worth', 'writing', 'xbox', 'year', 'years']\n"
     ]
    }
   ],
   "source": [
    "print(vectorizer.get_feature_names())"
   ]
  },
  {
   "cell_type": "code",
   "execution_count": 11,
   "metadata": {},
   "outputs": [
    {
     "data": {
      "text/plain": [
       "matrix([[0, 0, 0, ..., 0, 0, 0],\n",
       "        [1, 0, 1, ..., 0, 0, 0],\n",
       "        [0, 0, 0, ..., 0, 0, 0],\n",
       "        ...,\n",
       "        [0, 0, 0, ..., 0, 2, 0],\n",
       "        [0, 0, 0, ..., 0, 2, 0],\n",
       "        [1, 4, 0, ..., 1, 3, 6]], dtype=int64)"
      ]
     },
     "execution_count": 11,
     "metadata": {},
     "output_type": "execute_result"
    }
   ],
   "source": [
<<<<<<< HEAD
    "datatm.todense() "
=======
    "# Dealing with Sparse Matrix\n"
>>>>>>> 95a9ec431168796939059a07f8361caae75c2225
   ]
  },
  {
   "cell_type": "code",
   "execution_count": 12,
   "metadata": {},
   "outputs": [
    {
     "name": "stdout",
     "output_type": "stream",
     "text": [
      "['000', '10', '100', '11', '12', '13', '14', '15', '18', '20', '200', '2003', '2004', '2005', '2006', '25', '30', '40', '50', '60', '80', 'ability', 'able', 'access', 'according', 'account', 'action', 'activity', 'actually', 'add', 'added', 'address', 'advantage', 'age', 'ago', 'agreed', 'aimed', 'allow', 'allows', 'america', 'american', 'analyst', 'analysts', 'announced', 'anti', 'appeal', 'appear', 'apple', 'area', 'areas', 'ask', 'association', 'attack', 'attacks', 'audience', 'audio', 'automatically', 'available', 'average', 'aware', 'away', 'bad', 'based', 'basic', 'battle', 'bbc', 'believe', 'best', 'better', 'big', 'biggest', 'billion', 'bit', 'body', 'bought', 'box', 'bring', 'britain', 'british', 'broadband', 'broadcast', 'brought', 'bt', 'build', 'built', 'business', 'buy', 'buying', 'cable', 'california', 'called', 'calls', 'came', 'camera', 'cameras', 'campaign', 'capacity', 'car', 'card', 'cards', 'carry', 'case', 'cash', 'centre', 'challenge', 'chance', 'change', 'changed', 'changing', 'cheaper', 'chief', 'children', 'chip', 'choice', 'christmas', 'clear', 'close', 'code', 'com', 'come', 'comes', 'coming', 'commercial', 'common', 'community', 'companies', 'company', 'compared', 'competition', 'completely', 'computer', 'computers', 'concerned', 'conference', 'connection', 'connections', 'consider', 'considered', 'console', 'consoles', 'consumer', 'consumers', 'content', 'continue', 'control', 'copies', 'cost', 'costs', 'countries', 'country', 'create', 'created', 'crucial', 'current', 'currently', 'customers', 'cut', 'data', 'date', 'david', 'day', 'days', 'deal', 'december', 'decision', 'definition', 'demand', 'design', 'designed', 'despite', 'details', 'develop', 'developed', 'developers', 'developing', 'development', 'device', 'devices', 'did', 'different', 'difficult', 'digital', 'direct', 'director', 'display', 'does', 'doing', 'don', 'double', 'download', 'downloaded', 'downloading', 'downloads', 'dr', 'drive', 'dvd', 'earlier', 'early', 'easier', 'easily', 'easy', 'editor', 'electronic', 'electronics', 'elements', 'end', 'engine', 'engineering', 'ensure', 'entertainment', 'especially', 'estimated', 'europe', 'european', 'example', 'executive', 'existing', 'expected', 'expensive', 'experience', 'experts', 'extra', 'face', 'fact', 'fans', 'far', 'fast', 'faster', 'features', 'february', 'feel', 'fight', 'figure', 'figures', 'file', 'files', 'film', 'films', 'financial', 'finding', 'firm', 'firms', 'focus', 'following', 'force', 'form', 'format', 'free', 'friends', 'future', 'gadget', 'gadgets', 'game', 'gamers', 'games', 'gaming', 'gathered', 'general', 'generation', 'gets', 'getting', 'giant', 'given', 'gives', 'giving', 'global', 'globally', 'going', 'good', 'google', 'got', 'government', 'graphics', 'great', 'greater', 'group', 'groups', 'grow', 'growing', 'growth', 'half', 'hand', 'handheld', 'handle', 'hands', 'handset', 'handsets', 'hard', 'hardware', 'having', 'head', 'held', 'help', 'helped', 'helping', 'hi', 'high', 'hit', 'hold', 'home', 'homes', 'hopes', 'hours', 'house', 'huge', 'hugely', 'human', 'ibm', 'idea', 'illegal', 'images', 'impact', 'important', 'include', 'included', 'includes', 'including', 'increase', 'increasing', 'increasingly', 'individual', 'industry', 'infected', 'information', 'initially', 'innovation', 'inside', 'installed', 'instance', 'instead', 'intel', 'interactive', 'international', 'internet', 'involved', 'ipod', 'issue', 'issues', 'itunes', 'january', 'japan', 'job', 'just', 'keen', 'key', 'kind', 'know', 'known', 'language', 'large', 'larger', 'largest', 'later', 'latest', 'launch', 'launched', 'law', 'lead', 'led', 'left', 'legal', 'legitimate', 'let', 'lets', 'level', 'levels', 'life', 'like', 'likely', 'limited', 'line', 'link', 'links', 'list', 'listen', 'little', 'live', 'lives', 'living', 'local', 'london', 'long', 'longer', 'look', 'looking', 'looks', 'lot', 'low', 'machine', 'machines', 'magazine', 'mail', 'mails', 'main', 'major', 'make', 'maker', 'makers', 'makes', 'making', 'malicious', 'man', 'manager', 'managing', 'march', 'mark', 'market', 'marketing', 'matter', 'mean', 'means', 'meant', 'media', 'memory', 'message', 'messages', 'messaging', 'microsoft', 'million', 'millions', 'mini', 'minutes', 'mobile', 'mobiles', 'model', 'models', 'moment', 'money', 'monitor', 'month', 'months', 'movie', 'movies', 'moving', 'mp3', 'mr', 'ms', 'multi', 'multimedia', 'music', 'national', 'need', 'needed', 'needs', 'net', 'network', 'networks', 'new', 'news', 'nintendo', 'nokia', 'non', 'november', 'number', 'numbers', 'october', 'offer', 'offered', 'offering', 'offers', 'office', 'official', 'old', 'online', 'open', 'operating', 'operators', 'order', 'organisation', 'organisations', 'original', 'owners', 'paid', 'particular', 'particularly', 'past', 'pay', 'pc', 'pcs', 'peer', 'people', 'person', 'personal', 'phone', 'phones', 'picture', 'pictures', 'piracy', 'place', 'planning', 'plans', 'play', 'player', 'players', 'playing', 'playstation', 'point', 'popular', 'popularity', 'portable', 'possible', 'potential', 'power', 'powerful', 'pre', 'predicted', 'president', 'press', 'previous', 'price', 'prices', 'probably', 'problem', 'problems', 'process', 'produce', 'produced', 'product', 'products', 'program', 'programme', 'programmes', 'programs', 'project', 'protect', 'protection', 'provide', 'public', 'push', 'putting', 'quality', 'quarter', 'quickly', 'quite', 'radio', 'range', 'rate', 'reach', 'read', 'real', 'really', 'reason', 'receive', 'received', 'recent', 'recently', 'record', 'regularly', 'release', 'released', 'remain', 'replace', 'report', 'reported', 'reports', 'research', 'response', 'result', 'results', 'right', 'rights', 'rise', 'rival', 'role', 'run', 'running', 'said', 'sale', 'sales', 'samsung', 'san', 'say', 'saying', 'says', 'screen', 'screens', 'search', 'second', 'secure', 'security', 'seeing', 'seen', 'sell', 'selling', 'send', 'sending', 'senior', 'sent', 'separate', 'september', 'series', 'servers', 'service', 'services', 'set', 'seven', 'share', 'sharing', 'short', 'showed', 'shows', 'sign', 'significant', 'similar', 'simple', 'simply', 'single', 'site', 'sites', 'size', 'slow', 'small', 'smaller', 'society', 'software', 'sold', 'songs', 'sony', 'soon', 'sophisticated', 'sound', 'source', 'space', 'spam', 'special', 'speech', 'speed', 'speeds', 'spend', 'spent', 'spokesman', 'spot', 'spread', 'staff', 'standard', 'standards', 'start', 'started', 'starting', 'state', 'statement', 'step', 'stop', 'storage', 'store', 'story', 'studios', 'study', 'success', 'suggests', 'summer', 'support', 'sure', 'survey', 'systems', 'taken', 'takes', 'taking', 'talk', 'talking', 'team', 'tech', 'technical', 'technologies', 'technology', 'television', 'tell', 'tend', 'terms', 'test', 'text', 'theft', 'thing', 'things', 'think', 'thinking', 'thinks', 'thought', 'thousands', 'time', 'times', 'title', 'titles', 'today', 'told', 'took', 'tool', 'tools', 'total', 'track', 'trade', 'traffic', 'trend', 'try', 'trying', 'turn', 'tv', 'type', 'uk', 'university', 'upgrade', 'use', 'used', 'useful', 'user', 'users', 'uses', 'using', 'value', 'variety', 've', 'version', 'versions', 'vice', 'video', 'virus', 'viruses', 'voice', 'want', 'wanted', 'wants', 'warned', 'warning', 'watch', 'watching', 'way', 'ways', 'web', 'website', 'websites', 'week', 'weeks', 'went', 'wide', 'widely', 'win', 'windows', 'wireless', 'won', 'work', 'worked', 'working', 'works', 'world', 'worldwide', 'worth', 'writing', 'xbox', 'year', 'years']\n"
     ]
    }
   ],
   "source": [
<<<<<<< HEAD
    "print(vectorizer.get_feature_names())"
   ]
  },
  {
   "cell_type": "code",
   "execution_count": 13,
   "metadata": {},
   "outputs": [
    {
     "data": {
      "text/html": [
       "<div>\n",
       "<style scoped>\n",
       "    .dataframe tbody tr th:only-of-type {\n",
       "        vertical-align: middle;\n",
       "    }\n",
       "\n",
       "    .dataframe tbody tr th {\n",
       "        vertical-align: top;\n",
       "    }\n",
       "\n",
       "    .dataframe thead th {\n",
       "        text-align: right;\n",
       "    }\n",
       "</style>\n",
       "<table border=\"1\" class=\"dataframe\">\n",
       "  <thead>\n",
       "    <tr style=\"text-align: right;\">\n",
       "      <th></th>\n",
       "      <th>000</th>\n",
       "      <th>10</th>\n",
       "      <th>100</th>\n",
       "      <th>11</th>\n",
       "      <th>12</th>\n",
       "      <th>13</th>\n",
       "      <th>14</th>\n",
       "      <th>15</th>\n",
       "      <th>18</th>\n",
       "      <th>20</th>\n",
       "      <th>...</th>\n",
       "      <th>worked</th>\n",
       "      <th>working</th>\n",
       "      <th>works</th>\n",
       "      <th>world</th>\n",
       "      <th>worldwide</th>\n",
       "      <th>worth</th>\n",
       "      <th>writing</th>\n",
       "      <th>xbox</th>\n",
       "      <th>year</th>\n",
       "      <th>years</th>\n",
       "    </tr>\n",
       "  </thead>\n",
       "  <tbody>\n",
       "    <tr>\n",
       "      <th>0</th>\n",
       "      <td>0</td>\n",
       "      <td>0</td>\n",
       "      <td>0</td>\n",
       "      <td>0</td>\n",
       "      <td>0</td>\n",
       "      <td>0</td>\n",
       "      <td>0</td>\n",
       "      <td>0</td>\n",
       "      <td>0</td>\n",
       "      <td>0</td>\n",
       "      <td>...</td>\n",
       "      <td>0</td>\n",
       "      <td>0</td>\n",
       "      <td>1</td>\n",
       "      <td>1</td>\n",
       "      <td>0</td>\n",
       "      <td>0</td>\n",
       "      <td>0</td>\n",
       "      <td>0</td>\n",
       "      <td>0</td>\n",
       "      <td>0</td>\n",
       "    </tr>\n",
       "    <tr>\n",
       "      <th>1</th>\n",
       "      <td>1</td>\n",
       "      <td>0</td>\n",
       "      <td>1</td>\n",
       "      <td>0</td>\n",
       "      <td>2</td>\n",
       "      <td>0</td>\n",
       "      <td>0</td>\n",
       "      <td>0</td>\n",
       "      <td>0</td>\n",
       "      <td>0</td>\n",
       "      <td>...</td>\n",
       "      <td>0</td>\n",
       "      <td>0</td>\n",
       "      <td>0</td>\n",
       "      <td>1</td>\n",
       "      <td>0</td>\n",
       "      <td>0</td>\n",
       "      <td>0</td>\n",
       "      <td>0</td>\n",
       "      <td>0</td>\n",
       "      <td>0</td>\n",
       "    </tr>\n",
       "    <tr>\n",
       "      <th>2</th>\n",
       "      <td>0</td>\n",
       "      <td>0</td>\n",
       "      <td>0</td>\n",
       "      <td>0</td>\n",
       "      <td>0</td>\n",
       "      <td>0</td>\n",
       "      <td>0</td>\n",
       "      <td>0</td>\n",
       "      <td>0</td>\n",
       "      <td>0</td>\n",
       "      <td>...</td>\n",
       "      <td>0</td>\n",
       "      <td>0</td>\n",
       "      <td>0</td>\n",
       "      <td>0</td>\n",
       "      <td>0</td>\n",
       "      <td>0</td>\n",
       "      <td>0</td>\n",
       "      <td>0</td>\n",
       "      <td>0</td>\n",
       "      <td>0</td>\n",
       "    </tr>\n",
       "  </tbody>\n",
       "</table>\n",
       "<p>3 rows × 750 columns</p>\n",
       "</div>"
      ],
      "text/plain": [
       "   000  10  100  11  12  13  14  15  18  20  ...  worked  working  works  \\\n",
       "0    0   0    0   0   0   0   0   0   0   0  ...       0        0      1   \n",
       "1    1   0    1   0   2   0   0   0   0   0  ...       0        0      0   \n",
       "2    0   0    0   0   0   0   0   0   0   0  ...       0        0      0   \n",
       "\n",
       "   world  worldwide  worth  writing  xbox  year  years  \n",
       "0      1          0      0        0     0     0      0  \n",
       "1      1          0      0        0     0     0      0  \n",
       "2      0          0      0        0     0     0      0  \n",
       "\n",
       "[3 rows x 750 columns]"
      ]
     },
     "execution_count": 13,
     "metadata": {},
     "output_type": "execute_result"
    }
   ],
   "source": [
    "# Get Word Counts for each document\n",
    "datatm = pd.DataFrame(datatm.todense(), columns = vectorizer.get_feature_names())\n",
    "datatm.head(3)"
=======
    "# Get Word Counts for each document\n"
   ]
  },
  {
   "cell_type": "markdown",
   "metadata": {},
   "source": [
    "**Three Minute Challenge:** \n",
    "* Apply CountVectorizer to our BBC Data\n",
    "* Try to Customize CountVectorizer with Spacy"
>>>>>>> 95a9ec431168796939059a07f8361caae75c2225
   ]
  },
  {
   "cell_type": "code",
   "execution_count": 14,
   "metadata": {},
   "outputs": [],
   "source": [
    "from sklearn.feature_extraction.text import CountVectorizer\n",
    "\n",
    "# list of text documents\n",
    "text = [\"We created a new dataset which emphasizes diversity of content, by scraping content from the Internet.\",\" In order to preserve document quality, we used only pages which have been curated/filtered by humans—specifically, we used outbound links from Reddit which received at least 3 karma.\",\" This can be thought of as a heuristic indicator for whether other users found the link interesting (whether educational or funny), leading to higher data quality than other similar datasets, such as CommonCrawl.\"]\n",
    "\n",
    "# create the transformer\n",
    "vectorizer = CountVectorizer()\n",
    "\n",
    "# tokenize and build vocab\n",
    "vectorizer.fit(text)#learns vocabulary of the text\n",
    "\n",
    "\n",
    "# Create a Vocabulary\n",
    "# The vocabulary establishes all of the possible words that we might use.\n",
    "#vectorizer.vocabulary_\n",
    "\n",
    "# The vocabulary dictionary does not represent the counts of words!!\n",
    "dtm = vectorizer.transform(text)"
   ]
  },
  {
   "cell_type": "code",
   "execution_count": 15,
   "metadata": {},
   "outputs": [],
   "source": [
    "# Apply CountVectorizer to our Data\n",
    "# Use custom Spacy Vectorizer\n"
   ]
  },
  {
   "cell_type": "markdown",
   "metadata": {},
   "source": [
    "### TfidfVectorizer\n",
    "\n",
    "## Term Frequency - Inverse Document Frequency (TF-IDF)\n",
    "\n",
    "<center><img src=\"https://mungingdata.files.wordpress.com/2017/11/equation.png?w=430&h=336\" width=\"300\"></center>\n",
    "\n",
    "Term Frequency: Percentage of words in document for each word\n",
    "\n",
    "Document Frequency: A penalty for the word existing in a high number of documents.\n",
    "\n",
    "The purpose of TF-IDF is to find what is **unique** to each document. Because of this we will penalize the term frequencies of words that are common across all documents which will allow for each document's most different topics to rise to the top."
   ]
  },
  {
   "cell_type": "code",
   "execution_count": 43,
   "metadata": {},
   "outputs": [
    {
     "data": {
      "text/html": [
       "<div>\n",
       "<style scoped>\n",
       "    .dataframe tbody tr th:only-of-type {\n",
       "        vertical-align: middle;\n",
       "    }\n",
       "\n",
       "    .dataframe tbody tr th {\n",
       "        vertical-align: top;\n",
       "    }\n",
       "\n",
       "    .dataframe thead th {\n",
       "        text-align: right;\n",
       "    }\n",
       "</style>\n",
       "<table border=\"1\" class=\"dataframe\">\n",
       "  <thead>\n",
       "    <tr style=\"text-align: right;\">\n",
       "      <th></th>\n",
       "      <th>00</th>\n",
       "      <th>000</th>\n",
       "      <th>000s</th>\n",
       "      <th>0051</th>\n",
       "      <th>007</th>\n",
       "      <th>01</th>\n",
       "      <th>028</th>\n",
       "      <th>04m</th>\n",
       "      <th>05</th>\n",
       "      <th>0530</th>\n",
       "      <th>...</th>\n",
       "      <th>zip</th>\n",
       "      <th>zodiac</th>\n",
       "      <th>zombie</th>\n",
       "      <th>zombies</th>\n",
       "      <th>zone</th>\n",
       "      <th>zonealarm</th>\n",
       "      <th>zones</th>\n",
       "      <th>zoom</th>\n",
       "      <th>zooms</th>\n",
       "      <th>zurich</th>\n",
       "    </tr>\n",
       "  </thead>\n",
       "  <tbody>\n",
       "    <tr>\n",
       "      <th>0</th>\n",
       "      <td>0.0</td>\n",
       "      <td>0.000000</td>\n",
       "      <td>0.0</td>\n",
       "      <td>0.0</td>\n",
       "      <td>0.0</td>\n",
       "      <td>0.0</td>\n",
       "      <td>0.0</td>\n",
       "      <td>0.0</td>\n",
       "      <td>0.0</td>\n",
       "      <td>0.0</td>\n",
       "      <td>...</td>\n",
       "      <td>0.0</td>\n",
       "      <td>0.0</td>\n",
       "      <td>0.0</td>\n",
       "      <td>0.0</td>\n",
       "      <td>0.0</td>\n",
       "      <td>0.0</td>\n",
       "      <td>0.0</td>\n",
       "      <td>0.0</td>\n",
       "      <td>0.0</td>\n",
       "      <td>0.0</td>\n",
       "    </tr>\n",
       "    <tr>\n",
       "      <th>1</th>\n",
       "      <td>0.0</td>\n",
       "      <td>0.020568</td>\n",
       "      <td>0.0</td>\n",
       "      <td>0.0</td>\n",
       "      <td>0.0</td>\n",
       "      <td>0.0</td>\n",
       "      <td>0.0</td>\n",
       "      <td>0.0</td>\n",
       "      <td>0.0</td>\n",
       "      <td>0.0</td>\n",
       "      <td>...</td>\n",
       "      <td>0.0</td>\n",
       "      <td>0.0</td>\n",
       "      <td>0.0</td>\n",
       "      <td>0.0</td>\n",
       "      <td>0.0</td>\n",
       "      <td>0.0</td>\n",
       "      <td>0.0</td>\n",
       "      <td>0.0</td>\n",
       "      <td>0.0</td>\n",
       "      <td>0.0</td>\n",
       "    </tr>\n",
       "    <tr>\n",
       "      <th>2</th>\n",
       "      <td>0.0</td>\n",
       "      <td>0.000000</td>\n",
       "      <td>0.0</td>\n",
       "      <td>0.0</td>\n",
       "      <td>0.0</td>\n",
       "      <td>0.0</td>\n",
       "      <td>0.0</td>\n",
       "      <td>0.0</td>\n",
       "      <td>0.0</td>\n",
       "      <td>0.0</td>\n",
       "      <td>...</td>\n",
       "      <td>0.0</td>\n",
       "      <td>0.0</td>\n",
       "      <td>0.0</td>\n",
       "      <td>0.0</td>\n",
       "      <td>0.0</td>\n",
       "      <td>0.0</td>\n",
       "      <td>0.0</td>\n",
       "      <td>0.0</td>\n",
       "      <td>0.0</td>\n",
       "      <td>0.0</td>\n",
       "    </tr>\n",
       "    <tr>\n",
       "      <th>3</th>\n",
       "      <td>0.0</td>\n",
       "      <td>0.000000</td>\n",
       "      <td>0.0</td>\n",
       "      <td>0.0</td>\n",
       "      <td>0.0</td>\n",
       "      <td>0.0</td>\n",
       "      <td>0.0</td>\n",
       "      <td>0.0</td>\n",
       "      <td>0.0</td>\n",
       "      <td>0.0</td>\n",
       "      <td>...</td>\n",
       "      <td>0.0</td>\n",
       "      <td>0.0</td>\n",
       "      <td>0.0</td>\n",
       "      <td>0.0</td>\n",
       "      <td>0.0</td>\n",
       "      <td>0.0</td>\n",
       "      <td>0.0</td>\n",
       "      <td>0.0</td>\n",
       "      <td>0.0</td>\n",
       "      <td>0.0</td>\n",
       "    </tr>\n",
       "    <tr>\n",
       "      <th>4</th>\n",
       "      <td>0.0</td>\n",
       "      <td>0.000000</td>\n",
       "      <td>0.0</td>\n",
       "      <td>0.0</td>\n",
       "      <td>0.0</td>\n",
       "      <td>0.0</td>\n",
       "      <td>0.0</td>\n",
       "      <td>0.0</td>\n",
       "      <td>0.0</td>\n",
       "      <td>0.0</td>\n",
       "      <td>...</td>\n",
       "      <td>0.0</td>\n",
       "      <td>0.0</td>\n",
       "      <td>0.0</td>\n",
       "      <td>0.0</td>\n",
       "      <td>0.0</td>\n",
       "      <td>0.0</td>\n",
       "      <td>0.0</td>\n",
       "      <td>0.0</td>\n",
       "      <td>0.0</td>\n",
       "      <td>0.0</td>\n",
       "    </tr>\n",
       "  </tbody>\n",
       "</table>\n",
       "<p>5 rows × 11820 columns</p>\n",
       "</div>"
      ],
      "text/plain": [
       "    00       000  000s  0051  007   01  028  04m   05  0530  ...  zip  zodiac  \\\n",
       "0  0.0  0.000000   0.0   0.0  0.0  0.0  0.0  0.0  0.0   0.0  ...  0.0     0.0   \n",
       "1  0.0  0.020568   0.0   0.0  0.0  0.0  0.0  0.0  0.0   0.0  ...  0.0     0.0   \n",
       "2  0.0  0.000000   0.0   0.0  0.0  0.0  0.0  0.0  0.0   0.0  ...  0.0     0.0   \n",
       "3  0.0  0.000000   0.0   0.0  0.0  0.0  0.0  0.0  0.0   0.0  ...  0.0     0.0   \n",
       "4  0.0  0.000000   0.0   0.0  0.0  0.0  0.0  0.0  0.0   0.0  ...  0.0     0.0   \n",
       "\n",
       "   zombie  zombies  zone  zonealarm  zones  zoom  zooms  zurich  \n",
       "0     0.0      0.0   0.0        0.0    0.0   0.0    0.0     0.0  \n",
       "1     0.0      0.0   0.0        0.0    0.0   0.0    0.0     0.0  \n",
       "2     0.0      0.0   0.0        0.0    0.0   0.0    0.0     0.0  \n",
       "3     0.0      0.0   0.0        0.0    0.0   0.0    0.0     0.0  \n",
       "4     0.0      0.0   0.0        0.0    0.0   0.0    0.0     0.0  \n",
       "\n",
       "[5 rows x 11820 columns]"
      ]
     },
     "execution_count": 43,
     "metadata": {},
     "output_type": "execute_result"
    }
   ],
   "source": [
    "from sklearn.feature_extraction.text import TfidfVectorizer\n",
    "\n",
    "# Instantiate vectorizer object\n",
<<<<<<< HEAD
    "tfidf = TfidfVectorizer(stop_words='english')\n",
    "\n",
    "# Create a vocabulary and get word counts per document\n",
    "#dtm = tfidf.fit_transform(data)#fit and transforms in same step- you should know fit and transform are separate steps\n",
    "#dtm = tfidf.transform(new_data)\n",
    "# tfidf.fit(data)\n",
=======
    "\n",
    "\n",
    "# Create a vocabulary and get word counts per document\n",
    "\n",
>>>>>>> 95a9ec431168796939059a07f8361caae75c2225
    "# Print word counts\n",
    "sparse = tfidf.fit_transform(data)\n",
    "dtm = pd.DataFrame(sparse.todense(), columns=tfidf.get_feature_names())\n",
    "dtm.head()\n",
    "# Get feature names to use as dataframe column headers\n",
    "\n",
<<<<<<< HEAD
    "# View Feature Matrix as DataFrame\n",
    "# docs = pd.DataFrame(dtm.todense(), columns = tfidf.get_feature_names())\n",
    "# docs.head()"
=======
    "# View Feature Matrix as DataFrame\n"
>>>>>>> 95a9ec431168796939059a07f8361caae75c2225
   ]
  },
  {
   "cell_type": "code",
   "execution_count": 17,
   "metadata": {},
   "outputs": [],
   "source": [
    "# Tunning Parameters\n"
   ]
  },
  {
   "cell_type": "markdown",
   "metadata": {},
   "source": [
    "## Query Documents by Similarity\n",
    "<a id=\"p2\"></a>"
   ]
  },
  {
   "cell_type": "markdown",
   "metadata": {},
   "source": [
    "### Cosine Similarity (Brute Force)"
   ]
  },
  {
   "cell_type": "code",
   "execution_count": 18,
   "metadata": {},
   "outputs": [],
   "source": [
    "# Calculate Distance of TF-IDF Vectors\n",
    "from sklearn.metrics.pairwise import cosine_similarity#brute force approach\n",
    "\n",
    "dist_matrix  = cosine_similarity(datatm)"
   ]
  },
  {
   "cell_type": "code",
   "execution_count": 19,
   "metadata": {},
   "outputs": [
    {
     "data": {
      "text/plain": [
       "0"
      ]
     },
     "execution_count": 19,
     "metadata": {},
     "output_type": "execute_result"
    }
   ],
   "source": [
    "# Turn it into a DataFrame\n"
   ]
  },
  {
   "cell_type": "code",
   "execution_count": 20,
   "metadata": {},
   "outputs": [
    {
     "data": {
      "text/plain": [
       "(401, 401)"
      ]
     },
     "execution_count": 20,
     "metadata": {},
     "output_type": "execute_result"
    }
   ],
   "source": [
    "# Our Similarity Matrix is ? size \n"
   ]
  },
  {
   "cell_type": "code",
   "execution_count": 21,
   "metadata": {},
   "outputs": [
    {
     "data": {
      "text/plain": [
       "0      1.000000\n",
       "1      0.202801\n",
       "2      0.077441\n",
       "3      0.170009\n",
       "4      0.184016\n",
       "5      0.069823\n",
       "6      0.093369\n",
       "7      0.035720\n",
       "8      0.077900\n",
       "9      0.076334\n",
       "10     0.040865\n",
       "11     0.249197\n",
       "12     0.063889\n",
       "13     0.080428\n",
       "14     0.112013\n",
       "15     0.096944\n",
       "16     0.132993\n",
       "17     0.125277\n",
       "18     0.127688\n",
       "19     0.097711\n",
       "20     0.036710\n",
       "21     0.145876\n",
       "22     0.064461\n",
       "23     0.135130\n",
       "24     0.005670\n",
       "25     0.056290\n",
       "26     0.024222\n",
       "27     0.084398\n",
       "28     0.159443\n",
       "29     0.150905\n",
       "         ...   \n",
       "371    0.057843\n",
       "372    0.121672\n",
       "373    0.032805\n",
       "374    0.061971\n",
       "375    0.041405\n",
       "376    0.061253\n",
       "377    0.045928\n",
       "378    0.120270\n",
       "379    0.151390\n",
       "380    0.110389\n",
       "381    0.061786\n",
       "382    0.095753\n",
       "383    0.097682\n",
       "384    0.067599\n",
       "385    0.105384\n",
       "386    0.186265\n",
       "387    0.096857\n",
       "388    0.061213\n",
       "389    0.047815\n",
       "390    0.159823\n",
       "391    0.050867\n",
       "392    0.126075\n",
       "393    0.046808\n",
       "394    0.155235\n",
       "395    0.045387\n",
       "396    0.061762\n",
       "397    0.054061\n",
       "398    0.191368\n",
       "399    0.070087\n",
       "400    0.084071\n",
       "Name: 0, Length: 401, dtype: float64"
      ]
     },
     "execution_count": 21,
     "metadata": {},
     "output_type": "execute_result"
    }
   ],
   "source": [
    "# Each row is the similarity of one document to all other documents (including itself)\n"
   ]
  },
  {
   "cell_type": "code",
   "execution_count": 22,
   "metadata": {},
   "outputs": [
    {
     "data": {
      "text/plain": [
       "0      1.000000\n",
       "274    0.288845\n",
       "222    0.254163\n",
       "224    0.252214\n",
       "211    0.251775\n",
       "Name: 0, dtype: float64"
      ]
     },
     "execution_count": 22,
     "metadata": {},
     "output_type": "execute_result"
    }
   ],
   "source": [
    "dist_df[0].nlargest(5)#returns largest number of rows"
   ]
  },
  {
   "cell_type": "code",
   "execution_count": 23,
   "metadata": {},
   "outputs": [
    {
     "data": {
      "text/plain": [
       "0      1.000000\n",
       "274    0.288845\n",
       "222    0.254163\n",
       "224    0.252214\n",
       "211    0.251775\n",
       "Name: 0, dtype: float64"
      ]
     },
     "execution_count": 23,
     "metadata": {},
     "output_type": "execute_result"
    }
   ],
   "source": [
    "dist_df[0].sort_values(ascending=False)[:5]"
   ]
  },
  {
   "cell_type": "code",
   "execution_count": 24,
   "metadata": {},
   "outputs": [
    {
     "data": {
      "text/plain": [
       "392    1.000000\n",
       "80     1.000000\n",
       "212    0.631897\n",
       "266    0.616867\n",
       "107    0.548799\n",
       "Name: 392, dtype: float64"
      ]
     },
     "execution_count": 24,
     "metadata": {},
     "output_type": "execute_result"
    }
   ],
   "source": [
    "# Grab the row\n"
   ]
  },
  {
   "cell_type": "code",
   "execution_count": 25,
   "metadata": {},
   "outputs": [
    {
     "name": "stdout",
     "output_type": "stream",
     "text": [
      "b'Ink helps drive democracy in Asia\\r\\n\\r\\nThe Kyrgyz Republic, a small, mountainous state of the former S'\n",
      "b'Savvy searchers fail to spot ads\\r\\n\\r\\nInternet search engine users are an odd mix of naive and sophist'\n"
     ]
    }
   ],
<<<<<<< HEAD
   "source": [
    "#query documents by similarity\n",
    "print(data[0][:100])#print out the first hundred words of base article\n",
    "print(data[392][:100])"
   ]
=======
   "source": []
>>>>>>> 95a9ec431168796939059a07f8361caae75c2225
  },
  {
   "cell_type": "markdown",
   "metadata": {},
   "source": [
    "### NearestNeighbor (K-NN) \n",
    "\n",
    "To address the computational inefficiencies of the brute-force approach, a variety of tree-based data structures have been invented. In general, these structures attempt to reduce the required number of distance calculations by efficiently encoding aggregate distance information for the sample. The basic idea is that if point  is very distant from point , and point  is very close to point , then we know that points  and  are very distant, without having to explicitly calculate their distance. In this way, the computational cost of a nearest neighbors search can be reduced to  or better. This is a significant improvement over brute-force for large data.\n",
    "\n",
    "To address the inefficiencies of KD Trees in higher dimensions, the ball tree data structure was developed. Where KD trees partition data along Cartesian axes, ball trees partition data in a series of nesting hyper-spheres. This makes tree construction more costly than that of the KD tree, but results in a data structure which can be very efficient on highly structured data, even in very high dimensions.\n",
    "\n",
    "A ball tree recursively divides the data into nodes defined by a centroid  and radius , such that each point in the node lies within the hyper-sphere defined by  and . The number of candidate points for a neighbor search is reduced through use of the triangle inequality:\n",
    "\n",
    "With this setup, a single distance calculation between a test point and the centroid is sufficient to determine a lower and upper bound on the distance to all points within the node. Because of the spherical geometry of the ball tree nodes, it can out-perform a KD-tree in high dimensions, though the actual performance is highly dependent on the structure of the training data. In scikit-learn, ball-tree-based neighbors searches are specified using the keyword algorithm = 'ball_tree', and are computed using the class sklearn.neighbors.BallTree. Alternatively, the user can work with the BallTree class directly."
   ]
  },
  {
   "cell_type": "code",
   "execution_count": 44,
   "metadata": {},
   "outputs": [
    {
     "data": {
      "text/html": [
       "<div>\n",
       "<style scoped>\n",
       "    .dataframe tbody tr th:only-of-type {\n",
       "        vertical-align: middle;\n",
       "    }\n",
       "\n",
       "    .dataframe tbody tr th {\n",
       "        vertical-align: top;\n",
       "    }\n",
       "\n",
       "    .dataframe thead th {\n",
       "        text-align: right;\n",
       "    }\n",
       "</style>\n",
       "<table border=\"1\" class=\"dataframe\">\n",
       "  <thead>\n",
       "    <tr style=\"text-align: right;\">\n",
       "      <th></th>\n",
       "      <th>00</th>\n",
       "      <th>000</th>\n",
       "      <th>000s</th>\n",
       "      <th>0051</th>\n",
       "      <th>007</th>\n",
       "      <th>01</th>\n",
       "      <th>028</th>\n",
       "      <th>04m</th>\n",
       "      <th>05</th>\n",
       "      <th>0530</th>\n",
       "      <th>...</th>\n",
       "      <th>zip</th>\n",
       "      <th>zodiac</th>\n",
       "      <th>zombie</th>\n",
       "      <th>zombies</th>\n",
       "      <th>zone</th>\n",
       "      <th>zonealarm</th>\n",
       "      <th>zones</th>\n",
       "      <th>zoom</th>\n",
       "      <th>zooms</th>\n",
       "      <th>zurich</th>\n",
       "    </tr>\n",
       "  </thead>\n",
       "  <tbody>\n",
       "    <tr>\n",
       "      <th>0</th>\n",
       "      <td>0.0</td>\n",
       "      <td>0.000000</td>\n",
       "      <td>0.0</td>\n",
       "      <td>0.0</td>\n",
       "      <td>0.0</td>\n",
       "      <td>0.0</td>\n",
       "      <td>0.0</td>\n",
       "      <td>0.0</td>\n",
       "      <td>0.0</td>\n",
       "      <td>0.0</td>\n",
       "      <td>...</td>\n",
       "      <td>0.0</td>\n",
       "      <td>0.0</td>\n",
       "      <td>0.0</td>\n",
       "      <td>0.0</td>\n",
       "      <td>0.0</td>\n",
       "      <td>0.0</td>\n",
       "      <td>0.0</td>\n",
       "      <td>0.0</td>\n",
       "      <td>0.0</td>\n",
       "      <td>0.0</td>\n",
       "    </tr>\n",
       "    <tr>\n",
       "      <th>1</th>\n",
       "      <td>0.0</td>\n",
       "      <td>0.020568</td>\n",
       "      <td>0.0</td>\n",
       "      <td>0.0</td>\n",
       "      <td>0.0</td>\n",
       "      <td>0.0</td>\n",
       "      <td>0.0</td>\n",
       "      <td>0.0</td>\n",
       "      <td>0.0</td>\n",
       "      <td>0.0</td>\n",
       "      <td>...</td>\n",
       "      <td>0.0</td>\n",
       "      <td>0.0</td>\n",
       "      <td>0.0</td>\n",
       "      <td>0.0</td>\n",
       "      <td>0.0</td>\n",
       "      <td>0.0</td>\n",
       "      <td>0.0</td>\n",
       "      <td>0.0</td>\n",
       "      <td>0.0</td>\n",
       "      <td>0.0</td>\n",
       "    </tr>\n",
       "    <tr>\n",
       "      <th>2</th>\n",
       "      <td>0.0</td>\n",
       "      <td>0.000000</td>\n",
       "      <td>0.0</td>\n",
       "      <td>0.0</td>\n",
       "      <td>0.0</td>\n",
       "      <td>0.0</td>\n",
       "      <td>0.0</td>\n",
       "      <td>0.0</td>\n",
       "      <td>0.0</td>\n",
       "      <td>0.0</td>\n",
       "      <td>...</td>\n",
       "      <td>0.0</td>\n",
       "      <td>0.0</td>\n",
       "      <td>0.0</td>\n",
       "      <td>0.0</td>\n",
       "      <td>0.0</td>\n",
       "      <td>0.0</td>\n",
       "      <td>0.0</td>\n",
       "      <td>0.0</td>\n",
       "      <td>0.0</td>\n",
       "      <td>0.0</td>\n",
       "    </tr>\n",
       "    <tr>\n",
       "      <th>3</th>\n",
       "      <td>0.0</td>\n",
       "      <td>0.000000</td>\n",
       "      <td>0.0</td>\n",
       "      <td>0.0</td>\n",
       "      <td>0.0</td>\n",
       "      <td>0.0</td>\n",
       "      <td>0.0</td>\n",
       "      <td>0.0</td>\n",
       "      <td>0.0</td>\n",
       "      <td>0.0</td>\n",
       "      <td>...</td>\n",
       "      <td>0.0</td>\n",
       "      <td>0.0</td>\n",
       "      <td>0.0</td>\n",
       "      <td>0.0</td>\n",
       "      <td>0.0</td>\n",
       "      <td>0.0</td>\n",
       "      <td>0.0</td>\n",
       "      <td>0.0</td>\n",
       "      <td>0.0</td>\n",
       "      <td>0.0</td>\n",
       "    </tr>\n",
       "    <tr>\n",
       "      <th>4</th>\n",
       "      <td>0.0</td>\n",
       "      <td>0.000000</td>\n",
       "      <td>0.0</td>\n",
       "      <td>0.0</td>\n",
       "      <td>0.0</td>\n",
       "      <td>0.0</td>\n",
       "      <td>0.0</td>\n",
       "      <td>0.0</td>\n",
       "      <td>0.0</td>\n",
       "      <td>0.0</td>\n",
       "      <td>...</td>\n",
       "      <td>0.0</td>\n",
       "      <td>0.0</td>\n",
       "      <td>0.0</td>\n",
       "      <td>0.0</td>\n",
       "      <td>0.0</td>\n",
       "      <td>0.0</td>\n",
       "      <td>0.0</td>\n",
       "      <td>0.0</td>\n",
       "      <td>0.0</td>\n",
       "      <td>0.0</td>\n",
       "    </tr>\n",
       "  </tbody>\n",
       "</table>\n",
       "<p>5 rows × 11820 columns</p>\n",
       "</div>"
      ],
      "text/plain": [
       "    00       000  000s  0051  007   01  028  04m   05  0530  ...  zip  zodiac  \\\n",
       "0  0.0  0.000000   0.0   0.0  0.0  0.0  0.0  0.0  0.0   0.0  ...  0.0     0.0   \n",
       "1  0.0  0.020568   0.0   0.0  0.0  0.0  0.0  0.0  0.0   0.0  ...  0.0     0.0   \n",
       "2  0.0  0.000000   0.0   0.0  0.0  0.0  0.0  0.0  0.0   0.0  ...  0.0     0.0   \n",
       "3  0.0  0.000000   0.0   0.0  0.0  0.0  0.0  0.0  0.0   0.0  ...  0.0     0.0   \n",
       "4  0.0  0.000000   0.0   0.0  0.0  0.0  0.0  0.0  0.0   0.0  ...  0.0     0.0   \n",
       "\n",
       "   zombie  zombies  zone  zonealarm  zones  zoom  zooms  zurich  \n",
       "0     0.0      0.0   0.0        0.0    0.0   0.0    0.0     0.0  \n",
       "1     0.0      0.0   0.0        0.0    0.0   0.0    0.0     0.0  \n",
       "2     0.0      0.0   0.0        0.0    0.0   0.0    0.0     0.0  \n",
       "3     0.0      0.0   0.0        0.0    0.0   0.0    0.0     0.0  \n",
       "4     0.0      0.0   0.0        0.0    0.0   0.0    0.0     0.0  \n",
       "\n",
       "[5 rows x 11820 columns]"
      ]
     },
     "execution_count": 44,
     "metadata": {},
     "output_type": "execute_result"
    }
   ],
   "source": [
    "dtm.head()"
   ]
  },
  {
   "cell_type": "code",
   "execution_count": 45,
   "metadata": {},
   "outputs": [
    {
     "data": {
      "text/plain": [
       "NearestNeighbors(algorithm='ball_tree', leaf_size=30, metric='minkowski',\n",
       "         metric_params=None, n_jobs=None, n_neighbors=5, p=2, radius=1.0)"
      ]
     },
     "execution_count": 45,
     "metadata": {},
     "output_type": "execute_result"
    }
   ],
   "source": [
    "# Instantiate\n",
    "from sklearn.neighbors import NearestNeighbors\n",
    "\n",
    "\n",
<<<<<<< HEAD
    "# Fit on TF-IDF Vectors\n",
    "nn.fit(dtm)"
=======
    "# Fit on TF-IDF Vectors\n"
>>>>>>> 95a9ec431168796939059a07f8361caae75c2225
   ]
  },
  {
   "cell_type": "code",
   "execution_count": 46,
   "metadata": {},
   "outputs": [
    {
     "data": {
      "text/plain": [
       "(array([[0.        , 1.23723368, 1.26986679, 1.36258232, 1.36919926]]),\n",
       " array([[  0, 332,  36, 242, 208]], dtype=int64))"
      ]
     },
     "execution_count": 46,
     "metadata": {},
     "output_type": "execute_result"
    }
   ],
   "source": [
<<<<<<< HEAD
    "nn.kneighbors([dtm.iloc[0]])"
   ]
  },
  {
   "cell_type": "code",
   "execution_count": null,
   "metadata": {},
   "outputs": [],
   "source": []
  },
  {
   "cell_type": "code",
   "execution_count": 32,
   "metadata": {},
   "outputs": [
    {
     "ename": "ValueError",
     "evalue": "Expected n_neighbors <= n_samples,  but n_samples = 3, n_neighbors = 5",
     "output_type": "error",
     "traceback": [
      "\u001b[1;31m---------------------------------------------------------------------------\u001b[0m",
      "\u001b[1;31mValueError\u001b[0m                                Traceback (most recent call last)",
      "\u001b[1;32m<ipython-input-32-62808821d517>\u001b[0m in \u001b[0;36m<module>\u001b[1;34m\u001b[0m\n\u001b[0;32m      1\u001b[0m \u001b[1;31m# Query Using kneighbors\u001b[0m\u001b[1;33m\u001b[0m\u001b[1;33m\u001b[0m\u001b[1;33m\u001b[0m\u001b[0m\n\u001b[1;32m----> 2\u001b[1;33m \u001b[0mnn\u001b[0m\u001b[1;33m.\u001b[0m\u001b[0mkneighbors\u001b[0m\u001b[1;33m(\u001b[0m\u001b[0mdtm\u001b[0m\u001b[1;33m.\u001b[0m\u001b[0mtodense\u001b[0m\u001b[1;33m(\u001b[0m\u001b[1;33m)\u001b[0m\u001b[1;33m[\u001b[0m\u001b[1;36m0\u001b[0m\u001b[1;33m]\u001b[0m\u001b[1;33m)\u001b[0m\u001b[1;33m\u001b[0m\u001b[1;33m\u001b[0m\u001b[0m\n\u001b[0m",
      "\u001b[1;32m~\\Anaconda3\\lib\\site-packages\\sklearn\\neighbors\\base.py\u001b[0m in \u001b[0;36mkneighbors\u001b[1;34m(self, X, n_neighbors, return_distance)\u001b[0m\n\u001b[0;32m    414\u001b[0m                 \u001b[1;34m\"Expected n_neighbors <= n_samples, \"\u001b[0m\u001b[1;33m\u001b[0m\u001b[1;33m\u001b[0m\u001b[0m\n\u001b[0;32m    415\u001b[0m                 \u001b[1;34m\" but n_samples = %d, n_neighbors = %d\"\u001b[0m \u001b[1;33m%\u001b[0m\u001b[1;33m\u001b[0m\u001b[1;33m\u001b[0m\u001b[0m\n\u001b[1;32m--> 416\u001b[1;33m                 \u001b[1;33m(\u001b[0m\u001b[0mtrain_size\u001b[0m\u001b[1;33m,\u001b[0m \u001b[0mn_neighbors\u001b[0m\u001b[1;33m)\u001b[0m\u001b[1;33m\u001b[0m\u001b[1;33m\u001b[0m\u001b[0m\n\u001b[0m\u001b[0;32m    417\u001b[0m             )\n\u001b[0;32m    418\u001b[0m         \u001b[0mn_samples\u001b[0m\u001b[1;33m,\u001b[0m \u001b[0m_\u001b[0m \u001b[1;33m=\u001b[0m \u001b[0mX\u001b[0m\u001b[1;33m.\u001b[0m\u001b[0mshape\u001b[0m\u001b[1;33m\u001b[0m\u001b[1;33m\u001b[0m\u001b[0m\n",
      "\u001b[1;31mValueError\u001b[0m: Expected n_neighbors <= n_samples,  but n_samples = 3, n_neighbors = 5"
     ]
    }
   ],
   "source": [
    "# Query Using kneighbors \n",
    "nn.kneighbors(dtm.todense()[0])"
=======
    "# Query Using kneighbors \n"
>>>>>>> 95a9ec431168796939059a07f8361caae75c2225
   ]
  },
  {
   "cell_type": "code",
   "execution_count": 47,
   "metadata": {},
   "outputs": [],
   "source": [
    "medium_random_ass_tech = [ \"\"\"1. The VR and AI Enhancement\n",
    "The list of trends in VR can never be complete without Artificial Intelligence. The duo has the potential to change the world. The two are in their infancy, to begin with, but they have made some appearances.\n",
    "\n",
    "Take the example of Instagram and Snapchat. The dog faces and other funny filters are a creation of AI and VR. If you are looking for a scientific example, the Machine Learning Microscope of Google is a perfect example. This tool is capable of highlighting cancerous tissues. Now we are just waiting for AR and VR to create something powerful.\n",
    "\n",
    "2. Consumer Entertainment\n",
    "Oculus has partnered with the NBA. The brand is using VR to provide state of the art entertainment to its users. Yes, you have guessed it right. While you are wearing the Oculus VR headsets sitting on the courtside, you will feel as if you are actually in the NBA game. Cool, right?\n",
    "\n",
    "VR headset technology is becoming accessible than before. It’s not just limited to gamers. TV watchers can get entertainment as well.\n",
    "\n",
    "3. Education and Training\n",
    "Education and training are one of the most costly and dangerous exercises in the workplace. With VR technology, organizations can cut back on the costs and give their employees the best training without exposing them to risk.\n",
    "\n",
    "Recently, Walmart has used 17,000 Oculus Go headsets for training its employees in the customer service department. Similarly, the U.S. Army has been using Microsoft HoloLens technology to offer soldiers real-time updates on their environment.\n",
    "\n",
    "4. Travel and Tourism\n",
    "Traveling through VR is a different kind of traveling. The immersive video allows you to experience your destinations before even packing your suitcase. With VR, you can have the “try it before buy it experience.”\n",
    "\n",
    "If you think you will feel claustrophobic in the cruise stateroom, then why not test the waters? Maybe you will feel better in a suit. VR allows you to explore the cruise ship rooms as well as the rooms in a hotel prior to booking it.\n",
    "\n",
    "Apart from checking your room, you can also have a street view, check the venues, and restaurants nearby. With this virtual tour, you can decide whether the destination you have picked for yourself is good or not.\n",
    "\n",
    "That’s not all, with VR travel apps, you can even relive your vacation after returning home. Now that’s something you will cherish for sure.\n",
    "\n",
    "What’s the Future of VR?\n",
    "Experts say the future of VR is location-based. But wait, it has nothing to do with the GPS technology. Location-based means bringing the VR experience to users where they are regardless of their location. They will be introduced to technology without having to purchase it.\n",
    "\n",
    "However, for that, customers need to be aware of the proactiveness of VR. They must have an interest in VR for home as well. It still has a long way to go.\n",
    "\n",
    "Conclusion\n",
    "Consumers in today’s time are looking for experience. VR has the ability to play a huge role in the future of learning and development. With virtual simulation, a user can have real life-like experience at a fraction of cost.\n",
    "\n",
    "The future for Virtual Reality is still in progress. It’s pretty much like the Cox channel lineup for different channels. Not all popular channels are available in all areas. Some of the VR tech and apps are in use but a majority of them are still in progress.\"\"\"]\n"
   ]
  },
  {
   "cell_type": "code",
   "execution_count": 48,
   "metadata": {},
   "outputs": [
    {
     "data": {
      "text/plain": [
       "(array([[1.33582719, 1.33685878, 1.33806342, 1.3408028 , 1.34480307]]),\n",
       " array([[215,   4, 400, 153, 394]], dtype=int64))"
      ]
     },
     "execution_count": 48,
     "metadata": {},
     "output_type": "execute_result"
    }
   ],
   "source": [
    "# Query for Sim of Random doc to BBC\n"
   ]
  },
  {
   "cell_type": "code",
   "execution_count": 49,
   "metadata": {},
   "outputs": [
    {
     "data": {
      "text/plain": [
       "b\"Bush website blocked outside US\\r\\n\\r\\nSurfers outside the US have been unable to visit the official re-election site of President George W Bush.\\r\\n\\r\\nThe blocking of browsers sited outside the US began in the early hours of Monday morning. Since then people outside the US trying to browse the site get a message saying they are not authorised to view it. The blocking does not appear to be due to an attack by vandals or malicious hackers, but as a result of a policy decision by the Bush camp.\\r\\n\\r\\nThe international exclusion zone around georgewbush.com was spotted by net monitoring firm Netcraft which keeps an eye on traffic patterns across many different sites. Netcraft said that since the early hours of 25 October attempts to view the site through its monitoring stations in London, Amsterdam and Sydney failed.\\r\\n\\r\\nBy contrast Netcraft's four monitoring stations in the US managed to view the site with no problems. The site can still be seen using anonymous proxy services that are based in the US. Some web users in Canada also report that they can browse the site. The pattern of traffic to the website suggests that the blocking was not due to an attack by vandals or politically motivated hackers. Geographic blocking works because the numerical addresses that the net uses to organise itself are handed out on a regional basis. On 21 October, the George W Bush website began using the services of a company called Akamai to ensure that the pages, videos and other content on its site reaches visitors. Mike Prettejohn, president of Netcraft, speculated that the blocking decision might have been taken to cut costs, and traffic, in the run-up to the election on 2 November. He said the site may see no reason to distribute content to people who will not be voting next week. Managing traffic could also be a good way to ensure that the site stays working in the closing days of the election campaign. However, simply blocking non-US visitors also means that Americans overseas are barred too. Akamai declined to comment, saying it could not talk about customer websites.\\r\\n\""
      ]
     },
     "execution_count": 49,
     "metadata": {},
     "output_type": "execute_result"
    }
   ],
   "source": [
    "data[100]"
   ]
  },
  {
   "cell_type": "code",
   "execution_count": 36,
   "metadata": {},
   "outputs": [
    {
     "data": {
      "text/plain": [
       "b'BT offers free net phone calls\\r\\n\\r\\nBT is offering customers free internet telephone calls if they sign up to broadband in December.\\r\\n\\r\\nThe Christmas give-away entitles customers to free telephone calls anywhere in the UK via the internet. Users will need to use BT\\'s internet telephony software, known as BT Communicator, and have a microphone and speakers or headset on their PC. BT has launched the promotion to show off the potential of a broadband connection to customers.\\r\\n\\r\\nPeople wanting to take advantage of the offer will need to be a BT Together fixed-line customer and will have to sign up to broadband online. The offer will be limited to the first 50,000 people who sign up and there are limitations - the free calls do not include calls to mobiles, non-geographical numbers such as 0870, premium numbers or international numbers. BT is keen to provide extra services to its broadband customers. \"People already using BT Communicator have found it by far the most convenient way of making a call if they are at their PC,\" said Andrew Burke, director of value-added services at BT Retail. As more homes get high-speed access, providers are increasingly offering add-ons such as cheap net calls. \"Broadband and telephony are attractive to customers and BT wants to make sure it is in the first wave of services,\" said Ian Fogg, an analyst with Jupiter Research. \"BT Communicator had a quiet launch in the summer and now BT is waving the flag a bit more for it,\" he added.\\r\\n\\r\\nBT has struggled to maintain its market share of broadband subscribers as more competitors enter the market. Reports say that BT has lost around 10% of market share over the last year, down from half of broadband users to less than 40%. BT is hoping its latest offer can persuade more people to jump on the broadband bandwagon. It currently has 1.3 million broadband subscribers.\\r\\n'"
      ]
     },
     "execution_count": 36,
     "metadata": {},
     "output_type": "execute_result"
    }
   ],
   "source": [
    "# Inspect Most relevant result\n"
   ]
  },
  {
   "cell_type": "markdown",
   "metadata": {},
   "source": [
    "## Apply word embedding models to create document vectors\n",
    "<a id=\"p3\"></a>\n",
    "\n",
    "### BoW discards textual context\n",
    "\n",
    "One of the limitations of Bag-of-Words approaches is that any information about the textual context surrounding that word is lost. This also means that with bag-of-words approaches often the only tools that we have for identifying words with similar usage or meaning and subsequently consolidating them into a single vector is through the processes of stemming and lemmatization which tend to be quite limited at consolidating words unless the two words are very close in their spelling or in their root parts-of-speech.\n",
    "\n",
    "### Embedding approaches preserve more textual context\n",
    "Word2Vec is an increasingly popular word embedding technique. Like Bag-of-words it learns a real-value vector representation for a predefined fixed-size vocabulary that is generated from a corpus of text. However, in contrast to BoW, Word2Vec approaches are much more capable of accounting for textual context, and are better at discovering words with similar meanings or usages (semantic or syntactic similarity).\n",
    "\n",
    "### Word2Vec Intuition\n",
    "### The Distribution Hypothesis\n",
    "\n",
    "In order to understand how Word2Vec preserves textual context we have to understand what's called the Distribution Hypothesis (Reference: Distribution Hypothesis Theory  -https://en.wikipedia.org/wiki/Distributional_semantics. The Distribution Hypothesis operates under the assumption that words that have similar contexts will have similar meanings. Practically speaking, this means that if two words are found to have similar words both to the right and to the left of them throughout the corpora then those words have the same context and are assumed to have the same meaning. \n",
    "\n",
    "> \"You shall know a word by the company it keeps\" - John Firth\n",
    "\n",
    "This means that we let the usage of a word define its meaning and its \"similarity\" to other words. In the following example, which words would you say have a similar meaning? \n",
    "\n",
    "**Sentence 1**: Traffic was light today\n",
    "\n",
    "**Sentence 2**: Traffic was heavy yesterday\n",
    "\n",
    "**Sentence 3**: Prediction is that traffic will be smooth-flowing tomorrow since it is a national holiday\n",
    "\n",
    "What words in the above sentences seem to have a similar meaning if all you knew about them was the context in which they appeared above? \n",
    "\n",
    "Lets take a look at how this might work in action, the following example is simplified, but will give you an idea of the intuition for how this works.\n",
    "\n",
    "#### Corpora:\n",
    "\n",
    "1) \"It was the sunniest of days.\"\n",
    "\n",
    "2) \"It was the raniest of days.\"\n",
    "\n",
    "#### Vocabulary:\n",
    "\n",
    "{\"it\": 1, \"was\": 2, \"the\": 3, \"of\": 4, \"days\": 5, \"sunniest\": 6, \"raniest\": 7}\n",
    "\n",
    "### Vectorization\n",
    "\n",
    "|       doc   | START_was | it_the | was_sunniest | the_of | sunniest_days | of_it | days_was | it_the | was_raniest | raniest_days | of_END |\n",
    "|----------|-----------|--------|--------------|--------|---------------|-------|----------|--------|-------------|--------------|--------|\n",
    "| it       | 1         | 0      | 0            | 0      | 0             | 0     | 1        | 0      | 0           | 0            | 0      |\n",
    "| was      | 0         | 1      | 0            | 0      | 0             | 0     | 0        | 1      | 0           | 0            | 0      |\n",
    "| the      | 0         | 0      | 1            | 0      | 0             | 0     | 0        | 0      | 1           | 0            | 0      |\n",
    "| sunniest | 0         | 0      | 0            | 1      | 0             | 0     | 0        | 0      | 0           | 0            | 0      |\n",
    "| of       | 0         | 0      | 0            | 0      | 1             | 0     | 0        | 0      | 0           | 1            | 0      |\n",
    "| days     | 0         | 0      | 0            | 0      | 0             | 0     | 0        | 0      | 0           | 0            | 1      |\n",
    "| raniest  | 0         | 0      | 0            | 1      | 0             | 0     | 0        | 0      | 0           | 0            | 0      |\n",
    "\n",
    "Each column vector represents the word's context -in this case defined by the words to the left and right of the center word. How far we look to the left and right of a given word is referred to as our \"window of context.\" Each row vector represents the the different usages of a given word. Word2Vec can consider a larger context than only words that are immediately to the left and right of a given word, but we're going to keep our window of context small for this example. What's most important is that this vectorization has translated our documents from a text representation to a numeric one in a way that preserves information about the underlying context. \n",
    "\n",
    "We can see that words that have a similar context will have similar row-vector representations, but before looking that more in-depth, lets simplify our vectorization slightly. You'll notice that we're repeating the column-vector \"it_the\" twice. Lets combine those into a single vector by adding them element-wise. \n",
    "\n",
    "|       *   | START_was | it_the | was_sunniest | the_of | sunniest_days | of_it | days_was | was_raniest | raniest_days | of_END |\n",
    "|----------|-----------|--------|--------------|--------|---------------|-------|----------|-------------|--------------|--------|\n",
    "| it       | 1         | 0      | 0            | 0      | 0             | 0     | 1        | 0           | 0            | 0      |\n",
    "| was      | 0         | 2      | 0            | 0      | 0             | 0     | 0        | 0           | 0            | 0      |\n",
    "| the      | 0         | 0      | 1            | 0      | 0             | 0     | 0        | 1           | 0            | 0      |\n",
    "| sunniest | 0         | 0      | 0            | 1      | 0             | 0     | 0        | 0           | 0            | 0      |\n",
    "| of       | 0         | 0      | 0            | 0      | 1             | 0     | 0        | 0           | 1            | 0      |\n",
    "| days     | 0         | 0      | 0            | 0      | 0             | 0     | 0        | 0           | 0            | 1      |\n",
    "| raniest  | 0         | 0      | 0            | 1      | 0             | 0     | 0        | 0           | 0            | 0      |\n",
    "\n",
    "Now, can you spot which words have a similar row-vector representation? Hint: Look for values that are repeated in a given column. Each column represents the context that word was found in. If there are multiple words that share a context then those words are understood to have a closer meaning with each other than with other words in the text.\n",
    "\n",
    "Lets look specifically at the words sunniest and raniest. You'll notice that these two words have exactly the same 10-dimensional vector representation. Based on this very small corpora of text we would conclude that these two words have the same meaning because they share the same usage. Is this a good assumption? Well, they are both referring to the weather outside so that's better than nothing. You could imagine that as our corpora grows larger we will be exposed a greater number of contexts and the Distribution Hypothesis assumption will improve. \n",
    "\n",
    "### Word2Vec Variants\n",
    "\n",
    "#### Skip-Gram\n",
    "\n",
    "The Skip-Gram method predicts the neighbors’ of a word given a center word. In the skip-gram model, we take a center word and a window of context (neighbors) words to train the model and then predict context words out to some window size for each center word.\n",
    "\n",
    "This notion of “context” or “neighboring” words is best described by considering a center word and a window of words around it. \n",
    "\n",
    "For example, if we consider the sentence **“The speedy Porsche drove past the elegant Rolls-Royce”** and a window size of 2, we’d have the following pairs for the skip-gram model:\n",
    "\n",
    "**Text:**\n",
    "**The**\tspeedy\tPorsche\tdrove\tpast\tthe\telegant\tRolls-Royce\n",
    "\n",
    "*Training Sample with window of 2*: (the, speedy), (the, Porsche)\n",
    "\n",
    "**Text:**\n",
    "The\t**speedy**\tPorsche\tdrove\tpast\tthe\telegant\tRolls-Royce\n",
    "\n",
    "*Training Sample with window of 2*: (speedy, the), (speedy, Porsche), (speedy, drove)\n",
    "\n",
    "**Text:**\n",
    "The\tspeedy\t**Porsche**\tdrove\tpast\tthe\telegant\tRolls-Royce\n",
    "\n",
    "*Training Sample with window of 2*: (Porsche, the), (Porsche, speedy), (Porsche, drove), (Porsche, past)\n",
    "\n",
    "**Text:**\n",
    "The\tspeedy\tPorsche\t**drove**\tpast\tthe\telegant\tRolls-Royce\n",
    "\n",
    "*Training Sample with window of 2*: (drove, speedy), (drove, Porsche), (drove, past), (drove, the)\n",
    "\n",
    "The **Skip-gram model** is going to output a probability distribution i.e. the probability of a word appearing in context given a center word and we are going to select the vector representation that maximizes the probability.\n",
    "\n",
    "With CountVectorizer and TF-IDF the best we could do for context was to look at common bi-grams and tri-grams (n-grams). Well, skip-grams go far beyond that and give our model much stronger contextual information.\n",
    "\n",
    "![alt text](https://www.dropbox.com/s/c7mwy6dk9k99bgh/Image%202%20-%20SkipGrams.jpg?raw=1)\n",
    "\n",
    "## Continuous Bag of Words\n",
    "\n",
    "This model takes thes opposite approach from the skip-gram model in that it tries to predict a center word based on the neighboring words. In the case of the CBOW model, we input the context words within the window (such as “the”, “Proshe”, “drove”) and aim to predict the target or center word “speedy” (the input to the prediction pipeline is reversed as compared to the SkipGram model).\n",
    "\n",
    "A graphical depiction of the input to output prediction pipeline for both variants of the Word2vec model is attached. The graphical depiction will help crystallize the difference between SkipGrams and Continuous Bag of Words.\n",
    "\n",
    "![alt text](https://www.dropbox.com/s/k3ddmbtd52wq2li/Image%203%20-%20CBOW%20Model.jpg?raw=1)\n",
    "\n",
    "## Notable Differences between Word Embedding methods:\n",
    "\n",
    "1) W2V focuses less document topic-modeling. You'll notice that the vectorizations don't really retain much information about the original document that the information came from. At least not in our examples.\n",
    "\n",
    "2) W2V can result in really large and complex vectorizations. In fact, you need Deep Neural Networks to train your Word2Vec models from scratch, but we can use helpful pretrained embeddings (thank you Google) to do really cool things!\n",
    "\n",
    "*^ All that noise....AND Spacy has pretrained a Word2Vec model you can just use? WTF JC?*\n",
    "\n",
    "Let's take a look at how to do it. "
   ]
  },
  {
   "cell_type": "code",
   "execution_count": 37,
   "metadata": {},
   "outputs": [
    {
     "name": "stdout",
     "output_type": "stream",
     "text": [
      "[ 6.34517521e-02 -1.53290495e-01 -1.14387251e-01 -1.75404251e-01\n",
      "  4.27425019e-02  5.13549969e-02 -2.48702496e-01 -1.38284758e-01\n",
      "  5.90977445e-02  1.54226243e+00 -2.07719997e-01  1.44310758e-01\n",
      "  9.43950042e-02  1.16385464e-02 -9.18349624e-03 -9.17939991e-02\n",
      "  1.13051996e-01  7.85982549e-01 -1.68155003e-02 -1.88052505e-01\n",
      " -2.34477490e-01 -1.17657498e-01 -1.57372817e-01  6.44085035e-02\n",
      "  8.99812430e-02 -4.16759998e-01 -4.27125208e-03 -2.21602432e-02\n",
      "  9.36290771e-02 -1.42131418e-01  2.44912487e-02  2.06500590e-01\n",
      "  9.17974934e-02  2.52102017e-01  1.86319247e-01 -2.53755003e-01\n",
      "  2.01876506e-01 -2.46630013e-02 -1.91813558e-01  1.02967501e-01\n",
      "  7.89249986e-02 -4.14250046e-03 -2.82162488e-01 -7.54155070e-02\n",
      " -8.20499957e-02  2.28241980e-01  8.94804969e-02  2.58928508e-01\n",
      "  2.57570505e-01  4.97375950e-02  7.54217505e-02  1.10961504e-01\n",
      " -8.02100003e-02 -1.87005758e-01  3.91245008e-01 -2.55717248e-01\n",
      "  1.89477503e-01  5.87575138e-02  1.70061260e-01 -9.24875066e-02\n",
      "  2.06659883e-02 -1.65989757e-01  1.18275002e-01  1.96592763e-01\n",
      " -8.24327469e-02 -2.31342003e-01 -1.72220737e-01  5.69632500e-02\n",
      " -2.46600006e-02  4.27749991e-01  1.37489485e-02  3.03227484e-01\n",
      "  2.82402515e-01  1.34433702e-01  1.03694990e-01 -7.06890002e-02\n",
      "  2.25999251e-01 -4.54097465e-02  2.24599987e-02 -5.76549992e-02\n",
      " -2.17425004e-02  1.07036814e-01 -7.04777539e-02 -4.57355045e-02\n",
      "  3.27858329e-02 -1.11114003e-01  3.00810009e-01  3.28254104e-01\n",
      " -1.87792629e-02  2.14235991e-01 -8.98174569e-03  1.02360755e-01\n",
      "  1.65176541e-01 -1.37267247e-01 -6.90887570e-02  1.14668258e-01\n",
      "  1.57940000e-01 -2.00419948e-01 -6.55297488e-02 -3.63882482e-01\n",
      "  2.10485030e-02  2.82334983e-01 -7.29152486e-02  2.72599980e-03\n",
      " -1.55699998e-01 -8.71120036e-01  1.85102522e-02  1.86045498e-01\n",
      "  2.71914989e-01  8.44824910e-02  2.59245008e-01 -5.64115047e-01\n",
      " -1.84528008e-01  1.61457509e-01 -2.81300023e-02 -1.87310502e-02\n",
      "  1.96432501e-01  1.93041027e-01  3.03522535e-02  9.23050120e-02\n",
      " -1.06718972e-01 -3.12280059e-02  6.11012504e-02 -1.96199760e-01\n",
      " -1.00137414e-02 -1.23744786e-01  8.29732567e-02  4.59206738e-02\n",
      " -1.26942992e-01 -2.75647454e-02  3.11025009e-02  9.91562605e-02\n",
      " -1.57924995e-01  9.99345034e-02  2.08427519e-01  2.59942502e-01\n",
      "  1.73117489e-01  1.90024972e-02 -2.08682492e-01  3.01244497e-01\n",
      " -1.38826001e+00  4.70525026e-02  1.67138755e-01 -1.34834260e-01\n",
      " -7.42180049e-02  1.39752999e-01 -1.10719517e-01  6.16974980e-02\n",
      "  1.54655501e-01  1.21817738e-01  9.18845013e-02  5.05302511e-02\n",
      " -8.21979567e-02  5.08100018e-02 -2.99809992e-01 -1.28457248e-01\n",
      " -1.76802501e-01 -9.93624926e-02 -1.53784752e-01 -5.33508137e-04\n",
      " -2.74455011e-01  1.26630485e-01  5.90642579e-02  6.25617579e-02\n",
      " -2.67441243e-01 -1.35938242e-01 -2.30593249e-01 -1.44084454e-01\n",
      "  3.41624916e-02 -2.94625014e-03 -3.99067551e-02  2.43215755e-01\n",
      "  3.74777541e-02 -1.04042493e-01 -2.92869508e-01 -1.98457465e-02\n",
      " -8.91549960e-02 -8.40215012e-02  1.72542334e-01 -2.56542742e-01\n",
      "  3.15375626e-03 -1.12027496e-01 -2.72152483e-01 -1.51958510e-01\n",
      " -9.42385197e-03  7.77375028e-02 -1.08546950e-01 -1.05943993e-01\n",
      "  6.46927506e-02  4.17249985e-02  5.57057858e-02  2.31654987e-01\n",
      "  1.10123001e-01 -8.15257579e-02 -1.91023245e-01  4.78882752e-02\n",
      " -8.59998167e-04 -6.65717199e-02 -2.83349991e-01  4.51012552e-02\n",
      " -2.86038488e-01  1.31972507e-02  1.00722745e-01  1.47569761e-01\n",
      "  2.57830501e-01  9.66457427e-02  9.28100049e-02 -6.28397986e-02\n",
      " -1.93937331e-01  1.26347005e-01  3.58339921e-02  2.19944999e-01\n",
      " -2.16059998e-01 -5.97514987e-01 -1.12867504e-01  1.18738495e-01\n",
      " -2.30529010e-01 -8.87432247e-02 -2.34240502e-01 -1.19610250e-01\n",
      " -4.07907516e-01  6.15367293e-03  6.86577410e-02 -3.81562501e-01\n",
      "  1.05025023e-02 -3.64289954e-02 -1.41753256e-01  1.43135995e-01\n",
      " -3.68589945e-02  2.71432340e-01 -2.18721509e-01  6.02362491e-02\n",
      " -5.48174009e-02  7.11032525e-02 -6.34739846e-02 -2.91745007e-01\n",
      " -1.28950030e-02 -2.69232541e-02  7.65182525e-02  1.92801267e-01\n",
      " -2.42803246e-01 -9.06127542e-02 -3.29549998e-01  6.81057498e-02\n",
      "  9.08724964e-02 -3.53974104e-03 -4.91457470e-02 -5.12760058e-02\n",
      " -1.73285007e-01  3.05065006e-01 -1.76639512e-01 -1.21839747e-01\n",
      " -1.26055494e-01  4.11374941e-02 -2.90890038e-02  2.47484103e-01\n",
      "  2.87877500e-01  4.58159983e-01  1.63647495e-02  1.47395000e-01\n",
      "  1.99816510e-01  1.14140004e-01 -2.94132769e-01  2.08198011e-01\n",
      " -9.94169936e-02  2.96587467e-01 -5.90450019e-02  1.73589945e-01\n",
      " -4.52946007e-01 -4.02727515e-01 -1.12966754e-01 -6.17775023e-02\n",
      " -1.93115007e-02 -6.54014945e-02 -1.80532455e-01  1.17038250e-01\n",
      "  2.17555746e-01  3.19197744e-01  1.32842541e-01  3.42754990e-01\n",
      "  3.35804999e-01  1.01410747e-01 -2.73312509e-01  1.99523747e-01\n",
      " -6.12884983e-02 -5.07675037e-02  1.87599495e-01 -1.13971248e-01\n",
      " -6.88270107e-03 -1.83249995e-01  1.38852522e-02  3.30707505e-02\n",
      "  1.09458745e-01 -2.89824486e-01 -3.94702494e-01  3.00410509e-01\n",
      "  1.65868759e-01 -3.36420000e-01  1.93287492e-01  5.88700026e-02]\n"
     ]
    }
   ],
   "source": [
    "# Process a text\n",
    "doc = nlp(\"Two bananas in pyjamas\")\n",
    "\n",
    "# Get the vector for the token \"bananas\"\n",
    "bananas_vector = doc.vector\n",
    "print(bananas_vector)"
   ]
  },
  {
   "cell_type": "code",
   "execution_count": 38,
   "metadata": {},
   "outputs": [
    {
     "data": {
      "text/plain": [
       "300"
      ]
     },
     "execution_count": 38,
     "metadata": {},
     "output_type": "execute_result"
    }
   ],
   "source": [
    "len(bananas_vector)#length of vector depends on last "
   ]
  },
  {
   "cell_type": "code",
   "execution_count": 50,
   "metadata": {},
   "outputs": [
    {
     "ename": "NameError",
     "evalue": "name '____' is not defined",
     "output_type": "error",
     "traceback": [
      "\u001b[1;31m---------------------------------------------------------------------------\u001b[0m",
      "\u001b[1;31mNameError\u001b[0m                                 Traceback (most recent call last)",
      "\u001b[1;32m<ipython-input-50-6d0170c66d62>\u001b[0m in \u001b[0;36m<module>\u001b[1;34m\u001b[0m\n\u001b[0;32m      3\u001b[0m \u001b[1;33m\u001b[0m\u001b[0m\n\u001b[0;32m      4\u001b[0m \u001b[1;31m# Get the similarity of doc1 and doc2\u001b[0m\u001b[1;33m\u001b[0m\u001b[1;33m\u001b[0m\u001b[1;33m\u001b[0m\u001b[0m\n\u001b[1;32m----> 5\u001b[1;33m \u001b[0msimilarity\u001b[0m \u001b[1;33m=\u001b[0m \u001b[0m____\u001b[0m\u001b[1;33m.\u001b[0m\u001b[0m____\u001b[0m\u001b[1;33m(\u001b[0m\u001b[0m____\u001b[0m\u001b[1;33m)\u001b[0m\u001b[1;33m\u001b[0m\u001b[1;33m\u001b[0m\u001b[0m\n\u001b[0m\u001b[0;32m      6\u001b[0m \u001b[0mprint\u001b[0m\u001b[1;33m(\u001b[0m\u001b[0msimilarity\u001b[0m\u001b[1;33m)\u001b[0m\u001b[1;33m\u001b[0m\u001b[1;33m\u001b[0m\u001b[0m\n",
      "\u001b[1;31mNameError\u001b[0m: name '____' is not defined"
     ]
    }
   ],
   "source": [
    "doc1 = nlp(\"It's a warm summer day\")\n",
    "doc2 = nlp(\"It's sunny outside\")\n",
    "\n",
    "# Get the similarity of doc1 and doc2\n",
    "similarity = doc.vector\n",
    "print(similarity)"
   ]
  },
  {
   "cell_type": "code",
   "execution_count": 40,
   "metadata": {},
   "outputs": [
    {
     "data": {
      "text/plain": [
       "array([[ 5.10239897, -0.11624807],\n",
       "       [ 4.7837869 ,  0.12781483],\n",
       "       [ 4.58166138, -2.12210056],\n",
       "       [-1.985363  ,  0.36337517],\n",
       "       [-2.10066374,  1.70808636],\n",
       "       [-2.47306538,  1.401015  ],\n",
       "       [-2.47530574, -2.99929777],\n",
       "       [-2.01485749, -3.27865377],\n",
       "       [-2.17801706, -2.45275385],\n",
       "       [ 0.42245091,  1.99979409],\n",
       "       [-0.21746301,  4.08991784],\n",
       "       [-1.44556275,  1.27905073]])"
      ]
     },
     "execution_count": 40,
     "metadata": {},
     "output_type": "execute_result"
    }
   ],
   "source": [
    "# import the PCA module from sklearn\n",
    "from sklearn.decomposition import PCA\n",
    "\n",
    "def get_word_vectors(words):\n",
    "    # converts a list of words into their word vectors\n",
    "    return [nlp(word).vector for word in words]\n",
    "\n",
    "words = ['car', 'truck', 'suv', 'elves', 'dragon', 'sword', 'king', 'queen', 'prince', 'horse', 'fish' , 'lion']\n",
    "\n",
    "# intialise pca model and tell it to project data down onto 2 dimensions\n",
    "pca = PCA(n_components=2)\n",
    "\n",
    "# fit the pca model to our 300D data, this will work out which is the best \n",
    "# way to project the data down that will best maintain the relative distances \n",
    "# between data points. It will store these intructioons on how to transform the data.\n",
    "pca.fit(get_word_vectors(words))\n",
    "\n",
    "# Tell our (fitted) pca model to transform our 300D data down onto 2D using the \n",
    "# instructions it learnt during the fit phase.\n",
    "word_vecs_2d = pca.transform(get_word_vectors(words))\n",
    "\n",
    "# let's look at our new 2D word vectors\n",
    "word_vecs_2d"
   ]
  },
  {
   "cell_type": "code",
   "execution_count": 51,
   "metadata": {},
   "outputs": [
    {
     "data": {
      "image/png": "iVBORw0KGgoAAAANSUhEUgAABIMAAANSCAYAAAD2zg7zAAAABHNCSVQICAgIfAhkiAAAAAlwSFlzAAALEgAACxIB0t1+/AAAADl0RVh0U29mdHdhcmUAbWF0cGxvdGxpYiB2ZXJzaW9uIDMuMC4zLCBodHRwOi8vbWF0cGxvdGxpYi5vcmcvnQurowAAIABJREFUeJzs3Xu0l2WB//3PLSBsIN2CyLHETPGc1HY0RQGV0EhCE8HJA9qkaa7SSUomFX4ajUYH65l00lGpbDwhknkCyxBhOSG0fz2JSVNqKpKQiKJsFeF+/rD20xbKA1/2Fu7Xay3W4nt9r+91Xzetaq33ug9FWZYBAAAAoBq2ausNAAAAANB6xCAAAACAChGDAAAAACpEDAIAAACoEDEIAAAAoELEIAAAAIAKEYMAAAAAKkQMAgAAAKgQMQgAAACgQtq3xUG33377sn///m1xaAAAAIAt0sKFC/9clmWPN5vXJjGof//+WbBgQVscGgAAAGCLVBTFH9/KPLeJAQAAAFSIGAQAAABQIWIQAAAAQIWIQQAAAAAVIgYBAAAAVIgYBAAAAFAhYhAAAABAhYhBAAAAABUiBgEAAABUiBgEAAAAUCFiEAAAAECFiEEAAAAAFSIGAQAAAFSIGAQAAABQIWIQAAAAQIWIQQAAAAAVIgYBAAAAVIgYBAAAAFAhYhAAAABAhYhBAAAAABUiBgEAAABUiBgEAAAAUCFiEAAAAECFiEEAAAAAFSIGAVTURRddlL59+2arrbZK//79UxRFHnroobf028cffzxFUeT222/fxLsEAABqrX1bbwCA1rdgwYJMnDgxX/va1zJkyJB07tw5TU1N2Xnnndt6awAAwCYmBgFU0COPPJIk+dznPpdtttmmjXcDAAC0JreJAVTMuHHjcuKJJyZJtt122xRFkdmzZ693m9jVV1+dPffcM3V1ddl+++0zePDgLFq0qMVaq1evzumnn55tt902/fr1y8SJE7Nu3bpWPR8AAODtEYMAKuaCCy7I+eefnyS5995788ADD+SFF15oMWfOnDn57Gc/mxNOOCF33XVXrrnmmhx44IF5/vnnW8z70pe+lK5du2batGk54YQTctFFF2XatGmtdi4AAMDb5zYxgIrZeeedm58NtN9++6Vr166ZPXt2iznz58/PPvvskwkTJjSPjRw5cr21DjnkkHzzm99MkgwbNix33313pk+fnuOOO27TnQAAALBRXBkEwHr23XffNDY25pxzzsmcOXPy6quvbnDeRz/60Raf99hjjzz11FOtsUUAAOAdEoMAWM/hhx+ea6+9NnPmzMmQIUOy/fbb58wzz8xLL73UYl59fX2Lz1tvvXVefvnl1twqAADwNolBAGzQySefnIULF+aZZ57JlClTMnXq1Fx88cVtvS0AAGAjeWYQQEXMaFySKTMX5+mVTWn/h4ff8u969OiR008/PdOnT8/DD7/13wEAAO9OYhBABcxoXJIJ03+TpjVrkyTPrV6TJPnpr5/O8Qftut78iRMnZsWKFc23iDU2Nua+++7LJZdc0qr7BgAAak8MAqiAKTMXN4egv/Wdn/3vBmPQfvvtl29/+9u54YYbsmrVquy4446ZNGlSvvCFL7TGdgEAgE2oKMuy1Q/a0NBQLliwoNWPC1BVO513Rzb0v/ZFkscuGdHa2wEAADaBoigWlmXZ8GbzPEAaoAL61Ne9rXEAAGDLJQYBVMD44QNS16Fdi7G6Du0yfviANtoRAADQVjwzCKACRg3smyTNbxPrU1+X8cMHNI8DAADVIQYBVMSogX3FHwAAoHa3iRVF0a4oisaiKG6v1ZoAAAAA1FYtnxn0hSS/reF6AAAAANRYTWJQURT9koxI8l+1WA8AAACATaNWVwZdluRLSdbVaD0AAAAANoGNjkFFUXw8ybKyLBe+ybzTiqJYUBTFguXLl2/sYQEAAAB4B2pxZdBBSUYWRfF4khuSHFoUxXVvnFSW5ZVlWTaUZdnQo0ePGhwWAAAAgLdro2NQWZYTyrLsV5Zl/yRjk9xbluUJG70zAAAAAGqulm8TAwAAAOBdrn0tFyvLcnaS2bVcEwAAAIDacWUQAAAAQIWIQQAAAAAVIgYBAAAAVIgYBAAAAFAhYhAAAABAhYhBAAAAABUiBgEAAABUiBgEAAAAUCFiEAAAAECFiEEAAAAAFSIGAQAAAFSIGAQAAABQIWIQAAAAQIWIQQAAAAAVIgYBAAAAVIgYBAAAAFAhYhAAAABAhYhBAAAAABUiBgEAAABUiBgEAAAAUCFiEAAAAECFiEEAAAAAFSIGAQAAAFSIGAQAAABQIWIQAAAAQIWIQQAAAAAVIgYBAAAAVIgYBAAAAFAhYhAAAABAhYhBAAAAABUiBgEAAABUiBgEAAAAUCFiEAAAAECFiEEAAAAAFSIGAQAAAFSIGAQAAABQIWIQAAAAQIWIQQAAAAAVIgYBAAAAVIgYBAAAAFAhYhAAAABAhYhBAAAAABUiBgEAAABUiBgEAAAAUCFiEAAAAECFiEEAAAAAFSIGAQAAAFSIGAQAAABQIWIQAAAAQIWIQQAAAAAVIgYBAAAAVIgYBAAAAFAhYhAAAABAhYhBAAAAABUiBgEAAABUiBgEAAAAUCFiEAAAAECFiEEAAAAAFSIGAQAAAFSIGAQAAABQIWIQAAAAQIWIQQAAAAAVIgYBAAAAVIgYBAAAAFAhYhAAAABAhYhBAAAAABUiBgEAAABUiBgEAAAAUCFiEAAAAECFiEEAAAAAFSIGAQAAAFSIGAQAAABQIWIQAAAAQIWIQQAAAAAVIgYBAAAAVIgYBAAAAFAhYhAAAABAhYhBAAAAABUiBgEAAABUiBgEAAAAUCFiEAAAAECFiEEAAAAAFSIGAQAAAFSIGAQAAABQIWIQAAAAQIWIQQAAAAAVIgYBAAAAVIgYBAAAAFAhYhAAAABAhYhBAAAAABUiBgEAAABUiBgEAAAAUCEbHYOKouhUFMX8oih+XRTFoqIo/k8tNgYAAABA7bWvwRqvJDm0LMsXi6LokGRuURR3lWX5PzVYGwAAAIAa2ugYVJZlmeTFv3zs8Jc/5cauCwAAAEDt1eSZQUVRtCuK4v8mWZbknrIsf7mBOacVRbGgKIoFy5cvr8VhAQAAAHibahKDyrJcW5blvkn6Jfmnoij22sCcK8uybCjLsqFHjx61OCwAAAAAb1NN3yZWluXKJLOTHFHLdQEAAACojVq8TaxHURT1f/l7XZLDkzyysesCAAAAUHu1eJtY7yQ/KIqiXV6PSzeVZXl7DdYFAAAAoMZq8Tax/zfJwBrsBQAAAIBNrKbPDAIAAADg3U0MAgAAAKgQMQgAAACgQsQgAAAAgAoRgwAAAAAqRAwCAAAAqBAxCAAAAKBCxCAAAACAChGDAAAAACpEDAIAAACoEDEIAAAAoELEIAAAAIAKEYMAAAAAKkQMAgAAAKgQMQgAAACgQsQgAAAAgAoRgwAAAAAqRAwCAAAAqBAxCAAAAKBCxCAAAACAChGDAAAAACpEDAIAAACoEDEIAAAAoELEIAAAAIAKEYMAAAAAKkQMAgAAAKgQMQgAAACgQsQgAAAAgAoRgwAAAAAqRAwCAAAAqBAxCAAAAKBCxCAAAACAChGDAAAAACpEDAIAAACoEDEIAAAAoELEIAAAAIAKEYMAAAAAKkQMAgAAAKgQMQgAAACgQsQgAAAAgAoRgwAAAAAqRAwCAAAAqBAxCAAAAKBCxCAAAACAChGDAAAAACpEDAIAAACoEDEIAAAAoELEIAAAAIAKEYMAAAAAKkQMAgAAAKgQMQgAAACgQsQgAAAAgAoRgwAAAAAqRAwCAAAAqBAxCAAAAKBCxCAAAACAChGDAAAAACpEDAIAAACoEDEIAAAAoELEIAAAAIAKEYMAAAAAKkQMAgAAAKgQMQgAAACgQsQgAAAAgAoRgwAAAAAqRAwCAAAAqBAxCAAAAKBCxCAAAACAChGDAAAAACpEDAIAAACoEDEIAAAAoELEIAAAAIAKEYMAAAAAKkQMAgAAAKgQMQgAAACgQsQgAAAAgAoRgwAAAAAqRAwCAAAAqBAxCAAAAKBCxCAAAACAChGDAAAAACpEDAIAAACoEDEIAAAAoELEIACokXHjxqWhoaGttwEAAP+QGAQAAABQIWIQALzLrVmzJmvXrm3rbQAAsIUQgwCgxu65557ss88+6dKlSwYNGpRFixY1f7d69ep8/vOfT69evdKpU6fst99+mTVrVovfDxkyJMcee2yuvPLK7LzzzunUqVOefvrpPPXUUznuuOOyww47pK6uLjvvvHMuuOCCFr+dO3duBg8enM6dO6d79+75zGc+k1WrVrXKeQMAsHlo39YbAIAtyRNPPJHx48fnK1/5Surq6nLuuefmuOOOy0MPPZSiKPKZz3wmt912W772ta/lAx/4QK666qqMGDEiv/jFLzJo0KDmdebNm5c//OEPufTSS9O5c+dsu+22GTVqVJqamnLllVemvr4+jz76aB555JEWvznssMMyatSoTJs2Lc8++2zOO++8PPfcc5k2bVpb/HMAAPAuJAYBQA2tWLEi8+bNyy677JIkWbduXY4++ugsXrw4ZVnm+uuvz7XXXpuTTz45STJ8+PDss88+ufjiizNz5szmdVauXJnGxsb06tWreWz+/Pm5/vrrc9RRRyV5/Qqiv3XeeeflwAMPzI033tg81rdv3xx22GF56KGHstdee22q0wYAYDPiNjEAqKH+/fs3h6Ak2WOPPZIkTz31VB588MGUZZnRo0c3f7/VVltl9OjRmTt3bot1PvzhD7cIQUmy7777ZsKECZk6dWqeeOKJFt+tXr06DzzwQI477ri89tprzX8GDRqUDh06ZOHChbU+VQAANlNiEADUUH19fYvPW2+9dZLk5ZdfztKlS9O1a9d07ty5xZyePXtm9erVeeWVV1qMvdGNN96YhoaGnHPOOdlxxx2z77775uc//3mS5LnnnsvatWtz5plnpkOHDs1/OnbsmDVr1uTJJ5+s9akCALCZ2ujbxIqieG+SHybplWRdkivLsvzOxq4LAFua3r1758UXX8zq1atbBKFnnnkmnTt3TseOHZvHiqJY7/d9+/bN1KlTs27dusyfPz+TJk3KyJEj88QTT6S+vj5FUWTSpEn52Mc+tt5v+/Tps2lOCgCAzU4tnhn0WpIvlmX5q6Io3pNkYVEU95Rl+XAN1gaAd7UZjUsyZebiPL2yKS/9Zmm2aVrzd+fut99+KYoi06ZNy0knnZQkKcsy06ZNa/Hw6Dez1VZb5YADDsjEiRNz4IEH5o9//GM+9KEP5YADDsjixYtz4YUXbvR5AQCw5droGFSW5dIkS//y91VFUfw2Sd8kYhAAW7QZjUsyYfpv0rRmbZJk9atrs2plU2Y0LsmogX3Xm7/77rvn+OOPz1lnnZUXXnih+W1ijzzySK644op/eKznn38+w4cPz0knnZRdd901r7zySr75zW+mV69e2X333ZMkX//613PYYYdlq622yrHHHpv3vOc9eeKJJ3LHHXdk8uTJ2XXXXWv/jwAAwGanpm8TK4qif5KBSX5Zy3UB4N1oyszFzSHor9aVZabMXLzBGJQkV111Vb785S/n4osvzsqVK7P33nvn9ttvf9Mrgzp16pS999473/nOd/Lkk0+mc+fOOeCAAzJr1qzU1dUlSQYNGpQ5c+Zk4sSJOfHEE7N27drsuOOOOeKIIzb4DCIAAKqpKMuyNgsVRdck9yWZXJbl9A18f1qS05Lkfe9734f/+Mc/1uS4ANBWdjrvjmzo/0WLJI9dMqK1twMAQMUVRbGwLMuGN5tXk7eJFUXRIcktSX68oRCUJGVZXlmWZUNZlg09evSoxWEBoE31qa97W+MAAPBusNExqHj9dSdXJ/ltWZbf2vgtAcDmYfzwAanr0K7FWF2Hdhk/fEAb7QgAAN5cLa4MOijJiUkOLYri//7lz/rvtAWALcyogX3z78fsnb71dSmS9K2vy78fs/fffV4QAAC8G9TibWJz8/rjEQCgckYN7Cv+AACwWanJM4MAAAAA2DyIQQAAAAAVIgYBAAAAVIgYBAAAAFAhYhAAAABAhYhBAAAAABUiBgEAAABUiBgEAAAAUCFiEAAAAECFiEEAAAAAFSIGAQAAAFSIGAQAAABQIWIQAAAAQIWIQbyphx56KEVRZPbs2W29FQAAAGAjiUEAAAAAFSIGsdGampraegsAAADAWyQGsZ7LL788733ve9OlS5ccddRRWbp0aYvvi6LIt771rZx99tnp0aNH9t577yTJHXfckWHDhmWHHXbINttskwMOOCCzZs1ab/2bb745u+yyS+rq6jJ06NA0NjamKIpMnTq1ec7atWszadKkvO9970vHjh2z55575r//+79brDNu3Lg0NDTknnvuyT777JMuXbpk0KBBWbRoUe3/UQAAAGALIQbRwk9+8pN87nOfy8c//vFMnz49e++9d0499dT15k2ZMiVLly7Nj370o3z3u99Nkjz22GM56qij8qMf/Si33HJLDjzwwBx55JGZN29e8+8WLFiQsWPH5kMf+lBuvfXWjBw5MmPGjFlv/QsvvDCTJ0/Oaaedlttuuy0HHXRQPvWpT+X6669vMe+JJ57I+PHj85WvfCXXX399li1bluOOOy5lWdb4XwYAAAC2DO3begO8u0yePDlHHHFErrjiiiTJ8OHDs3z58vzXf/1Xi3m9evXKjTfe2GLsrLPOav77unXrMnTo0CxatChXX311DjrooCTJpZdemt133z033HBDiqLIEUcckTVr1uTLX/5y829XrFiRyy67LOeff37OP//85n089dRTmTRpUo4//vgWc+fNm5dddtml+bhHH310Fi9enN12262G/zIAAACwZXBlEM3Wrl2bxsbGfOITn2gxfswxx6w3d8SIEeuNPfXUUzn55JPTt2/ftG/fPh06dMisWbPyu9/9rnnOgw8+mKOOOipFUTSPjRw5ssU6Dz30UFavXp3Ro0e3GB8zZkx+97vfZdmyZc1j/fv3bw5BSbLHHns07wUAAABYnyuDaLZ8+fK89tpr2WGHHVqMv/FzkvTs2bPF53Xr1mXkyJFZtWpVLrroonzgAx9Ily5dcuGFF7aIN3/605/So0ePFr994+e/PqPojcf46+fnnnuueU/19fUt5my99dZJkpdffvkfnywAAABUlBhUcTMal2TKzMV5emVTem+zddq1b98i3iRZ73OSFlf2JMnvf//7NDY25q677soRRxzRPP7GN4316tUry5cvbzH2xs+9e/duPm737t2bx5955pkkSbdu3d7q6QEAAABv4DaxCpvRuCQTpv8mS1Y2pUzy9AuvpkOPnXLlj1o+C2j69OlvutZfo0/Hjh2bx/74xz+2eHh0kuy333756U9/2uIBz7fddluLOXvttVc6d+6cm2++ucX4TTfdlF133XW9K4kAAACAt86VQRU2ZebiNK1Z22LsPQeMTuOtX8sZZ5yRo48+Ovfdd1/uvvvuN11rt912S79+/fLFL34xF198cVatWpWJEyemb9++LeZ9+ctfzv7775+xY8fmlFNOyW9/+9tcddVVSZKttnq9TXbr1i1nn312vvrVr6Z9+/ZpaGjI9OnTc+edd673NjEAAADg7XFlUIU9vbJpvbHOux6Yboefnp/+9KcZNWpUGhsbc/XVV7/pWh07dsz06dPTvn37HHvssbngggsyYcKEDB48uMW8hoaGXH/99Vm4cGFGjRqVW265pfnNZdtss03zvIsuuigTJkzIFVdckY9//OOZM2dOrrvuuowdO3YjzxoAAACqrfjb23VaS0NDQ7lgwYJWPy4tHXTJvVmygSDUt74u8847tNX2cd111+XEE0/Mo48+mp122qnVjgsAAABbkqIoFpZl2fBm89wmVmHjhw/IhOm/aXGrWF2Hdhk/fMAmPe4ZZ5yRYcOGZbvttsuvfvWrfPWrX82IESOEIAAAAGgFYlCFjRr4+vN8/vo2sT71dRk/fEDz+Kby7LPP5swzz8yzzz6b7t27Z8yYMfn617++SY8JAAAAvM5tYgAAAABbgLd6m5gHSAMAAABUiBgEAAAAUCFiEAAAAECFiEEAAAAAFSIGAQAAAFSIGAQAAABQIWIQAAAAQIWIQQAAAAAVIgYBAAAAVIgYBAAAAFAhYhAAAABAhYhBAAAAABUiBgEAAABUiBgEAAAAUCFiUEWce+656d+/f1tvAwAAAGhjYhAAAABAhYhBW5Cmpqa23gIAAADwLicG1ciiRYtyxBFHpFu3bunSpUt23333fO9738s111yTLl26ZM2aNc1z+/Tpk+233z5lWSZJ1q1bl/r6+lx11VXNc+69997sv//+6dSpU3r27JkzzzwzL774YvP3s2fPTlEUmTlzZkaOHJmuXbvmrLPOSpKsXLky//zP/5wuXbqkd+/emTx5civ9KwAAAADvdu3begNbipEjR2a33XbLddddl44dO2bx4sV54YUXMnz48KxevTq/+tWvsv/+++d///d/s2zZsmy11VZ5+OGHs+eee+bXv/51nn/++Rx88MFJkocffjhHHHFEhg0blltuuSVPPvlkzjvvvDz66KO5++67Wxz305/+dE455ZScffbZ6dSpU5LklFNOyezZs3PZZZelV69e+cY3vpE//OEPad/ef9wAAABQdepADfz5z3/Oo48+mhkzZmTvvfdOkhx22GHN3/fu3Tv3339/9t9//9x///354Ac/mK233jr3339/9txzz9x///3p0aNHdttttyTJRRddlB133DG33XZb2rVrlyTp1q1bxowZkwceeCAf+chHmtcePXp0Lr744ubPixYtyowZM3LDDTdkzJgxSZKhQ4fmfe97X7bZZptN/m8BAAAAvLu5TawGunXrlve+97357Gc/mxtvvDHLli1r8f2gQYNy//33J0nmzJmTQw45JIccckiLsUGDBjXPnz9/fo4++ujmEJQkn/zkJ9O+ffvMnTu3xdojRoxo8fnBBx9M8vqVSn/VtWvXDBs2rAZnCgAAAGzuxKAa2GqrrTJr1qz06tUrp556anr16pWDDz44jY2NSZJDDjkkc+fOTVmWuf/++3PwwQfn4IMPbo5Bc+fObb5FLEmWLl2anj17tjhGu3bt0r1796xYsaLF+Bvn/elPf8p73vOe1NXVtRjfYYcdana+AAAAwOZLDKqR3XbbLbfccktWrlyZn/3sZ3n55ZczYsSIrFu3LgcffHBWrFiRe+65J4899lgOPvjgDBo0KEuWLMmsWbPyzDPPtIhBvXv3Xu/qorVr1+bZZ59Nt27dWowXRdHic69evbJq1ar13iz2xvUAAACAahKD3qEZjUty0CX3Zqfz7shBl9ybGY1LkiQdOnTIoYcemn/913/N0qVLs3Llyuy9996pr6/P5MmTs9tuu6VHjx6pr6/PXnvtlcmTJ6dr167Zd999m9fef//9c+utt2bt2rXNY9OnT89rr73W4nayDdlvv/2SJLfddlvz2Isvvph77rmnlqcPAAAAbKY8QPodmNG4JBOm/yZNa16PNY/97uF86spzc8qJ/5xPDvlwnnvuuVx66aX54Ac/2Hwlz0EHHZQ77rgjp59+evM6Bx98cL73ve9l2LBhLd70df7552fgwIEZNWpUzjjjjDz11FP58pe/nOHDh7d4ePSG7Lnnnhk5cmTOOOOMvPDCC+ndu3emTJmSzp07b4J/CQAAAGBz48qgd2DKzMXNIShJ2nXZLkXn+vzX//OtHHnkkTnzzDOz++67t7g656+3gR1yyCHrjb3xap8999wzd911V5YtW5Zjjjkm559/fo4//vhMmzbtLe1v6tSp+ehHP5qzzz47n/70p3PYYYdl7Nix7/h8AQAAgC1HUZZlqx+0oaGhXLBgQasft1Z2Ou+ObOhfrUjy2CUjNvANAAAAwKZVFMXCsiwb3myeK4PegT71dW9rHJJk3LhxaWh4/b+TU6dOTVEUefHFF9t4VwAAAFSNGPQOjB8+IHUd2rUYq+vQLuOHD2ijHbG5GTFiRB544AHPcgIAAKDVeYD0OzBqYN8krz876OmVTelTX5fxwwc0j8Ob6dGjR3r06NHW2wAAAKCCXBn0Do0a2Dfzzjs0j10yIvPOO1QI4m3Z0G1if/7zn3PyySene/fu6dy5c4YMGZI3Plurf//+Offcc/Ptb387/fr1y3bbbZexY8dm5cqVrX0KAAAAbKbEIHiXGDVqVGbOnJlvfOMbufHGG7Nu3boMHTo0v//971vMu+mmm/Lzn/88V155ZS699NLcfvvt+bd/+7c22jUAAACbG7eJwbvA3XffnXnz5mX27NkZPHhwkuTQQw9N//79M2XKlHz/+99vntuhQ4fMmDEj7du//l/fhx9+ODfccEMuv/zyNtk7AAAAmxdXBsG7wPz589OjR4/mEJQkXbp0ycc//vHMnTu3xdyhQ4c2h6Ak2WOPPbJs2bK8+uqrrbZfAAAANl9iELwLLF26ND179lxvvGfPnlmxYkWLsfr6+haft95665RlKQYBAADwlrhNDDahGY1Lmt8699JvlmabpjUbnNe7d+8sW7ZsvfFnnnkm3bp129TbBAAAoEJcGQSbyIzGJZkw/TdZsrIpZZLVr67NkpVNmdG4ZL25+++/f5YtW5Y5c+Y0j61evTp33HFHBg0a1Iq7BgAAYEsnBsEmMmXm4jStWdtibF1ZZsrMxevNHT58eA466KCMGTMmP/jBD3L77bfnYx/7WJqamjJ+/PjW2jIAAAAVIAbBJvL0yqa3NX7rrbdm2LBhOfvsszN69OiUZZl77703H/jABzblNgEAAKiYoizLVj9oQ0NDuWDBglY/LrSmgy65N0s2EH761tdl3nmHtsGOAAAA2JIVRbGwLMuGN5vnyiDYRMYPH5C6Du1ajNV1aJfxwwe00Y4AAADA28Rgkxk1sG+SNL9NrE99XcYPH9A8DgAAAG1BDIJNaNTAvuIPAAAA7ypuEwMAAACoEDEIAAAAoELEIAAAAIAKEYMAAAAAKkQMAgAAAKgQMQgAAACgQsQgAAAAgAoRgwAAAAAqRAwCAAAAqBAxCAAAAKBCxCAAAACAChHviX6GAAAgAElEQVSDAAAAACpEDAIAAACoEDEIAAAAoELEIAAAAIAKEYMAAAAAKkQMAgAAAKgQMQgAAACgQsQgAAAAgAoRgwAAAAAqpCYxqCiKa4qiWFYUxUO1WA8AAACATaNWVwZNTXJEjdYCAAAAYBOpSQwqy3JOkhW1WAsAAACATafVnhlUFMVpRVEsKIpiwfLly1vrsAAAAAD8jVaLQWVZXlmWZUNZlg09evRorcMCAAAA8De8TQwAAACgQsQgAAAAgAqp1avlr0/yQJIBRVE8VRTFp2uxLgAAAAC11b4Wi5RleXwt1gEAAABg03KbGAAAAECFiEEAAAAAFSIGAQAAAFSIGAQAAABQIWIQAAAAQIWIQQAAAAAVIgYBAAAAVIgYBAAAAFAhYhAAAABAhYhBAAAAABUiBgEAAABUiBgEAAAAUCFiEAAAAECFiEEAAAAAFSIGAQAAAFSIGAQAAABQIWIQAAAAQIWIQQAAAAAVIgYBAAAAVIgYBAAAAFAhYhAAAABAhYhBAAAAABUiBgEAAABUiBgEAAAAUCFiEAAAAECFiEEAAAAAFSIGAQAAAFSIGAQAAABQIWIQAAAAQIWIQQAAAAAVIgYBAAAAVIgYBAAAAFAhYhAAAABAhYhBAAAAABUiBgEAAABUiBgEAAAAUCFiEAAAAECFiEEAAAAAFSIGAQAAAFSIGAQAAABQIWIQAAAAQIWIQQAAAAAVIgYBAAAAVIgYBAAAAFAhYhAAAABAhYhBAAAAABUiBgEAAABUiBhEq5k6dWqKosiLL77Y1lsBAACAyhKDAAAAACpEDAIAAACoEDGImpo7d24GDx6czp07p3v37vnMZz6TVatWbXDuTjvtlC996UvrjR977LE5+OCDmz+vWLEip59+enr27JlOnTrlwAMPzC9/+csWv7n66quz5557pq6uLttvv30GDx6cRYsW1fbkAAAAYAsgBlEz8+bNy2GHHZZevXpl2rRpueyyy3LnnXfmlFNO2eD84447LjfddFPKsmwee/HFF3PnnXdmzJgxSZJXXnklhx9+eO65555MmTIlM2bMSI8ePXL44YfnT3/6U5Jkzpw5+exnP5sTTjghd911V6655poceOCBef755zf9SQMAAMBmpn1bb4Atx3nnnZcDDzwwN954Y/NY3759c9hhh+Whhx5ab/7YsWPz9a9/Pb/85S9zwAEHJEl++tOf5pVXXsno0aOTJNddd10eeuihLFq0KLvsskuS5PDDD8+AAQPyzW9+M1OmTMn8+fOzzz77ZMKECc1rjxw5clOeKgAAAGy2XBlETaxevToPPPBAjjvuuLz22mvNfwYNGpQOHTpk4cKF6/1m4MCB2XXXXVvEoxtvvDFDhgxJz549kyQ/+9nP8uEPfzg77bRT85pJMnjw4CxYsCBJsu+++6axsTHnnHNO5syZk1dffbUVzhgAAAA2T2IQNfHcc89l7dq1OfPMM9OhQ4fmPx07dsyaNWvy5JNPbvB3Y8aMyc0335yyLPPCCy/k7rvvztixY5u///Of/5z/+Z//abFmhw4dcu211zavefjhh+faa6/NnDlzMmTIkGy//fY588wz89JLL7XKuQMAAMDmxG1ibJQZjUsyZebiPLXsuaQoMvb0f80XPz12vXl9+vTJrFmz1hsfO3ZsLr744sydOzePPfZY1q5dm2OOOab5+27duqWhoSFXXHHFer/t2LFj899PPvnknHzyyVm+fHmmT5+ec845J9tss00uueSSGp0pAAAAbBnEIN6xGY1LMmH6b9K0Zm2KrTulY+8BufP+hRlz2jkZNbDvW1pjjz32yF577ZUbb7wxjz32WIYNG5bu3bs3f3/YYYdl1qxZed/73pcddtjhTdfr0aNHTj/99EyfPj0PP/zwOz43AAAA2FKJQbxjU2YuTtOatc2f64eekmdu+EpOO3Vcikln5T3veU+eeOKJ3HHHHZk8efLfXWfMmDH5zne+k+effz5XXXVVi+9OOumk/Od//meGDBmSc889N+9///vz7LPPZv78+enVq1fOOeecTJw4MStWrGi+RayxsTH33Xefq4IAAABgA8Qg3rGnVza1+Nyp357p9c+XZuXcH+fEE0/M2rVrs+OOO+aII45ofiD0howdOzYXXHBBOnbsmFGjRrVcs1On/OIXv8iFF16YiRMn5plnnskOO+yQf/qnf2p+Y9h+++2Xb3/727nhhhuyatWq7Ljjjpk0aVK+8IUv1P6kAQAAYDNXlGXZ6gdtaGgo//omKDZfB11yb5a8IQglSd/6usw779A22BEAAABUV1EUC8uybHized4mxjs2fviA1HVo12KsrkO7jB8+oI12BAAAALwZt4nxjv31IdFTZi7O0yub0qe+LuOHD3jLD48GAAAAWp8YxEYZNbCv+AMAAACbEbeJAQAAAFSIGAQAAABQIWIQAAAAQIWIQQAAAAAVIgYBAAAAVIgYBAAAAFAhYhAAAABAhYhBAAAAwCZx0003ZerUqa16zCFDhuTYY49t1WNubsQgAAAAYJNoixjEmxODAAAAgDazZs2arF27tq23USliEAAAAFBz48aNyy233JL77rsvRVGkKIpMmjSp+TauK6+8MjvvvHM6deqUp59+OuPGjUtDQ0OLNR5//PEURZHbb7+9eWzt2rX593//9+y6667p2LFj+vXrl3Hjxv3dfTz//PM56KCD8sEPfjDLly/fVKe7WWnf1hsAAAAAtjwXXHBBnnjiiaxcuTKXX355kqRfv36ZPXt25s2blz/84Q+59NJL07lz52y77bZved3TTz89P/zhD/OlL30pgwcPzooVKzJt2rQNzl2xYkWGDx+eJPnFL36Rbt26bfyJbQHEIAAAAKDmdt5553Tr1i3r1q3LAQcc0OK7lStXprGxMb169Xpbaz7yyCO5+uqr853vfCef//znm8fHjBmz3tzly5fn8MMPT9euXXPXXXdlm222eWcnsgVymxgAAADQqj784Q+/7RCUvH51T5J/eFtYkjzzzDMZPHhwunfvnlmzZglBbyAGAQAAAK2qZ8+e7+h3zz77bLp06fKmcefhhx/Ob3/725x44onp0qXLOzrWlsxtYgAAAECrKopivbFOnTrl1VdfbTG2YsWKFp+7d++el156KS+88MI/DEJDhw7NwIEDc9ppp2X77bfPUUcdVZuNbyHEIAAAAKAmZjQuyZSZi/P0yqb0qa9Lu5dey6svv/yWftuvX788/vjjefnll9OpU6ckyT333NNizqGHHpok+eEPf5izzjrrH673la98JatWrcro0aNz5513Nv8WMQgAAACogRmNSzJh+m/StGZtkmTJyqa8tPo9WfXrWZkxY0b69euXPn36/N3fjxo1KhdeeGH+5V/+JePGjUtjY2OuvfbaFnMGDBiQ0047LV/84hezbNmyHHLIIVm5cmWmTZuWG264Yb01L7nkkqxatSqf+MQncs8996z3IOuq8swgAAAAYKNNmbm4OQT9VacPHpku7/9QTj311Oy333658sor/+7v99prr1xzzTV54IEHMnLkyNx333255ppr1pt3+eWXZ+LEibnuuuvysY99LGeffXbq6ur+7rr/8R//kU9+8pM58sgj8+tf//qdn+AWpCjLstUP2tDQUC5YsKDVjwsAAABsGjudd0c2VBiKJI9dMqK1t1NJRVEsLMuy4c3muTIIAAAA2Gh96jd8dc7fG6ftiEEAAADARhs/fEDqOrRrMVbXoV3GDx/QRjvi7/EAaQAAAGCjjRrYN0lavE1s/PABzeO8e4hBAAAAQE2MGthX/NkMuE0MAAAAoELEIAAAAIAKEYMAAAAAKkQMAgAAAKiQmsSgoiiOKIpicVEUvy+K4rxarAkAAABA7W10DCqKol2S7yU5MskeSY4vimKPjV0XAAAAgNqrxZVB/5Tk92VZPlqW5atJbkjyiRqsCwAAAECN1SIG9U3y5N98fuovYwAAAAC8y9QiBhUbGCvXm1QUpxVFsaAoigXLly+vwWEBAAAAeLtqEYOeSvLev/ncL8nTb5xUluWVZVk2lGXZ0KNHjxocFgAAAIC3qxYx6MEkuxRFsVNRFFsnGZvkthqsCwAAALDZampqaustbNBGx6CyLF9LclaSmUl+m+SmsiwXbey6AAAAAK1pzpw5GTp0aLp27Zptt902Q4YMSWNjY5YuXZpTTz0173//+1NXV5ddd901559/fl599dXm3z7++OMpiiI//vGPc9JJJ6W+vj5HHXVUG57N39e+FouUZXlnkjtrsRYAAABAa5s9e3aGDRuWoUOH5gc/+EG6dOmSefPmZcmSJWnfvn26deuWb33rW9luu+3yu9/9LpMmTcry5cvz/e9/v8U65557bo455pjcfPPNadeuXRudzT9WlOV6z3re5BoaGsoFCxa0+nEBAAAANuQjH/lI1qxZkwcffDBFsaF3Zf3/Xnvttdx000059dRT88ILL2TrrbfO448/np122imjRo3Krbfe2kq7bqkoioVlWTa82bxaPDMIAAAAYLP10ksv5Ze//GVOPvnkDYagsixz2WWXZY899khdXV06dOiQT33qU3nllVfyxBNPtJg7YsSI1tr2OyYGAQAAAJX23HPPpSzL9O7de4PfX3bZZfniF7+Yo48+Oj/5yU8yf/78fO9730uSvPzyyy3m9uzZc5Pvd2PV5JlBAAAAAJur7bbbLltttVWWLl26we9vvvnmjB49OpMnT24ee/jhhzc4981uMXs3EIMAAACAypnRuCRTZi7O0yub0qe+LrvsNTA//OEPc9ZZZ60XdJqamtKxY8cWYz/+8Y9bc7s1JQYBAAAAlTKjcUkmTP9NmtasTZIsWdmU8oNj8ofrv5Ijjzwyp512Wrp06ZIHHnggDQ0NGTZsWL773e9m//33z84775wf//jH+f3vf9/GZ/HOiUEAAABApUyZubg5BP1V0WePDDjl0qx+5NaccMIJ2XrrrTNw4MCMGjUqF154YZYvX57zzz8/SXLMMcfku9/9bo466qi22P5GE4MAAACASnl6ZdMGx1/qtmsemjNng99de+21642VZdn89/79+7f4/G7mbWIAAABApfSpr3tb41saMQgAAAColPHDB6SuQ7sWY3Ud2mX88AFttKPW5TYxAAAAoFJGDeybJC3eJjZ++IDm8S2dGAQAAABUzqiBfSsTf97IbWIAAAAAFSIGAQAAAFSIGAQAAABQIWIQAAAAQIWIQQAAAAAVIgYBAAAAVIgYBAAAAFAhYhAAAABAhYhBAAAAABUiBgEAAABUiBgEwP/X3v1He1XX+R5/fcCDHBFDFDyBClaGOWK5POOY2sgAIxj+wtShe69F3hl/NpPTQKPjlLRmauWwtOya/b5Dk1OXGhE1K8WVZTmaYdQIKeVq0vjRqCn+AkRw3z/AMxInQc+B75HP47HWWZ7v/u6z9/vL2ks9T/YPAACgImIQAAAAQEXEIAAAAICKiEEAAAAAFRGDAAAAACoiBgEAAABURAwCAAAAqIgYBAAAAFARMQgAAACgImIQAAAAQEXEIAAAAICKiEEAAAAAFRGDAAAAACoiBgEAAABURAwCAAAAqIgYBAAAAFARMQgAAACgImIQAAAAQEXEIAAAAICKiEEAAAAAFRGDAAAAACoiBgEAAABURAwCAAAAqIgYBAAAAFARMQgAAACgImIQAAAAQEXEIAAAAICKiEEAAAAAFRGDAAAAACoiBgEAAABURAwCAAAAqIgYBAAAAFARMQgAAACgImIQAAAAQEXEIAAAAICKiEEAAAAAFRGDAAAAACoiBgEAAABURAwCAAAAqIgYBAAAAFARMQgAAACgImIQAAAAQEXEIAAAAICKiEEAAAAAFRGDAAAAACoiBgEAAABURAwCAAAAqIgYBAAAAFARMQgAAACgImIQAAAAQEXEIAAAAICKiEEAAAAAFRGDAAAAACoiBgEAAABURAwCAAAAqIgYBAAAAFARMQgAAACgImIQAAAAQEXEIAAAAICKiEEAAAAAFRGDAAAAACoiBgEAAABURAwCAAAAqIgYBAAAAFARMQgAAACgImIQAAAAQEXEIAAAAICKiEEAAAAAFRGDAAAAACoiBgEAAABUpEcxqJRyeillSSnl+VJKZ28NBQAAAMD20dMzgxYnOTXJ7b0wCwAAAADb2S49+eGmae5LklJK70wDAAAAwHa1w+4ZVEo5u5SysJSy8JFHHtlRuwUAAADgRbZ6ZlAp5dYkHd28dUnTNNdv646apvlcks8lSWdnZ7PNEwIAAADQa7Yag5qmmbgjBgEAAABg+/NoeQAAAICK9PTR8lNLKcuSvDXJTaWUm3tnLAAAAAC2h54+Tey6JNf10iwAAAAAbGcuEwMAAACoiBgEAAAAUBExCAAAAKAiYhAAAABARcQgAAAAgIqIQQAAAAAVEYMAAAAAKiIGAQAAAFREDAIAAACoiBgEAAAAUBExCAAAAKAiYhAAAABARcQgAAAAgIqIQQAAAAAVEYMAAAAAKiIGAQAAAFREDAIAAACoiBgEAAAAUBExCAAAAKAiYhAAAABARcQgAAAAgIqIQQAAAAAVEYMAAAAAKiIGAQAAAFREDAIAAACoiBgEAAAAUBExCAAAAKAiYhAAAABARcQgAAAAgIqIQQAAAAAVEYMAAAAAKiIGAQAAAFREDAIAAACoiBgEAAAAUBExCAAAAKAiYhAAAABARcQgAAAAgIqIQQAAAAAVEYMAAAAAKiIGAQAAAFREDAIAAACoiBgEAAAAUBExCAAAAKAiYhAAAABARcQgAAAAgIqIQQAAAAAVEYMAAAAAKiIGAQAAAFREDAIAAACoiBgEAAAAUBExCAAAAKAiYhAAAABARcQgAAAAgIqIQQAAAAAVEYMAAAAAKiIGAQAAAFREDAIAAACoiBgEAAAAUBExCAAAAKAiYhAAAABARcQgAAAAgIqIQQAAAAAVEYMAAAAAKiIGAQAAAFREDAIAAACoiBgEAAAAUBExCAAAAKAiYhAAAABARcQgAAAAgIqIQQAAAAAVEYMAAAAAKiIGAQAAAFREDAIAAACoiBgEAAAAUBExCAAAAKAiYhAAAABARcQgAAAAgIqIQQAAAAAVEYMAAAAAKiIGAQAAAFREDAIAAACoiBgEAAAAUBExCAAAAKAiYhAAAABARcQgAAAAgIqIQQAAAAAVEYMAAAAAKiIGAQAAAFREDAIAAACoiBgEAAAAUBExCAAAAKAiPYpBpZTZpZT7Syn/UUq5rpQypLcGAwAAAKD39fTMoAVJDmma5tAkP09ycc9HAgAAAGB76VEMaprmlqZp1m96eVeSfXs+EgAAAADbS2/eM+isJN/qxe0BAAAA0Mt22doKpZRbk3R089YlTdNcv2mdS5KsT/KvL7Gds5OcnST777//KxoWAAAAgJ7ZagxqmmbiS71fSnl3khOSTGiapnmJ7XwuyeeSpLOz8/euBwAAAMD2s9UY9FJKKZOT/G2SY5umWd07IwEAAACwvfT0nkFXJRmcZEEp5SellM/0wkwAAADAdrJkyZJMnjw5Q4cOzaBBg/KmN70pn/rUp5Iko0ePzowZMzZbf86cOSml5Omnn84zzzyTQYMG5eqrr95iu52dnTnzzDN3yGegZ3p0ZlDTNG/orUEAAACA7e+kk07KQQcdlGuuuSa77rprli5dmieffHKbfnbQoEE54YQTMnfu3Jx//vldy3/5y1/mnnvuyaxZs7bT1PSmHsUgAAAA4NXj0UcfzS9/+cvMnz8/Y8eOTZJMmDDhZW1j2rRpOe2007JixYqMGDEiSTJ37tzsueeeOe6443p9Znpfbz5aHgAAAOjDhg4dmv322y/nnntu5s6dm4cffvhlb+P444/P7rvvnq9//etdy+bOnZupU6dmwIABvTku24kYBAAAAJXo169fbrnllnR0dOSss85KR0dH3va2t2XRokXbvI2BAwfm5JNPzty5c5MkS5cuzU9/+tNMmzZte41NLxODAAAAoCIHHXRQrr322qxatSq33npr1q5dmylTpuT555/PwIEDs27dus3Wf+yxx7bYxp/92Z/lrrvuykMPPZS5c+dm2LBhGT9+/I76CPSQGAQAAAA7sfmLlufoj30nB1x0U47+2Hcyf9HyJElbW1vGjx+f97///Vm5cmVWrVqVfffdN/fdd99mP79gwYIttnncccdlzz33zNe+9rXMnTs3p512Wvr3779DPg895wbSAAAAsJOav2h5Lp53b9Y8tyFJ8p8//1n+5+dm5D1n/o+8Y9zhefzxx3PZZZflzW9+c4YOHZqpU6fmL//yL/PRj340f/iHf5h58+ZlyZIlW2y3ra0tU6dOzRVXXJGVK1d2+6h5+i5nBgEAAMBOavbNS7tCUJL0H7Rnym5D8oX/c0WOP/74nH/++XnTm96UG264IUly9tln58ILL8wnP/nJnHHGGRkwYED+/u//vtttT5s2LStXrsyIESPytre9bYd8HnpHaZpmh++0s7OzWbhw4Q7fLwAAANTkgItuSne/9Zck//mxKTt6HLazUso9TdN0bm09ZwYBAADATmrEkPaXtZw6iEEAAACwk5o5aUza2za/sXN7W//MnDSmRRPRF7iBNAAAAOykTjlsZJKN9w5asWpNRgxpz8xJY7qWUycxCAAAAHZipxw2UvxhMy4TAwAAAKiIGAQAAABQETEIAAAAoCJiEAAAAEBFxCAAAACAiohBAAAAABURgwAAAAAqIgYBAAAAVEQMAgAAAKiIGAQAAABQETEIAAAAoCJiEAAAAEBFxCAAAACAiohBAAAAABURgwAAAAAqIgYBAAAAVEQMAgAAAKiIGMRLGjduXE477bRWjwEAAAD0kl1aPQB929VXX522trZWjwEAAAD0EjGIbq1Zsybt7e05+OCDWz0KAAAA0ItcJlaB6dOnp7OzM/Pnz89BBx2UgQMH5phjjsnPfvazrnVKKbniiity4YUXZtiwYRk7dmySLS8TmzVrVvbee+8sWrQoRx55ZHbbbbccdthh+f73v7/Ffj//+c9n7NixGThwYPbZZ5+cdtppeeKJJ7re/8EPfpBjjz02u+22W/baa6/8xV/8RZ566qnt+CcBAAAAiEGVePDBB/P+978/H/zgB/OVr3wlTzzxRCZNmpS1a9d2rTN79uysXLkyX/7yl/PJT37y925r9erVefe7351zzjkn1157bXbddddMnTo1q1ev7lrnH//xH3POOefk2GOPzfz58/PpT386r3nNa/L0008nSe64445MmDAhHR0d+bd/+7d84hOfyDe/+c285z3v2X5/CAAAAIDLxGrx6KOP5vrrr89RRx2VJDn88MPz+te/PnPmzMm5556bJOno6MjcuXO3uq01a9bkE5/4RMaPH58kee1rX5vDDjsst99+eyZPnpxVq1blox/9aC688MJcccUVXT936qmndn1/0UUX5aijjtpsfyNHjsyECROyePHiHHLIIb3yuQEAAIDNOTOoEsOHD+8KQUkyatSoHH744bn77ru7lk2ZMmWbttXW1pZx48Z1vX7hvkLLli1Lktx5551Zs2bN7z3LZ/Xq1bnzzjtzxhlnZP369V1fxxxzTNra2nLPPfe83I8HAAAAbCMxqBLDhw/vdtnKlSu7Xu+zzz7btK099tgj/fr996EzYMCAJOm65Oy3v/1tko1nDHXn8ccfz4YNG3L++eenra2t62vXXXfNc889l1//+tfb9qEAAACAl81lYjup+YuWZ/bNS7Ni1Zo8c+/KrFvxmy3Wefjhh/MHf/AHXa9LKb2y77322itJsnLlyuy9995bvD9kyJCUUjJr1qy8/e1v3+L9ESNG9MocAAAAwJacGbQTmr9oeS6ed2+Wr1qTJsnqdRvyxGOP5mNzru9a56GHHsqPf/zjHHHEEb2+/7e+9a1pb2/Pl770pW7fHzRoUI488sgsXbo0nZ2dW3yJQQAAALD9ODNoJzT75qVZ89yGzZb1a98js/7mvOw/4Jm0t7fnQx/6UIYPH57p06f3+v6HDBmSD37wg7nkkkuybt26vP3tb8+zzz6bm266KZdeemlGjhyZf/qnf8qECRPSr1+/nHbaaRk8eHAeeuih3HTTTfnIRz6SN77xjb0+FwAAACAG7ZRWrFqzxbJdXjM8exx5RmbNmpUHH3wwnZ2d+epXv5qBAwdulxkuvvjiDB06NFdeeWU++9nPZs8998wf//EfZ/DgwUmSY445JrfffnsuvfTSnHnmmdmwYUNGjRqVyZMnb/O9iwAAAICXrzRNs8N32tnZ2SxcuHCH77cWR3/sO1n+oiD06E0fz3OPPpjO9302d1w0voWTAQAAANtLKeWepmk6t7aeewbthGZOGpP2tv6bLetXSmZOGtOiiQAAAIC+wmViO6FTDhuZJF1PE9ttQP/sMaS9azkAAABQL5eJAQAAAOwEXCYGAAAAwBbEIAAAAICKiEEAAAAAFRGDAAAAACoiBgEAAABURAwCAAAAqIgYBAAAAFARMQgAAACgImIQAAAAQEXEIAAAAICKiEEAAAAAFRGDAAAAACoiBgEAAABURAwCAAAAqIgYBAAAAFARMQgAAACgImIQAAAAQEXEIAAAAICKiEEAAAAAFRGDAAAAACoiBgEAAABURAwCAAAAqIgYBAAAAFARMQgAAACgImIQAAAAQEXEIAAAAICKiEEAAAAAFRGDAAAAACoiBgEAAABURAwCAAAAqIgYBAAAAFARMQgAAACgImIQAAAAQEXEIAAAAICKiEEAAAAAFRGDAAAAACoiBgEAAABURAwCAAAAqIgYBAAAAFARMagXTJ8+PZ2dnb/3/dGjR2fGjBk7cCIAAACA7u3S6gFqcN1112WvvfZq9RgAAAAAYtCOcNhhh7V6BAAAAIAkLhPbLtatW5dTTz01+++/fx544IEtLhN74bKyBQsW5NBDD82gQYNyzDHHZMmSJd7dh2EAAA5aSURBVJtt5/HHH8+0adMyaNCgjBgxIpdddllmzJiR0aNH7+BPBAAAAOwsnBnUy9auXZt3vOMduf/++/P9738/o0aN6na9hx56KDNnzswll1yS9vb2zJgxI2eccUYWL16cUkqSjdHoBz/4Qa688sp0dHTk4x//eH7+85+nf//+O/IjAQAAADsRMagXrV69OieddFKWLVuW22+/PSNHjvy96z722GO54447cuCBByZJnn/++UydOjVLly7NQQcdlMWLF+eGG27I1772tZx++ulJkgkTJmS//fbL7rvvvkM+DwAAALDzcZlYL3nmmWcyefLk/Nd//Ve+973vvWQISjY+YeyFEJQkBx98cJJk2bJlSZKFCxcmSU488cSuddrb2zNx4sTeHh0AAACoiBjUS1asWJF///d/z6mnnpp99tlnq+sPGTJks9cDBgxIsvEysyT5zW9+k8GDB2fgwIGbrTds2LBemhgAAACoUY8uEyul/EOSk5M8n+ThJNObplnRG4P1dfMXLc/sm5dmxao1eebelRk2cnSuunhGpk+fno6Ojpx33nk92n5HR0eeeuqprF27drMg9Mgjj/R0dAAAAKBiPT0zaHbTNIc2TfOWJN9I8qFemKnPm79oeS6ed2+Wr1qTJsnqdRuyfNWaDD5kfK666qq8973vzTXXXNOjfXR2diZJbrjhhq5la9asyYIFC3q0XQAAAKBuPTozqGmaJ1/0clCSpmfjvDrMvnlp1jy3YbNlzzdNZt+8NHdcdF6efvrpvOc978nuu++eU0455RXt45BDDsmJJ56Y8847L0899VQ6OjpyxRVXZLfddku/fq7uAwAAAF6ZHj9NrJTykSTvSvJEkj95ifXOTnJ2kuy///493W1LrVi15iWXz5w5M0899VSmTZuWG2+88RXvZ86cOTnvvPPyV3/1V9l9991zwQUX5HWve11+9KMfveJtAgAAAHUrTfPSJ/OUUm5N0tHNW5c0TXP9i9a7OMnApmku3dpOOzs7mxeelvVqdPTHvpPl3QShkUPac8dF47fbftevX59DDjkkf/RHf5QvfelL220/AAAAwKtPKeWepmk6t7beVs8MappmW59l/pUkNyXZagx6tZs5aUwunnfvZpeKtbf1z8xJY3p1P1//+tezYsWKjB07Nk8++WQ+//nP5xe/+EX+5V/+pVf3AwAAANSjp08TO7Bpml9senlSkvt7PlLfd8phI5Ok62liI4a0Z+akMV3Le8ugQYPyz//8z3nggQeyYcOGjB07NjfeeGOOOOKIXt0PAAAAUI+tXib2kj9cyrVJxmTjo+UfTHJu0zTLt/Zzr/bLxAAAAAD6ml67TOylNE3zjp78PAAAAAA7lmeUAwAAAFREDAIAAACoiBgEAAAAUBExCAAAAKAiYhAAAABARcQgAAAAgIqIQQAAAAAVEYMAAAAAKiIGAQAAAFREDAIAAACoiBgEAAAAUBExCAAAAKAiYhAAAABARcQgAAAAgIqIQfTY1Vdfnf322y+DBg3KiSeemAULFqSUku9+97v51a9+lVJKvvGNb2z2M9OnT09nZ+dmyxYvXpwpU6Zk8ODBGTx4cE4//fT85je/2Wydxx57LOecc0722WefDBw4MEcddVR++MMfbrZOKSVXXnll/u7v/i7Dhg3L8OHDc8EFF+TZZ5/dPn8AAAAA8CoiBtEj119/fS644IKccMIJmTdvXsaOHZuzzjrrZW/ngQceyNFHH521a9fmy1/+cubMmZMlS5bkxBNPTNM0SZJnn302EydOzIIFCzJ79uzMnz8/w4YNy8SJE7eIRpdffnlWrFiRa665JjNnzsxnP/vZXHnllb3ymQEAAODVbJdWD8Cr20c+8pFMnjw5n/70p5MkkyZNyiOPPJIvfOELL2s7H/7wh9PR0ZFvfetbGTBgQJLk0EMPzUEHHZRvfvObmTJlSq655posXrw4S5YsyYEHHpgkmThxYsaMGZPLL788s2fP7tre6NGjM2fOnK6Z7rjjjsybNy8f+MAHeuFTAwAAwKuXM4N4xTZs2JBFixbl5JNP3mz5qaee+rK3deutt2bq1Knp169f1q9fn/Xr1+eAAw7I6NGjs3Dhwq51Dj/88BxwwAFd6yTJscce27XOC4477rjNXh988MFZtmzZy54LAAAAdjbODOIVe+SRR7J+/foMHz58s+W/+3pbPProo7nsssty2WWXbfHer3/966517rrrrrS1tW2xzutf//rNXg8ZMmSz1wMGDMjatWtf9lwAAACwsxGDeFnmL1qe2TcvzYpVa/LaPQak/y675OGHH95snRe/HjhwYJJk3bp1m63z2GOPbfZ66NChmTp1av78z/98i33uvffeXet0dnZ2XZL2Yrvuuusr+0AAAABQGTGIbTZ/0fJcPO/erHluQ5JkxZPr0jbsgHzuy3Nz7rnndq03b968ru+HDx+etra23HfffV3Lnn766dx5550ZNWpU17IJEyZk8eLFOfzww1NK6Xb/EyZMyC233JL999//FZ19BAAAAIhBvAyzb17aFYJeMPjI07Pouo/mvPPOy9SpU/O9730v3/72t7ve79evX04++eR8/OMfz6hRozJkyJBcfvnlaW9v32w7s2bNyhFHHJEpU6bkrLPOyt57753ly5dnwYIFmT59esaNG5d3vetd+cxnPpNx48ZlxowZed3rXpff/va3ufvuu9PR0ZG//uu/3iF/DgAAAPBq5gbSbLMVq9ZssWy3Nx6VoRPPyY033phTTjklixYtyhe/+MXN1rnqqqty9NFH5/zzz88FF1yQd77znRk/fvxm67zxjW/MXXfdld122y1nn312jj/++Fx66aXZdddd84Y3vCHJxkvObrvttvzpn/5pLr300hx33HF53/vel1/84hc54ogjtt8HBwAAgJ1IaZpmh++0s7Oz+d2nP9H3Hf2x72R5N0Fo5JD23HHRf8edxYsXZ+zYsbntttsybty4HTghAAAA1KuUck/TNJ1bW8+ZQWyzmZPGpL2t/2bL2tv6Z+akMS2aCAAAAHi53DOIbXbKYSOTpOtpYiOGtGfmpDFdywEAAIC+z2ViAAAAADsBl4kBAAAAsAUxCAAAAKAiYhAAAABARcQgAAAAgIqIQQAAAAAVEYMAAAAAKiIGAQAAAFREDAIAAACoiBgEAAAAUBExCAAAAKAiYhAAAABARcQgAAAAgIqIQQAAAAAVEYMAAAAAKiIGAQAAAFREDAIAAACoiBgEAAAAUBExCAAAAKAiYhAAAABARcQgAAAAgIqIQQAAAAAVEYMAAAAAKiIGAQAAAFREDAIAAACoiBgEAAAAUBExCAAAAKAiYhAAAABARcQgAAAAgIqIQQAAAAAVEYMAAAAAKiIGAQAAAFREDAIAAACoiBgEAAAAUJHSNM2O32kpjyR5cIfvmO1h7ySPtnoI+hTHBN1xXNAdxwXdcVzQHccFv8sxQXccF8mopmmGbW2llsQgdh6llIVN03S2eg76DscE3XFc0B3HBd1xXNAdxwW/yzFBdxwX285lYgAAAAAVEYMAAAAAKiIG0VOfa/UA9DmOCbrjuKA7jgu647igO44Lfpdjgu44LraRewYBAAAAVMSZQQAAAAAVEYPokVLK7FLK/aWU/yilXFdKGdLqmWi9UsrppZQlpZTnSynu5l+5UsrkUsrSUsoDpZSLWj0PrVdK+b+llIdLKYtbPQt9Qyllv1LKbaWU+zb99+N9rZ6J1iulDCyl3F1K+emm4+LDrZ6JvqOU0r+UsqiU8o1Wz0LfUEr5VSnl3lLKT0opC1s9T18nBtFTC5Ic0jTNoUl+nuTiFs9D37A4yalJbm/1ILRWKaV/kk8lOT7JwUneWUo5uLVT0QfMSTK51UPQp6xP8jdN07wpyZFJLvDvCpI8m2R80zRvTvKWJJNLKUe2eCb6jvclua/VQ9Dn/EnTNG/xePmtE4PokaZpbmmaZv2ml3cl2beV89A3NE1zX9M0S1s9B33CEUkeaJrml03TrEvy/5Kc3OKZaLGmaW5P8lir56DvaJpmZdM0P970/VPZ+AveyNZORas1Gz296WXbpi83PCWllH2TTEnyhVbPAq9WYhC96awk32r1EECfMjLJr1/0eln8gge8hFLK6CSHJflhayehL9h0KdBPkjycZEHTNI4LkuQTST6Q5PlWD0Kf0iS5pZRyTynl7FYP09ft0uoB6PtKKbcm6ejmrUuaprl+0zqXZOMp3v+6I2ejdbbluIAkpZtl/lYX6FYpZfck1ya5sGmaJ1s9D63XNM2GJG/ZdF/K60ophzRN435jFSulnJDk4aZp7imljGv1PPQpRzdNs6KUMjzJglLK/ZvORqYbYhBb1TTNxJd6v5Ty7iQnJJnQNI1f8iqxteMCNlmWZL8Xvd43yYoWzQL0YaWUtmwMQf/aNM28Vs9D39I0zapSynez8X5jYlDdjk5yUinl7UkGJtmjlHJN0zT/q8Vz0WJN06zY9M+HSynXZePtCsSg38NlYvRIKWVykr9NclLTNKtbPQ/Q5/woyYGllANKKQOSTEtyQ4tnAvqYUkpJ8sUk9zVNc0Wr56FvKKUMe+FJtaWU9iQTk9zf2qlotaZpLm6aZt+maUZn4/9XfEcIopQyqJQy+IXvkxwX4fgliUH01FVJBmfjaXg/KaV8ptUD0XqllKmllGVJ3prkplLKza2eidbYdIP59ya5ORtvCPu1pmmWtHYqWq2U8tUkdyYZU0pZVkr5362eiZY7OsmZScZv+v+Jn2z6W3/q9tokt5VS/iMb/3JhQdM0HiMOdGefJD8opfw0yd1Jbmqa5tstnqlPK67qAQAAAKiHM4MAAAAAKiIGAQAAAFREDAIAAACoiBgEAAAAUBExCAAAAKAiYhAAAABARcQgAAAAgIqIQQAAAAAV+f+QJI3nFqXtiAAAAABJRU5ErkJggg==\n",
      "text/plain": [
       "<Figure size 1440x1080 with 1 Axes>"
      ]
     },
     "metadata": {
      "needs_background": "light"
     },
     "output_type": "display_data"
    }
   ],
   "source": [
    "# create a nice big plot \n",
    "plt.figure(figsize=(20,15))\n",
    "\n",
    "# plot the scatter plot of where the words will be\n",
    "plt.scatter(word_vecs_2d[:,0], word_vecs_2d[:,1])\n",
    "\n",
    "# for each word and coordinate pair: draw the text on the plot\n",
    "for word, coord in zip(words, word_vecs_2d):\n",
    "    x, y = coord\n",
    "    plt.text(x, y, word, size= 15)\n",
    "\n",
    "# show the plot\n",
    "plt.show()"
   ]
  },
  {
   "cell_type": "markdown",
   "metadata": {},
   "source": [
    "### Extract Document Vectors\n",
    "\n",
    "Let's see how much the quality of our query will work when we try a new embedding model.\n",
    "\n",
    "Steps:\n",
    "* Extract Vectors from Each Document\n",
    "* Search using KNN\n"
   ]
  },
  {
   "cell_type": "code",
   "execution_count": null,
   "metadata": {},
   "outputs": [],
   "source": []
  }
 ],
 "metadata": {
  "kernelspec": {
   "display_name": "U4-S1-NLP (Python 3.6)",
   "language": "python",
   "name": "u4-s1-nlp"
  },
  "language_info": {
   "codemirror_mode": {
    "name": "ipython",
    "version": 3
   },
   "file_extension": ".py",
   "mimetype": "text/x-python",
   "name": "python",
   "nbconvert_exporter": "python",
   "pygments_lexer": "ipython3",
   "version": "3.7.3"
  }
 },
 "nbformat": 4,
 "nbformat_minor": 2
}
