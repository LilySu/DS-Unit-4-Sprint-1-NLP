{
 "cells": [
  {
   "cell_type": "code",
   "execution_count": null,
   "metadata": {},
   "outputs": [],
   "source": [
    "# topic modeling - describes text - like dimensionality reduction\n",
    "\n",
    "# latent - existing but concealed - like knowing what a book is \n",
    "\n",
    "# dirchilet \n",
    "\n",
    "# allocating words to get through topic\n",
    "\n",
    "# identifies themes in amazon reviews\n",
    "# identify needle in haystack - what documents are a red flag monitor email communications\n",
    "\n",
    "# summarizes investment risk in banks\n",
    "\n",
    "# how does a LDA model work?\n",
    "# estimate an LDA model with Jensen, correctly interpret results when you are not getting a prediction, but a probability distribution, strategies to select topics\n",
    "\n",
    "# two inputs, two outputs\n",
    "# alpha parameter - document topic density - higher parameter, model has more topics \n",
    "# beta parameter - word distribution  higher, more common words are more important to topic\n",
    "\n",
    "# we're learning words to different topics\n",
    "\n",
    "# document topic distribution - rows add up to 1 if I sample, I should recreate the bag of words aspect of document\n",
    "\n",
    "# topics are probability distributions\n",
    "\n",
    "# mechanics of LDA:\n",
    "# tables represent topics, people represent words, batches of people come in like batches of documents\n",
    "# people are assigned a table, to whichever table is open at the moment - like allocation. people are d in lda\n",
    "# As people leave, table does not have a fixed capacity\n",
    "# you take a snapshot to see what the performance looks like\n",
    "# you restart allocation again to get a better result. \n",
    "# tables are topics, and topics start to follow is dirchillet\n",
    "\n",
    "# tables could use a gibbs model or bayesian technique\n",
    "\n",
    "# you are looking at document and how well it falls in topic distribution. You choose input, how you preprocess text, determines how topic distributions look like. \n",
    "\n",
    "# anything listed as an objective is on the sprint challenge\n",
    "\n",
    "#LDA latent dirchilet allocation\n",
    "#a generalized probabilistic model\n",
    "#identifying patterns of themes\n",
    "#hidden - having a sense of what the book is about, dirchilet - distribution a\n",
    "#why topic modeling:\n",
    "#needle in haystack identify extremely opinionated comments, red flagging classified information\n",
    "#monitors email communications\n",
    "#summarize financial and security risk 50,000 250 pages each\n",
    "\n",
    "#we are using gensim"
   ]
  },
  {
   "cell_type": "code",
   "execution_count": 1,
   "metadata": {},
   "outputs": [],
   "source": [
    "import warnings\n",
    "warnings.filterwarnings('ignore')"
   ]
  },
  {
   "cell_type": "markdown",
   "metadata": {},
   "source": [
    "<img align=\"left\" src=\"https://lever-client-logos.s3.amazonaws.com/864372b1-534c-480e-acd5-9711f850815c-1524247202159.png\" width=200>\n",
    "<br></br>\n",
    "<br></br>\n",
    "\n",
    "# Topic Modeling\n",
    "## *Data Science Unit 4 Sprint 1 Lesson 4*\n",
    "On Monday we talked about summarizing your documents using just token counts. Today, we're going to learn about a much more sophiscated approach - learning 'topics' from documents. Topics are a latent structure. They are not directly observable in the data, but we know they're there by reading them.\n",
    "\n",
    "> **latent**: existing but not yet developed or manifest; hidden or concealed.\n",
    "\n",
    "## Use Cases\n",
    "Primary use case: what the hell are your documents about? Who might want to know that in industry - \n",
    "* Identifing common themes in customer reviews\n",
    "* Discoverying the needle in a haystack \n",
    "* Monitoring communications (Email - State Department) \n",
    "\n",
    "## Learning Objectives\n",
    "*At the end of the lesson you should be able to:*\n",
    "* <a href=\"#p1\">Part 1</a>: Describe how an LDA Model works\n",
    "* <a href=\"#p2\">Part 2</a>: Estimate a LDA Model with Gensim\n",
    "* <a href=\"#p3\">Part 3</a>: Interpret LDA results\n",
    "* <a href=\"#p4\">Part 4</a>: Select the appropriate number of topics"
   ]
  },
  {
   "cell_type": "markdown",
   "metadata": {},
   "source": [
    "## Part 1: Latent Dirchilet Allocation (LDA) Models\n",
    "<a id=\"#p1\"></a>\n",
    "\n",
    "LDA is a \"generative probabilistic model\". \n",
    "\n",
    "Let's play with a modoel available [here](https://lettier.com/projects/lda-topic-modeling/)"
   ]
  },
  {
   "cell_type": "markdown",
   "metadata": {},
   "source": [
    "## Part 2: Estimating LDA Models with Gensim\n",
    "<a id=\"#p1\"></a>\n",
    "\n",
    "### A Litterary Introduction: *Jane Austen V. Charlotte Bronte*\n",
    "Despite being born nearly forty years apart, modern fans often pit Jane Austen & Charlotte Bronte against one another in a battle for litterary  supremacy. The battle centers around the topics of education for women, courting, and marriage. The authors' similiar backgrounds naturally draw comparisons, but the modern fascination is probably due to novelility of British women publishing novels during the early 19th century. \n",
    "\n",
    "Can we help close a litterary battle for supremacy and simply acknowledge that the authors addressed different topics and deserve to be acknowledged as excellent authors each in their own right?\n",
    "\n",
    "We're going to apply Latent Dirichlet Allocation a machine learning alogrithm for topic modeling to each of the author's novels to compare the distribution of topics in their novels."
   ]
  },
  {
   "cell_type": "code",
   "execution_count": 4,
   "metadata": {},
   "outputs": [
    {
     "name": "stdout",
     "output_type": "stream",
     "text": [
      "Collecting package metadata (current_repodata.json): ...working... done\n",
      "Solving environment: ...working... done\n",
      "\n",
      "## Package Plan ##\n",
      "\n",
      "  environment location: C:\\Users\\lilyx\\Anaconda3\n",
      "\n",
      "  added / updated specs:\n",
      "    - gensim\n",
      "\n",
      "\n",
      "The following packages will be downloaded:\n",
      "\n",
      "    package                    |            build\n",
      "    ---------------------------|-----------------\n",
      "    boto3-1.9.162              |             py_0          88 KB  anaconda\n",
      "    botocore-1.12.199          |             py_0         3.4 MB  anaconda\n",
      "    bz2file-0.98               |           py37_1          13 KB  anaconda\n",
      "    gensim-3.4.0               |   py37hfa6e2cd_0        21.4 MB  anaconda\n",
      "    jmespath-0.9.4             |             py_0          22 KB  anaconda\n",
      "    mkl-service-1.1.2          |   py37hb782905_5         134 KB  anaconda\n",
      "    s3transfer-0.2.1           |           py37_0          96 KB  anaconda\n",
      "    smart_open-1.8.4           |             py_0          55 KB  anaconda\n",
      "    ------------------------------------------------------------\n",
      "                                           Total:        25.2 MB\n",
      "\n",
      "The following NEW packages will be INSTALLED:\n",
      "\n",
      "  boto3              anaconda/noarch::boto3-1.9.162-py_0\n",
      "  botocore           anaconda/noarch::botocore-1.12.199-py_0\n",
      "  bz2file            anaconda/win-64::bz2file-0.98-py37_1\n",
      "  gensim             anaconda/win-64::gensim-3.4.0-py37hfa6e2cd_0\n",
      "  jmespath           anaconda/noarch::jmespath-0.9.4-py_0\n",
      "  s3transfer         anaconda/win-64::s3transfer-0.2.1-py37_0\n",
      "  smart_open         anaconda/noarch::smart_open-1.8.4-py_0\n",
      "\n",
      "The following packages will be SUPERSEDED by a higher-priority channel:\n",
      "\n",
      "  mkl-service                                     pkgs/main --> anaconda\n",
      "\n",
      "\n",
      "\n",
      "Downloading and Extracting Packages\n",
      "\n",
      "bz2file-0.98         | 13 KB     |            |   0% \n",
      "bz2file-0.98         | 13 KB     | ########## | 100% \n",
      "\n",
      "boto3-1.9.162        | 88 KB     |            |   0% \n",
      "boto3-1.9.162        | 88 KB     | ########## | 100% \n",
      "\n",
      "gensim-3.4.0         | 21.4 MB   |            |   0% \n",
      "gensim-3.4.0         | 21.4 MB   | 3          |   4% \n",
      "gensim-3.4.0         | 21.4 MB   | #5         |  16% \n",
      "gensim-3.4.0         | 21.4 MB   | ##5        |  26% \n",
      "gensim-3.4.0         | 21.4 MB   | ###2       |  32% \n",
      "gensim-3.4.0         | 21.4 MB   | ###9       |  39% \n",
      "gensim-3.4.0         | 21.4 MB   | ####8      |  48% \n",
      "gensim-3.4.0         | 21.4 MB   | #####5     |  55% \n",
      "gensim-3.4.0         | 21.4 MB   | ######2    |  62% \n",
      "gensim-3.4.0         | 21.4 MB   | ######8    |  68% \n",
      "gensim-3.4.0         | 21.4 MB   | #######4   |  74% \n",
      "gensim-3.4.0         | 21.4 MB   | ########2  |  82% \n",
      "gensim-3.4.0         | 21.4 MB   | #########  |  91% \n",
      "gensim-3.4.0         | 21.4 MB   | #########7 |  98% \n",
      "gensim-3.4.0         | 21.4 MB   | ########## | 100% \n",
      "\n",
      "jmespath-0.9.4       | 22 KB     |            |   0% \n",
      "jmespath-0.9.4       | 22 KB     | ########## | 100% \n",
      "\n",
      "mkl-service-1.1.2    | 134 KB    |            |   0% \n",
      "mkl-service-1.1.2    | 134 KB    | ########## | 100% \n",
      "\n",
      "s3transfer-0.2.1     | 96 KB     |            |   0% \n",
      "s3transfer-0.2.1     | 96 KB     | ########## | 100% \n",
      "\n",
      "smart_open-1.8.4     | 55 KB     |            |   0% \n",
      "smart_open-1.8.4     | 55 KB     | ########## | 100% \n",
      "\n",
      "botocore-1.12.199    | 3.4 MB    |            |   0% \n",
      "botocore-1.12.199    | 3.4 MB    | ####       |  40% \n",
      "botocore-1.12.199    | 3.4 MB    | ######1    |  62% \n",
      "botocore-1.12.199    | 3.4 MB    | ########## | 100% \n",
      "Preparing transaction: ...working... done\n",
      "Verifying transaction: ...working... done\n",
      "Executing transaction: ...working... done\n",
      "\n",
      "Note: you may need to restart the kernel to use updated packages.\n"
     ]
    }
   ],
   "source": [
    "conda install -c anaconda gensim"
   ]
  },
  {
   "cell_type": "code",
   "execution_count": 5,
   "metadata": {},
   "outputs": [
    {
     "name": "stderr",
     "output_type": "stream",
     "text": [
      "C:\\Users\\lilyx\\Anaconda3\\lib\\site-packages\\gensim\\utils.py:1197: UserWarning: detected Windows; aliasing chunkize to chunkize_serial\n",
      "  warnings.warn(\"detected Windows; aliasing chunkize to chunkize_serial\")\n"
     ]
    }
   ],
   "source": [
    "import numpy as np\n",
    "import gensim\n",
    "import os\n",
    "import re\n",
    "\n",
    "from gensim.utils import simple_preprocess\n",
    "from gensim.parsing.preprocessing import STOPWORDS\n",
    "from gensim import corpora\n",
    "\n",
    "from gensim.models.ldamulticore import LdaMulticore\n",
    "\n",
    "import pandas as pd"
   ]
  },
  {
   "cell_type": "markdown",
   "metadata": {},
   "source": [
    "### Novel Data\n",
    "I grabbed the novel data pre-split into a bunch of smaller chuncks"
   ]
  },
  {
   "cell_type": "code",
   "execution_count": 6,
   "metadata": {},
   "outputs": [],
   "source": [
    "path = './data/austen-brontë-split'\n",
    "#chunks of text about 100 lines each "
   ]
  },
  {
   "cell_type": "markdown",
   "metadata": {},
   "source": [
    "### Text Preprocessing\n",
    "**Challenge**: update the function `tokenize` with any technique you have learned so far this week. "
   ]
  },
  {
   "cell_type": "code",
   "execution_count": 7,
   "metadata": {},
   "outputs": [],
   "source": [
    "titles = [t[:-4] for t in os.listdir(path)]"
   ]
  },
  {
   "cell_type": "code",
   "execution_count": 8,
   "metadata": {},
   "outputs": [
    {
     "data": {
      "text/plain": [
       "['Austen_Emma0000',\n",
       " 'Austen_Emma0001',\n",
       " 'Austen_Emma0002',\n",
       " 'Austen_Emma0003',\n",
       " 'Austen_Emma0004']"
      ]
     },
     "execution_count": 8,
     "metadata": {},
     "output_type": "execute_result"
    }
   ],
   "source": [
    "titles[:5]"
   ]
  },
  {
   "cell_type": "code",
   "execution_count": 81,
   "metadata": {},
   "outputs": [
    {
     "ename": "NameError",
     "evalue": "name 'text' is not defined",
     "output_type": "error",
     "traceback": [
      "\u001b[1;31m---------------------------------------------------------------------------\u001b[0m",
      "\u001b[1;31mNameError\u001b[0m                                 Traceback (most recent call last)",
      "\u001b[1;32m<ipython-input-81-aa785adca3fc>\u001b[0m in \u001b[0;36m<module>\u001b[1;34m\u001b[0m\n\u001b[1;32m----> 1\u001b[1;33m \u001b[0mtext\u001b[0m\u001b[1;33m\u001b[0m\u001b[1;33m\u001b[0m\u001b[0m\n\u001b[0m",
      "\u001b[1;31mNameError\u001b[0m: name 'text' is not defined"
     ]
    }
   ],
   "source": [
    "text"
   ]
  },
  {
   "cell_type": "code",
   "execution_count": 9,
   "metadata": {},
   "outputs": [],
   "source": [
    "STOPWORDS = set(STOPWORDS).union(set(['said', 'mr', 'mrs']))\n",
    "\n",
    "def tokenize(text):\n",
    "    return [token for token in simple_preprocess(text) if token not in STOPWORDS]"
   ]
  },
  {
   "cell_type": "code",
   "execution_count": 10,
   "metadata": {},
   "outputs": [
    {
     "data": {
      "text/plain": [
       "['hello', 'world', 'test', 'tokenization', 'method']"
      ]
     },
     "execution_count": 10,
     "metadata": {},
     "output_type": "execute_result"
    }
   ],
   "source": [
    "tokenize(\"Hello World! This a test of the tokenization method\")"
   ]
  },
  {
   "cell_type": "markdown",
   "metadata": {},
   "source": [
    "### Author DataFrame\n"
   ]
  },
  {
   "cell_type": "code",
   "execution_count": 11,
   "metadata": {},
   "outputs": [],
   "source": [
    "df = pd.DataFrame(index=titles)"
   ]
  },
  {
   "cell_type": "code",
   "execution_count": 12,
   "metadata": {},
   "outputs": [
    {
     "data": {
      "text/html": [
       "<div>\n",
       "<style scoped>\n",
       "    .dataframe tbody tr th:only-of-type {\n",
       "        vertical-align: middle;\n",
       "    }\n",
       "\n",
       "    .dataframe tbody tr th {\n",
       "        vertical-align: top;\n",
       "    }\n",
       "\n",
       "    .dataframe thead th {\n",
       "        text-align: right;\n",
       "    }\n",
       "</style>\n",
       "<table border=\"1\" class=\"dataframe\">\n",
       "  <thead>\n",
       "    <tr style=\"text-align: right;\">\n",
       "      <th></th>\n",
       "    </tr>\n",
       "  </thead>\n",
       "  <tbody>\n",
       "    <tr>\n",
       "      <th>Austen_Emma0000</th>\n",
       "    </tr>\n",
       "    <tr>\n",
       "      <th>Austen_Emma0001</th>\n",
       "    </tr>\n",
       "    <tr>\n",
       "      <th>Austen_Emma0002</th>\n",
       "    </tr>\n",
       "    <tr>\n",
       "      <th>Austen_Emma0003</th>\n",
       "    </tr>\n",
       "    <tr>\n",
       "      <th>Austen_Emma0004</th>\n",
       "    </tr>\n",
       "  </tbody>\n",
       "</table>\n",
       "</div>"
      ],
      "text/plain": [
       "Empty DataFrame\n",
       "Columns: []\n",
       "Index: [Austen_Emma0000, Austen_Emma0001, Austen_Emma0002, Austen_Emma0003, Austen_Emma0004]"
      ]
     },
     "execution_count": 12,
     "metadata": {},
     "output_type": "execute_result"
    }
   ],
   "source": [
    "df.head()"
   ]
  },
  {
   "cell_type": "code",
   "execution_count": 13,
   "metadata": {},
   "outputs": [],
   "source": [
    "df['author'] = df.reset_index()['index'].apply(lambda x: x.split('_')[0]).tolist()\n",
    "df['book'] = df.reset_index()['index'].apply(lambda x: x.split('_')[1][:-4]).tolist()\n",
    "df['section'] = df.reset_index()['index'].apply(lambda x: x[-4:]).tolist()\n",
    "df['section'] = df['section'].astype('int')"
   ]
  },
  {
   "cell_type": "code",
   "execution_count": 14,
   "metadata": {},
   "outputs": [],
   "source": [
    "df['author'] = df['author'].map({'Austen':1, 'CBronte':0})"
   ]
  },
  {
   "cell_type": "code",
   "execution_count": 15,
   "metadata": {},
   "outputs": [
    {
     "data": {
      "text/plain": [
       "0    441\n",
       "1    372\n",
       "Name: author, dtype: int64"
      ]
     },
     "execution_count": 15,
     "metadata": {},
     "output_type": "execute_result"
    }
   ],
   "source": [
    "df.author.value_counts()#400 sections from each author"
   ]
  },
  {
   "cell_type": "markdown",
   "metadata": {},
   "source": [
    "### Streaming Documents\n",
    "Here we use a new pythonic thingy: the `yield` statement in our fucntion. This allows us to iterate over a bunch of documents without actually reading them into memory. You can see how we use this fucntion later on. "
   ]
  },
  {
   "cell_type": "code",
   "execution_count": 19,
   "metadata": {},
   "outputs": [],
   "source": [
    "def doc_stream(path):#returns a generator object\n",
    "    for f in os.listdir(path):\n",
    "        with open(os.path.join(path,f)) as t:#iterate over path\n",
    "            text = t.read().strip('\\n')#open file in path\n",
    "            tokens = tokenize(str(text))#generate tokens\n",
    "            yield tokens# allows us to iterate over a bunch of documents one at a time,\n",
    "            #returning what you need, without loading up memory"
   ]
  },
  {
   "cell_type": "code",
   "execution_count": 17,
   "metadata": {},
   "outputs": [],
   "source": [
    "# streaming_data = doc_stream(path)\n",
    "# streaming_data#generator object\n",
    "# gets an instance of a class, returns docstring memory hash\n",
    "#most gains are coming from not reading in all documents at once. \n",
    "#generator objects are exhaustable\n",
    "#for drop in streaming_data:\n",
    "#    print(drop)\n",
    "#I gone over the entire generator, so it's no longer stored in memory\n",
    "#it would need to be reinstantiated\n",
    "#for loop can be used only once"
   ]
  },
  {
   "cell_type": "markdown",
   "metadata": {},
   "source": [
    "### Gensim LDA Topic Modeling"
   ]
  },
  {
   "cell_type": "code",
   "execution_count": null,
   "metadata": {},
   "outputs": [],
   "source": [
    "#pass in token as a string\n",
    "#you will get a class instance\n",
    "#id2word.token2id('england')#turn words into counts - like count vectorizor\n",
    "#pass token as a string and looks up what number the word is indexed\n",
    "#id2word is a class"
   ]
  },
  {
   "cell_type": "code",
   "execution_count": 82,
   "metadata": {},
   "outputs": [
    {
     "data": {
      "text/plain": [
       "'./data/austen-brontë-split'"
      ]
     },
     "execution_count": 82,
     "metadata": {},
     "output_type": "execute_result"
    }
   ],
   "source": [
    "path"
   ]
  },
  {
   "cell_type": "code",
   "execution_count": 20,
   "metadata": {},
   "outputs": [],
   "source": [
    "# A Dictionary Representation of all the words in our corpus\n",
    "id2word = corpora.Dictionary(doc_stream(path))#fit portion of vectorizor"
   ]
  },
  {
   "cell_type": "code",
   "execution_count": 21,
   "metadata": {},
   "outputs": [
    {
     "data": {
      "text/plain": [
       "[(2754, 1), (3987, 3), (6602, 1), (6819, 1)]"
      ]
     },
     "execution_count": 21,
     "metadata": {},
     "output_type": "execute_result"
    }
   ],
   "source": [
    "id2word.doc2bow(tokenize(\"This is a sample message Darcy England England England\"))#turn documents into counts\n",
    "#id of england, and how many times in dataset"
   ]
  },
  {
   "cell_type": "code",
   "execution_count": 22,
   "metadata": {},
   "outputs": [
    {
     "data": {
      "text/plain": [
       "56"
      ]
     },
     "execution_count": 22,
     "metadata": {},
     "output_type": "execute_result"
    }
   ],
   "source": [
    "import sys\n",
    "sys.getsizeof(id2word)"
   ]
  },
  {
   "cell_type": "code",
   "execution_count": 23,
   "metadata": {},
   "outputs": [
    {
     "data": {
      "text/plain": [
       "22096"
      ]
     },
     "execution_count": 23,
     "metadata": {},
     "output_type": "execute_result"
    }
   ],
   "source": [
    "len(id2word.keys())"
   ]
  },
  {
   "cell_type": "code",
   "execution_count": 24,
   "metadata": {},
   "outputs": [],
   "source": [
    "# Let's remove extreme values from the dataset\n",
    "id2word.filter_extremes(no_below=10, no_above=0.75)#just like max_df\n",
    "#word has to appear in at least 10 documents to be included. \n",
    "#75% of documents have the word in it"
   ]
  },
  {
   "cell_type": "code",
   "execution_count": 25,
   "metadata": {},
   "outputs": [
    {
     "data": {
      "text/plain": [
       "4922"
      ]
     },
     "execution_count": 25,
     "metadata": {},
     "output_type": "execute_result"
    }
   ],
   "source": [
    "len(id2word.keys())#number of documents after filtering extremes"
   ]
  },
  {
   "cell_type": "code",
   "execution_count": 26,
   "metadata": {},
   "outputs": [],
   "source": [
    "# a bag of words(bow) representation of our corpus\n",
    "# Note: we haven't actually read any text into memory here\n",
    "corpus = [id2word.doc2bow(text) for text in doc_stream(path)]\n",
    "#loop through everything in doc_stream, we are working with vector representations\n",
    "\n",
    "#we don't input documents as raw text, they are dictionaries of words and their document, topics\n",
    "#documents are vector representations similar to count vectorizer\n",
    "#loop over everything in docstring tranform as as bag of words, stored in variable as \"corpus\""
   ]
  },
  {
   "cell_type": "code",
   "execution_count": 27,
   "metadata": {},
   "outputs": [],
   "source": [
    "lda = LdaMulticore(corpus=corpus,\n",
    "                   id2word=id2word,\n",
    "                   random_state=723812,#for reproducability not very stable, different results\n",
    "                   num_topics = 15,\n",
    "                   passes=10,\n",
    "                   workers=4#multi-core\n",
    "                  )"
   ]
  },
  {
   "cell_type": "code",
   "execution_count": 29,
   "metadata": {},
   "outputs": [
    {
     "data": {
      "text/plain": [
       "[(0,\n",
       "  '0.001*\"miss\" + 0.001*\"day\" + 0.001*\"like\" + 0.001*\"know\" + 0.001*\"thing\" + 0.001*\"room\" + 0.001*\"thought\" + 0.001*\"love\" + 0.001*\"fairfax\" + 0.001*\"man\"'),\n",
       " (1,\n",
       "  '0.006*\"mason\" + 0.006*\"rochester\" + 0.005*\"sir\" + 0.005*\"mary\" + 0.005*\"john\" + 0.005*\"church\" + 0.005*\"brother\" + 0.004*\"diana\" + 0.004*\"home\" + 0.004*\"wife\"'),\n",
       " (2,\n",
       "  '0.014*\"weston\" + 0.013*\"emma\" + 0.009*\"think\" + 0.008*\"miss\" + 0.008*\"thing\" + 0.008*\"know\" + 0.007*\"knightley\" + 0.007*\"woodhouse\" + 0.007*\"great\" + 0.006*\"like\"'),\n",
       " (3,\n",
       "  '0.009*\"jane\" + 0.007*\"father\" + 0.007*\"know\" + 0.007*\"think\" + 0.007*\"wickham\" + 0.006*\"elizabeth\" + 0.006*\"letter\" + 0.005*\"soon\" + 0.005*\"shall\" + 0.005*\"believe\"'),\n",
       " (4,\n",
       "  '0.014*\"elizabeth\" + 0.013*\"darcy\" + 0.010*\"miss\" + 0.010*\"bingley\" + 0.007*\"bennet\" + 0.007*\"lady\" + 0.006*\"collins\" + 0.005*\"room\" + 0.005*\"young\" + 0.005*\"soon\"'),\n",
       " (5,\n",
       "  '0.006*\"monsieur\" + 0.006*\"like\" + 0.005*\"madame\" + 0.004*\"thought\" + 0.004*\"know\" + 0.004*\"day\" + 0.004*\"hand\" + 0.004*\"english\" + 0.004*\"paul\" + 0.003*\"eyes\"'),\n",
       " (6,\n",
       "  '0.029*\"miss\" + 0.017*\"jane\" + 0.013*\"mother\" + 0.012*\"know\" + 0.010*\"sure\" + 0.009*\"dixon\" + 0.009*\"yes\" + 0.008*\"bessie\" + 0.007*\"oh\" + 0.007*\"heard\"'),\n",
       " (7,\n",
       "  '0.016*\"hunsden\" + 0.009*\"crimsworth\" + 0.008*\"ingram\" + 0.007*\"like\" + 0.006*\"rochester\" + 0.006*\"man\" + 0.005*\"ll\" + 0.005*\"face\" + 0.004*\"thought\" + 0.004*\"room\"'),\n",
       " (8,\n",
       "  '0.019*\"emma\" + 0.012*\"miss\" + 0.012*\"harriet\" + 0.009*\"weston\" + 0.009*\"elton\" + 0.008*\"knightley\" + 0.008*\"thing\" + 0.007*\"think\" + 0.006*\"woodhouse\" + 0.006*\"know\"'),\n",
       " (9,\n",
       "  '0.012*\"elinor\" + 0.009*\"marianne\" + 0.007*\"know\" + 0.006*\"mother\" + 0.006*\"think\" + 0.006*\"sister\" + 0.006*\"miss\" + 0.005*\"lucy\" + 0.005*\"edward\" + 0.005*\"john\"'),\n",
       " (10,\n",
       "  '0.018*\"elizabeth\" + 0.015*\"jane\" + 0.010*\"bennet\" + 0.007*\"lydia\" + 0.007*\"know\" + 0.007*\"darcy\" + 0.006*\"soon\" + 0.006*\"think\" + 0.006*\"miss\" + 0.006*\"dear\"'),\n",
       " (11,\n",
       "  '0.008*\"graham\" + 0.008*\"georgiana\" + 0.007*\"young\" + 0.007*\"heard\" + 0.006*\"bessie\" + 0.006*\"come\" + 0.006*\"like\" + 0.005*\"school\" + 0.005*\"mother\" + 0.005*\"think\"'),\n",
       " (12,\n",
       "  '0.007*\"like\" + 0.005*\"night\" + 0.005*\"thought\" + 0.005*\"long\" + 0.005*\"room\" + 0.004*\"come\" + 0.004*\"door\" + 0.004*\"day\" + 0.004*\"saw\" + 0.004*\"rochester\"'),\n",
       " (13,\n",
       "  '0.015*\"elinor\" + 0.014*\"marianne\" + 0.014*\"sir\" + 0.009*\"colonel\" + 0.009*\"jennings\" + 0.008*\"house\" + 0.007*\"brandon\" + 0.006*\"willoughby\" + 0.006*\"room\" + 0.006*\"shall\"'),\n",
       " (14,\n",
       "  '0.020*\"st\" + 0.013*\"shall\" + 0.013*\"john\" + 0.012*\"diana\" + 0.008*\"jane\" + 0.008*\"rivers\" + 0.007*\"god\" + 0.007*\"like\" + 0.007*\"sir\" + 0.007*\"mary\"')]"
      ]
     },
     "execution_count": 29,
     "metadata": {},
     "output_type": "execute_result"
    }
   ],
   "source": [
    "lda.print_topics()#topics are list of tuples, id of topic, and probability * word"
   ]
  },
  {
   "cell_type": "code",
   "execution_count": 49,
   "metadata": {},
   "outputs": [
    {
     "data": {
      "text/plain": [
       "[(0,\n",
       "  '0.025*\"marianne\" + 0.022*\"elinor\" + 0.013*\"willoughby\" + 0.008*\"sister\" + 0.006*\"jennings\" + 0.006*\"mother\" + 0.006*\"heart\" + 0.005*\"moment\" + 0.005*\"mind\" + 0.005*\"long\"'),\n",
       " (1,\n",
       "  '0.020*\"miss\" + 0.016*\"reed\" + 0.016*\"bessie\" + 0.015*\"jane\" + 0.010*\"sir\" + 0.009*\"helen\" + 0.007*\"like\" + 0.006*\"yes\" + 0.006*\"shall\" + 0.006*\"think\"'),\n",
       " (2,\n",
       "  '0.020*\"marianne\" + 0.016*\"elinor\" + 0.013*\"dashwood\" + 0.010*\"john\" + 0.009*\"mother\" + 0.009*\"edward\" + 0.009*\"house\" + 0.006*\"sir\" + 0.006*\"willoughby\" + 0.006*\"middleton\"'),\n",
       " (3,\n",
       "  '0.021*\"emma\" + 0.014*\"miss\" + 0.013*\"harriet\" + 0.011*\"weston\" + 0.010*\"elton\" + 0.010*\"knightley\" + 0.009*\"thing\" + 0.008*\"think\" + 0.008*\"woodhouse\" + 0.007*\"know\"'),\n",
       " (4,\n",
       "  '0.009*\"night\" + 0.007*\"bretton\" + 0.007*\"like\" + 0.007*\"saw\" + 0.006*\"long\" + 0.005*\"thought\" + 0.004*\"white\" + 0.004*\"dr\" + 0.004*\"light\" + 0.004*\"know\"'),\n",
       " (5,\n",
       "  '0.019*\"elizabeth\" + 0.019*\"collins\" + 0.014*\"charlotte\" + 0.011*\"lucas\" + 0.010*\"jane\" + 0.009*\"bennet\" + 0.007*\"miss\" + 0.007*\"think\" + 0.006*\"soon\" + 0.006*\"day\"'),\n",
       " (6,\n",
       "  '0.014*\"rochester\" + 0.010*\"jane\" + 0.009*\"door\" + 0.008*\"sir\" + 0.008*\"room\" + 0.007*\"fairfax\" + 0.007*\"night\" + 0.006*\"house\" + 0.006*\"heard\" + 0.005*\"adele\"'),\n",
       " (7,\n",
       "  '0.006*\"like\" + 0.005*\"thought\" + 0.004*\"day\" + 0.004*\"know\" + 0.004*\"long\" + 0.003*\"hand\" + 0.003*\"eyes\" + 0.003*\"heart\" + 0.003*\"looked\" + 0.003*\"saw\"'),\n",
       " (8,\n",
       "  '0.015*\"miss\" + 0.010*\"ingram\" + 0.007*\"eshton\" + 0.006*\"temple\" + 0.006*\"lady\" + 0.006*\"like\" + 0.006*\"dent\" + 0.005*\"mary\" + 0.005*\"brocklehurst\" + 0.005*\"lynn\"'),\n",
       " (9,\n",
       "  '0.012*\"madame\" + 0.008*\"door\" + 0.008*\"like\" + 0.007*\"room\" + 0.006*\"graham\" + 0.005*\"long\" + 0.005*\"shall\" + 0.005*\"beck\" + 0.004*\"come\" + 0.004*\"think\"'),\n",
       " (10,\n",
       "  '0.008*\"elizabeth\" + 0.007*\"miss\" + 0.007*\"know\" + 0.006*\"sister\" + 0.006*\"think\" + 0.005*\"soon\" + 0.005*\"darcy\" + 0.005*\"elinor\" + 0.005*\"lady\" + 0.005*\"shall\"'),\n",
       " (11,\n",
       "  '0.015*\"papa\" + 0.012*\"graham\" + 0.006*\"home\" + 0.006*\"like\" + 0.006*\"man\" + 0.006*\"turned\" + 0.006*\"polly\" + 0.006*\"having\" + 0.005*\"lucy\" + 0.005*\"knew\"'),\n",
       " (12,\n",
       "  '0.009*\"bessie\" + 0.006*\"door\" + 0.006*\"fairfax\" + 0.006*\"shall\" + 0.005*\"know\" + 0.005*\"passed\" + 0.004*\"laugh\" + 0.004*\"heard\" + 0.004*\"justice\" + 0.004*\"sisters\"'),\n",
       " (13,\n",
       "  '0.012*\"bingley\" + 0.008*\"miss\" + 0.008*\"darcy\" + 0.007*\"elizabeth\" + 0.006*\"bennet\" + 0.006*\"letter\" + 0.005*\"great\" + 0.005*\"know\" + 0.004*\"think\" + 0.004*\"dear\"'),\n",
       " (14,\n",
       "  '0.010*\"know\" + 0.010*\"sir\" + 0.008*\"think\" + 0.008*\"jane\" + 0.008*\"rochester\" + 0.007*\"like\" + 0.006*\"thought\" + 0.005*\"yes\" + 0.005*\"love\" + 0.005*\"miss\"')]"
      ]
     },
     "execution_count": 49,
     "metadata": {},
     "output_type": "execute_result"
    }
   ],
   "source": []
  },
  {
   "cell_type": "code",
   "execution_count": 31,
   "metadata": {},
   "outputs": [],
   "source": [
    "words = [re.findall(r'\"([^\"]*)\"',t[1]) for t in lda.print_topics()]#cleaning"
   ]
  },
  {
   "cell_type": "code",
   "execution_count": 32,
   "metadata": {},
   "outputs": [],
   "source": [
    "topics = [' '.join(t[0:5]) for t in words]"
   ]
  },
  {
   "cell_type": "code",
   "execution_count": 33,
   "metadata": {},
   "outputs": [
    {
     "name": "stdout",
     "output_type": "stream",
     "text": [
      "miss day like know thing\n",
      "\n",
      "\n",
      "mason rochester sir mary john\n",
      "\n",
      "\n",
      "weston emma think miss thing\n",
      "\n",
      "\n",
      "jane father know think wickham\n",
      "\n",
      "\n",
      "elizabeth darcy miss bingley bennet\n",
      "\n",
      "\n",
      "monsieur like madame thought know\n",
      "\n",
      "\n",
      "miss jane mother know sure\n",
      "\n",
      "\n",
      "hunsden crimsworth ingram like rochester\n",
      "\n",
      "\n",
      "emma miss harriet weston elton\n",
      "\n",
      "\n",
      "elinor marianne know mother think\n",
      "\n",
      "\n",
      "elizabeth jane bennet lydia know\n",
      "\n",
      "\n",
      "graham georgiana young heard bessie\n",
      "\n",
      "\n",
      "like night thought long room\n",
      "\n",
      "\n",
      "elinor marianne sir colonel jennings\n",
      "\n",
      "\n",
      "st shall john diana jane\n",
      "\n",
      "\n"
     ]
    }
   ],
   "source": [
    "for t in topics:\n",
    "    print(t)\n",
    "    print('\\n')\n",
    "#print(topics[0])#typically use the first 3-5 words for visualization purposes"
   ]
  },
  {
   "cell_type": "markdown",
   "metadata": {},
   "source": [
    "## Part 3: Interpret LDA Results\n",
    "<a id=\"#p3\"></a>\n",
    "\n",
    "### Topic Distance Visualization"
   ]
  },
  {
   "cell_type": "code",
   "execution_count": 34,
   "metadata": {},
   "outputs": [],
   "source": [
    "import pyLDAvis.gensim\n",
    "\n",
    "pyLDAvis.enable_notebook()"
   ]
  },
  {
   "cell_type": "code",
   "execution_count": 35,
   "metadata": {},
   "outputs": [
    {
     "name": "stderr",
     "output_type": "stream",
     "text": [
      "C:\\Users\\lilyx\\Anaconda3\\lib\\site-packages\\pyLDAvis\\_prepare.py:257: FutureWarning: Sorting because non-concatenation axis is not aligned. A future version\n",
      "of pandas will change to not sort by default.\n",
      "\n",
      "To accept the future behavior, pass 'sort=False'.\n",
      "\n",
      "To retain the current behavior and silence the warning, pass 'sort=True'.\n",
      "\n",
      "  return pd.concat([default_term_info] + list(topic_dfs))\n"
     ]
    },
    {
     "data": {
      "text/html": [
       "\n",
       "<link rel=\"stylesheet\" type=\"text/css\" href=\"https://cdn.rawgit.com/bmabey/pyLDAvis/files/ldavis.v1.0.0.css\">\n",
       "\n",
       "\n",
       "<div id=\"ldavis_el1898021030576449046946818965\"></div>\n",
       "<script type=\"text/javascript\">\n",
       "\n",
       "var ldavis_el1898021030576449046946818965_data = {\"mdsDat\": {\"x\": [0.1061317668638733, -0.05605203555120649, 0.09960875883279482, -0.09283844771645282, -0.09364089505103526, -0.0988645744819393, 0.0673194494777761, -0.12115384430851489, 0.10188349980440846, -0.09651159251424024, -0.03515652682904703, 0.07141363703856007, -0.03941116661094601, 0.11386631957921946, 0.07340565146675007], \"y\": [0.02104769947931707, -0.023342786038740876, -0.01092939444919746, 0.0317843847846448, -0.036055878634436204, -0.0567589761785169, 0.001371869846871422, -0.0531458945148642, -0.10070143163945833, 0.052815026112210395, -0.016178219277109787, 0.08669090855076404, 0.11715786196705562, -0.019704935337158284, 0.005949765328618646], \"topics\": [1, 2, 3, 4, 5, 6, 7, 8, 9, 10, 11, 12, 13, 14, 15], \"cluster\": [1, 1, 1, 1, 1, 1, 1, 1, 1, 1, 1, 1, 1, 1, 1], \"Freq\": [27.061513900756836, 17.491405487060547, 16.611913681030273, 14.483068466186523, 7.12061071395874, 5.319048881530762, 2.9867851734161377, 2.5676143169403076, 1.6794912815093994, 1.6103453636169434, 1.210585117340088, 0.7107341885566711, 0.7086997032165527, 0.41934406757354736, 0.018844498321413994]}, \"tinfo\": {\"Category\": [\"Default\", \"Default\", \"Default\", \"Default\", \"Default\", \"Default\", \"Default\", \"Default\", \"Default\", \"Default\", \"Default\", \"Default\", \"Default\", \"Default\", \"Default\", \"Default\", \"Default\", \"Default\", \"Default\", \"Default\", \"Default\", \"Default\", \"Default\", \"Default\", \"Default\", \"Default\", \"Default\", \"Default\", \"Default\", \"Default\", \"Topic1\", \"Topic1\", \"Topic1\", \"Topic1\", \"Topic1\", \"Topic1\", \"Topic1\", \"Topic1\", \"Topic1\", \"Topic1\", \"Topic1\", \"Topic1\", \"Topic1\", \"Topic1\", \"Topic1\", \"Topic1\", \"Topic1\", \"Topic1\", \"Topic1\", \"Topic1\", \"Topic1\", \"Topic1\", \"Topic1\", \"Topic1\", \"Topic1\", \"Topic1\", \"Topic1\", \"Topic1\", \"Topic1\", \"Topic1\", \"Topic1\", \"Topic1\", \"Topic1\", \"Topic1\", \"Topic1\", \"Topic1\", \"Topic1\", \"Topic1\", \"Topic1\", \"Topic1\", \"Topic1\", \"Topic1\", \"Topic1\", \"Topic1\", \"Topic1\", \"Topic1\", \"Topic1\", \"Topic1\", \"Topic1\", \"Topic1\", \"Topic1\", \"Topic1\", \"Topic1\", \"Topic1\", \"Topic1\", \"Topic1\", \"Topic1\", \"Topic1\", \"Topic1\", \"Topic1\", \"Topic1\", \"Topic1\", \"Topic1\", \"Topic1\", \"Topic1\", \"Topic1\", \"Topic1\", \"Topic1\", \"Topic1\", \"Topic1\", \"Topic1\", \"Topic1\", \"Topic1\", \"Topic1\", \"Topic1\", \"Topic1\", \"Topic1\", \"Topic1\", \"Topic1\", \"Topic1\", \"Topic1\", \"Topic1\", \"Topic1\", \"Topic1\", \"Topic1\", \"Topic1\", \"Topic1\", \"Topic1\", \"Topic1\", \"Topic1\", \"Topic1\", \"Topic1\", \"Topic1\", \"Topic1\", \"Topic2\", \"Topic2\", \"Topic2\", \"Topic2\", \"Topic2\", \"Topic2\", \"Topic2\", \"Topic2\", \"Topic2\", \"Topic2\", \"Topic2\", \"Topic2\", \"Topic2\", \"Topic2\", \"Topic2\", \"Topic2\", \"Topic2\", \"Topic2\", \"Topic2\", \"Topic2\", \"Topic2\", \"Topic2\", \"Topic2\", \"Topic2\", \"Topic2\", \"Topic2\", \"Topic2\", \"Topic2\", \"Topic2\", \"Topic2\", \"Topic2\", \"Topic2\", \"Topic2\", \"Topic2\", \"Topic2\", \"Topic2\", \"Topic2\", \"Topic2\", \"Topic2\", \"Topic2\", \"Topic2\", \"Topic2\", \"Topic2\", \"Topic2\", \"Topic2\", \"Topic2\", \"Topic2\", \"Topic2\", \"Topic2\", \"Topic2\", \"Topic2\", \"Topic2\", \"Topic2\", \"Topic2\", \"Topic2\", \"Topic2\", \"Topic2\", \"Topic2\", \"Topic2\", \"Topic3\", \"Topic3\", \"Topic3\", \"Topic3\", \"Topic3\", \"Topic3\", \"Topic3\", \"Topic3\", \"Topic3\", \"Topic3\", \"Topic3\", \"Topic3\", \"Topic3\", \"Topic3\", \"Topic3\", \"Topic3\", \"Topic3\", \"Topic3\", \"Topic3\", \"Topic3\", \"Topic3\", \"Topic3\", \"Topic3\", \"Topic3\", \"Topic3\", \"Topic3\", \"Topic3\", \"Topic3\", \"Topic3\", \"Topic3\", \"Topic3\", \"Topic3\", \"Topic3\", \"Topic3\", \"Topic3\", \"Topic3\", \"Topic3\", \"Topic3\", \"Topic3\", \"Topic3\", \"Topic3\", \"Topic3\", \"Topic3\", \"Topic3\", \"Topic3\", \"Topic3\", \"Topic3\", \"Topic3\", \"Topic3\", \"Topic3\", \"Topic3\", \"Topic3\", \"Topic3\", \"Topic3\", \"Topic3\", \"Topic3\", \"Topic3\", \"Topic3\", \"Topic3\", \"Topic3\", \"Topic3\", \"Topic3\", \"Topic3\", \"Topic3\", \"Topic3\", \"Topic3\", \"Topic3\", \"Topic3\", \"Topic3\", \"Topic3\", \"Topic3\", \"Topic3\", \"Topic4\", \"Topic4\", \"Topic4\", \"Topic4\", \"Topic4\", \"Topic4\", \"Topic4\", \"Topic4\", \"Topic4\", \"Topic4\", \"Topic4\", \"Topic4\", \"Topic4\", \"Topic4\", \"Topic4\", \"Topic4\", \"Topic4\", \"Topic4\", \"Topic4\", \"Topic4\", \"Topic4\", \"Topic4\", \"Topic4\", \"Topic4\", \"Topic4\", \"Topic4\", \"Topic4\", \"Topic4\", \"Topic4\", \"Topic4\", \"Topic4\", \"Topic4\", \"Topic4\", \"Topic4\", \"Topic4\", \"Topic4\", \"Topic4\", \"Topic4\", \"Topic4\", \"Topic4\", \"Topic4\", \"Topic4\", \"Topic4\", \"Topic4\", \"Topic4\", \"Topic4\", \"Topic4\", \"Topic4\", \"Topic4\", \"Topic4\", \"Topic4\", \"Topic4\", \"Topic4\", \"Topic4\", \"Topic5\", \"Topic5\", \"Topic5\", \"Topic5\", \"Topic5\", \"Topic5\", \"Topic5\", \"Topic5\", \"Topic5\", \"Topic5\", \"Topic5\", \"Topic5\", \"Topic5\", \"Topic5\", \"Topic5\", \"Topic5\", \"Topic5\", \"Topic5\", \"Topic5\", \"Topic5\", \"Topic5\", \"Topic5\", \"Topic5\", \"Topic5\", \"Topic5\", \"Topic5\", \"Topic5\", \"Topic5\", \"Topic5\", \"Topic5\", \"Topic5\", \"Topic5\", \"Topic5\", \"Topic5\", \"Topic5\", \"Topic5\", \"Topic5\", \"Topic5\", \"Topic5\", \"Topic5\", \"Topic5\", \"Topic5\", \"Topic5\", \"Topic5\", \"Topic5\", \"Topic5\", \"Topic5\", \"Topic5\", \"Topic5\", \"Topic5\", \"Topic5\", \"Topic5\", \"Topic5\", \"Topic5\", \"Topic5\", \"Topic5\", \"Topic5\", \"Topic5\", \"Topic5\", \"Topic5\", \"Topic5\", \"Topic5\", \"Topic5\", \"Topic5\", \"Topic5\", \"Topic6\", \"Topic6\", \"Topic6\", \"Topic6\", \"Topic6\", \"Topic6\", \"Topic6\", \"Topic6\", \"Topic6\", \"Topic6\", \"Topic6\", \"Topic6\", \"Topic6\", \"Topic6\", \"Topic6\", \"Topic6\", \"Topic6\", \"Topic6\", \"Topic6\", \"Topic6\", \"Topic6\", \"Topic6\", \"Topic6\", \"Topic6\", \"Topic6\", \"Topic6\", \"Topic6\", \"Topic6\", \"Topic6\", \"Topic6\", \"Topic6\", \"Topic6\", \"Topic6\", \"Topic6\", \"Topic6\", \"Topic6\", \"Topic6\", \"Topic6\", \"Topic6\", \"Topic6\", \"Topic6\", \"Topic6\", \"Topic6\", \"Topic6\", \"Topic6\", \"Topic6\", \"Topic6\", \"Topic6\", \"Topic6\", \"Topic6\", \"Topic6\", \"Topic6\", \"Topic6\", \"Topic6\", \"Topic6\", \"Topic6\", \"Topic6\", \"Topic6\", \"Topic6\", \"Topic6\", \"Topic6\", \"Topic7\", \"Topic7\", \"Topic7\", \"Topic7\", \"Topic7\", \"Topic7\", \"Topic7\", \"Topic7\", \"Topic7\", \"Topic7\", \"Topic7\", \"Topic7\", \"Topic7\", \"Topic7\", \"Topic7\", \"Topic7\", \"Topic7\", \"Topic7\", \"Topic7\", \"Topic7\", \"Topic7\", \"Topic7\", \"Topic7\", \"Topic7\", \"Topic7\", \"Topic7\", \"Topic7\", \"Topic7\", \"Topic7\", \"Topic7\", \"Topic7\", \"Topic7\", \"Topic7\", \"Topic7\", \"Topic7\", \"Topic7\", \"Topic7\", \"Topic7\", \"Topic7\", \"Topic7\", \"Topic7\", \"Topic7\", \"Topic7\", \"Topic7\", \"Topic7\", \"Topic7\", \"Topic7\", \"Topic7\", \"Topic7\", \"Topic7\", \"Topic7\", \"Topic7\", \"Topic7\", \"Topic7\", \"Topic7\", \"Topic7\", \"Topic7\", \"Topic7\", \"Topic7\", \"Topic7\", \"Topic7\", \"Topic7\", \"Topic7\", \"Topic8\", \"Topic8\", \"Topic8\", \"Topic8\", \"Topic8\", \"Topic8\", \"Topic8\", \"Topic8\", \"Topic8\", \"Topic8\", \"Topic8\", \"Topic8\", \"Topic8\", \"Topic8\", \"Topic8\", \"Topic8\", \"Topic8\", \"Topic8\", \"Topic8\", \"Topic8\", \"Topic8\", \"Topic8\", \"Topic8\", \"Topic8\", \"Topic8\", \"Topic8\", \"Topic8\", \"Topic8\", \"Topic8\", \"Topic8\", \"Topic8\", \"Topic8\", \"Topic8\", \"Topic8\", \"Topic8\", \"Topic8\", \"Topic8\", \"Topic8\", \"Topic8\", \"Topic8\", \"Topic8\", \"Topic8\", \"Topic8\", \"Topic8\", \"Topic8\", \"Topic8\", \"Topic8\", \"Topic8\", \"Topic8\", \"Topic8\", \"Topic8\", \"Topic8\", \"Topic8\", \"Topic8\", \"Topic8\", \"Topic8\", \"Topic8\", \"Topic8\", \"Topic8\", \"Topic8\", \"Topic8\", \"Topic8\", \"Topic8\", \"Topic8\", \"Topic8\", \"Topic8\", \"Topic8\", \"Topic9\", \"Topic9\", \"Topic9\", \"Topic9\", \"Topic9\", \"Topic9\", \"Topic9\", \"Topic9\", \"Topic9\", \"Topic9\", \"Topic9\", \"Topic9\", \"Topic9\", \"Topic9\", \"Topic9\", \"Topic9\", \"Topic9\", \"Topic9\", \"Topic9\", \"Topic9\", \"Topic9\", \"Topic9\", \"Topic9\", \"Topic9\", \"Topic9\", \"Topic9\", \"Topic9\", \"Topic9\", \"Topic9\", \"Topic9\", \"Topic9\", \"Topic9\", \"Topic9\", \"Topic9\", \"Topic9\", \"Topic9\", \"Topic9\", \"Topic9\", \"Topic9\", \"Topic9\", \"Topic9\", \"Topic9\", \"Topic9\", \"Topic9\", \"Topic9\", \"Topic9\", \"Topic9\", \"Topic9\", \"Topic9\", \"Topic9\", \"Topic9\", \"Topic9\", \"Topic9\", \"Topic9\", \"Topic9\", \"Topic9\", \"Topic9\", \"Topic9\", \"Topic9\", \"Topic9\", \"Topic9\", \"Topic9\", \"Topic10\", \"Topic10\", \"Topic10\", \"Topic10\", \"Topic10\", \"Topic10\", \"Topic10\", \"Topic10\", \"Topic10\", \"Topic10\", \"Topic10\", \"Topic10\", \"Topic10\", \"Topic10\", \"Topic10\", \"Topic10\", \"Topic10\", \"Topic10\", \"Topic10\", \"Topic10\", \"Topic10\", \"Topic10\", \"Topic10\", \"Topic10\", \"Topic10\", \"Topic10\", \"Topic10\", \"Topic10\", \"Topic10\", \"Topic10\", \"Topic10\", \"Topic10\", \"Topic10\", \"Topic10\", \"Topic10\", \"Topic10\", \"Topic10\", \"Topic10\", \"Topic10\", \"Topic10\", \"Topic10\", \"Topic10\", \"Topic10\", \"Topic10\", \"Topic10\", \"Topic10\", \"Topic10\", \"Topic10\", \"Topic10\", \"Topic10\", \"Topic10\", \"Topic10\", \"Topic10\", \"Topic10\", \"Topic10\", \"Topic10\", \"Topic10\", \"Topic10\", \"Topic10\", \"Topic10\", \"Topic10\", \"Topic10\", \"Topic10\", \"Topic10\", \"Topic10\", \"Topic11\", \"Topic11\", \"Topic11\", \"Topic11\", \"Topic11\", \"Topic11\", \"Topic11\", \"Topic11\", \"Topic11\", \"Topic11\", \"Topic11\", \"Topic11\", \"Topic11\", \"Topic11\", \"Topic11\", \"Topic11\", \"Topic11\", \"Topic11\", \"Topic11\", \"Topic11\", \"Topic11\", \"Topic11\", \"Topic11\", \"Topic11\", \"Topic11\", \"Topic11\", \"Topic11\", \"Topic11\", \"Topic11\", \"Topic11\", \"Topic11\", \"Topic11\", \"Topic11\", \"Topic11\", \"Topic11\", \"Topic11\", \"Topic11\", \"Topic11\", \"Topic11\", \"Topic11\", \"Topic11\", \"Topic11\", \"Topic11\", \"Topic11\", \"Topic11\", \"Topic11\", \"Topic11\", \"Topic11\", \"Topic11\", \"Topic11\", \"Topic11\", \"Topic11\", \"Topic11\", \"Topic11\", \"Topic11\", \"Topic11\", \"Topic11\", \"Topic11\", \"Topic11\", \"Topic11\", \"Topic11\", \"Topic11\", \"Topic11\", \"Topic11\", \"Topic11\", \"Topic11\", \"Topic11\", \"Topic11\", \"Topic12\", \"Topic12\", \"Topic12\", \"Topic12\", \"Topic12\", \"Topic12\", \"Topic12\", \"Topic12\", \"Topic12\", \"Topic12\", \"Topic12\", \"Topic12\", \"Topic12\", \"Topic12\", \"Topic12\", \"Topic12\", \"Topic12\", \"Topic12\", \"Topic12\", \"Topic12\", \"Topic12\", \"Topic12\", \"Topic12\", \"Topic12\", \"Topic12\", \"Topic12\", \"Topic12\", \"Topic12\", \"Topic12\", \"Topic12\", \"Topic12\", \"Topic12\", \"Topic12\", \"Topic12\", \"Topic12\", \"Topic12\", \"Topic12\", \"Topic12\", \"Topic12\", \"Topic12\", \"Topic12\", \"Topic12\", \"Topic12\", \"Topic12\", \"Topic12\", \"Topic12\", \"Topic12\", \"Topic12\", \"Topic12\", \"Topic12\", \"Topic12\", \"Topic12\", \"Topic12\", \"Topic12\", \"Topic12\", \"Topic12\", \"Topic12\", \"Topic12\", \"Topic12\", \"Topic12\", \"Topic12\", \"Topic12\", \"Topic12\", \"Topic12\", \"Topic12\", \"Topic12\", \"Topic13\", \"Topic13\", \"Topic13\", \"Topic13\", \"Topic13\", \"Topic13\", \"Topic13\", \"Topic13\", \"Topic13\", \"Topic13\", \"Topic13\", \"Topic13\", \"Topic13\", \"Topic13\", \"Topic13\", \"Topic13\", \"Topic13\", \"Topic13\", \"Topic13\", \"Topic13\", \"Topic13\", \"Topic13\", \"Topic13\", \"Topic13\", \"Topic13\", \"Topic13\", \"Topic13\", \"Topic13\", \"Topic13\", \"Topic13\", \"Topic13\", \"Topic13\", \"Topic13\", \"Topic13\", \"Topic13\", \"Topic13\", \"Topic13\", \"Topic13\", \"Topic13\", \"Topic13\", \"Topic13\", \"Topic13\", \"Topic13\", \"Topic13\", \"Topic13\", \"Topic13\", \"Topic13\", \"Topic13\", \"Topic13\", \"Topic13\", \"Topic13\", \"Topic13\", \"Topic13\", \"Topic13\", \"Topic13\", \"Topic14\", \"Topic14\", \"Topic14\", \"Topic14\", \"Topic14\", \"Topic14\", \"Topic14\", \"Topic14\", \"Topic14\", \"Topic14\", \"Topic14\", \"Topic14\", \"Topic14\", \"Topic14\", \"Topic14\", \"Topic14\", \"Topic14\", \"Topic14\", \"Topic14\", \"Topic14\", \"Topic14\", \"Topic14\", \"Topic14\", \"Topic14\", \"Topic14\", \"Topic14\", \"Topic14\", \"Topic14\", \"Topic14\", \"Topic14\", \"Topic14\", \"Topic14\", \"Topic14\", \"Topic14\", \"Topic14\", \"Topic14\", \"Topic14\", \"Topic14\", \"Topic14\", \"Topic14\", \"Topic14\", \"Topic14\", \"Topic14\", \"Topic14\", \"Topic14\", \"Topic14\", \"Topic14\", \"Topic14\", \"Topic14\", \"Topic14\", \"Topic14\", \"Topic14\", \"Topic14\", \"Topic14\", \"Topic14\", \"Topic14\", \"Topic14\", \"Topic14\", \"Topic14\", \"Topic14\", \"Topic14\", \"Topic14\", \"Topic14\", \"Topic14\", \"Topic14\", \"Topic14\", \"Topic14\", \"Topic14\", \"Topic14\", \"Topic14\", \"Topic14\", \"Topic14\", \"Topic14\", \"Topic14\", \"Topic15\", \"Topic15\", \"Topic15\", \"Topic15\", \"Topic15\", \"Topic15\", \"Topic15\", \"Topic15\", \"Topic15\", \"Topic15\", \"Topic15\", \"Topic15\", \"Topic15\", \"Topic15\", \"Topic15\", \"Topic15\", \"Topic15\", \"Topic15\", \"Topic15\", \"Topic15\", \"Topic15\", \"Topic15\", \"Topic15\", \"Topic15\", \"Topic15\", \"Topic15\", \"Topic15\", \"Topic15\", \"Topic15\", \"Topic15\", \"Topic15\", \"Topic15\", \"Topic15\", \"Topic15\", \"Topic15\", \"Topic15\", \"Topic15\", \"Topic15\", \"Topic15\", \"Topic15\", \"Topic15\", \"Topic15\", \"Topic15\", \"Topic15\", \"Topic15\", \"Topic15\", \"Topic15\", \"Topic15\", \"Topic15\", \"Topic15\", \"Topic15\", \"Topic15\", \"Topic15\", \"Topic15\", \"Topic15\", \"Topic15\", \"Topic15\", \"Topic15\", \"Topic15\", \"Topic15\", \"Topic15\", \"Topic15\", \"Topic15\", \"Topic15\", \"Topic15\", \"Topic15\", \"Topic15\", \"Topic15\", \"Topic15\", \"Topic15\", \"Topic15\", \"Topic15\", \"Topic15\", \"Topic15\", \"Topic15\", \"Topic15\", \"Topic15\", \"Topic15\", \"Topic15\", \"Topic15\", \"Topic15\"], \"Freq\": [1518.0, 863.0, 639.0, 931.0, 1426.0, 527.0, 1354.0, 620.0, 1304.0, 618.0, 435.0, 647.0, 926.0, 593.0, 781.0, 835.0, 527.0, 1062.0, 388.0, 366.0, 625.0, 598.0, 609.0, 892.0, 310.0, 947.0, 821.0, 399.0, 377.0, 660.0, 27.437549591064453, 27.355030059814453, 22.23590850830078, 17.2808895111084, 16.240135192871094, 26.75676727294922, 14.265130043029785, 14.242733001708984, 95.49488830566406, 14.238663673400879, 17.005462646484375, 19.8236083984375, 49.14155197143555, 26.1607666015625, 11.220514297485352, 14.037175178527832, 11.202330589294434, 11.186389923095703, 13.023727416992188, 17.692825317382812, 11.143218040466309, 12.085343360900879, 19.595327377319336, 13.007125854492188, 10.190089225769043, 15.777300834655762, 10.163084983825684, 10.129683494567871, 11.054105758666992, 11.049393653869629, 34.231510162353516, 126.66617584228516, 16.5833740234375, 57.53569030761719, 29.956151962280273, 29.034849166870117, 70.18941497802734, 40.880123138427734, 39.84815216064453, 57.30881881713867, 37.78498077392578, 32.39834976196289, 27.027782440185547, 89.21056365966797, 280.0869140625, 82.06026458740234, 85.4435043334961, 185.1869659423828, 176.93955993652344, 177.63243103027344, 92.58396911621094, 64.33277893066406, 408.5340881347656, 161.55831909179688, 161.24925231933594, 135.8864288330078, 96.97769165039062, 97.02122497558594, 122.50714111328125, 204.36419677734375, 132.6161346435547, 297.343994140625, 82.5502700805664, 183.41055297851562, 146.8833770751953, 561.7466430664062, 255.41241455078125, 152.93211364746094, 239.8767852783203, 352.0921325683594, 363.14971923828125, 275.01593017578125, 277.6693420410156, 382.4520263671875, 311.39093017578125, 200.229248046875, 274.0047302246094, 285.6121826171875, 194.98886108398438, 256.9602966308594, 177.56793212890625, 293.6780700683594, 248.4556121826172, 204.9082489013672, 218.2067413330078, 224.00143432617188, 184.669189453125, 214.14080810546875, 218.1371307373047, 202.67984008789062, 234.7816619873047, 225.6221160888672, 209.7711639404297, 199.8536834716797, 121.03665161132812, 35.59767150878906, 33.67310333251953, 28.11062240600586, 17.703723907470703, 15.00537109375, 14.061494827270508, 42.422950744628906, 14.692696571350098, 216.89849853515625, 585.0509033203125, 474.1623840332031, 268.054443359375, 177.61329650878906, 82.93838500976562, 62.42820739746094, 24.684185028076172, 29.38412857055664, 22.23004913330078, 21.223491668701172, 180.14578247070312, 14.557958602905273, 41.331668853759766, 67.8157730102539, 10.33081340789795, 107.51156616210938, 10.35916519165039, 11.613226890563965, 275.71502685546875, 60.52123260498047, 304.99224853515625, 310.6135559082031, 139.28262329101562, 250.74916076660156, 61.695465087890625, 110.03221893310547, 67.77096557617188, 351.4750671386719, 221.91195678710938, 305.5333251953125, 107.68709564208984, 223.25352478027344, 171.58071899414062, 277.95098876953125, 163.1922607421875, 123.43363189697266, 173.3591766357422, 180.81846618652344, 142.55662536621094, 144.44955444335938, 140.417724609375, 176.32334899902344, 153.94073486328125, 177.89759826660156, 140.1326446533203, 158.1455841064453, 149.9523468017578, 136.7344512939453, 143.43081665039062, 55.512718200683594, 38.53533172607422, 113.60832977294922, 47.13700485229492, 78.23332977294922, 280.6719665527344, 71.25186920166016, 29.035491943359375, 20.251750946044922, 38.60551071166992, 33.70677947998047, 50.79022216796875, 14.24213981628418, 17.040836334228516, 14.172064781188965, 34.85819625854492, 15.068676948547363, 18.863866806030273, 113.72164916992188, 62.407413482666016, 25.457778930664062, 30.145647048950195, 58.388572692871094, 36.66033935546875, 11.188202857971191, 12.112598419189453, 11.160662651062012, 12.080764770507812, 22.362478256225586, 41.12131881713867, 104.44673156738281, 60.683074951171875, 61.18088912963867, 45.57041549682617, 167.6031036376953, 79.5098648071289, 36.915069580078125, 139.5325927734375, 97.44561004638672, 95.250732421875, 104.08903503417969, 99.60894775390625, 86.25578308105469, 168.18655395507812, 60.15408706665039, 78.03418731689453, 66.7375259399414, 214.73382568359375, 77.76554870605469, 124.97261810302734, 94.45819854736328, 150.85194396972656, 187.67518615722656, 266.2590026855469, 113.63238525390625, 212.38961791992188, 158.3121795654297, 192.75437927246094, 112.7430648803711, 198.79092407226562, 151.47683715820312, 139.34475708007812, 129.7053680419922, 141.13027954101562, 118.92919921875, 134.64170837402344, 115.12181091308594, 112.6856689453125, 109.5819091796875, 107.83908081054688, 110.25711059570312, 106.6928482055664, 31.007953643798828, 508.4798889160156, 82.80722045898438, 17.123443603515625, 21.858070373535156, 47.51023483276367, 85.25588989257812, 356.9168395996094, 789.5236206054688, 351.4578552246094, 16.203784942626953, 135.07833862304688, 53.31431198120117, 195.888427734375, 108.58938598632812, 137.7608184814453, 67.99000549316406, 263.7127380371094, 368.4206237792969, 9.944294929504395, 17.03526496887207, 49.985755920410156, 193.96429443359375, 30.442232131958008, 85.48115539550781, 27.583316802978516, 23.64787483215332, 8.56137752532959, 22.662677764892578, 11.096940994262695, 19.02118492126465, 44.33139419555664, 155.97125244140625, 207.62564086914062, 332.93658447265625, 511.2459411621094, 205.40748596191406, 149.23220825195312, 164.99111938476562, 307.3091735839844, 236.8731231689453, 209.9386749267578, 160.93472290039062, 250.57127380371094, 192.57272338867188, 184.63821411132812, 154.2484130859375, 193.07606506347656, 176.6301727294922, 148.83868408203125, 145.88650512695312, 161.4885711669922, 157.2900848388672, 140.54595947265625, 31.110206604003906, 30.927398681640625, 8.625191688537598, 35.54562759399414, 210.66659545898438, 9.924781799316406, 46.62785720825195, 260.8444519042969, 112.55388641357422, 77.2354965209961, 7.525608062744141, 7.479618549346924, 9.04001522064209, 13.456682205200195, 36.15521240234375, 14.526623725891113, 27.738941192626953, 7.830617427825928, 16.238801956176758, 8.595732688903809, 18.780174255371094, 152.126220703125, 26.41196060180664, 9.363823890686035, 24.666061401367188, 5.993294715881348, 290.7974853515625, 18.63784408569336, 13.583860397338867, 6.042860984802246, 24.244400024414062, 34.352359771728516, 34.81788635253906, 29.890512466430664, 36.40570831298828, 148.43772888183594, 71.34332275390625, 30.993906021118164, 52.551231384277344, 86.82550048828125, 210.9831085205078, 44.9131965637207, 91.50252532958984, 31.000104904174805, 98.14095306396484, 38.3146858215332, 107.11682891845703, 72.04637908935547, 48.31855773925781, 94.26728057861328, 75.91785430908203, 82.25580596923828, 58.04352569580078, 80.83035278320312, 91.31912994384766, 90.2340316772461, 77.87329864501953, 77.17687225341797, 59.93792724609375, 69.88604736328125, 64.07193756103516, 67.82240295410156, 59.73463821411133, 56.94773864746094, 54.08207321166992, 51.398895263671875, 113.61526489257812, 54.33739471435547, 9.153945922851562, 7.808154582977295, 15.033414840698242, 15.21771240234375, 8.652983665466309, 8.90158748626709, 16.834877014160156, 30.086118698120117, 49.51376724243164, 11.798604965209961, 6.4650797843933105, 18.483871459960938, 52.30269241333008, 6.760756492614746, 146.42921447753906, 11.74152946472168, 5.7793121337890625, 17.402498245239258, 30.54636001586914, 272.24346923828125, 81.44210815429688, 10.351133346557617, 16.673664093017578, 5.5865159034729, 4.312932014465332, 5.495048522949219, 9.467611312866211, 45.6097297668457, 31.944820404052734, 56.886474609375, 222.32264709472656, 103.8178939819336, 77.69084930419922, 16.62936019897461, 84.94644165039062, 82.8304443359375, 46.37668228149414, 59.02883529663086, 37.89479446411133, 48.076141357421875, 65.92489624023438, 90.9363784790039, 46.179141998291016, 104.88533782958984, 42.07118225097656, 90.84879302978516, 36.13218688964844, 89.73143768310547, 62.540855407714844, 68.47164154052734, 56.82078170776367, 57.53076171875, 50.70915985107422, 61.46129608154297, 62.01641845703125, 53.30921936035156, 49.57646942138672, 53.085777282714844, 138.3031463623047, 26.594499588012695, 26.356822967529297, 17.580703735351562, 70.55433654785156, 76.33362579345703, 12.21845531463623, 12.159825325012207, 13.084568977355957, 13.72341537475586, 16.324783325195312, 13.755912780761719, 10.03792667388916, 5.650693893432617, 9.541638374328613, 7.607964038848877, 10.95016098022461, 10.872503280639648, 5.190092086791992, 5.420193195343018, 6.181699752807617, 4.481374740600586, 8.434073448181152, 3.9772119522094727, 16.708391189575195, 4.06115198135376, 5.556832313537598, 4.4035234451293945, 3.3293285369873047, 5.214179992675781, 46.239280700683594, 17.818302154541016, 6.983426094055176, 16.161453247070312, 8.249373435974121, 53.96717834472656, 14.74450397491455, 43.353763580322266, 20.215944290161133, 10.348713874816895, 49.90765380859375, 60.957088470458984, 27.123172760009766, 27.358057022094727, 22.441028594970703, 36.11212158203125, 33.76995849609375, 31.036653518676758, 37.1035270690918, 27.141578674316406, 29.9414119720459, 33.732810974121094, 32.35574722290039, 28.746490478515625, 24.968416213989258, 24.329618453979492, 22.878231048583984, 26.353771209716797, 21.29984474182129, 22.462116241455078, 21.810138702392578, 22.551774978637695, 21.67784309387207, 7.971452713012695, 6.110959053039551, 10.180848121643066, 15.858098983764648, 9.012981414794922, 9.763190269470215, 32.39961242675781, 4.266620635986328, 3.941464900970459, 4.862541198730469, 4.071071624755859, 7.343198299407959, 3.977152109146118, 4.510815620422363, 6.236523628234863, 3.408298969268799, 5.788813591003418, 4.347591400146484, 4.320523262023926, 3.2687113285064697, 26.678211212158203, 4.2506327629089355, 5.037978172302246, 48.568302154541016, 4.6352763175964355, 3.1878557205200195, 3.150071144104004, 11.166675567626953, 2.8013322353363037, 2.489030599594116, 4.360644817352295, 6.016702651977539, 27.978364944458008, 10.504971504211426, 28.43421745300293, 9.440958023071289, 20.074867248535156, 28.112075805664062, 20.91002655029297, 53.329105377197266, 41.190372467041016, 18.894149780273438, 31.38226890563965, 66.24834442138672, 28.17352294921875, 20.311922073364258, 20.077396392822266, 42.154510498046875, 33.165374755859375, 30.755264282226562, 53.1487922668457, 50.49420928955078, 31.220945358276367, 22.157760620117188, 28.616201400756836, 35.920711517333984, 35.10460662841797, 25.08011817932129, 29.070789337158203, 21.88181495666504, 25.819334030151367, 21.584667205810547, 24.990406036376953, 23.00676155090332, 24.91287612915039, 22.7934627532959, 22.314712524414062, 14.925272941589355, 57.57878875732422, 39.39683532714844, 14.219437599182129, 18.87127685546875, 16.637714385986328, 95.61245727539062, 17.41860008239746, 6.074027061462402, 5.655358791351318, 4.174389839172363, 5.609290599822998, 3.6094441413879395, 3.622586250305176, 4.647179126739502, 3.883986473083496, 3.601287841796875, 5.488955974578857, 5.917158603668213, 5.546989917755127, 3.437830686569214, 3.051509380340576, 2.9412105083465576, 4.0480194091796875, 2.675694704055786, 3.9177753925323486, 3.83422589302063, 3.0736331939697266, 5.792788028717041, 2.4995596408843994, 31.840072631835938, 7.564290523529053, 6.834068775177002, 34.29070281982422, 8.777345657348633, 61.04890060424805, 61.210365295410156, 7.864532470703125, 9.462443351745605, 12.1177396774292, 32.12861251831055, 31.16051483154297, 40.47726821899414, 22.12531280517578, 15.377364158630371, 24.8256893157959, 32.42639923095703, 31.216354370117188, 20.87944221496582, 10.418060302734375, 16.72574234008789, 14.32929515838623, 16.411731719970703, 13.422176361083984, 12.59096622467041, 14.0531005859375, 18.588953018188477, 15.424311637878418, 16.801288604736328, 17.154048919677734, 16.21682357788086, 14.392608642578125, 12.614673614501953, 18.761749267578125, 13.160843849182129, 5.962143898010254, 12.63284969329834, 21.414058685302734, 4.137940406799316, 2.715575695037842, 1.9786841869354248, 4.428004264831543, 2.7249679565429688, 1.8007183074951172, 2.5946309566497803, 3.6268863677978516, 3.1363847255706787, 1.6590354442596436, 2.6550393104553223, 5.054209232330322, 2.659147262573242, 2.7201545238494873, 4.219111919403076, 2.547084093093872, 3.4379138946533203, 63.4747314453125, 4.665148735046387, 1.8097708225250244, 1.7812434434890747, 2.6178109645843506, 1.6162136793136597, 1.5316697359085083, 24.578935623168945, 31.80820655822754, 16.451326370239258, 24.65300750732422, 32.843284606933594, 61.37995910644531, 12.901339530944824, 11.168986320495605, 26.372114181518555, 5.576488494873047, 12.147790908813477, 16.496095657348633, 35.17858123779297, 25.80331802368164, 7.690016746520996, 14.334402084350586, 10.07644271850586, 31.517608642578125, 40.45281982421875, 25.03974151611328, 13.672785758972168, 18.60130500793457, 39.25354766845703, 34.96405029296875, 18.302974700927734, 19.909082412719727, 26.71161460876465, 18.76317596435547, 18.118183135986328, 16.656883239746094, 18.31873893737793, 17.30070686340332, 17.723390579223633, 16.704116821289062, 15.51801586151123, 6.158783435821533, 7.947425842285156, 2.4454965591430664, 2.4553780555725098, 3.750817060470581, 2.464629650115967, 3.290743112564087, 24.492961883544922, 2.4096012115478516, 2.4733290672302246, 1.7528190612792969, 1.7245914936065674, 13.890751838684082, 1.7023875713348389, 2.4983763694763184, 31.607969284057617, 7.381690502166748, 1.6253901720046997, 2.036044120788574, 2.126943349838257, 1.7605544328689575, 1.5784553289413452, 1.7488374710083008, 1.7485905885696411, 1.7522748708724976, 7.150406837463379, 1.5442898273468018, 1.696192979812622, 2.184569835662842, 3.369128465652466, 32.85063552856445, 8.718865394592285, 22.529436111450195, 50.229270935058594, 10.743416786193848, 3.894108533859253, 47.964813232421875, 50.86857604980469, 3.893542528152466, 9.418083190917969, 5.4378461837768555, 5.126667022705078, 13.381582260131836, 13.306916236877441, 26.56034278869629, 6.535598278045654, 7.178737640380859, 6.338183403015137, 7.999423980712891, 11.956998825073242, 22.162734985351562, 16.347930908203125, 17.01003074645996, 20.267623901367188, 15.911933898925781, 12.579350471496582, 18.00023078918457, 14.427536964416504, 18.84568977355957, 14.666764259338379, 14.033935546875, 13.308411598205566, 15.940750122070312, 9.817008972167969, 12.36952018737793, 10.5933837890625, 10.805926322937012, 10.482803344726562, 16.56378173828125, 3.589010238647461, 2.508030891418457, 1.8901808261871338, 2.5436646938323975, 2.176607131958008, 7.1976237297058105, 2.1573076248168945, 1.7175055742263794, 4.116109371185303, 8.26102352142334, 1.7090262174606323, 2.3699100017547607, 1.6880618333816528, 1.6494927406311035, 2.0350942611694336, 1.7047185897827148, 1.861644983291626, 1.7162058353424072, 1.7208030223846436, 5.002903938293457, 1.5262043476104736, 1.7189078330993652, 2.3864221572875977, 1.677694320678711, 1.5583763122558594, 4.937699317932129, 1.7217036485671997, 2.071242332458496, 1.7094261646270752, 2.101287841796875, 13.156864166259766, 17.082332611083984, 3.670898199081421, 8.005342483520508, 6.0029215812683105, 10.81982421875, 9.173022270202637, 6.736577987670898, 2.7385940551757812, 6.294159889221191, 3.064120054244995, 13.534102439880371, 13.692719459533691, 3.5424609184265137, 5.906929969787598, 7.44447135925293, 12.98254680633545, 7.932015895843506, 10.544708251953125, 9.326165199279785, 6.428147315979004, 7.2144999504089355, 12.972746849060059, 8.576651573181152, 6.2172651290893555, 10.056734085083008, 10.440752983093262, 9.091938018798828, 9.076543807983398, 8.068136215209961, 6.698527812957764, 7.524553298950195, 7.457415580749512, 7.5243659019470215, 6.709593296051025, 19.276844024658203, 7.225693225860596, 5.8422088623046875, 12.12238597869873, 9.165872573852539, 4.348694324493408, 9.846747398376465, 2.1378448009490967, 1.9683151245117188, 9.840679168701172, 2.604123830795288, 2.516200542449951, 2.274409294128418, 7.790688514709473, 3.424257278442383, 4.3663201332092285, 2.607260227203369, 15.84643268585205, 1.7893035411834717, 1.7318998575210571, 1.4767026901245117, 1.8361674547195435, 2.588932514190674, 8.347885131835938, 11.999007225036621, 0.942457914352417, 0.9443269968032837, 0.9500634670257568, 2.889601469039917, 1.681105613708496, 9.350332260131836, 9.249560356140137, 4.720059871673584, 9.352919578552246, 59.28791046142578, 7.2260308265686035, 9.229328155517578, 34.547977447509766, 26.020862579345703, 19.54996681213379, 18.733129501342773, 14.34778118133545, 11.203551292419434, 24.860916137695312, 15.039950370788574, 14.995794296264648, 11.421586036682129, 13.96849536895752, 13.84516429901123, 11.863676071166992, 10.513404846191406, 8.572768211364746, 8.956803321838379, 8.819113731384277, 8.559710502624512, 2.2615509033203125, 1.9182747602462769, 7.753937244415283, 1.5807949304580688, 3.1245481967926025, 3.517988681793213, 1.612228274345398, 1.5888322591781616, 2.953047275543213, 1.2524945735931396, 0.8383590579032898, 0.818337619304657, 0.8210353851318359, 0.8193151950836182, 0.8308076858520508, 0.8120764493942261, 0.8166928887367249, 0.8243002891540527, 0.818155825138092, 0.8190223574638367, 0.8227567076683044, 0.8184316158294678, 0.8185824155807495, 0.9511433839797974, 0.8007819652557373, 1.5729715824127197, 0.815129280090332, 0.8225392699241638, 0.8189063668251038, 0.8036421537399292, 2.007166624069214, 5.334963798522949, 1.5818101167678833, 3.893414258956909, 3.815910816192627, 1.589777946472168, 1.9642828702926636, 5.543661117553711, 2.191690683364868, 3.3805506229400635, 6.095982074737549, 1.5922991037368774, 1.7253520488739014, 1.5901321172714233, 2.7449731826782227, 1.597069263458252, 3.2418928146362305, 2.289435625076294, 7.138193607330322, 3.9156036376953125, 2.8961429595947266, 5.534038066864014, 4.611191272735596, 4.609307765960693, 3.9300243854522705, 4.737334728240967, 6.447230339050293, 3.899231195449829, 5.284801959991455, 5.5836076736450195, 2.596463441848755, 3.8928515911102295, 3.638920307159424, 3.9793176651000977, 3.15488862991333, 4.131832122802734, 4.35383415222168, 4.0156097412109375, 4.089174747467041, 3.249337911605835, 3.2787561416625977, 3.3892481327056885, 3.3179757595062256, 3.277416706085205, 0.012206120416522026, 0.011566122062504292, 0.024603793397545815, 0.011993094347417355, 0.010890571400523186, 0.014891516417264938, 0.013275185599923134, 0.010610280558466911, 0.01058112271130085, 0.010379883460700512, 0.010016914457082748, 0.010196776129305363, 0.009821397252380848, 0.010677417740225792, 0.011692904867231846, 0.0110476054251194, 0.009667710401117802, 0.01017480343580246, 0.01028552558273077, 0.009430970996618271, 0.009443721733987331, 0.00967374350875616, 0.00941536482423544, 0.009854486212134361, 0.009706532582640648, 0.00936113577336073, 0.009716141037642956, 0.009527724236249924, 0.009334535337984562, 0.00964657124131918, 0.010450165718793869, 0.010737021453678608, 0.011951438151299953, 0.011402237229049206, 0.011354593560099602, 0.010714381001889706, 0.010470127686858177, 0.014235954731702805, 0.011509253643453121, 0.010661223903298378, 0.013410273939371109, 0.012009123340249062, 0.013870378024876118, 0.03204004094004631, 0.027729012072086334, 0.0391777865588665, 0.027350367978215218, 0.015217161737382412, 0.05605461820960045, 0.032570064067840576, 0.03947818651795387, 0.048148203641176224, 0.0423099547624588, 0.031526751816272736, 0.02398064360022545, 0.031251199543476105, 0.04212227463722229, 0.029710644856095314, 0.047214411199092865, 0.03328864648938179, 0.03640130162239075, 0.0350223183631897, 0.036050792783498764, 0.041884709149599075, 0.03600117564201355, 0.044211532920598984, 0.03819853067398071, 0.038288310170173645, 0.03056015446782112, 0.03359903767704964, 0.029604976996779442, 0.03177812322974205, 0.035586051642894745, 0.03600120544433594, 0.03795553371310234, 0.03423153609037399, 0.03213464841246605, 0.034294500946998596, 0.032751474529504776, 0.031904108822345734, 0.032392337918281555], \"Term\": [\"miss\", \"emma\", \"elinor\", \"jane\", \"know\", \"marianne\", \"like\", \"john\", \"think\", \"elizabeth\", \"weston\", \"mother\", \"shall\", \"sir\", \"thing\", \"come\", \"harriet\", \"day\", \"knightley\", \"rochester\", \"heard\", \"yes\", \"sure\", \"room\", \"woodhouse\", \"long\", \"great\", \"darcy\", \"fairfax\", \"young\", \"sophie\", \"ghost\", \"garret\", \"storey\", \"crib\", \"stars\", \"gleamed\", \"frock\", \"thornfield\", \"ivy\", \"pearl\", \"janet\", \"dim\", \"leah\", \"agent\", \"convent\", \"aperture\", \"flashed\", \"bedside\", \"terrasse\", \"magic\", \"casket\", \"drapery\", \"weeping\", \"gale\", \"horizon\", \"flood\", \"hangings\", \"bells\", \"ghastly\", \"trunk\", \"adele\", \"tales\", \"helen\", \"poole\", \"cloak\", \"moon\", \"moonlight\", \"fields\", \"candle\", \"gallery\", \"dormitory\", \"millcote\", \"chamber\", \"rochester\", \"sky\", \"eyre\", \"bretton\", \"dark\", \"white\", \"arms\", \"wall\", \"night\", \"graham\", \"bed\", \"black\", \"reed\", \"bessie\", \"hall\", \"stood\", \"lay\", \"door\", \"trees\", \"light\", \"dr\", \"like\", \"old\", \"strange\", \"face\", \"room\", \"long\", \"hand\", \"eyes\", \"thought\", \"come\", \"madame\", \"looked\", \"saw\", \"head\", \"came\", \"round\", \"day\", \"house\", \"went\", \"life\", \"look\", \"asked\", \"heard\", \"way\", \"knew\", \"know\", \"think\", \"jane\", \"shall\", \"ferrars\", \"steele\", \"margaret\", \"steeles\", \"middletons\", \"harley\", \"exeter\", \"fanny\", \"combe\", \"dashwood\", \"elinor\", \"marianne\", \"edward\", \"willoughby\", \"middleton\", \"palmer\", \"delaford\", \"dashwoods\", \"cleveland\", \"devonshire\", \"jennings\", \"allenham\", \"norland\", \"barton\", \"pursuits\", \"brandon\", \"oxford\", \"monstrous\", \"lucy\", \"cottage\", \"sister\", \"mother\", \"colonel\", \"john\", \"engagement\", \"affection\", \"thousand\", \"know\", \"thing\", \"think\", \"brother\", \"soon\", \"heart\", \"miss\", \"sure\", \"happy\", \"great\", \"man\", \"dear\", \"lady\", \"mind\", \"day\", \"house\", \"thought\", \"sir\", \"shall\", \"saw\", \"felt\", \"like\", \"henri\", \"estrade\", \"mdlle\", \"directress\", \"reuter\", \"monsieur\", \"je\", \"tout\", \"paletot\", \"les\", \"des\", \"ce\", \"grec\", \"zelie\", \"jeune\", \"ne\", \"dieu\", \"cela\", \"vous\", \"lessons\", \"elle\", \"mais\", \"pas\", \"une\", \"suis\", \"plus\", \"avez\", \"dit\", \"francs\", \"il\", \"est\", \"que\", \"professor\", \"bien\", \"paul\", \"et\", \"mon\", \"pupils\", \"emanuel\", \"pelet\", \"mademoiselle\", \"frances\", \"desk\", \"english\", \"lesson\", \"pupil\", \"class\", \"madame\", \"la\", \"school\", \"french\", \"eye\", \"hand\", \"like\", \"work\", \"thought\", \"eyes\", \"day\", \"read\", \"know\", \"looked\", \"heart\", \"half\", \"long\", \"face\", \"man\", \"life\", \"knew\", \"took\", \"felt\", \"think\", \"look\", \"abbey\", \"harriet\", \"martin\", \"coles\", \"eltons\", \"donwell\", \"randalls\", \"elton\", \"emma\", \"knightley\", \"vicarage\", \"bates\", \"goddard\", \"churchill\", \"highbury\", \"hartfield\", \"perry\", \"woodhouse\", \"weston\", \"brunswick\", \"connexion\", \"cole\", \"frank\", \"surprize\", \"smith\", \"shew\", \"surprized\", \"westons\", \"henry\", \"disengaged\", \"james\", \"isabella\", \"body\", \"fairfax\", \"thing\", \"miss\", \"dear\", \"friend\", \"father\", \"think\", \"jane\", \"great\", \"oh\", \"know\", \"man\", \"soon\", \"young\", \"thought\", \"shall\", \"sure\", \"better\", \"day\", \"like\", \"come\", \"fitzwilliam\", \"hurst\", \"judgement\", \"rosings\", \"bingley\", \"kent\", \"netherfield\", \"darcy\", \"collins\", \"catherine\", \"unaffected\", \"nieces\", \"charles\", \"hunsford\", \"lucas\", \"youngest\", \"ladyship\", \"uncommonly\", \"officers\", \"insist\", \"bourgh\", \"bennet\", \"younger\", \"dances\", \"pemberley\", \"causes\", \"elizabeth\", \"hertfordshire\", \"danced\", \"officer\", \"eliza\", \"ball\", \"cousin\", \"civility\", \"daughters\", \"lady\", \"ladies\", \"william\", \"wickham\", \"family\", \"miss\", \"girls\", \"sister\", \"lizzy\", \"young\", \"agreeable\", \"room\", \"friend\", \"conversation\", \"soon\", \"mother\", \"great\", \"manner\", \"man\", \"think\", \"know\", \"long\", \"jane\", \"evening\", \"shall\", \"way\", \"day\", \"house\", \"saw\", \"having\", \"kitty\", \"lydia\", \"longbourn\", \"lucases\", \"condescension\", \"maria\", \"regiment\", \"fun\", \"monday\", \"phillips\", \"meryton\", \"lizzy\", \"brighton\", \"wednesday\", \"bourgh\", \"charlotte\", \"acquaintances\", \"bennet\", \"caroline\", \"protested\", \"forster\", \"lucas\", \"elizabeth\", \"wickham\", \"hunsford\", \"hertfordshire\", \"violently\", \"entailed\", \"console\", \"congratulations\", \"catherine\", \"gardiner\", \"collins\", \"jane\", \"darcy\", \"bingley\", \"pemberley\", \"dear\", \"sister\", \"married\", \"family\", \"marriage\", \"happiness\", \"hope\", \"soon\", \"daughter\", \"know\", \"added\", \"think\", \"aunt\", \"miss\", \"away\", \"shall\", \"love\", \"lady\", \"happy\", \"man\", \"day\", \"sure\", \"letter\", \"thought\", \"hunsden\", \"dent\", \"eshton\", \"lynn\", \"ingram\", \"crimsworth\", \"tradesman\", \"lad\", \"counting\", \"clerk\", \"blanche\", \"louisa\", \"tyrant\", \"confound\", \"uncles\", \"wages\", \"victor\", \"trade\", \"sits\", \"reiterated\", \"gipsy\", \"knife\", \"lodgings\", \"fortunes\", \"ve\", \"humph\", \"belgian\", \"detected\", \"impudence\", \"repaired\", \"ll\", \"mason\", \"haughty\", \"brown\", \"zoraide\", \"rochester\", \"lord\", \"face\", \"gentlemen\", \"shire\", \"man\", \"like\", \"got\", \"looking\", \"fine\", \"room\", \"house\", \"look\", \"thought\", \"oh\", \"come\", \"think\", \"miss\", \"shall\", \"night\", \"lady\", \"took\", \"know\", \"near\", \"saw\", \"yes\", \"day\", \"heard\", \"scotland\", \"endeavours\", \"brighton\", \"forster\", \"derbyshire\", \"musical\", \"gardiner\", \"acquit\", \"adieu\", \"bitterness\", \"imputed\", \"imprudent\", \"warmest\", \"contain\", \"debts\", \"essential\", \"recover\", \"intending\", \"conclude\", \"resent\", \"pounds\", \"inducement\", \"pursue\", \"wickham\", \"rejoice\", \"addresses\", \"abhorrence\", \"motive\", \"strictly\", \"detain\", \"attach\", \"injured\", \"uncle\", \"assistance\", \"lydia\", \"design\", \"conduct\", \"aunt\", \"thousand\", \"father\", \"letter\", \"write\", \"colonel\", \"jane\", \"ill\", \"london\", \"situation\", \"elizabeth\", \"believe\", \"darcy\", \"know\", \"think\", \"sister\", \"known\", \"hope\", \"soon\", \"shall\", \"feelings\", \"mother\", \"character\", \"man\", \"years\", \"long\", \"wish\", \"thought\", \"thing\", \"oh\", \"missionary\", \"diana\", \"rivers\", \"india\", \"oliver\", \"moor\", \"st\", \"morton\", \"remorse\", \"labours\", \"toil\", \"scholars\", \"destitute\", \"inspiration\", \"thrilled\", \"wisely\", \"energies\", \"heath\", \"adopted\", \"indian\", \"marsh\", \"mentally\", \"permanently\", \"educated\", \"rocks\", \"mountain\", \"vocation\", \"zeal\", \"th\", \"obedience\", \"mary\", \"christian\", \"labour\", \"god\", \"stern\", \"john\", \"shall\", \"sacrifice\", \"task\", \"seek\", \"sir\", \"love\", \"jane\", \"words\", \"master\", \"heart\", \"like\", \"know\", \"life\", \"absolutely\", \"right\", \"work\", \"eye\", \"answered\", \"sisters\", \"wife\", \"man\", \"hour\", \"come\", \"long\", \"think\", \"day\", \"maple\", \"taylor\", \"enscombe\", \"weymouth\", \"grove\", \"isabella\", \"february\", \"extensive\", \"barely\", \"bath\", \"depends\", \"advocate\", \"conclude\", \"matrimony\", \"excepting\", \"virtues\", \"baby\", \"south\", \"sore\", \"beauties\", \"tempered\", \"guided\", \"perfection\", \"weston\", \"surprized\", \"consternation\", \"inconvenient\", \"caprice\", \"struggled\", \"immense\", \"churchill\", \"woodhouse\", \"hartfield\", \"body\", \"knightley\", \"emma\", \"ah\", \"temper\", \"poor\", \"campbell\", \"assure\", \"frank\", \"thing\", \"father\", \"perry\", \"children\", \"highbury\", \"great\", \"think\", \"sure\", \"deal\", \"elton\", \"miss\", \"know\", \"place\", \"john\", \"like\", \"yes\", \"having\", \"believe\", \"young\", \"dear\", \"man\", \"soon\", \"home\", \"berkeley\", \"farewell\", \"apprehensions\", \"announcing\", \"tomorrow\", \"compact\", \"repair\", \"brandon\", \"excess\", \"rained\", \"persuading\", \"speedy\", \"barton\", \"requires\", \"fatigued\", \"jennings\", \"norland\", \"convincing\", \"interposed\", \"impropriety\", \"shillings\", \"acquiescence\", \"cruelly\", \"repulsed\", \"naughty\", \"hastily\", \"horseback\", \"solemnly\", \"arrangements\", \"sending\", \"colonel\", \"palmer\", \"willoughby\", \"marianne\", \"middleton\", \"purse\", \"sir\", \"elinor\", \"dashwoods\", \"arrival\", \"brocklehurst\", \"alarm\", \"town\", \"dashwood\", \"house\", \"cottage\", \"stairs\", \"journey\", \"ma\", \"business\", \"room\", \"hope\", \"moment\", \"shall\", \"sister\", \"cried\", \"come\", \"morning\", \"day\", \"yes\", \"away\", \"john\", \"know\", \"returned\", \"miss\", \"evening\", \"lady\", \"tell\", \"georgiana\", \"beggar\", \"cat\", \"aversion\", \"fasten\", \"marsh\", \"ve\", \"rigid\", \"dreaming\", \"cake\", \"eliza\", \"begging\", \"suffice\", \"peculiarities\", \"communications\", \"morsel\", \"patronage\", \"meals\", \"eccentric\", \"pondering\", \"dying\", \"genteel\", \"blew\", \"closet\", \"knock\", \"sharply\", \"gateshead\", \"natures\", \"sewing\", \"bolt\", \"learning\", \"bessie\", \"graham\", \"hannah\", \"reed\", \"mistress\", \"school\", \"master\", \"tea\", \"ye\", \"lived\", \"nose\", \"heard\", \"young\", \"learned\", \"ll\", \"bretton\", \"come\", \"want\", \"mother\", \"door\", \"change\", \"new\", \"like\", \"took\", \"frank\", \"thought\", \"think\", \"day\", \"miss\", \"shall\", \"poor\", \"long\", \"room\", \"know\", \"eyes\", \"dixon\", \"missis\", \"spectacles\", \"campbell\", \"gateshead\", \"ireland\", \"obliging\", \"chimney\", \"deaf\", \"cole\", \"pattern\", \"apple\", \"baked\", \"instrument\", \"saturday\", \"shop\", \"ribbon\", \"bessie\", \"discoveries\", \"delightfully\", \"wednesday\", \"shower\", \"suspicions\", \"yesterday\", \"reed\", \"detain\", \"uncivil\", \"hearty\", \"surprized\", \"wholesome\", \"says\", \"ma\", \"goddard\", \"directly\", \"miss\", \"news\", \"bates\", \"jane\", \"mother\", \"sure\", \"yes\", \"hear\", \"woodhouse\", \"know\", \"oh\", \"heard\", \"fairfax\", \"thing\", \"think\", \"come\", \"shall\", \"letter\", \"away\", \"like\", \"came\", \"sickly\", \"remainder\", \"mason\", \"scanty\", \"ye\", \"clergyman\", \"creed\", \"speaker\", \"ones\", \"exposed\", \"comprised\", \"remedy\", \"stubborn\", \"invalid\", \"slice\", \"prosperous\", \"plates\", \"trifles\", \"lightly\", \"melting\", \"groups\", \"repast\", \"unwonted\", \"abandoned\", \"inexorable\", \"reconciled\", \"confound\", \"spanish\", \"irksome\", \"quarrelled\", \"throat\", \"diana\", \"drawers\", \"prove\", \"rivers\", \"matrimony\", \"produce\", \"church\", \"season\", \"sea\", \"mary\", \"shoes\", \"sank\", \"rarely\", \"helen\", \"march\", \"feet\", \"parting\", \"rochester\", \"forward\", \"service\", \"brother\", \"st\", \"children\", \"living\", \"wife\", \"sir\", \"low\", \"home\", \"john\", \"bread\", \"things\", \"strong\", \"near\", \"marriage\", \"eyes\", \"long\", \"looked\", \"day\", \"god\", \"air\", \"hand\", \"half\", \"heart\", \"resident\", \"coldly\", \"victor\", \"indulging\", \"hovering\", \"included\", \"ascertained\", \"viz\", \"benign\", \"revolt\", \"relatives\", \"mornings\", \"considerations\", \"bitterly\", \"dismiss\", \"fires\", \"considers\", \"moods\", \"burdened\", \"unkindness\", \"apprehensions\", \"attained\", \"inflict\", \"penance\", \"hinted\", \"aversion\", \"humbled\", \"stubborn\", \"requires\", \"discovering\", \"maids\", \"runs\", \"acknowledging\", \"troubles\", \"paint\", \"realized\", \"despised\", \"unequal\", \"braided\", \"injury\", \"wholesome\", \"subsequent\", \"flash\", \"hunsden\", \"frances\", \"fairfax\", \"spirit\", \"elder\", \"miss\", \"nature\", \"love\", \"day\", \"thing\", \"years\", \"adele\", \"subject\", \"room\", \"monsieur\", \"like\", \"madame\", \"yes\", \"harriet\", \"john\", \"thought\", \"away\", \"know\", \"emma\", \"man\", \"asked\", \"life\", \"rochester\", \"home\", \"come\", \"long\", \"think\", \"saw\", \"knew\", \"shall\", \"heart\", \"hand\", \"soon\"], \"Total\": [1518.0, 863.0, 639.0, 931.0, 1426.0, 527.0, 1354.0, 620.0, 1304.0, 618.0, 435.0, 647.0, 926.0, 593.0, 781.0, 835.0, 527.0, 1062.0, 388.0, 366.0, 625.0, 598.0, 609.0, 892.0, 310.0, 947.0, 821.0, 399.0, 377.0, 660.0, 28.434776306152344, 28.43312644958496, 23.33662223815918, 18.22771644592285, 17.2086238861084, 28.419767379760742, 15.174531936645508, 15.170884132385254, 101.74842071533203, 15.172014236450195, 18.221067428588867, 21.270151138305664, 52.880367279052734, 28.214452743530273, 12.108447074890137, 15.159127235412598, 12.109363555908203, 12.108120918273926, 14.124220848083496, 19.20848846435547, 12.105301856994629, 13.130629539489746, 21.292482376098633, 14.14829158782959, 11.085119247436523, 17.181928634643555, 11.088244438171387, 11.082115173339844, 12.101016998291016, 12.09842300415039, 37.53974533081055, 140.88827514648438, 18.2165584564209, 64.05795288085938, 33.12464141845703, 32.16279602050781, 79.49036407470703, 45.639869689941406, 44.59297180175781, 64.97615051269531, 42.39457702636719, 36.594825744628906, 30.44107437133789, 108.14611053466797, 366.8798828125, 99.43875885009766, 104.87818145751953, 245.20074462890625, 236.6354522705078, 243.13819885253906, 118.26016235351562, 79.10136413574219, 636.696533203125, 224.7423858642578, 226.41575622558594, 188.16871643066406, 128.40235900878906, 129.10528564453125, 176.3615264892578, 333.8075866699219, 198.54879760742188, 547.1483764648438, 114.55496215820312, 315.9628601074219, 240.65829467773438, 1354.407958984375, 490.9373474121094, 259.4947204589844, 509.3933410644531, 892.3116455078125, 947.4817504882812, 631.3681030273438, 649.81884765625, 1155.144287109375, 835.3681640625, 423.1712951660156, 710.6702880859375, 781.1444702148438, 416.5504455566406, 694.7186279296875, 363.2131042480469, 1062.9608154296875, 752.3278198242188, 500.1490173339844, 590.0880737304688, 648.5200805664062, 404.21331787109375, 625.30810546875, 696.3208618164062, 554.417724609375, 1426.7003173828125, 1304.4571533203125, 931.9742431640625, 926.7205200195312, 123.07315063476562, 36.615150451660156, 34.72212219238281, 29.091882705688477, 18.744129180908203, 15.927997589111328, 14.986848831176758, 45.86506271362305, 15.899104118347168, 236.45559692382812, 639.7896728515625, 527.9503784179688, 301.7646179199219, 201.69325256347656, 95.685302734375, 72.3915023803711, 28.774612426757812, 34.33552169799805, 25.981361389160156, 25.036531448364258, 213.90316772460938, 17.58897590637207, 49.96491241455078, 83.14722442626953, 12.8331880569458, 133.77491760253906, 13.2233247756958, 15.192550659179688, 365.81268310546875, 80.7951431274414, 560.683837890625, 647.4710693359375, 289.3312072753906, 620.9761962890625, 111.88411712646484, 257.01470947265625, 134.92462158203125, 1426.7003173828125, 781.1275024414062, 1304.4571533203125, 279.6103820800781, 916.5782470703125, 657.564697265625, 1518.1278076171875, 609.2010498046875, 412.4255676269531, 821.9817504882812, 906.4052734375, 581.83984375, 612.3380126953125, 574.79736328125, 1062.9608154296875, 752.3278198242188, 1155.144287109375, 593.2258911132812, 926.7205200195312, 781.1444702148438, 669.408447265625, 1354.407958984375, 56.868690490722656, 39.572898864746094, 116.86360168457031, 48.71249771118164, 81.23603820800781, 291.73394775390625, 74.19313049316406, 30.40338706970215, 21.245832443237305, 40.575355529785156, 35.49290084838867, 53.822792053222656, 15.138283729553223, 18.18975830078125, 15.132908821105957, 37.35126495361328, 16.147066116333008, 20.222902297973633, 122.00764465332031, 67.0031509399414, 27.357376098632812, 32.440338134765625, 62.990394592285156, 39.56803512573242, 12.082825660705566, 13.097403526306152, 12.084181785583496, 13.095855712890625, 24.278095245361328, 44.67203140258789, 113.90487670898438, 66.05597686767578, 66.77241516113281, 49.696868896484375, 190.29490661621094, 89.45050048828125, 40.589874267578125, 161.2674102783203, 111.85748291015625, 112.02509307861328, 124.07151794433594, 120.2102279663086, 106.08619689941406, 237.71240234375, 71.79862976074219, 101.52396392822266, 84.91536712646484, 423.1712951660156, 108.80803680419922, 251.781005859375, 165.06170654296875, 407.72314453125, 631.3681030273438, 1354.407958984375, 261.32977294921875, 1155.144287109375, 649.81884765625, 1062.9608154296875, 322.5691223144531, 1426.7003173828125, 710.6702880859375, 657.564697265625, 598.34912109375, 947.4817504882812, 509.3933410644531, 906.4052734375, 590.0880737304688, 554.417724609375, 502.5463562011719, 669.408447265625, 1304.4571533203125, 648.5200805664062, 32.12330627441406, 527.6058959960938, 86.31068420410156, 18.017051696777344, 23.0394287109375, 50.084564208984375, 91.02872467041016, 386.72357177734375, 863.5821533203125, 388.385009765625, 17.91794776916504, 151.13600158691406, 59.6905403137207, 223.24581909179688, 125.01126861572266, 159.45635986328125, 79.66741943359375, 310.4554138183594, 435.6416015625, 11.827287673950195, 20.681934356689453, 61.042510986328125, 237.82638549804688, 37.38173294067383, 114.49769592285156, 37.34456253051758, 32.12783432006836, 11.797694206237793, 31.710615158081055, 15.85392951965332, 27.680753707885742, 67.3851089477539, 274.5982360839844, 377.7919921875, 781.1275024414062, 1518.1278076171875, 581.83984375, 434.57989501953125, 506.8871154785156, 1304.4571533203125, 931.9742431640625, 821.9817504882812, 558.5761108398438, 1426.7003173828125, 906.4052734375, 916.5782470703125, 660.2223510742188, 1155.144287109375, 926.7205200195312, 609.2010498046875, 616.59228515625, 1062.9608154296875, 1354.407958984375, 835.3681640625, 35.387386322021484, 35.45954895019531, 11.444206237792969, 47.91016387939453, 294.43414306640625, 14.31818962097168, 70.84111022949219, 399.13824462890625, 172.5633544921875, 125.54015350341797, 12.595686912536621, 13.203544616699219, 16.578901290893555, 24.8492431640625, 67.9737319946289, 27.90934181213379, 53.36613464355469, 15.15880012512207, 31.45224380493164, 17.288959503173828, 38.25373077392578, 310.17486572265625, 54.10023498535156, 19.43102264404297, 51.46489334106445, 12.6074857711792, 618.8551635742188, 40.06813430786133, 31.357585906982422, 14.37037181854248, 57.9273567199707, 88.83439636230469, 90.46220397949219, 76.90309143066406, 104.1060562133789, 612.3380126953125, 265.2813720703125, 87.49267578125, 185.26934814453125, 372.46435546875, 1518.1278076171875, 166.19857788085938, 560.683837890625, 93.4516372680664, 660.2223510742188, 134.90380859375, 892.3116455078125, 434.57989501953125, 215.37782287597656, 916.5782470703125, 647.4710693359375, 821.9817504882812, 361.72998046875, 906.4052734375, 1304.4571533203125, 1426.7003173828125, 947.4817504882812, 931.9742431640625, 491.4336242675781, 926.7205200195312, 696.3208618164062, 1062.9608154296875, 752.3278198242188, 781.1444702148438, 541.6337280273438, 71.54962158203125, 163.57225036621094, 84.72526550292969, 14.281585693359375, 12.405379295349121, 23.892925262451172, 25.658092498779297, 15.15967845916748, 16.158267974853516, 30.56959342956543, 55.34906768798828, 93.4516372680664, 23.54074478149414, 13.206233978271484, 38.25373077392578, 108.62097930908203, 14.226877212524414, 310.17486572265625, 25.287187576293945, 12.447607040405273, 37.75416564941406, 67.9737319946289, 618.8551635742188, 185.26934814453125, 24.8492431640625, 40.06813430786133, 13.435179710388184, 10.615335464477539, 13.528447151184082, 24.102888107299805, 125.54015350341797, 90.96322631835938, 172.5633544921875, 931.9742431640625, 399.13824462890625, 294.43414306640625, 51.46489334106445, 581.83984375, 560.683837890625, 240.97222900390625, 372.46435546875, 179.38739013671875, 272.4866943359375, 502.6454162597656, 916.5782470703125, 270.23956298828125, 1426.7003173828125, 230.21847534179688, 1304.4571533203125, 178.1062774658203, 1518.1278076171875, 679.393798828125, 926.7205200195312, 572.7095336914062, 612.3380126953125, 412.4255676269531, 906.4052734375, 1062.9608154296875, 609.2010498046875, 418.513671875, 1155.144287109375, 146.1405029296875, 28.8182373046875, 28.707942962646484, 20.070337295532227, 87.74829864501953, 98.93547821044922, 17.268220901489258, 17.240787506103516, 19.389873504638672, 23.98773193359375, 29.38383674621582, 26.13899803161621, 19.628158569335938, 11.220826148986816, 19.266626358032227, 15.382363319396973, 23.36918830871582, 24.006200790405273, 11.650479316711426, 12.789934158325195, 14.757678985595703, 11.710887908935547, 23.063549041748047, 11.338014602661133, 47.72521209716797, 11.650629043579102, 16.83635902404785, 13.48400592803955, 10.3004789352417, 16.322813034057617, 150.27301025390625, 59.45020294189453, 22.179519653320312, 62.11811447143555, 28.713226318359375, 366.8798828125, 75.43869018554688, 509.3933410644531, 142.71376037597656, 43.52245330810547, 906.4052734375, 1354.407958984375, 290.51568603515625, 381.112060546875, 249.5985870361328, 892.3116455078125, 752.3278198242188, 648.5200805664062, 1155.144287109375, 558.5761108398438, 835.3681640625, 1304.4571533203125, 1518.1278076171875, 926.7205200195312, 636.696533203125, 612.3380126953125, 502.5463562011719, 1426.7003173828125, 365.64654541015625, 781.1444702148438, 598.031005859375, 1062.9608154296875, 625.30810546875, 13.084203720092773, 13.952122688293457, 23.54074478149414, 37.75416564941406, 23.609298706054688, 26.592144012451172, 90.96322631835938, 12.325605392456055, 11.443998336791992, 14.447999954223633, 12.310230255126953, 22.904285430908203, 12.664466857910156, 14.542198181152344, 20.312114715576172, 11.385202407836914, 19.36008644104004, 15.023041725158691, 15.081581115722656, 11.676752090454102, 96.22870635986328, 15.470508575439453, 18.42097282409668, 185.26934814453125, 18.06914520263672, 12.473918914794922, 12.343344688415527, 45.03064727783203, 11.433062553405762, 10.241347312927246, 18.20406723022461, 26.62868309020996, 149.7755584716797, 50.47976303100586, 163.57225036621094, 44.872596740722656, 116.22628784179688, 178.1062774658203, 134.92462158203125, 506.8871154785156, 418.513671875, 134.31475830078125, 289.3312072753906, 931.9742431640625, 269.81304931640625, 171.70643615722656, 172.8755340576172, 618.8551635742188, 454.30120849609375, 399.13824462890625, 1426.7003173828125, 1304.4571533203125, 560.683837890625, 271.5804138183594, 502.6454162597656, 916.5782470703125, 926.7205200195312, 377.63873291015625, 647.4710693359375, 292.6208190917969, 906.4052734375, 316.3927001953125, 947.4817504882812, 520.9791870117188, 1155.144287109375, 781.1275024414062, 558.5761108398438, 19.885133743286133, 78.71809387207031, 61.932647705078125, 22.45656394958496, 31.819490432739258, 30.115278244018555, 204.55357360839844, 42.40998840332031, 16.25855827331543, 15.190163612365723, 12.307552337646484, 17.073225021362305, 11.175904273986816, 11.266056060791016, 15.39238166809082, 12.94260025024414, 12.249197006225586, 19.46752166748047, 21.90482521057129, 20.546972274780273, 13.584948539733887, 12.133585929870605, 11.706523895263672, 16.143692016601562, 11.073600769042969, 16.32807731628418, 16.03264045715332, 13.023313522338867, 24.652437210083008, 10.941976547241211, 149.83424377441406, 35.838478088378906, 33.566341400146484, 235.1279754638672, 46.77137756347656, 620.9761962890625, 926.7205200195312, 46.188114166259766, 62.25542068481445, 96.5284423828125, 593.2258911132812, 572.7095336914062, 931.9742431640625, 347.5086975097656, 207.55264282226562, 657.564697265625, 1354.407958984375, 1426.7003173828125, 590.0880737304688, 99.3821792602539, 364.1545715332031, 261.32977294921875, 407.72314453125, 221.05795288085938, 182.5169219970703, 277.6834411621094, 906.4052734375, 440.15185546875, 835.3681640625, 947.4817504882812, 1304.4571533203125, 1062.9608154296875, 30.28775978088379, 48.58088684082031, 35.37092590332031, 18.138595581054688, 39.152191162109375, 67.3851089477539, 18.652578353881836, 13.938712120056152, 10.669061660766602, 24.28532600402832, 15.148898124694824, 10.441473007202148, 15.081581115722656, 23.48558807373047, 20.35047149658203, 10.790018081665039, 17.36724853515625, 33.232704162597656, 17.59874153137207, 18.217670440673828, 28.314912796020508, 17.10601043701172, 23.45256805419922, 435.6416015625, 32.12783432006836, 12.512491226196289, 12.364076614379883, 18.316591262817383, 11.326743125915527, 10.814309120178223, 223.24581909179688, 310.4554138183594, 159.45635986328125, 274.5982360839844, 388.385009765625, 863.5821533203125, 134.2732696533203, 117.18739318847656, 386.7455139160156, 49.145904541015625, 151.08470153808594, 237.82638549804688, 781.1275024414062, 506.8871154785156, 79.66741943359375, 210.57461547851562, 125.01126861572266, 821.9817504882812, 1304.4571533203125, 609.2010498046875, 217.00997924804688, 386.72357177734375, 1518.1278076171875, 1426.7003173828125, 506.9630126953125, 620.9761962890625, 1354.407958984375, 598.031005859375, 541.6337280273438, 454.30120849609375, 660.2223510742188, 581.83984375, 906.4052734375, 916.5782470703125, 492.9180908203125, 16.239377975463867, 32.56396484375, 10.248295783996582, 10.452905654907227, 16.567832946777344, 11.596882820129395, 17.468158721923828, 133.77491760253906, 13.975951194763184, 14.59759521484375, 10.359993934631348, 10.277938842773438, 83.14722442626953, 10.238025665283203, 16.3053035736084, 213.90316772460938, 49.96491241455078, 11.367812156677246, 14.247379302978516, 15.067245483398438, 12.5379056930542, 11.296027183532715, 12.566567420959473, 12.661643028259277, 12.779071807861328, 53.13457107543945, 11.573410987854004, 12.719630241394043, 16.576738357543945, 25.723920822143555, 289.3312072753906, 72.3915023803711, 201.69325256347656, 527.9503784179688, 95.685302734375, 31.6141300201416, 593.2258911132812, 639.7896728515625, 34.33552169799805, 107.23925018310547, 56.15513229370117, 52.245140075683594, 230.34823608398438, 236.45559692382812, 752.3278198242188, 80.7951431274414, 95.44381713867188, 77.35393524169922, 120.5412826538086, 260.672607421875, 892.3116455078125, 502.6454162597656, 577.186279296875, 926.7205200195312, 560.683837890625, 365.8016052246094, 835.3681640625, 512.1505126953125, 1062.9608154296875, 598.031005859375, 679.393798828125, 620.9761962890625, 1426.7003173828125, 236.22206115722656, 1518.1278076171875, 491.4336242675781, 612.3380126953125, 543.1781005859375, 56.60778045654297, 17.36248016357422, 13.589153289794922, 10.242581367492676, 15.494464874267578, 13.584948539733887, 47.72521209716797, 14.353989601135254, 11.554705619812012, 28.31221580505371, 57.9273567199707, 12.021827697753906, 17.284730911254883, 12.541916847229004, 12.409497261047363, 15.481086730957031, 13.017730712890625, 14.248172760009766, 13.442386627197266, 13.502305030822754, 39.500701904296875, 12.191935539245605, 13.772078514099121, 19.429269790649414, 13.68249225616455, 12.776983261108398, 42.09461975097656, 14.690543174743652, 17.800037384033203, 14.79763126373291, 18.337055206298828, 129.10528564453125, 224.7423858642578, 40.34428787231445, 128.40235900878906, 87.81562805175781, 251.781005859375, 207.55264282226562, 136.0041961669922, 29.706592559814453, 133.45298767089844, 36.43455505371094, 625.30810546875, 660.2223510742188, 49.762550354003906, 150.27301025390625, 245.20074462890625, 835.3681640625, 326.0249328613281, 647.4710693359375, 547.1483764648438, 216.1045684814453, 299.68792724609375, 1354.407958984375, 502.5463562011719, 237.82638549804688, 1155.144287109375, 1304.4571533203125, 1062.9608154296875, 1518.1278076171875, 926.7205200195312, 386.7455139160156, 947.4817504882812, 892.3116455078125, 1426.7003173828125, 649.81884765625, 41.9133415222168, 19.850221633911133, 22.424179077148438, 49.145904541015625, 42.09461975097656, 21.95415496826172, 50.38742446899414, 12.702080726623535, 11.781882286071777, 61.042510986328125, 16.525753021240234, 17.860265731811523, 16.648324966430664, 57.23902130126953, 25.57649803161621, 33.627410888671875, 20.884109497070312, 129.10528564453125, 14.763337135314941, 15.28320026397705, 13.206233978271484, 16.914522171020508, 24.99650001525879, 85.33950805664062, 128.40235900878906, 10.241347312927246, 10.480006217956543, 10.545591354370117, 32.12783432006836, 18.90867805480957, 112.53805541992188, 120.5412826538086, 59.6905403137207, 140.56732177734375, 1518.1278076171875, 106.1823959350586, 151.13600158691406, 931.9742431640625, 647.4710693359375, 609.2010498046875, 598.031005859375, 404.5716552734375, 310.4554138183594, 1426.7003173828125, 558.5761108398438, 625.30810546875, 377.7919921875, 781.1275024414062, 1304.4571533203125, 835.3681640625, 926.7205200195312, 418.513671875, 679.393798828125, 1354.407958984375, 694.7186279296875, 15.426115989685059, 14.292094230651855, 59.45020294189453, 12.412233352661133, 29.706592559814453, 36.34975051879883, 16.719186782836914, 17.570758819580078, 33.647850036621094, 14.910256385803223, 10.48806095123291, 10.306694030761719, 10.446388244628906, 10.553826332092285, 10.7213134765625, 10.492375373840332, 10.601091384887695, 10.731040954589844, 10.735057830810547, 10.751177787780762, 10.829997062683105, 10.826351165771484, 10.836535453796387, 12.7479887008667, 10.802776336669922, 21.6416072845459, 11.220826148986816, 11.562183380126953, 11.517088890075684, 11.475564002990723, 28.853759765625, 78.71809387207031, 22.721744537353516, 59.872920989990234, 61.932647705078125, 23.48558807373047, 32.251102447509766, 117.97762298583984, 37.686767578125, 66.02926635742188, 149.83424377441406, 26.38395118713379, 30.758909225463867, 27.85609245300293, 64.05795288085938, 29.128612518310547, 92.65170288085938, 54.983238220214844, 366.8798828125, 141.79188537597656, 84.05274963378906, 279.6103820800781, 204.55357360839844, 210.57461547851562, 169.62982177734375, 277.6834411621094, 593.2258911132812, 205.74404907226562, 492.9180908203125, 620.9761962890625, 74.5611801147461, 291.3486022949219, 245.76498413085938, 365.64654541015625, 179.38739013671875, 649.81884765625, 947.4817504882812, 710.6702880859375, 1062.9608154296875, 235.1279754638672, 268.98809814453125, 631.3681030273438, 598.34912109375, 657.564697265625, 10.786489486694336, 10.745899200439453, 23.36918830871582, 11.401007652282715, 11.059818267822266, 15.306507110595703, 13.718894958496094, 11.072502136230469, 11.067914962768555, 10.871875762939453, 10.5670166015625, 10.787976264953613, 10.540888786315918, 11.466402053833008, 12.557232856750488, 11.867851257324219, 10.411174774169922, 10.999970436096191, 11.126612663269043, 10.22040843963623, 10.248295783996582, 10.524331092834473, 10.243937492370605, 10.753833770751953, 10.614605903625488, 10.242581367492676, 10.6459379196167, 10.446388244628906, 10.238025665283203, 10.656174659729004, 11.550250053405762, 11.917631149291992, 13.429131507873535, 12.786055564880371, 12.856515884399414, 12.06946086883545, 11.778841972351074, 18.513301849365234, 14.105274200439453, 12.496075630187988, 18.90867805480957, 15.79598617553711, 21.228853225708008, 146.1405029296875, 120.2102279663086, 377.7919921875, 166.05865478515625, 33.52416229248047, 1518.1278076171875, 315.8653869628906, 572.7095336914062, 1062.9608154296875, 781.1275024414062, 316.3927001953125, 140.88827514648438, 332.6180419921875, 892.3116455078125, 291.73394775390625, 1354.407958984375, 423.1712951660156, 598.031005859375, 527.6058959960938, 620.9761962890625, 1155.144287109375, 679.393798828125, 1426.7003173828125, 863.5821533203125, 906.4052734375, 404.21331787109375, 590.0880737304688, 366.8798828125, 492.9180908203125, 835.3681640625, 947.4817504882812, 1304.4571533203125, 781.1444702148438, 554.417724609375, 926.7205200195312, 657.564697265625, 631.3681030273438, 916.5782470703125], \"loglift\": [30.0, 29.0, 28.0, 27.0, 26.0, 25.0, 24.0, 23.0, 22.0, 21.0, 20.0, 19.0, 18.0, 17.0, 16.0, 15.0, 14.0, 13.0, 12.0, 11.0, 10.0, 9.0, 8.0, 7.0, 6.0, 5.0, 4.0, 3.0, 2.0, 1.0, 1.271399974822998, 1.268399953842163, 1.2587000131607056, 1.2537000179290771, 1.2490999698638916, 1.2467999458312988, 1.245300054550171, 1.243899941444397, 1.2436000108718872, 1.2436000108718872, 1.2380000352859497, 1.2366000413894653, 1.2337000370025635, 1.2315000295639038, 1.2309000492095947, 1.2302000522613525, 1.229200005531311, 1.2279000282287598, 1.2259000539779663, 1.2249000072479248, 1.2242000102996826, 1.2240999937057495, 1.2239999771118164, 1.2230000495910645, 1.2229000329971313, 1.2217999696731567, 1.2199000120162964, 1.2172000408172607, 1.216599941253662, 1.2164000272750854, 1.2148000001907349, 1.200600028038025, 1.2130999565124512, 1.1996999979019165, 1.2065000534057617, 1.204699993133545, 1.1826000213623047, 1.1969000101089478, 1.194599986076355, 1.18149995803833, 1.1919000148773193, 1.1852999925613403, 1.188099980354309, 1.1145999431610107, 1.0370999574661255, 1.1150000095367432, 1.1021000146865845, 1.0262999534606934, 1.0162999629974365, 0.9930999875068665, 1.0622999668121338, 1.1003999710083008, 0.8633000254631042, 0.9769999980926514, 0.9675999879837036, 0.9815000295639038, 1.0263999700546265, 1.021399974822998, 0.9427000284194946, 0.8163999915122986, 0.9035000205039978, 0.6972000002861023, 0.9793999791145325, 0.7631999850273132, 0.8133000135421753, 0.4269999861717224, 0.6535999774932861, 0.7782999873161316, 0.5540000200271606, 0.37709999084472656, 0.3481000065803528, 0.47600001096725464, 0.45680001378059387, 0.20170000195503235, 0.32019999623298645, 0.5587000250816345, 0.3540000021457672, 0.30090001225471497, 0.5479999780654907, 0.3125, 0.5914000272750854, 0.02070000022649765, 0.19910000264644623, 0.4147000014781952, 0.31220000982284546, 0.24400000274181366, 0.5236999988555908, 0.2354000061750412, 0.14640000462532043, 0.30079999566078186, -0.4973999857902527, -0.44760000705718994, -0.1842000037431717, -0.22699999809265137, 1.7267999649047852, 1.7152999639511108, 1.7128000259399414, 1.7091000080108643, 1.686400055885315, 1.6837999820709229, 1.6797000169754028, 1.6654000282287598, 1.6644999980926514, 1.657099962234497, 1.6540000438690186, 1.6360000371932983, 1.625, 1.6162999868392944, 1.6004999876022339, 1.5953999757766724, 1.5901000499725342, 1.5877000093460083, 1.587499976158142, 1.5781999826431274, 1.5716999769210815, 1.5542999505996704, 1.5537999868392944, 1.5396000146865845, 1.5266000032424927, 1.524899959564209, 1.4993000030517578, 1.4747999906539917, 1.4607000350952148, 1.4544999599456787, 1.134600043296814, 1.0089000463485718, 1.0124000310897827, 0.8366000056266785, 1.1482000350952148, 0.8950999975204468, 1.054900050163269, 0.3425000011920929, 0.48500001430511475, 0.2919999957084656, 0.7893000245094299, 0.3310999870300293, 0.4000000059604645, 0.04569999873638153, 0.4262000024318695, 0.5371000170707703, 0.18709999322891235, 0.1315000057220459, 0.3370000123977661, 0.29910001158714294, 0.33410000801086426, -0.05299999937415123, 0.15690000355243683, -0.12729999423027039, 0.3005000054836273, -0.024700000882148743, 0.09300000220537186, 0.1551000028848648, -0.501800000667572, 1.770900011062622, 1.7684999704360962, 1.766800045967102, 1.7621999979019165, 1.7574000358581543, 1.7563999891281128, 1.7546000480651855, 1.7489999532699585, 1.7470999956130981, 1.745300054550171, 1.743399977684021, 1.7371000051498413, 1.7339999675750732, 1.7297999858856201, 1.7295000553131104, 1.7259999513626099, 1.7259000539779663, 1.7254999876022339, 1.7246999740600586, 1.7239999771118164, 1.723099946975708, 1.7216999530792236, 1.7192000150680542, 1.7187000513076782, 1.7180999517440796, 1.7168999910354614, 1.715499997138977, 1.714400053024292, 1.7129000425338745, 1.7122000455856323, 1.708400011062622, 1.7101999521255493, 1.7075999975204468, 1.708400011062622, 1.6680999994277954, 1.6771999597549438, 1.7001999616622925, 1.6503000259399414, 1.657099962234497, 1.6327999830245972, 1.6194000244140625, 1.607100009918213, 1.5880999565124512, 1.4491000175476074, 1.6181000471115112, 1.5319000482559204, 1.5542000532150269, 1.1167000532150269, 1.4592000246047974, 1.094599962234497, 1.236899971961975, 0.8008000254631042, 0.5819000005722046, 0.16840000450611115, 0.9621999859809875, 0.1014999970793724, 0.3828999996185303, 0.0877000018954277, 0.7437999844551086, -0.17579999566078186, 0.2493000030517578, 0.2434999942779541, 0.2660999894142151, -0.10909999907016754, 0.34040001034736633, -0.11180000007152557, 0.1607999950647354, 0.20170000195503235, 0.2720000147819519, -0.030700000002980232, -0.6757000088691711, -0.009700000286102295, 1.8969000577926636, 1.895300030708313, 1.8907999992370605, 1.8812999725341797, 1.8796000480651855, 1.8794000148773193, 1.8667000532150269, 1.8519999980926514, 1.8424999713897705, 1.8322999477386475, 1.8315999507904053, 1.8199000358581543, 1.819200038909912, 1.8014999628067017, 1.7913999557495117, 1.7858999967575073, 1.7736999988555908, 1.7690000534057617, 1.7646000385284424, 1.7588000297546387, 1.7381999492645264, 1.7323999404907227, 1.7282999753952026, 1.7267999649047852, 1.6398999691009521, 1.6291999816894531, 1.6256999969482422, 1.6115000247955322, 1.5963000059127808, 1.5753999948501587, 1.5570000410079956, 1.5134999752044678, 1.3666000366210938, 1.3336000442504883, 1.0793999433517456, 0.8438000082969666, 0.890999972820282, 0.8633000254631042, 0.8098000288009644, 0.48649999499320984, 0.5623999834060669, 0.567300021648407, 0.6877999901771545, 0.19280000030994415, 0.3831999897956848, 0.32989999651908875, 0.4781999886035919, 0.14329999685287476, 0.27459999918937683, 0.5228999853134155, 0.49079999327659607, 0.04780000075697899, -0.2207999974489212, 0.14990000426769257, 2.513400077819824, 2.5053999423980713, 2.3594000339508057, 2.3436999320983887, 2.3073999881744385, 2.275700092315674, 2.223900079727173, 2.2167999744415283, 2.2147998809814453, 2.156399965286255, 2.1270999908447266, 2.073899984359741, 2.0357000827789307, 2.0288000106811523, 2.0109000205993652, 1.9891999959945679, 1.9878000020980835, 1.981600046157837, 1.9810999631881714, 1.9434000253677368, 1.9306999444961548, 1.929800033569336, 1.9251999855041504, 1.9121999740600586, 1.9067000150680542, 1.8984999656677246, 1.8868999481201172, 1.8767999410629272, 1.8056000471115112, 1.7759000062942505, 1.7711999416351318, 1.6921000480651855, 1.687399983406067, 1.6971999406814575, 1.5915000438690186, 1.225100040435791, 1.3288999795913696, 1.6044000387191772, 1.382200002670288, 1.1858999729156494, 0.6686999797821045, 1.3336999416351318, 0.8294000029563904, 1.538699984550476, 0.7360000014305115, 1.3833999633789062, 0.5223000049591064, 0.8450999855995178, 1.1476000547409058, 0.3677000105381012, 0.49880000948905945, 0.3402999937534332, 0.8125, 0.22499999403953552, -0.017000000923871994, -0.1185000017285347, 0.14350000023841858, 0.1509999930858612, 0.5382000207901001, 0.05739999935030937, 0.2563999891281128, -0.10970000177621841, 0.10890000313520432, 0.023600000888109207, 0.33809998631477356, 2.603100061416626, 2.5694000720977783, 2.4897000789642334, 2.4890999794006348, 2.470900058746338, 2.470599889755249, 2.4114999771118164, 2.3731000423431396, 2.3376998901367188, 2.3373000621795654, 2.3243000507354736, 2.2987000942230225, 2.2430999279022217, 2.219599962234497, 2.2065000534057617, 2.2030999660491943, 2.1898999214172363, 2.183300018310547, 2.1666998863220215, 2.166599988937378, 2.15939998626709, 2.134000062942505, 2.1126999855041504, 2.111999988555908, 2.0580999851226807, 2.0571000576019287, 2.0564000606536865, 2.0332000255584717, 2.032900094985962, 1.999400019645691, 1.9213999509811401, 1.8874000310897827, 1.8242000341415405, 1.5006999969482422, 1.5872000455856323, 1.6016000509262085, 1.8041000366210938, 1.0096999406814575, 1.0214999914169312, 1.2860000133514404, 1.0917999744415283, 1.37909996509552, 1.1991000175476074, 0.9024999737739563, 0.6233999729156494, 1.167099952697754, 0.32359999418258667, 1.2342000007629395, 0.2694999873638153, 1.3387000560760498, 0.1054999977350235, 0.5485000014305115, 0.3285999894142151, 0.6233999729156494, 0.5688999891281128, 0.8378999829292297, 0.24279999732971191, 0.0925000011920929, 0.49779999256134033, 0.8007000088691711, -0.1462000012397766, 3.455899953842163, 3.4307000637054443, 3.42549991607666, 3.378499984741211, 3.2929000854492188, 3.2516000270843506, 3.16510009765625, 3.161799907684326, 3.1177000999450684, 2.952500104904175, 2.9231998920440674, 2.86899995803833, 2.840399980545044, 2.825000047683716, 2.808300018310547, 2.8069000244140625, 2.7528998851776123, 2.718899965286255, 2.702399969100952, 2.652400016784668, 2.6407999992370605, 2.5504000186920166, 2.505000114440918, 2.463399887084961, 2.461400032043457, 2.4570999145507812, 2.4024999141693115, 2.391900062561035, 2.3815999031066895, 2.369800090789795, 2.3322999477386475, 2.3060998916625977, 2.355299949645996, 2.164599895477295, 2.2637999057769775, 1.5943000316619873, 1.878499984741211, 1.0470999479293823, 1.5565999746322632, 2.0745999813079834, 0.6116999983787537, 0.4099999964237213, 1.1397000551223755, 0.8769000172615051, 1.1019999980926514, 0.30379998683929443, 0.4074000120162964, 0.4713999927043915, 0.07270000129938126, 0.48660001158714294, 0.18230000138282776, -0.14409999549388885, -0.3375000059604645, 0.03779999911785126, 0.27230000495910645, 0.28540000319480896, 0.42149999737739563, -0.4805000126361847, 0.6679999828338623, -0.03799999877810478, 0.1996999979019165, -0.34200000762939453, 0.14900000393390656, 3.1666998863220215, 2.8366000652313232, 2.8239998817443848, 2.794800043106079, 2.699199914932251, 2.6602001190185547, 2.6298999786376953, 2.601300001144409, 2.596299886703491, 2.573199987411499, 2.5557000637054443, 2.524600028991699, 2.503999948501587, 2.4916000366210938, 2.4814000129699707, 2.4560999870300293, 2.454900026321411, 2.4221999645233154, 2.412100076675415, 2.3889999389648438, 2.379300117492676, 2.370300054550171, 2.3657000064849854, 2.3234000205993652, 2.3017001152038574, 2.2978999614715576, 2.2964999675750732, 2.2678000926971436, 2.2558000087738037, 2.2476999759674072, 2.2332000732421875, 2.1747000217437744, 1.9845000505447388, 2.0924999713897705, 1.912500023841858, 2.1033999919891357, 1.9061000347137451, 1.815999984741211, 1.797700047492981, 1.4104000329971313, 1.3437000513076782, 1.7008999586105347, 1.4408999681472778, 1.0183000564575195, 1.4027999639511108, 1.5276000499725342, 1.5091999769210815, 0.9757000207901001, 1.0448999404907227, 1.0988999605178833, 0.37220001220703125, 0.4104999899864197, 0.7741000056266785, 1.1561000347137451, 0.7962999939918518, 0.42289999127388, 0.3889000117778778, 0.9502999782562256, 0.558899998664856, 1.069000005722046, 0.10379999876022339, 0.9771999716758728, 0.026900000870227814, 0.5422999858856201, -0.17440000176429749, 0.12790000438690186, 0.44200000166893005, 3.799799919128418, 3.7739999294281006, 3.6342999935150146, 3.629699945449829, 3.564199924468994, 3.493299961090088, 3.326200008392334, 3.1967999935150146, 3.102099895477295, 3.098599910736084, 3.0053999423980713, 2.973599910736084, 2.9565000534057617, 2.9521000385284424, 2.8891000747680664, 2.882999897003174, 2.862499952316284, 2.82069993019104, 2.7778000831604004, 2.7771999835968018, 2.712599992752075, 2.7063000202178955, 2.705399990081787, 2.703399896621704, 2.666300058364868, 2.6593000888824463, 2.6559998989105225, 2.6428000926971436, 2.638400077819824, 2.6101999282836914, 2.537899971008301, 2.531100034713745, 2.4951000213623047, 2.161400079727173, 2.413599967956543, 1.7670999765396118, 1.3693000078201294, 2.3162999153137207, 2.2028000354766846, 2.0114998817443848, 1.1708999872207642, 1.1755000352859497, 0.9501000046730042, 1.3325999975204468, 1.4842000007629395, 0.8100000023841858, 0.3544999957084656, 0.2644999921321869, 0.745199978351593, 1.8312000036239624, 1.00600004196167, 1.1832000017166138, 0.8741000294685364, 1.2851999998092651, 1.4127999544143677, 1.1030000448226929, 0.19979999959468842, 0.7354999780654907, 0.18029999732971191, 0.07509999722242355, -0.30079999566078186, -0.21539999544620514, 3.2527999877929688, 3.177299976348877, 3.1401000022888184, 3.0160999298095703, 2.9976000785827637, 2.982300043106079, 2.6229000091552734, 2.4930999279022217, 2.4437999725341797, 2.426800012588501, 2.413300037384033, 2.3710999488830566, 2.3687000274658203, 2.260699987411499, 2.258699893951416, 2.2562999725341797, 2.2506000995635986, 2.2453999519348145, 2.2388999462127686, 2.2269999980926514, 2.2249999046325684, 2.2242000102996826, 2.2086000442504883, 2.202500104904175, 2.1991000175476074, 2.195199966430664, 2.191200017929077, 2.183300018310547, 2.1816000938415527, 2.1742000579833984, 1.9222999811172485, 1.8503999710083008, 1.8573999404907227, 1.7182999849319458, 1.6584999561309814, 1.4846999645233154, 1.7862000465393066, 1.7781000137329102, 1.4433000087738037, 1.9524999856948853, 1.6080000400543213, 1.4602999687194824, 1.02839994430542, 1.1509000062942505, 1.7907999753952026, 1.441499948501587, 1.6104999780654907, 0.8675000071525574, 0.6553000211715698, 0.9369999766349792, 1.3641999959945679, 1.0942000150680542, 0.47350001335144043, 0.41990000009536743, 0.8072999715805054, 0.6886000037193298, 0.20270000398159027, 0.6669999957084656, 0.7310000061988831, 0.8227999806404114, 0.5440999865531921, 0.6133000254631042, 0.1941000074148178, 0.12370000034570694, 0.6704000234603882, 3.444499969482422, 3.003700017929077, 2.9811999797821045, 2.9655001163482666, 2.9286000728607178, 2.8654000759124756, 2.744800090789795, 2.7163000106811523, 2.6561999320983887, 2.6387999057769775, 2.6373000144958496, 2.6291000843048096, 2.6247000694274902, 2.619999885559082, 2.5381999015808105, 2.502000093460083, 2.501699924468994, 2.4690001010894775, 2.4684998989105225, 2.456199884414673, 2.450900077819824, 2.4460999965667725, 2.441999912261963, 2.434299945831299, 2.4272000789642334, 2.408400058746338, 2.399899959564209, 2.3993000984191895, 2.387500047683716, 2.3812999725341797, 2.2385001182556152, 2.297499895095825, 2.222100019454956, 2.0617001056671143, 2.227299928665161, 2.3199000358581543, 1.8990000486373901, 1.882200002670288, 2.2372000217437744, 1.981600046157837, 2.0792999267578125, 2.092600107192993, 1.5684000253677368, 1.5365999937057495, 1.0702999830245972, 1.899399995803833, 1.82669997215271, 1.9122999906539917, 1.7014000415802002, 1.3321000337600708, 0.7186999917030334, 0.9883000254631042, 0.8896999955177307, 0.5914000272750854, 0.8519999980926514, 1.0440000295639038, 0.5766000151634216, 0.8446000218391418, 0.3815000057220459, 0.7059999704360962, 0.5343000292778015, 0.5712000131607056, -0.08020000159740448, 1.2333999872207642, -0.39590001106262207, 0.5770000219345093, 0.37689998745918274, 0.46639999747276306, 3.7177000045776367, 3.3701999187469482, 3.2569000720977783, 3.256700038909912, 3.1398000717163086, 3.1154000759124756, 3.0548999309539795, 3.051500082015991, 3.0404000282287598, 3.018199920654297, 2.999000072479248, 2.995800018310547, 2.959700107574463, 2.9410998821258545, 2.9286000728607178, 2.91759991645813, 2.9137001037597656, 2.9114999771118164, 2.8882999420166016, 2.8866000175476074, 2.8803000450134277, 2.8685998916625977, 2.8657000064849854, 2.849600076675415, 2.847899913787842, 2.842600107192993, 2.8036000728607178, 2.8027000427246094, 2.795599937438965, 2.788300037384033, 2.7802999019622803, 2.662899971008301, 2.3696999549865723, 2.5495998859405518, 2.171600103378296, 2.2636001110076904, 1.799399971961975, 1.8274999856948853, 1.941499948501587, 2.562700033187866, 1.8925000429153442, 2.470900058746338, 1.1136000156402588, 1.0708999633789062, 2.3041999340057373, 1.7102999687194824, 1.4520000219345093, 0.7824000120162964, 1.2305999994277954, 0.829200029373169, 0.8747000098228455, 1.4315999746322632, 1.2200000286102295, 0.29840001463890076, 0.8759999871253967, 1.30239999294281, 0.2029000073671341, 0.11879999935626984, 0.18520000576972961, -0.1729000061750412, 0.2029000073671341, 0.8906999826431274, 0.11100000143051147, 0.16200000047683716, -0.29829999804496765, 0.3734999895095825, 4.172800064086914, 3.9388999938964844, 3.6045000553131104, 3.549799919128418, 3.425100088119507, 3.330399990081787, 3.3169000148773193, 3.1675000190734863, 3.160099983215332, 3.1243999004364014, 3.1017000675201416, 2.9897000789642334, 2.958899974822998, 2.955199956893921, 2.938699960708618, 2.908099889755249, 2.868799924850464, 2.851799964904785, 2.839200019836426, 2.7720000743865967, 2.7585999965667725, 2.7290000915527344, 2.681999921798706, 2.6249001026153564, 2.5790998935699463, 2.563800096511841, 2.5427000522613525, 2.54259991645813, 2.5408999919891357, 2.5292999744415283, 2.4616000652313232, 2.3821001052856445, 2.412100076675415, 2.239500045776367, 1.7066999673843384, 2.26200008392334, 2.153700113296509, 1.6545000076293945, 1.7352999448776245, 1.5103000402450562, 1.4860999584197998, 1.6102999448776245, 1.6276999711990356, 0.8996999859809875, 1.3348000049591064, 1.218999981880188, 1.450700044631958, 0.925599992275238, 0.40389999747276306, 0.6951000094413757, 0.47049999237060547, 1.061400055885315, 0.6207000017166138, -0.08470000326633453, 0.5530999898910522, 3.5541999340057373, 3.4660000801086426, 3.437299966812134, 3.4135000705718994, 3.2221999168395996, 3.1389000415802, 3.1352999210357666, 3.071000099182129, 3.041100025177002, 2.997299909591675, 2.947700023651123, 2.940999984741211, 2.930799961090088, 2.9184999465942383, 2.916599988937378, 2.9154000282287598, 2.910799980163574, 2.907900094985962, 2.9000000953674316, 2.899600028991699, 2.8968000411987305, 2.891900062561035, 2.8910999298095703, 2.8787999153137207, 2.872299909591675, 2.85260009765625, 2.852099895477295, 2.8310999870300293, 2.8306000232696533, 2.8153998851776123, 2.8087000846862793, 2.782599925994873, 2.809499979019165, 2.741300106048584, 2.6874001026153564, 2.781399965286255, 2.675800085067749, 2.4163999557495117, 2.6296000480651855, 2.50219988822937, 2.2723000049591064, 2.6666998863220215, 2.5934998989105225, 2.6110000610351562, 2.324199914932251, 2.57069993019104, 2.121500015258789, 2.2955000400543213, 1.5347000360488892, 1.8847999572753906, 2.1061999797821045, 1.551800012588501, 1.6819000244140625, 1.652500033378601, 1.7093000411987305, 1.4032000303268433, 0.9523000121116638, 1.5083999633789062, 0.9387000203132629, 0.7627999782562256, 2.11680006980896, 1.1589000225067139, 1.2615000009536743, 0.9537000060081482, 1.4335999488830566, 0.4162999987602234, 0.09149999916553497, 0.29820001125335693, -0.08619999885559082, 1.1926000118255615, 1.0670000314712524, 0.24699999392032623, 0.2793999910354614, 0.17270000278949738, 1.7926000356674194, 1.7424999475479126, 1.7203999757766724, 1.719599962234497, 1.653499960899353, 1.6414999961853027, 1.6361000537872314, 1.6262999773025513, 1.6239999532699585, 1.6225999593734741, 1.6154999732971191, 1.6125999689102173, 1.5982999801635742, 1.5976999998092651, 1.597599983215332, 1.5973000526428223, 1.5949000120162964, 1.590999960899353, 1.5902999639511108, 1.5886000394821167, 1.5872000455856323, 1.5846999883651733, 1.5845999717712402, 1.5815999507904053, 1.5794999599456787, 1.5789999961853027, 1.5776000022888184, 1.5769000053405762, 1.5765999555587769, 1.5693999528884888, 1.5688999891281128, 1.5645999908447266, 1.55239999294281, 1.5543999671936035, 1.544700026512146, 1.5499000549316406, 1.551200032234192, 1.4062000513076782, 1.4656000137329102, 1.51010000705719, 1.3252999782562256, 1.3948999643325806, 1.243299961090088, 0.15139999985694885, 0.2021999955177307, -0.5972999930381775, -0.1347000002861023, 0.8791000247001648, -1.6299999952316284, -0.6029999852180481, -1.0056999921798706, -1.4256000518798828, -1.2467999458312988, -0.6371999979019165, -0.10180000215768814, -0.6959999799728394, -1.3842999935150146, -0.6154000163078308, -1.6875, -0.8736000061035156, -1.1301000118255615, -1.0434000492095947, -1.17739999294281, -1.6481000185012817, -1.2687000036239624, -1.8051999807357788, -1.4493000507354736, -1.4953999519348145, -0.9132999777793884, -1.1967999935150146, -0.8481000065803528, -1.07260000705719, -1.4869999885559082, -1.6013000011444092, -1.8681999444961548, -1.4586999416351318, -1.1790000200271606, -1.6276999711990356, -1.3306000232696533, -1.3162000179290771, -1.673799991607666], \"logprob\": [30.0, 29.0, 28.0, 27.0, 26.0, 25.0, 24.0, 23.0, 22.0, 21.0, 20.0, 19.0, 18.0, 17.0, 16.0, 15.0, 14.0, 13.0, 12.0, 11.0, 10.0, 9.0, 8.0, 7.0, 6.0, 5.0, 4.0, 3.0, 2.0, 1.0, -7.947500228881836, -7.9506001472473145, -8.157699584960938, -8.409899711608887, -8.472000122070312, -7.972700119018555, -8.60159969329834, -8.60319995880127, -6.700399875640869, -8.603500366210938, -8.42590045928955, -8.272600173950195, -7.364699840545654, -7.995200157165527, -8.841699600219727, -8.61769962310791, -8.843299865722656, -8.844799995422363, -8.692700386047363, -8.386300086975098, -8.848600387573242, -8.767499923706055, -8.284199714660645, -8.694000244140625, -8.937999725341797, -8.500900268554688, -8.940699577331543, -8.944000244140625, -8.85669994354248, -8.857099533081055, -7.72629976272583, -6.417900085449219, -8.45110034942627, -7.206999778747559, -7.8597002029418945, -7.890999794006348, -7.008299827575684, -7.548799991607666, -7.574399948120117, -7.210999965667725, -7.627500057220459, -7.781300067901611, -7.962600231170654, -6.768499851226807, -5.6244001388549805, -6.8520002365112305, -6.811600208282471, -6.038099765777588, -6.083600044250488, -6.079699993133545, -6.731299877166748, -7.095399856567383, -5.2469000816345215, -6.174600124359131, -6.176499843597412, -6.347599983215332, -6.684999942779541, -6.684500217437744, -6.451300144195557, -5.939599990844727, -6.372000217437744, -5.564599990844727, -6.8460001945495605, -6.047699928283691, -6.269800186157227, -4.928400039672852, -5.716599941253662, -6.229499816894531, -5.779300212860107, -5.395599842071533, -5.36460018157959, -5.642600059509277, -5.632999897003174, -5.312900066375732, -5.518400192260742, -5.960000038146973, -5.646299839019775, -5.604800224304199, -5.986499786376953, -5.7104997634887695, -6.080100059509277, -5.577000141143799, -5.744200229644775, -5.9369001388549805, -5.874000072479248, -5.847799777984619, -6.040900230407715, -5.8927998542785645, -5.874300003051758, -5.947800159454346, -5.80079984664917, -5.84060001373291, -5.913400173187256, -5.961900234222412, -6.0269999504089355, -7.250800132751465, -7.306399822235107, -7.4868998527526855, -7.9492998123168945, -8.11460018157959, -8.17959976196289, -7.075399875640869, -8.135700225830078, -5.443600177764893, -4.451399803161621, -4.661499977111816, -5.231900215148926, -5.643400192260742, -6.40500020980835, -6.689000129699707, -7.6168999671936035, -7.442599773406982, -7.72160005569458, -7.767899990081787, -5.629300117492676, -8.14490032196045, -7.101399898529053, -6.606299877166748, -8.487899780273438, -6.145500183105469, -8.485199928283691, -8.37090015411377, -5.203700065612793, -6.720099925994873, -5.102799892425537, -5.084499835968018, -5.886499881744385, -5.298600196838379, -6.700799942016602, -6.122300148010254, -6.606900215148926, -4.960899829864502, -5.42080020904541, -5.10099983215332, -6.143799781799316, -5.414700031280518, -5.677999973297119, -5.1956000328063965, -5.728099822998047, -6.007299900054932, -5.667699813842773, -5.6255998611450195, -5.86329984664917, -5.850100040435791, -5.878399848937988, -5.650700092315674, -5.786499977111816, -5.6417999267578125, -5.880499839782715, -5.759500026702881, -5.812699794769287, -5.90500020980835, -5.8572001457214355, -6.754799842834473, -7.119900226593018, -6.038700103759766, -6.918399810791016, -6.411799907684326, -5.134300231933594, -6.505199909210205, -7.402900218963623, -7.763199806213379, -7.118100166320801, -7.253799915313721, -6.843800067901611, -8.115300178527832, -7.935800075531006, -8.120200157165527, -7.220200061798096, -8.058799743652344, -7.834199905395508, -6.037700176239014, -6.637800216674805, -7.53439998626709, -7.3653998374938965, -6.7042999267578125, -7.1697998046875, -8.356599807739258, -8.277199745178223, -8.359100341796875, -8.279800415039062, -7.664100170135498, -7.054900169372559, -6.122799873352051, -6.665800094604492, -6.657599925994873, -6.952199935913086, -5.649899959564209, -6.395599842071533, -7.162799835205078, -5.833199977874756, -6.192200183868408, -6.214900016784668, -6.126200199127197, -6.170199871063232, -6.3140997886657715, -5.646399974822998, -6.674600124359131, -6.414299964904785, -6.570700168609619, -5.402100086212158, -6.417799949645996, -5.943399906158447, -6.223299980163574, -5.755199909210205, -5.5366997718811035, -5.186999797821045, -6.03849983215332, -5.413000106811523, -5.706900119781494, -5.510000228881836, -6.04640007019043, -5.4791998863220215, -5.750999927520752, -5.834499835968018, -5.906199932098389, -5.821800231933594, -5.9928998947143555, -5.868800163269043, -6.0254998207092285, -6.046899795532227, -6.07480001449585, -6.090799808502197, -6.068600177764893, -6.101500034332275, -7.200099945068359, -4.402900218963623, -6.217800140380859, -7.793900012969971, -7.549799919128418, -6.773399829864502, -6.188700199127197, -4.756800174713135, -3.962899923324585, -4.772200107574463, -7.849100112915039, -5.728499889373779, -6.658100128173828, -5.356800079345703, -5.946700096130371, -5.708799839019775, -6.414999961853027, -5.059500217437744, -4.725100040435791, -8.337300300598145, -7.798999786376953, -6.722599983215332, -5.366600036621094, -7.218500137329102, -6.185999870300293, -7.3171000480651855, -7.4710001945495605, -8.487099647521973, -7.513599872589111, -8.227700233459473, -7.688799858093262, -6.842599868774414, -5.58459997177124, -5.298600196838379, -4.826399803161621, -4.397500038146973, -5.309299945831299, -5.628799915313721, -5.52839994430542, -4.906499862670898, -5.166800022125244, -5.287499904632568, -5.553299903869629, -5.110599994659424, -5.373799800872803, -5.415900230407715, -5.595799922943115, -5.371200084686279, -5.460299968719482, -5.631499767303467, -5.651500225067139, -5.549900054931641, -5.576200008392334, -5.688799858093262, -6.486800193786621, -6.492700099945068, -7.769599914550781, -6.353499889373779, -4.574100017547607, -7.629300117492676, -6.082099914550781, -4.360400199890137, -5.200900077819824, -5.577499866485596, -7.906000137329102, -7.912199974060059, -7.722700119018555, -7.324900150299072, -6.33650016784668, -7.2484002113342285, -6.601500034332275, -7.866300106048584, -7.136899948120117, -7.773099899291992, -6.991499900817871, -4.899600028991699, -6.6504998207092285, -7.6875, -6.718900203704834, -8.133700370788574, -4.251699924468994, -6.999100208282471, -7.315499782562256, -8.125499725341797, -6.736100196838379, -6.387700080871582, -6.374199867248535, -6.526800155639648, -6.329599857330322, -4.924200057983398, -5.656799793243408, -6.490499973297119, -5.962500095367432, -5.460400104522705, -4.5725998878479, -6.11959981918335, -5.4079999923706055, -6.490300178527832, -5.337900161743164, -6.278500080108643, -5.250400066375732, -5.646999835968018, -6.046500205993652, -5.378200054168701, -5.594699859619141, -5.514500141143799, -5.863100051879883, -5.5320000648498535, -5.409999847412109, -5.421899795532227, -5.569300174713135, -5.578199863433838, -5.830999851226807, -5.677499771118164, -5.7642998695373535, -5.707399845123291, -5.834400177001953, -5.882199764251709, -5.933800220489502, -5.692999839782715, -4.899799823760986, -5.637400150299072, -7.418499946594238, -7.577499866485596, -6.922399997711182, -6.910200119018555, -7.474699974060059, -7.446400165557861, -6.809199810028076, -6.228600025177002, -5.730400085449219, -7.164700031280518, -7.766200065612793, -6.715700149536133, -5.675600051879883, -7.721499919891357, -4.646100044250488, -7.16949987411499, -7.878399848937988, -6.776000022888184, -6.213399887084961, -4.025899887084961, -5.232699871063232, -7.295499801635742, -6.81879997253418, -7.912300109863281, -8.170999526977539, -7.928800106048584, -7.384799957275391, -5.8125, -6.168600082397461, -5.591599941253662, -4.228499889373779, -4.989999771118164, -5.279900074005127, -6.821499824523926, -5.1905999183654785, -5.215799808502197, -5.79580020904541, -5.554599761962891, -5.997799873352051, -5.759799957275391, -5.4440999031066895, -5.122499942779541, -5.800099849700928, -4.979800224304199, -5.8933000564575195, -5.1234002113342285, -6.045499801635742, -5.135799884796143, -5.496799945831299, -5.406199932098389, -5.592700004577637, -5.5802998542785645, -5.706500053405762, -5.514200210571289, -5.505199909210205, -5.656499862670898, -5.729100227355957, -5.660699844360352, -4.126100063323975, -5.774799823760986, -5.78380012512207, -6.188700199127197, -4.799200057983398, -4.720399856567383, -6.552599906921387, -6.557400226593018, -6.484099864959717, -6.436399936676025, -6.262899875640869, -6.434100151062012, -6.749199867248535, -7.323800086975098, -6.799900054931641, -7.026299953460693, -6.662199974060059, -6.669300079345703, -7.40880012512207, -7.3653998374938965, -7.23390007019043, -7.555600166320801, -6.923299789428711, -7.675000190734863, -6.23960018157959, -7.654099941253662, -7.3404998779296875, -7.5731000900268555, -7.852799892425537, -7.404200077056885, -5.221700191497803, -6.175300121307373, -7.111999988555908, -6.272900104522705, -6.945400238037109, -5.067200183868408, -6.364699840545654, -5.286099910736084, -6.049099922180176, -6.718699932098389, -5.145400047302246, -4.945400238037109, -5.755199909210205, -5.746500015258789, -5.9446001052856445, -5.468900203704834, -5.535999774932861, -5.6203999519348145, -5.441800117492676, -5.754499912261963, -5.656300067901611, -5.537099838256836, -5.578700065612793, -5.697000026702881, -5.837900161743164, -5.863800048828125, -5.9253997802734375, -5.783899784088135, -5.996799945831299, -5.943699836730957, -5.973199844360352, -5.939700126647949, -5.9791998863220215, -6.828499794006348, -7.094200134277344, -6.583799839019775, -6.140600204467773, -6.705699920654297, -6.625699996948242, -5.426199913024902, -7.453499794006348, -7.532800197601318, -7.322800159454346, -7.500400066375732, -6.9105000495910645, -7.523799896240234, -7.397799968719482, -7.07390022277832, -7.678100109100342, -7.148399829864502, -7.434700012207031, -7.440899848937988, -7.719900131225586, -5.620500087738037, -7.457300186157227, -7.287300109863281, -5.021299839019775, -7.37060022354126, -7.744999885559082, -7.756899833679199, -6.491399765014648, -7.874199867248535, -7.992400169372559, -7.431700229644775, -7.109799861907959, -5.57289981842041, -6.552499771118164, -5.556700229644775, -6.659299850463867, -5.904799938201904, -5.5680999755859375, -5.864099979400635, -4.927800178527832, -5.186100006103516, -5.9654998779296875, -5.458099842071533, -4.710899829864502, -5.565899848937988, -5.893099784851074, -5.904699802398682, -5.163000106811523, -5.4028000831604, -5.478300094604492, -4.93120002746582, -4.982500076293945, -5.463200092315674, -5.806099891662598, -5.550300121307373, -5.322999954223633, -5.3460001945495605, -5.682199954986572, -5.534599781036377, -5.818699836730957, -5.653200149536133, -5.832300186157227, -5.685800075531006, -5.768499851226807, -5.688899993896484, -5.7778000831604, -5.799099922180176, -5.776800155639648, -4.426700115203857, -4.806099891662598, -5.825200080871582, -5.542200088500977, -5.6682000160217285, -3.9195001125335693, -5.622300148010254, -6.67579984664917, -6.747200012207031, -7.050899982452393, -6.75540018081665, -7.196300029754639, -7.192599773406982, -6.943600177764893, -7.123000144958496, -7.198500156402588, -6.777100086212158, -6.702000141143799, -6.766600131988525, -7.244999885559082, -7.364200115203857, -7.401000022888184, -7.081600189208984, -7.49560022354126, -7.114299774169922, -7.135900020599365, -7.35699987411499, -6.723199844360352, -7.563700199127197, -5.019100189208984, -6.456399917602539, -6.5578999519348145, -4.945000171661377, -6.307700157165527, -4.368199825286865, -4.365499973297119, -6.417500019073486, -6.232500076293945, -5.985199928283691, -5.0100998878479, -5.0406999588012695, -4.779099941253662, -5.3831000328063965, -5.7469000816345215, -5.26800012588501, -5.000899791717529, -5.038899898529053, -5.441100120544434, -6.136300086975098, -5.662899971008301, -5.817500114440918, -5.68179988861084, -5.882900238037109, -5.946899890899658, -5.836999893188477, -5.557300090789795, -5.743899822235107, -5.658400058746338, -5.637599945068359, -5.69379997253418, -5.8130998611450195, -5.902900218963623, -5.50600004196167, -5.860499858856201, -6.652400016784668, -5.901500225067139, -5.373700141906738, -7.017600059509277, -7.438799858093262, -7.75540018081665, -6.94980001449585, -7.435299873352051, -7.849599838256836, -7.484300136566162, -7.149400234222412, -7.2947001457214355, -7.931600093841553, -7.461299896240234, -6.817599773406982, -7.459799766540527, -7.437099933624268, -6.998199939727783, -7.502799987792969, -7.202899932861328, -4.287099838256836, -6.89769983291626, -7.844600200653076, -7.860499858856201, -7.475500106811523, -7.957699775695801, -8.01140022277832, -5.235899925231934, -4.978099822998047, -5.637400150299072, -5.232900142669678, -4.946000099182129, -4.320700168609619, -5.880499839782715, -6.024600028991699, -5.165500164031982, -6.719200134277344, -5.9405999183654785, -5.634699821472168, -4.877399921417236, -5.187300205230713, -6.397900104522705, -5.775100231170654, -6.127600193023682, -4.987199783325195, -4.73769998550415, -5.217299938201904, -5.822400093078613, -5.514599800109863, -4.7677001953125, -4.883500099182129, -5.530700206756592, -5.446599960327148, -5.152699947357178, -5.505899906158447, -5.540900230407715, -5.625, -5.529900074005127, -5.586999893188477, -5.562900066375732, -5.622099876403809, -5.695799827575684, -6.33459997177124, -6.079599857330322, -7.258200168609619, -7.254199981689453, -6.83050012588501, -7.250400066375732, -6.961299896240234, -4.954100131988525, -7.2729997634887695, -7.2469000816345215, -7.59119987487793, -7.607500076293945, -5.521200180053711, -7.6203999519348145, -7.236800193786621, -4.698999881744385, -6.15339994430542, -7.6666998863220215, -7.441400051116943, -7.397799968719482, -7.5868000984191895, -7.696000099182129, -7.593500137329102, -7.593599796295166, -7.5914998054504395, -6.185299873352051, -7.717899799346924, -7.624100208282471, -7.370999813079834, -6.93779993057251, -4.6605000495910645, -5.986999988555908, -5.037600040435791, -4.235799789428711, -5.778200149536133, -6.793000221252441, -4.2820000648498535, -4.223199844360352, -6.793099880218506, -5.909800052642822, -6.459099769592285, -6.51800012588501, -5.558599948883057, -5.564199924468994, -4.873000144958496, -6.275199890136719, -6.181300163269043, -6.3059000968933105, -6.0731000900268555, -5.67110013961792, -5.053999900817871, -5.35830020904541, -5.318600177764893, -5.143400192260742, -5.38539981842041, -5.6203999519348145, -5.2621002197265625, -5.48330020904541, -5.21619987487793, -5.466899871826172, -5.511000156402588, -5.564000129699707, -5.383600234985352, -5.868299961090088, -5.637199878692627, -5.792200088500977, -5.77239990234375, -5.802700042724609, -4.812699794769287, -6.3420000076293945, -6.700399875640869, -6.9832000732421875, -6.686299800872803, -6.842100143432617, -5.646100044250488, -6.85099983215332, -7.078999996185303, -6.204999923706055, -5.508299827575684, -7.084000110626221, -6.756999969482422, -7.09630012512207, -7.1194000244140625, -6.909299850463867, -7.08650016784668, -6.9984002113342285, -7.079800128936768, -7.077099800109863, -6.009900093078613, -7.1971001625061035, -7.078199863433838, -6.750100135803223, -7.102499961853027, -7.176199913024902, -6.0229997634887695, -7.076600074768066, -6.89169979095459, -7.083700180053711, -6.877299785614014, -5.042900085449219, -4.781799793243408, -6.319399833679199, -5.53980016708374, -5.827600002288818, -5.238500118255615, -5.403600215911865, -5.712299823760986, -6.612400054931641, -5.780300140380859, -6.500100135803223, -5.014699935913086, -5.002999782562256, -6.355100154876709, -5.843800067901611, -5.612400054931641, -5.056300163269043, -5.548999786376953, -5.2642998695373535, -5.3871002197265625, -5.759200096130371, -5.643799781799316, -5.057000160217285, -5.470799922943115, -5.792600154876709, -5.311600208282471, -5.274199962615967, -5.412499904632568, -5.4141998291015625, -5.5320000648498535, -5.7179999351501465, -5.6016998291015625, -5.6107001304626465, -5.6016998291015625, -5.716300010681152, -4.658100128173828, -5.639400005340576, -5.851900100708008, -5.122000217437744, -5.401500225067139, -6.14709997177124, -5.329899787902832, -6.8572001457214355, -6.939799785614014, -5.33050012588501, -6.659900188446045, -6.694300174713135, -6.795300006866455, -5.5640997886657715, -6.386099815368652, -6.143099784851074, -6.658699989318848, -4.854100227355957, -7.035200119018555, -7.067800045013428, -7.227200031280518, -7.009300231933594, -6.665800094604492, -5.494999885559082, -5.132199764251709, -7.676300048828125, -7.674300193786621, -7.6682000160217285, -6.5559000968933105, -7.097599983215332, -5.3815999031066895, -5.392399787902832, -6.065199851989746, -5.38129997253418, -3.534600019454956, -5.6392998695373535, -5.394599914550781, -4.074699878692627, -4.358099937438965, -4.644000053405762, -4.686699867248535, -4.953400135040283, -5.200799942016602, -4.40369987487793, -4.906300067901611, -4.909200191497803, -5.18149995803833, -4.980199813842773, -4.989099979400635, -5.143499851226807, -5.264400005340576, -5.468400001525879, -5.424600124359131, -5.440100193023682, -5.46999979019165, -6.276199817657471, -6.440899848937988, -5.044099807739258, -6.634399890899658, -5.953000068664551, -5.834400177001953, -6.614699840545654, -6.629300117492676, -6.009399890899658, -6.867099761962891, -7.268599987030029, -7.292799949645996, -7.2895002365112305, -7.291600227355957, -7.277599811553955, -7.3003997802734375, -7.2947998046875, -7.2855000495910645, -7.293000221252441, -7.291900157928467, -7.287399768829346, -7.292600154876709, -7.292500019073486, -7.142399787902832, -7.3144001960754395, -6.6392998695373535, -7.2967000007629395, -7.287600040435791, -7.292099952697754, -7.3109002113342285, -6.395599842071533, -5.418000221252441, -6.633699893951416, -5.732999801635742, -5.7530999183654785, -6.628699779510498, -6.417200088500977, -5.3796000480651855, -6.307600021362305, -5.874199867248535, -5.284599781036377, -6.627099990844727, -6.546800136566162, -6.628499984741211, -6.082499980926514, -6.624100208282471, -5.916100025177002, -6.263999938964844, -5.126800060272217, -5.72730016708374, -6.028900146484375, -5.381400108337402, -5.563799858093262, -5.564199924468994, -5.723599910736084, -5.536799907684326, -5.228600025177002, -5.731500148773193, -5.4274001121521, -5.372399806976318, -6.1381001472473145, -5.733099937438965, -5.800600051879883, -5.71120023727417, -5.943299770355225, -5.673600196838379, -5.621200084686279, -5.702099800109863, -5.683899879455566, -5.91379976272583, -5.904799938201904, -5.871699810028076, -5.892899990081787, -5.905200004577637, -8.395600318908691, -8.44950008392334, -7.694699764251709, -8.413200378417969, -8.509699821472168, -8.196800231933594, -8.311699867248535, -8.535699844360352, -8.53849983215332, -8.557700157165527, -8.593299865722656, -8.575499534606934, -8.61299991607666, -8.529399871826172, -8.438599586486816, -8.49530029296875, -8.628800392150879, -8.57759952545166, -8.566800117492676, -8.653599739074707, -8.652199745178223, -8.628100395202637, -8.655200004577637, -8.609600067138672, -8.624799728393555, -8.66100025177002, -8.623800277709961, -8.643400192260742, -8.663800239562988, -8.630999565124512, -8.55090045928955, -8.523900032043457, -8.41670036315918, -8.463800430297852, -8.467900276184082, -8.526000022888184, -8.548999786376953, -8.241800308227539, -8.454400062561035, -8.530900001525879, -8.30150032043457, -8.41189956665039, -8.267800331115723, -7.430600166320801, -7.575099945068359, -7.229499816894531, -7.588799953460693, -8.175100326538086, -6.871200084686279, -7.4141998291015625, -7.221799850463867, -7.0233001708984375, -7.152500152587891, -7.446700096130371, -7.720300197601318, -7.45550012588501, -7.1570000648498535, -7.506100177764893, -7.042900085449219, -7.392300128936768, -7.302999973297119, -7.341599941253662, -7.312600135803223, -7.162600040435791, -7.314000129699707, -7.10860013961792, -7.254799842834473, -7.252399921417236, -7.47790002822876, -7.3831000328063965, -7.5096001625061035, -7.438799858093262, -7.3256001472473145, -7.314000129699707, -7.261099815368652, -7.3643999099731445, -7.427599906921387, -7.362599849700928, -7.408599853515625, -7.434800148010254, -7.419600009918213]}, \"token.table\": {\"Topic\": [1, 2, 14, 4, 2, 3, 6, 8, 1, 2, 3, 4, 5, 6, 7, 8, 9, 10, 12, 13, 2, 4, 2, 5, 6, 2, 4, 6, 8, 11, 13, 2, 4, 5, 8, 1, 2, 3, 4, 5, 6, 7, 8, 9, 10, 11, 12, 13, 1, 4, 5, 6, 8, 1, 2, 3, 7, 9, 11, 1, 2, 7, 8, 1, 2, 3, 9, 12, 2, 3, 8, 10, 1, 2, 3, 4, 5, 6, 7, 8, 10, 14, 1, 1, 2, 3, 4, 5, 6, 7, 8, 10, 11, 1, 2, 3, 4, 5, 6, 7, 10, 12, 1, 2, 3, 4, 5, 6, 7, 8, 9, 10, 12, 13, 14, 2, 3, 4, 5, 6, 8, 11, 12, 13, 2, 11, 2, 3, 4, 11, 1, 2, 3, 4, 5, 6, 7, 8, 9, 10, 11, 12, 1, 1, 3, 4, 9, 13, 1, 2, 3, 8, 11, 1, 2, 3, 7, 9, 10, 11, 14, 1, 2, 4, 6, 11, 1, 2, 3, 4, 5, 6, 7, 8, 11, 14, 1, 2, 3, 12, 1, 2, 3, 4, 5, 6, 7, 8, 9, 10, 11, 12, 13, 14, 1, 2, 3, 4, 5, 6, 8, 9, 10, 11, 1, 2, 3, 4, 5, 6, 7, 8, 10, 11, 1, 2, 4, 8, 10, 2, 3, 4, 8, 11, 12, 1, 2, 3, 4, 5, 6, 7, 8, 10, 12, 13, 1, 2, 11, 12, 3, 1, 2, 3, 4, 5, 6, 7, 8, 9, 10, 11, 12, 13, 14, 1, 2, 3, 4, 10, 1, 3, 4, 12, 13, 1, 3, 4, 5, 6, 8, 11, 3, 4, 5, 10, 2, 11, 4, 10, 13, 14, 1, 2, 4, 6, 10, 1, 2, 3, 5, 6, 10, 1, 2, 3, 4, 5, 6, 7, 8, 9, 10, 11, 12, 1, 1, 3, 7, 12, 2, 4, 6, 8, 12, 3, 7, 1, 2, 3, 4, 5, 6, 7, 8, 9, 10, 11, 13, 1, 1, 3, 2, 5, 6, 8, 2, 11, 1, 2, 11, 12, 13, 1, 2, 3, 4, 5, 6, 7, 8, 9, 10, 11, 12, 13, 1, 3, 7, 5, 6, 8, 2, 3, 6, 10, 1, 2, 3, 5, 8, 1, 2, 3, 4, 5, 7, 9, 13, 14, 1, 3, 4, 7, 1, 12, 1, 2, 3, 4, 5, 6, 7, 8, 9, 10, 11, 12, 13, 14, 1, 3, 12, 5, 6, 1, 3, 2, 11, 1, 2, 3, 5, 7, 8, 13, 14, 1, 2, 3, 12, 2, 6, 8, 1, 3, 5, 9, 11, 14, 1, 2, 3, 4, 5, 6, 7, 8, 9, 10, 11, 13, 14, 1, 2, 3, 5, 7, 12, 14, 4, 10, 1, 3, 9, 1, 2, 3, 4, 5, 6, 7, 8, 9, 10, 11, 12, 1, 3, 4, 5, 12, 1, 2, 3, 4, 5, 6, 7, 8, 9, 10, 11, 12, 13, 14, 4, 5, 8, 10, 13, 1, 3, 7, 9, 12, 1, 2, 3, 5, 6, 7, 8, 10, 3, 4, 5, 6, 1, 1, 3, 12, 5, 6, 8, 1, 2, 4, 5, 1, 3, 1, 3, 1, 2, 3, 4, 6, 7, 10, 11, 14, 1, 2, 3, 4, 5, 6, 7, 8, 9, 10, 11, 12, 1, 2, 3, 4, 5, 6, 7, 8, 9, 10, 11, 12, 1, 2, 3, 5, 2, 5, 6, 1, 2, 3, 4, 5, 6, 7, 8, 9, 10, 11, 12, 13, 14, 1, 3, 5, 6, 13, 1, 2, 3, 6, 7, 9, 11, 14, 1, 2, 3, 4, 5, 6, 7, 8, 9, 12, 14, 4, 10, 13, 1, 2, 3, 4, 5, 6, 7, 8, 11, 1, 3, 4, 5, 7, 8, 10, 1, 2, 3, 5, 6, 7, 9, 12, 14, 1, 2, 3, 5, 7, 10, 14, 2, 11, 1, 8, 14, 1, 2, 3, 4, 6, 11, 12, 1, 3, 4, 5, 6, 7, 4, 13, 4, 2, 5, 6, 8, 1, 2, 3, 4, 5, 6, 7, 8, 10, 11, 13, 2, 1, 2, 3, 4, 5, 6, 7, 8, 9, 10, 11, 12, 13, 14, 1, 2, 4, 5, 7, 12, 3, 11, 2, 3, 4, 5, 6, 14, 1, 2, 3, 4, 5, 8, 10, 2, 4, 6, 1, 2, 3, 4, 5, 6, 7, 8, 10, 11, 2, 6, 7, 14, 2, 3, 4, 5, 6, 11, 4, 10, 1, 2, 3, 5, 2, 4, 1, 4, 5, 6, 1, 2, 3, 6, 10, 12, 1, 3, 6, 8, 1, 1, 2, 3, 4, 5, 6, 7, 8, 10, 11, 12, 2, 3, 4, 7, 11, 1, 2, 4, 9, 10, 11, 12, 14, 1, 3, 6, 7, 1, 2, 3, 5, 6, 8, 9, 11, 1, 3, 9, 14, 1, 1, 2, 3, 4, 5, 6, 7, 8, 9, 10, 11, 12, 14, 3, 7, 12, 1, 3, 6, 11, 1, 2, 3, 4, 5, 6, 2, 4, 5, 2, 5, 6, 8, 11, 1, 2, 3, 4, 5, 6, 7, 8, 2, 8, 11, 2, 11, 1, 2, 3, 4, 5, 6, 8, 9, 10, 11, 14, 1, 2, 3, 4, 5, 6, 7, 8, 9, 10, 11, 1, 2, 3, 4, 5, 6, 7, 8, 9, 10, 11, 12, 13, 14, 1, 3, 4, 13, 1, 2, 3, 4, 5, 6, 7, 8, 10, 12, 13, 14, 1, 2, 3, 4, 5, 6, 7, 8, 9, 10, 11, 12, 13, 14, 1, 2, 3, 6, 8, 2, 11, 1, 2, 4, 5, 6, 8, 10, 13, 1, 7, 2, 4, 6, 7, 10, 5, 6, 8, 1, 3, 1, 2, 3, 4, 5, 6, 8, 1, 2, 3, 4, 7, 9, 14, 1, 2, 3, 6, 1, 3, 6, 9, 1, 2, 7, 8, 11, 13, 1, 2, 4, 5, 7, 2, 11, 1, 2, 3, 6, 9, 12, 14, 3, 1, 3, 1, 2, 3, 4, 5, 6, 7, 8, 10, 11, 13, 3, 1, 2, 3, 4, 10, 13, 1, 2, 3, 4, 1, 2, 4, 5, 2, 3, 7, 3, 4, 8, 10, 13, 4, 10, 1, 2, 3, 4, 5, 6, 7, 8, 9, 11, 12, 13, 1, 3, 1, 2, 3, 4, 6, 12, 1, 3, 1, 3, 7, 14, 1, 2, 4, 12, 1, 2, 3, 5, 7, 12, 1, 3, 5, 10, 12, 1, 3, 4, 5, 9, 1, 2, 3, 7, 8, 9, 11, 13, 14, 1, 2, 4, 5, 6, 7, 14, 2, 8, 11, 13, 1, 2, 5, 6, 12, 1, 2, 4, 5, 6, 7, 8, 11, 13, 1, 3, 2, 4, 8, 10, 13, 4, 1, 3, 1, 2, 4, 5, 6, 8, 10, 13, 2, 6, 8, 11, 3, 9, 2, 4, 5, 6, 8, 11, 1, 2, 3, 4, 5, 7, 9, 10, 4, 10, 1, 3, 5, 6, 7, 13, 2, 4, 7, 8, 1, 3, 3, 1, 3, 1, 2, 3, 4, 5, 6, 7, 8, 9, 10, 11, 12, 13, 14, 1, 4, 5, 6, 10, 11, 2, 3, 6, 7, 11, 2, 2, 4, 6, 11, 14, 2, 6, 8, 10, 1, 2, 3, 4, 5, 6, 7, 8, 9, 11, 12, 14, 1, 2, 3, 4, 5, 6, 7, 8, 9, 10, 11, 12, 13, 14, 1, 2, 3, 6, 9, 11, 12, 13, 1, 2, 3, 4, 5, 6, 7, 8, 9, 10, 11, 12, 14, 1, 2, 4, 5, 7, 8, 10, 12, 13, 14, 1, 2, 3, 4, 5, 6, 7, 8, 10, 11, 12, 13, 2, 8, 11, 1, 2, 3, 6, 9, 11, 1, 3, 4, 12, 13, 1, 2, 3, 4, 5, 6, 7, 8, 9, 10, 11, 12, 13, 14, 1, 3, 4, 5, 10, 11, 1, 2, 4, 10, 13, 14, 1, 2, 3, 4, 5, 6, 7, 8, 9, 10, 11, 12, 14, 1, 2, 3, 4, 6, 7, 9, 11, 12, 14, 1, 2, 3, 4, 5, 6, 7, 8, 9, 10, 11, 12, 13, 14, 2, 11, 1, 7, 9, 13, 1, 2, 3, 4, 5, 6, 7, 9, 10, 11, 13, 14, 1, 2, 4, 13, 5, 8, 1, 3, 1, 1, 5, 6, 8, 2, 6, 7, 1, 2, 3, 4, 5, 6, 7, 8, 11, 14, 1, 2, 3, 7, 1, 3, 1, 2, 3, 4, 6, 10, 12, 1, 2, 3, 5, 7, 9, 12, 1, 2, 3, 4, 5, 6, 7, 8, 9, 10, 11, 13, 14, 1, 2, 6, 7, 1, 1, 5, 6, 12, 2, 5, 6, 7, 8, 1, 1, 5, 11, 12, 13, 2, 4, 5, 12, 1, 2, 3, 4, 5, 6, 7, 9, 10, 12, 1, 5, 6, 8, 11, 12, 13, 1, 1, 1, 3, 4, 7, 1, 2, 3, 4, 5, 6, 8, 9, 11, 12, 13, 14, 1, 1, 2, 3, 4, 5, 6, 7, 8, 9, 10, 11, 12, 13, 14, 4, 13, 1, 2, 3, 4, 5, 6, 7, 8, 9, 10, 11, 12, 13, 14, 1, 2, 3, 10, 12, 1, 2, 3, 4, 5, 6, 7, 8, 9, 10, 11, 12, 13, 14, 3, 1, 3, 14, 1, 4, 5, 7, 8, 10, 1, 2, 4, 5, 6, 10, 1, 2, 3, 4, 5, 6, 7, 8, 9, 10, 11, 13, 14, 1, 2, 3, 4, 5, 6, 7, 10, 11, 12, 13, 14, 1, 2, 3, 4, 5, 6, 7, 8, 9, 10, 11, 12, 13, 14, 1, 1, 2, 4, 7, 12, 14, 1, 2, 3, 4, 5, 6, 7, 8, 10, 11, 1, 2, 3, 4, 5, 6, 7, 8, 9, 10, 11, 12, 13, 2, 1, 2, 4, 6, 10, 13, 2, 4, 10, 13, 1, 2, 3, 4, 5, 6, 8, 9, 10, 11, 1, 2, 3, 5, 6, 7, 8, 12, 13, 1, 2, 3, 4, 5, 6, 7, 8, 9, 10, 11, 13, 1, 2, 3, 4, 5, 6, 7, 8, 9, 10, 11, 12, 13, 14, 1, 2, 3, 4, 5, 6, 7, 8, 9, 10, 11, 12, 13, 1, 2, 3, 4, 5, 6, 7, 8, 9, 10, 11, 12, 13, 14, 1, 2, 3, 4, 5, 6, 7, 8, 9, 10, 11, 12, 14, 1, 2, 3, 4, 5, 11, 13, 1, 2, 3, 9, 1, 3, 12, 14, 3, 1, 2, 4, 7, 5, 6, 8, 4, 8, 10, 13, 2, 3, 6, 11, 1, 2, 3, 4, 5, 6, 7, 8, 9, 10, 11, 12, 13, 14, 1, 2, 3, 4, 5, 6, 7, 8, 9, 10, 11, 12, 13, 1, 1, 2, 4, 11, 1, 2, 3, 4, 5, 6, 7, 8, 9, 10, 11, 12, 13, 14, 1, 2, 3, 4, 5, 6, 7, 8, 9, 10, 11, 12, 13, 1, 3, 1, 2, 3, 6, 8, 2, 4, 7, 1, 2, 3, 5, 7, 5, 6, 2, 5, 6, 1, 3, 1, 2, 3, 4, 5, 6, 7, 8, 9, 10, 11, 12, 1, 3, 10, 2, 4, 5, 11, 2, 4, 5, 6, 8, 2, 6, 7, 10, 11, 2, 3, 4, 6, 8, 1, 2, 4, 5, 7, 14, 3, 5, 6, 8, 10, 2, 9, 1, 3, 9, 1, 2, 4, 5, 8, 2, 3, 4, 6, 10, 13, 1, 3, 14, 2, 5, 7, 12, 1, 7, 11, 13, 1, 2, 5, 8, 1, 2, 3, 4, 5, 7, 11, 1, 3, 5, 7, 8, 12, 1, 3, 9, 1, 2, 3, 4, 5, 7, 9, 13, 2, 4, 5, 8, 10, 1, 2, 3, 4, 7, 11, 1, 2, 4, 5, 14, 1, 4, 6, 8, 13, 2, 3, 4, 6, 14, 4, 10, 1, 2, 4, 5, 6, 7, 1, 2, 3, 4, 5, 6, 7, 8, 9, 10, 11, 12, 13, 14, 1, 1, 3, 2, 11, 3, 1, 2, 3, 4, 5, 6, 7, 8, 9, 10, 11, 12, 13, 14, 1, 2, 4, 5, 6, 7, 8, 9, 10, 11, 12, 5, 6, 5, 6, 2, 4, 5, 6, 8, 1, 2, 3, 4, 5, 6, 7, 8, 9, 10, 11, 12, 13, 1, 2, 3, 7, 2, 4, 8, 10, 13, 1, 4, 7, 12, 1, 2, 3, 4, 5, 6, 7, 8, 9, 10, 11, 12, 13, 14, 1, 2, 3, 4, 5, 6, 7, 8, 9, 10, 11, 12, 13, 14, 1, 2, 3, 6, 10, 2, 3, 4, 5, 9, 1, 3, 9, 14, 2, 3, 5, 7, 1, 2, 3, 4, 5, 6, 7, 8, 10, 11, 12, 13, 1, 2, 3, 4, 5, 6, 7, 8, 9, 10, 11, 12, 13, 14, 2, 5, 6, 11, 1, 2, 3, 4, 5, 7, 8, 9, 10, 11, 12, 1, 12, 1, 2, 3, 5, 7, 10, 12, 1, 2, 3, 5, 7, 12, 1, 3, 1, 2, 3, 4, 6, 7, 8, 1, 2, 3, 4, 1, 2, 3, 4, 5, 6, 7, 8, 9, 10, 11, 13, 14, 1, 2, 3, 4, 5, 6, 7, 8, 9, 10, 11, 12, 13, 14, 1, 2, 3, 4, 5, 6, 7, 8, 9, 10, 11, 12, 14, 1, 2, 3, 14, 1, 2, 3, 4, 5, 6, 7, 8, 9, 10, 11, 12, 13, 14, 1, 2, 3, 4, 5, 6, 7, 8, 10, 11, 12, 13, 1, 2, 3, 4, 5, 6, 7, 8, 10, 11, 12, 14, 5, 6, 8, 1, 2, 3, 6, 7, 8, 11, 12, 14, 2, 3, 5, 6, 7, 8, 10, 1, 2, 3, 4, 5, 6, 7, 8, 9, 10, 11, 13, 14, 1, 2, 3, 4, 5, 6, 7, 8, 9, 10, 11, 12, 13, 14, 5, 6, 8, 1, 2, 3, 4, 5, 6, 7, 8, 9, 10, 11, 12, 13, 14, 1, 2, 3, 4, 5, 6, 7, 8, 9, 10, 11, 12, 13, 14, 1, 2, 3, 4, 5, 6, 7, 8, 9, 10, 11, 12, 13, 14, 1, 2, 3, 4, 5, 6, 7, 9, 11, 12, 13, 1, 2, 5, 6, 7, 1, 2, 3, 4, 5, 6, 7, 8, 9, 10, 11, 13, 1, 2, 3, 4, 5, 6, 7, 10, 11, 12, 13, 14, 5, 6, 5, 6, 1, 2, 3, 12, 2, 5, 6, 8, 1, 7, 13, 1, 2, 3, 4, 5, 6, 7, 8, 10, 11, 12, 13, 1, 2, 3, 6, 7, 10, 12, 1, 2, 3, 1, 1, 2, 11, 1, 3, 1, 2, 3, 4, 5, 6, 7, 8, 9, 10, 11, 12, 13, 1, 2, 3, 4, 5, 6, 7, 8, 9, 10, 11, 12, 13, 4, 8, 10, 1, 2, 3, 6, 9, 11, 13, 14, 2, 3, 5, 6, 12, 2, 5, 8, 11, 1, 2, 3, 4, 5, 6, 8, 9, 10, 14, 1, 2, 3, 4, 5, 6, 7, 8, 9, 10, 11, 12, 13, 14, 1, 3, 9, 12, 14, 2, 4, 10, 1, 2, 3, 5, 6, 7, 9, 14, 1, 7, 14, 1, 2, 3, 4, 5, 6, 7, 8, 9, 12, 13, 1, 2, 3, 4, 5, 6, 7, 10, 14, 3, 7, 1, 2, 3, 4, 12, 14, 3, 7, 14, 1, 3, 7, 9, 5, 6, 8, 2, 5, 11, 2, 1, 7, 9, 1, 2, 3, 4, 5, 6, 7, 8, 9, 10, 11, 12, 13, 14, 1, 2, 3, 4, 5, 6, 7, 8, 9, 10, 11, 12, 13, 14, 1, 2, 3, 9, 1, 12, 13, 1, 2, 3, 4, 5, 6, 8, 9, 11, 12, 13, 1, 2, 3, 4, 5, 6, 7, 8, 9, 10, 11, 12, 13, 14, 1, 3, 2, 4, 5, 6, 8, 1, 2, 3, 7, 12, 2, 3, 1, 2, 3, 1, 3, 7, 9, 1, 2, 4, 1, 2, 3, 9, 1, 2, 3, 4, 5, 6, 7, 8, 9, 10, 11, 12, 13, 14, 1, 2, 5, 8, 1, 3, 12, 14, 2, 9, 12, 14, 1, 2, 3, 4, 5, 6, 7, 8, 10, 11, 12, 13, 14, 1, 2, 3, 4, 5, 6, 8, 10, 12, 1, 2, 3, 9, 1, 2, 4, 5, 8, 10, 1, 2, 3, 4, 5, 6, 7, 8, 9, 10, 11, 12, 13, 14, 1, 3, 7, 12, 1, 11, 1, 3, 12, 1, 2, 3, 4, 5, 6, 7, 8, 9, 10, 11, 12, 13, 14, 5, 6, 8, 1, 2, 3, 4, 5, 6, 7, 8, 9, 10, 11, 12, 13, 14, 1, 2, 3, 4, 5, 6, 7, 8, 9, 10, 11, 13, 14, 2, 5, 8, 10, 1, 2, 3, 4, 5, 6, 7, 8, 9, 10, 11, 12, 13, 2, 11, 1, 3, 5, 7, 11, 12, 1, 3, 5, 7, 9, 13, 1, 2, 3, 4, 5, 6, 11, 13, 2, 5, 6, 9, 2, 5, 6, 8, 1, 2, 3, 4, 5, 6, 7, 8, 9, 10, 11, 13, 1, 2, 3, 4, 5, 6, 7, 8, 9, 10, 11, 12, 13, 14, 1, 2, 3, 9, 1, 2, 3, 4, 5, 6, 7, 14, 2, 4, 1, 2, 3, 3, 2, 11, 1, 2, 3, 4, 5, 6, 7, 8, 11, 14, 1, 3, 2, 5, 6, 7, 12, 13, 1, 2, 4, 13, 1, 2, 3, 6, 9, 1, 1, 3, 5, 10, 12, 1, 3, 7, 5, 6, 7, 8, 1, 4, 5, 13, 1, 2, 3, 4, 10, 13, 1, 2, 5, 9, 12, 4, 10, 14, 2, 4, 11, 13, 5, 6, 1, 2, 3, 4, 5, 6, 7, 8, 9, 10, 11, 12, 13, 14, 1, 3, 7, 12, 14, 3, 1, 3, 4, 7, 12, 13, 1, 12, 1, 2, 3, 4, 5, 6, 7, 8, 9, 10, 11, 12, 13, 14, 1, 2, 3, 4, 5, 6, 8, 9, 11, 12, 14, 1, 2, 3, 4, 5, 7, 8, 14, 1, 3, 7, 12, 2, 4, 5, 14, 2, 4, 5, 6, 1, 2, 3, 4, 5, 6, 7, 8, 10, 14, 1, 2, 3, 5, 9, 10, 1, 2, 3, 11, 14, 1, 2, 3, 4, 5, 11, 1, 2, 3, 5, 7, 8, 2, 12, 14, 2, 3, 4, 8, 12, 14, 1, 3, 1, 2, 4, 11, 4, 8, 10, 1, 2, 3, 9, 14, 1, 2, 3, 4, 5, 6, 7, 8, 9, 11, 14, 3, 1, 2, 4, 5, 8, 10, 14, 1, 4, 5, 8, 11, 1, 2, 3, 11, 12, 13, 1, 2, 5, 6, 8, 1, 3, 7, 2, 4, 5, 7, 8, 10, 1, 2, 11, 12, 2, 3, 4, 5, 14, 1, 2, 3, 5, 7, 8, 11, 14, 1, 2, 3, 8, 9, 1, 3, 7, 11, 1, 2, 3, 5, 7, 14, 1, 3, 14, 1, 3, 4, 6, 11, 2, 4, 10, 11, 13, 3, 4, 5, 8, 9, 1, 2, 5, 10, 1, 2, 3, 4, 5, 6, 7, 8, 9, 10, 11, 12, 13, 14, 3, 7, 1, 2, 3, 9, 12, 1, 3, 4, 13, 1, 2, 3, 4, 5, 6, 7, 8, 9, 10, 11, 12, 13, 14, 1, 3, 7, 12, 14, 1, 2, 3, 6, 9, 12, 14, 1, 2, 3, 4, 6, 7, 9, 11, 12, 13, 14, 1, 2, 8, 9, 1, 2, 3, 4, 5, 6, 7, 8, 9, 10, 11, 12, 13, 14, 5, 6, 1, 2, 3, 4, 5, 6, 7, 8, 9, 10, 11, 12, 13, 14, 1, 2, 4, 13, 1, 2, 3, 4, 5, 6, 8, 9, 10, 14, 1, 3, 7, 14, 2, 4, 5, 6, 8, 13, 1, 2, 3, 4, 5, 6, 7, 8, 9, 10, 11, 12, 13, 14, 1, 2, 3, 4, 5, 6, 7, 8, 9, 10, 11, 12, 13, 1, 2, 3, 4, 7, 14, 1, 2, 3, 9, 14, 1, 2, 3, 4, 5, 6, 7, 8, 9, 11, 12, 13, 14, 2, 3, 8, 10, 1, 2, 3, 4, 6, 8, 10, 14, 1, 2, 3, 4, 5, 6, 8, 10, 11, 14, 1, 2, 3, 4, 5, 6, 7, 8, 9, 11, 12, 1, 2, 3, 4, 6, 8, 11, 12, 1, 2, 3, 4, 5, 6, 7, 8, 9, 10, 11, 12, 14, 1, 3, 9, 12, 1, 2, 3, 4, 5, 6, 7, 8, 9, 10, 11, 12, 13, 14, 1, 3, 12, 2, 4, 6, 11, 1, 2, 6, 11, 1, 3, 5, 6, 7, 8, 9, 12, 13, 14, 1, 2, 3, 4, 5, 12, 14, 1, 2, 3, 4, 5, 6, 7, 10, 13, 1, 3, 13, 2, 5, 6, 10, 11, 14, 1, 2, 3, 4, 5, 6, 7, 8, 9, 10, 11, 13, 14, 1, 2, 3, 4, 5, 6, 7, 8, 9, 10, 11, 12, 14, 1, 2, 3, 4, 5, 6, 7, 8, 9, 14, 1, 2, 3, 7, 1, 2, 3, 4, 5, 6, 7, 8, 9, 10, 11, 1, 2, 3, 4, 7, 9, 11, 13, 1, 3, 4, 8, 14, 2, 3, 4, 5, 10, 11, 1, 3, 4, 7, 11, 1, 2, 3, 4, 5, 6, 7, 8, 9, 10, 11, 12, 13, 14, 1, 1, 2, 3, 4, 7, 10, 1, 2, 3, 4, 6, 10, 14, 3, 5, 7, 14, 1, 3, 5, 7, 14, 1, 3, 4, 13, 2, 3, 4, 6, 11, 1, 2, 3, 4, 5, 6, 7, 8, 9, 10, 12, 1, 2, 3, 4, 5, 6, 7, 9, 12, 14, 1, 2, 3, 4, 5, 6, 7, 11, 12, 1, 4, 2, 2, 1, 2, 3, 7, 9, 1, 2, 3, 4, 5, 6, 7, 9, 12, 13, 14, 1, 1, 2, 3, 4, 5, 6, 7, 8, 9, 10, 12, 13, 2, 3, 8, 10, 13, 1, 2, 3, 4, 5, 6, 7, 8, 9, 10, 11, 12, 13, 14, 1, 2, 8, 10, 11, 1, 2, 3, 7, 14, 1, 2, 3, 4, 5, 6, 7, 8, 9, 10, 11, 12, 13, 14, 1, 2, 3, 4, 8, 1, 2, 3, 10, 12, 3, 1, 2, 3, 4, 5, 6, 7, 8, 9, 10, 11, 12, 13, 4, 10, 13, 4, 10, 13, 2, 4, 5, 6, 13, 1, 3, 1, 2, 3, 7, 9, 12, 14, 2, 4, 5, 10, 1, 2, 3, 4, 5, 6, 7, 9, 10, 11, 12, 14, 1, 2, 3, 4, 5, 6, 7, 8, 9, 10, 11, 12, 13, 14, 1, 2, 3, 4, 5, 6, 8, 9, 10, 1, 4, 6, 7, 9, 10, 1, 2, 1, 2, 3, 4, 6, 8, 9, 14, 1, 2, 3, 4, 5, 6, 7, 8, 9, 10, 11, 12, 13, 1, 2, 3, 4, 5, 6, 7, 8, 9, 10, 13, 14, 1, 2, 3, 4, 5, 6, 7, 8, 9, 10, 11, 12, 13, 14, 1, 12, 14, 1, 2, 3, 4, 5, 6, 7, 8, 9, 10, 11, 12, 13, 1, 2, 3, 4, 5, 6, 7, 8, 10, 14, 1, 3, 9, 1, 2, 3, 4, 10, 11, 14, 1, 3, 9, 2, 3, 11, 1, 2, 3, 4, 5, 6, 7, 8, 9, 10, 11, 12, 13, 14, 3, 1, 2, 3, 4, 5, 6, 7, 8, 9, 10, 11, 12, 13, 14, 3, 4, 5, 7, 8, 3, 4, 7, 8, 1, 2, 3, 4, 6, 7, 1, 2, 3, 4, 14, 1, 2, 4, 1, 4, 6, 1, 3, 7, 4, 5, 2, 3, 5, 6, 8, 13, 1, 2, 4, 5, 6, 8, 10, 11, 13, 14, 1, 2, 5, 6, 7, 2, 5, 1, 3, 1, 2, 4, 5, 6, 7, 2, 5, 11, 1, 3, 14, 1, 2, 7, 11, 12, 13, 4, 10, 1, 7, 12, 2, 3, 6, 1, 2, 3, 9, 10, 1, 3, 1, 2, 3, 7, 9, 14, 1, 3, 7, 1, 3, 7, 11, 12, 1, 3, 7, 12, 1, 2, 3, 4, 5, 6, 7, 8, 9, 10, 11, 12, 13, 3, 4, 8, 1, 2, 3, 4, 5, 6, 7, 8, 9, 10, 11, 12, 13, 2, 4, 5, 6, 8, 13, 1, 1, 2, 3, 4, 5, 6, 7, 8, 9, 10, 11, 12, 13, 14, 2, 4, 8, 10, 13, 2, 4, 4, 8, 10, 1, 2, 3, 4, 5, 7, 9, 11, 13, 14, 1, 3, 4, 13, 2, 5, 6, 8, 1, 2, 3, 4, 5, 6, 7, 8, 9, 10, 11, 13, 14, 2, 3, 4, 5, 6, 7, 10, 2, 11, 1, 3, 5, 6, 9, 13, 1, 2, 3, 4, 5, 6, 7, 8, 9, 10, 11, 12, 13, 14, 2, 4, 5, 8, 10, 13, 1, 2, 3, 4, 5, 6, 7, 8, 9, 10, 11, 12, 13, 14, 1, 2, 3, 4, 5, 6, 7, 8, 9, 12, 13, 14, 1, 2, 3, 4, 5, 6, 7, 8, 9, 10, 11, 13, 14, 1, 3, 4, 12, 14, 1, 2, 3, 4, 5, 6, 7, 8, 9, 10, 11, 12, 13, 14, 1, 2, 3, 4, 5, 6, 7, 8, 9, 10, 11, 12, 13, 14, 1, 2, 3, 4, 5, 6, 7, 8, 10, 11, 13, 1, 2, 3, 4, 5, 6, 7, 8, 9, 10, 11, 12, 13, 1, 2, 3, 4, 5, 6, 7, 8, 11, 14, 2, 3, 5, 6, 10, 2, 3, 4, 5, 9, 3, 3, 7, 12], \"Freq\": [0.7844374775886536, 0.078443743288517, 0.078443743288517, 0.9650314450263977, 0.24304595589637756, 0.1620306372642517, 0.24304595589637756, 0.24304595589637756, 0.10062166303396225, 0.16099466383457184, 0.10062166303396225, 0.27167847752571106, 0.06037299707531929, 0.050310831516981125, 0.01006216648966074, 0.10062166303396225, 0.10062166303396225, 0.01006216648966074, 0.01006216648966074, 0.02012433297932148, 0.52125483751297, 0.3723248839378357, 0.2108684778213501, 0.2108684778213501, 0.4920264482498169, 0.17705339193344116, 0.3541067838668823, 0.08852669596672058, 0.08852669596672058, 0.17705339193344116, 0.08852669596672058, 0.32452768087387085, 0.24339574575424194, 0.08113192021846771, 0.32452768087387085, 0.1650605946779251, 0.21284130215644836, 0.10424879938364029, 0.1303109973669052, 0.09556140005588531, 0.18243540823459625, 0.021718500182032585, 0.03909330070018768, 0.008687400259077549, 0.008687400259077549, 0.013031099922955036, 0.013031099922955036, 0.0043437001295387745, 0.0801672711968422, 0.1603345423936844, 0.24050180613994598, 0.1603345423936844, 0.24050180613994598, 0.9014235138893127, 0.007097822614014149, 0.028391290456056595, 0.028391290456056595, 0.007097822614014149, 0.02129346877336502, 0.26214614510536194, 0.17476409673690796, 0.08738204836845398, 0.3495281934738159, 0.273912250995636, 0.18260817229747772, 0.136956125497818, 0.273912250995636, 0.09130408614873886, 0.2873157858848572, 0.38308772444725037, 0.09577193111181259, 0.19154386222362518, 0.07781656086444855, 0.4279910624027252, 0.09727069735527039, 0.1322881430387497, 0.054471589624881744, 0.12450649589300156, 0.0038908279966562986, 0.05836241692304611, 0.015563311986625195, 0.0038908279966562986, 0.9084566831588745, 0.01482537854462862, 0.20755529403686523, 0.03706344589591026, 0.33357101678848267, 0.28168219327926636, 0.06671420484781265, 0.01482537854462862, 0.00741268927231431, 0.022238068282604218, 0.00741268927231431, 0.22342495620250702, 0.11915998160839081, 0.2606624662876129, 0.24576745927333832, 0.014894997701048851, 0.022342495620250702, 0.0074474988505244255, 0.0968174859881401, 0.0074474988505244255, 0.38291656970977783, 0.08178800344467163, 0.22305819392204285, 0.10781145840883255, 0.08922328054904938, 0.007435273379087448, 0.03345872834324837, 0.022305820137262344, 0.003717636689543724, 0.01858818344771862, 0.003717636689543724, 0.011152910068631172, 0.011152910068631172, 0.2679675221443176, 0.019140535965561867, 0.28710803389549255, 0.038281071931123734, 0.15312428772449493, 0.07656214386224747, 0.09570267796516418, 0.019140535965561867, 0.019140535965561867, 0.8528069257736206, 0.11370758712291718, 0.09566717594861984, 0.09566717594861984, 0.4783358871936798, 0.19133435189723969, 0.3528486490249634, 0.14928212761878967, 0.14928212761878967, 0.07690291106700897, 0.09499771147966385, 0.05428440868854523, 0.018094802275300026, 0.0045237005688250065, 0.0588081069290638, 0.013571102172136307, 0.013571102172136307, 0.013571102172136307, 0.9083879590034485, 0.16797062754631042, 0.22396083176136017, 0.2799510359764099, 0.11198041588068008, 0.16797062754631042, 0.09757719933986664, 0.19515439867973328, 0.19515439867973328, 0.19515439867973328, 0.19515439867973328, 0.7864017486572266, 0.033823732286691666, 0.08455932885408401, 0.025367798283696175, 0.033823732286691666, 0.016911866143345833, 0.008455933071672916, 0.008455933071672916, 0.542929470539093, 0.1206509992480278, 0.1206509992480278, 0.0603254996240139, 0.1206509992480278, 0.10257438570261002, 0.251773476600647, 0.12122426927089691, 0.10257438570261002, 0.14919909834861755, 0.09324944019317627, 0.018649887293577194, 0.05594966560602188, 0.08392449468374252, 0.009324943646788597, 0.36446085572242737, 0.21867650747299194, 0.29156866669654846, 0.07289216667413712, 0.4576791226863861, 0.09648370742797852, 0.1731758862733841, 0.07421823590993881, 0.05195276439189911, 0.037109117954969406, 0.04453094303607941, 0.0049478826113045216, 0.022265471518039703, 0.009895765222609043, 0.009895765222609043, 0.007421823684126139, 0.007421823684126139, 0.0049478826113045216, 0.019809918478131294, 0.3169586956501007, 0.05942975729703903, 0.1782892644405365, 0.03961983695626259, 0.05942975729703903, 0.21790911257266998, 0.019809918478131294, 0.03961983695626259, 0.03961983695626259, 0.03309401869773865, 0.24489574134349823, 0.052950430661439896, 0.2581333518028259, 0.19856411218643188, 0.03309401869773865, 0.013237607665359974, 0.0661880373954773, 0.07942564785480499, 0.006618803832679987, 0.21973112225532532, 0.3295966684818268, 0.1647983342409134, 0.21973112225532532, 0.05493278056383133, 0.0950179174542427, 0.47508957982063293, 0.0950179174542427, 0.0950179174542427, 0.0950179174542427, 0.0950179174542427, 0.07299012690782547, 0.03930237516760826, 0.056146252900362015, 0.24704350531101227, 0.16843876242637634, 0.20212650299072266, 0.0056146252900362015, 0.15720950067043304, 0.03368775174021721, 0.0056146252900362015, 0.011229250580072403, 0.39052656292915344, 0.2928949296474457, 0.09763164073228836, 0.19526328146457672, 0.9102808833122253, 0.2693577706813812, 0.20165035128593445, 0.09714542329311371, 0.16632474958896637, 0.06329171359539032, 0.09272972494363785, 0.030909908935427666, 0.014719003811478615, 0.01030330266803503, 0.011775203049182892, 0.02060660533607006, 0.007359501905739307, 0.013247103430330753, 0.002943800762295723, 0.2878982126712799, 0.2878982126712799, 0.0575796440243721, 0.1727389395236969, 0.1727389395236969, 0.1201322078704834, 0.2402644157409668, 0.4204627275466919, 0.0600661039352417, 0.1201322078704834, 0.078798308968544, 0.13508281111717224, 0.3489639163017273, 0.38273462653160095, 0.011256900615990162, 0.011256900615990162, 0.011256900615990162, 0.37491580843925476, 0.28118687868118286, 0.09372895210981369, 0.18745790421962738, 0.8178264498710632, 0.16837602853775024, 0.8932352066040039, 0.02646622806787491, 0.05954901501536369, 0.006616557016968727, 0.04117712751030922, 0.08235425502061844, 0.617656946182251, 0.04117712751030922, 0.16470851004123688, 0.27445879578590393, 0.27445879578590393, 0.10978352278470993, 0.1646752804517746, 0.054891761392354965, 0.1646752804517746, 0.7110812664031982, 0.11483299732208252, 0.039749883115291595, 0.04416653886437416, 0.008833307772874832, 0.008833307772874832, 0.008833307772874832, 0.004416653886437416, 0.004416653886437416, 0.008833307772874832, 0.02208326943218708, 0.02208326943218708, 0.9204047322273254, 0.6335500478744507, 0.05759545788168907, 0.05759545788168907, 0.2303818315267563, 0.5822741985321045, 0.08318202942609787, 0.08318202942609787, 0.08318202942609787, 0.16636405885219574, 0.5939526557922363, 0.35637158155441284, 0.17389343678951263, 0.25973957777023315, 0.10785795748233795, 0.154082790017128, 0.05502957105636597, 0.07263903319835663, 0.026414193212985992, 0.07263903319835663, 0.01760946214199066, 0.037420108914375305, 0.004402365535497665, 0.013207096606492996, 0.9090145230293274, 0.4517562687397003, 0.4517562687397003, 0.0032239877618849277, 0.4900461435317993, 0.47070223093032837, 0.02901589125394821, 0.5542083978652954, 0.3694722652435303, 0.7513247728347778, 0.007745616137981415, 0.007745616137981415, 0.10069300979375839, 0.12392985820770264, 0.21732351183891296, 0.17029081284999847, 0.09893085062503815, 0.23678532242774963, 0.07298177480697632, 0.06162905693054199, 0.032436344772577286, 0.032436344772577286, 0.0227054413408041, 0.02108362503349781, 0.012974537909030914, 0.009730903431773186, 0.009730903431773186, 0.04024398326873779, 0.9256116151809692, 0.020121991634368896, 0.7166288495063782, 0.26491492986679077, 0.013585381209850311, 0.3488452732563019, 0.2616339325904846, 0.17442263662815094, 0.08721131831407547, 0.06921373307704926, 0.1384274661540985, 0.3460686504840851, 0.06921373307704926, 0.3460686504840851, 0.7227556109428406, 0.0053143794648349285, 0.15411700308322906, 0.010628758929669857, 0.010628758929669857, 0.0690869390964508, 0.0053143794648349285, 0.0053143794648349285, 0.0053143794648349285, 0.10209694504737854, 0.23822620511054993, 0.03403231501579285, 0.5445170402526855, 0.7987174987792969, 0.14522136747837067, 0.02185010351240635, 0.21485935151576996, 0.02185010351240635, 0.5681027173995972, 0.010925051756203175, 0.0036416840739548206, 0.018208419904112816, 0.007283368147909641, 0.0036416840739548206, 0.09104210138320923, 0.0036416840739548206, 0.0036416840739548206, 0.025491787120699883, 0.0036416840739548206, 0.8109406232833862, 0.06757838279008865, 0.1351567655801773, 0.4966835677623749, 0.4705423414707184, 0.3544773459434509, 0.5671637058258057, 0.8073262572288513, 0.1794058233499527, 0.4560013711452484, 0.013411805033683777, 0.32188332080841064, 0.013411805033683777, 0.13411805033683777, 0.026823610067367554, 0.013411805033683777, 0.04023541510105133, 0.7544838190078735, 0.14681847393512726, 0.06117436662316322, 0.028548037633299828, 0.04247954115271568, 0.509754478931427, 0.42479538917541504, 0.46300309896469116, 0.19588592648506165, 0.17807811498641968, 0.035615622997283936, 0.08903905749320984, 0.017807811498641968, 0.06437528878450394, 0.3862517476081848, 0.021458430215716362, 0.11444496363401413, 0.12875057756900787, 0.12517417967319489, 0.025034835562109947, 0.028611240908503532, 0.025034835562109947, 0.04649326577782631, 0.0035764051135629416, 0.0035764051135629416, 0.021458430215716362, 0.2736721932888031, 0.04829509183764458, 0.33806562423706055, 0.01609836332499981, 0.25757381319999695, 0.03219672664999962, 0.01609836332499981, 0.8455023765563965, 0.08455023914575577, 0.629122257232666, 0.17974922060966492, 0.08987461030483246, 0.18030279874801636, 0.1956477165222168, 0.13810427486896515, 0.16879411041736603, 0.08439705520868301, 0.05370721593499184, 0.05370721593499184, 0.0383622981607914, 0.007672459352761507, 0.0191811490803957, 0.04603475704789162, 0.007672459352761507, 0.24724310636520386, 0.24724310636520386, 0.28256353735923767, 0.07064088433980942, 0.14128176867961884, 0.36993393301963806, 0.1439431607723236, 0.1468220353126526, 0.13386714458465576, 0.05325897037982941, 0.044622380286455154, 0.01439431682229042, 0.031667497009038925, 0.011515453457832336, 0.018712611868977547, 0.01439431682229042, 0.002878863364458084, 0.012954885140061378, 0.004318295046687126, 0.4272990822792053, 0.02034757472574711, 0.18312817811965942, 0.12208545207977295, 0.2441709041595459, 0.8772449493408203, 0.046170786023139954, 0.015390262007713318, 0.015390262007713318, 0.015390262007713318, 0.1637859344482422, 0.05459531024098396, 0.21838124096393585, 0.10919062048196793, 0.05459531024098396, 0.10919062048196793, 0.05459531024098396, 0.1637859344482422, 0.27682003378868103, 0.03954571858048439, 0.19772858917713165, 0.4745486080646515, 0.9138937592506409, 0.6622928977012634, 0.07358810305595398, 0.22076430916786194, 0.6133495569229126, 0.3664166331291199, 0.007965578697621822, 0.07931795716285706, 0.07931795716285706, 0.3172718286514282, 0.47590774297714233, 0.03715897724032402, 0.9475539922714233, 0.0494488850235939, 0.9395288228988647, 0.8229607343673706, 0.009246749803423882, 0.10171424597501755, 0.009246749803423882, 0.009246749803423882, 0.009246749803423882, 0.009246749803423882, 0.018493499606847763, 0.009246749803423882, 0.23136946558952332, 0.14807645976543427, 0.143449068069458, 0.23599685728549957, 0.06478345394134521, 0.04627389460802078, 0.02313694730401039, 0.004627389367669821, 0.009254778735339642, 0.03239172697067261, 0.037019114941358566, 0.0277643371373415, 0.1435304582118988, 0.20162612199783325, 0.2152956873178482, 0.11277393251657486, 0.10593914985656738, 0.047843486070632935, 0.05126087740063667, 0.07518262416124344, 0.02050435170531273, 0.010252175852656364, 0.0034173917956650257, 0.010252175852656364, 0.1206352561712265, 0.06031762808561325, 0.241270512342453, 0.5428586602210999, 0.22095179557800293, 0.2853960692882538, 0.47872889041900635, 0.19945424795150757, 0.21370096504688263, 0.1614629626274109, 0.1567140519618988, 0.05698692426085472, 0.052238013595342636, 0.00949782133102417, 0.023744553327560425, 0.00949782133102417, 0.06648474931716919, 0.004748910665512085, 0.00949782133102417, 0.00949782133102417, 0.023744553327560425, 0.5510908365249634, 0.07872726023197174, 0.07872726023197174, 0.07872726023197174, 0.15745452046394348, 0.08370891213417053, 0.16741782426834106, 0.39064159989356995, 0.08370891213417053, 0.02790297009050846, 0.2232237607240677, 0.02790297009050846, 0.02790297009050846, 0.44923773407936096, 0.0847618356347084, 0.18647603690624237, 0.03390473499894142, 0.05085710063576698, 0.05085710063576698, 0.02542855031788349, 0.008476183749735355, 0.02542855031788349, 0.02542855031788349, 0.05085710063576698, 0.877955973148346, 0.11198417842388153, 0.004479367285966873, 0.026006756350398064, 0.2080540508031845, 0.05201351270079613, 0.11703040450811386, 0.3901013433933258, 0.09102364629507065, 0.026006756350398064, 0.05201351270079613, 0.013003378175199032, 0.10598788410425186, 0.7890208959579468, 0.035329293459653854, 0.02355286292731762, 0.01177643146365881, 0.01177643146365881, 0.01177643146365881, 0.2751050591468811, 0.1100420206785202, 0.02751050516963005, 0.13755252957344055, 0.1650630384683609, 0.02751050516963005, 0.13755252957344055, 0.02751050516963005, 0.1100420206785202, 0.1667519062757492, 0.0416879765689373, 0.0833759531378746, 0.0416879765689373, 0.583631694316864, 0.0416879765689373, 0.0416879765689373, 0.8467608690261841, 0.11546739190816879, 0.9016628861427307, 0.031091824173927307, 0.031091824173927307, 0.5661561489105225, 0.05146873742341995, 0.1029374748468399, 0.05146873742341995, 0.05146873742341995, 0.05146873742341995, 0.1029374748468399, 0.1861175149679184, 0.1861175149679184, 0.0930587574839592, 0.1861175149679184, 0.0930587574839592, 0.1861175149679184, 0.8191012740135193, 0.1638202667236328, 0.9435505867004395, 0.005794973112642765, 0.6548319458961487, 0.33031347393989563, 0.005794973112642765, 0.006912493146955967, 0.48041826486587524, 0.0034562465734779835, 0.04493120685219765, 0.11751238256692886, 0.02419372648000717, 0.05875619128346443, 0.10714364796876907, 0.01728123240172863, 0.11405614018440247, 0.02419372648000717, 0.9434493780136108, 0.3722909390926361, 0.13646677136421204, 0.08379539102315903, 0.1687878519296646, 0.041897695511579514, 0.057459693402051926, 0.03591230884194374, 0.011970769613981247, 0.02035030908882618, 0.016759077087044716, 0.021547386422753334, 0.015562000684440136, 0.014364923350512981, 0.0035912308376282454, 0.08058343827724457, 0.16116687655448914, 0.32233375310897827, 0.08058343827724457, 0.08058343827724457, 0.16116687655448914, 0.68984055519104, 0.17246013879776, 0.2860395312309265, 0.38138604164123535, 0.09534651041030884, 0.09534651041030884, 0.09534651041030884, 0.09534651041030884, 0.06630604714155197, 0.13261209428310394, 0.06630604714155197, 0.06630604714155197, 0.13261209428310394, 0.2652241885662079, 0.19891813397407532, 0.16122038662433624, 0.16122038662433624, 0.644881546497345, 0.07743515074253082, 0.39577963948249817, 0.07743515074253082, 0.1462664008140564, 0.05162343382835388, 0.02581171691417694, 0.03441562131047249, 0.17207811772823334, 0.008603905327618122, 0.008603905327618122, 0.26736000180244446, 0.08912000060081482, 0.5347200036048889, 0.08912000060081482, 0.041488803923130035, 0.08297760784626007, 0.29042163491249084, 0.08297760784626007, 0.3733992278575897, 0.08297760784626007, 0.8219733834266663, 0.14505413174629211, 0.09486865997314453, 0.5692119598388672, 0.09486865997314453, 0.09486865997314453, 0.5763038396835327, 0.28815191984176636, 0.22175493836402893, 0.07391831278800964, 0.22175493836402893, 0.3695915639400482, 0.39960068464279175, 0.07992013543844223, 0.15984027087688446, 0.07992013543844223, 0.15984027087688446, 0.07992013543844223, 0.13753078877925873, 0.3438269793987274, 0.13753078877925873, 0.3438269793987274, 0.9235360026359558, 0.1253610998392105, 0.25536519289016724, 0.06964505463838577, 0.15786212682724, 0.22286416590213776, 0.06500204652547836, 0.06500204652547836, 0.009286006912589073, 0.01392901036888361, 0.004643003456294537, 0.004643003456294537, 0.35187068581581116, 0.08796767145395279, 0.26390302181243896, 0.08796767145395279, 0.17593534290790558, 0.061884909868240356, 0.7549958825111389, 0.024753963574767113, 0.037130944430828094, 0.012376981787383556, 0.08663886785507202, 0.012376981787383556, 0.012376981787383556, 0.10314662754535675, 0.10314662754535675, 0.051573313772678375, 0.6704530715942383, 0.13265208899974823, 0.21003246307373047, 0.04421736299991608, 0.3869019150733948, 0.1658151000738144, 0.03316302224993706, 0.01105434074997902, 0.01105434074997902, 0.23924608528614044, 0.5383036732673645, 0.05981152132153511, 0.11962304264307022, 0.9297663569450378, 0.17769195139408112, 0.23783384263515472, 0.06560933589935303, 0.17769195139408112, 0.09021283686161041, 0.09568028151988983, 0.024603500962257385, 0.05194072425365448, 0.0027337223291397095, 0.032804667949676514, 0.03553839027881622, 0.0027337223291397095, 0.0027337223291397095, 0.20215195417404175, 0.7681773900985718, 0.010107597336173058, 0.15915244817733765, 0.3183048963546753, 0.23872867226600647, 0.15915244817733765, 0.06378041952848434, 0.06378041952848434, 0.15945105254650116, 0.2551216781139374, 0.4464629292488098, 0.03189020976424217, 0.10292819142341614, 0.3602486550807953, 0.4631768465042114, 0.002505397656932473, 0.6539087891578674, 0.26056134700775146, 0.07766732573509216, 0.002505397656932473, 0.7479859590530396, 0.01690363697707653, 0.17326228320598602, 0.02112954668700695, 0.004225909244269133, 0.004225909244269133, 0.02535545639693737, 0.004225909244269133, 0.9177199006080627, 0.016916494816541672, 0.05497860908508301, 0.844606339931488, 0.11649742722511292, 0.11471303552389145, 0.2553290128707886, 0.07770882546901703, 0.15541765093803406, 0.16281850636005402, 0.17021934688091278, 0.007400840986520052, 0.011101261712610722, 0.029603363946080208, 0.007400840986520052, 0.003700420493260026, 0.028816767036914825, 0.2689564824104309, 0.05763353407382965, 0.0096055893227458, 0.3458012044429779, 0.18250618875026703, 0.028816767036914825, 0.0192111786454916, 0.0096055893227458, 0.0192111786454916, 0.0192111786454916, 0.2765859365463257, 0.16557525098323822, 0.18156830966472626, 0.15146371722221375, 0.06397225707769394, 0.05832764506340027, 0.021637674421072006, 0.01975613832473755, 0.01317075826227665, 0.01317075826227665, 0.017874600365757942, 0.008466916158795357, 0.0037630738224834204, 0.0037630738224834204, 0.5092564821243286, 0.08487608283758163, 0.16975216567516327, 0.16975216567516327, 0.11981015652418137, 0.21197181940078735, 0.05068891495466232, 0.31795772910118103, 0.10137782990932465, 0.055296994745731354, 0.004608083050698042, 0.032256580889225006, 0.06451316177845001, 0.018432332202792168, 0.013824248686432838, 0.004608083050698042, 0.04984189569950104, 0.2457720935344696, 0.025780290365219116, 0.35233062505722046, 0.07905955612659454, 0.14608831703662872, 0.005156057886779308, 0.03609240800142288, 0.0017186859622597694, 0.029217662289738655, 0.010312115773558617, 0.003437371924519539, 0.008593429811298847, 0.005156057886779308, 0.09846340864896774, 0.04923170432448387, 0.29539021849632263, 0.24615851044654846, 0.29539021849632263, 0.8688214421272278, 0.10425857454538345, 0.06543131917715073, 0.06543131917715073, 0.2617252767086029, 0.2617252767086029, 0.06543131917715073, 0.06543131917715073, 0.06543131917715073, 0.13086263835430145, 0.03470024839043617, 0.9369066953659058, 0.3300569951534271, 0.2640455961227417, 0.06601139903068542, 0.13202279806137085, 0.19803421199321747, 0.21178096532821655, 0.3812057375907898, 0.3812057375907898, 0.02817464806139469, 0.957938015460968, 0.04457063227891922, 0.2897091209888458, 0.08914126455783844, 0.02228531613945961, 0.2005678415298462, 0.11142657697200775, 0.2005678415298462, 0.0471314862370491, 0.009426296688616276, 0.8106615543365479, 0.009426296688616276, 0.0754103735089302, 0.028278890997171402, 0.009426296688616276, 0.42448994517326355, 0.16979597508907318, 0.08489798754453659, 0.16979597508907318, 0.17895643413066864, 0.3579128682613373, 0.08947821706533432, 0.3579128682613373, 0.0976434051990509, 0.2929302155971527, 0.0976434051990509, 0.1952868103981018, 0.0976434051990509, 0.0976434051990509, 0.07416193932294846, 0.22248581051826477, 0.1483238786458969, 0.1483238786458969, 0.2966477572917938, 0.8387743234634399, 0.11982490122318268, 0.01270355936139822, 0.12703560292720795, 0.02540711872279644, 0.01270355936139822, 0.7368064522743225, 0.01270355936139822, 0.06351780146360397, 0.9289613366127014, 0.9266198873519897, 0.037821218371391296, 0.09248237311840057, 0.29878920316696167, 0.05691223219037056, 0.2489910125732422, 0.09959640353918076, 0.042684175074100494, 0.01422805804759264, 0.021342087537050247, 0.02845611609518528, 0.01422805804759264, 0.06402625888586044, 0.964844822883606, 0.27094146609306335, 0.06773536652326584, 0.40641218423843384, 0.13547073304653168, 0.06773536652326584, 0.13547073304653168, 0.18768461048603058, 0.46921151876449585, 0.18768461048603058, 0.09384230524301529, 0.06307584792375565, 0.06307584792375565, 0.6938343048095703, 0.1261516958475113, 0.3185415267944336, 0.3185415267944336, 0.238906130194664, 0.9163204431533813, 0.3101637661457062, 0.1908700168132782, 0.023858752101659775, 0.45331627130508423, 0.9583790898323059, 0.019966231659054756, 0.5428143739700317, 0.06579568237066269, 0.17545515298843384, 0.0731063112616539, 0.02924252487719059, 0.027414867654442787, 0.03838081285357475, 0.0036553156096488237, 0.0054829735308885574, 0.010965947061777115, 0.016448920592665672, 0.009138288907706738, 0.8744405508041382, 0.08197880536317825, 0.6108245849609375, 0.12881334125995636, 0.24100561439990997, 0.008310538716614246, 0.004155269358307123, 0.004155269358307123, 0.9392986297607422, 0.04696493223309517, 0.7921926975250244, 0.0440107062458992, 0.0880214124917984, 0.0880214124917984, 0.5192689895629883, 0.1730896532535553, 0.08654482662677765, 0.1730896532535553, 0.43037208914756775, 0.17721204459667206, 0.02531600557267666, 0.10126402229070663, 0.12658002972602844, 0.12658002972602844, 0.5207408666610718, 0.07439155131578445, 0.07439155131578445, 0.1487831026315689, 0.1487831026315689, 0.061943698674440384, 0.24777479469776154, 0.18583109974861145, 0.18583109974861145, 0.24777479469776154, 0.023196887224912643, 0.8881094455718994, 0.006627682130783796, 0.043079935014247894, 0.006627682130783796, 0.00994152296334505, 0.003313841065391898, 0.00994152296334505, 0.003313841065391898, 0.11931692808866501, 0.20880462229251862, 0.08948769420385361, 0.328121542930603, 0.17897538840770721, 0.059658464044332504, 0.029829232022166252, 0.9143629670143127, 0.0015630136476829648, 0.07971369475126266, 0.0015630136476829648, 0.2416820079088211, 0.13810400664806366, 0.4143120050430298, 0.034526001662015915, 0.13810400664806366, 0.0016158869257196784, 0.004847661126405001, 0.008079434745013714, 0.4702230989933014, 0.43952125310897827, 0.0016158869257196784, 0.06786725670099258, 0.0016158869257196784, 0.003231773851439357, 0.03655321151018143, 0.9138303399085999, 0.0025858264416456223, 0.9231399893760681, 0.018100785091519356, 0.049130700528621674, 0.0025858264416456223, 0.9548847675323486, 0.11621931195259094, 0.8671748638153076, 0.0011579673737287521, 0.0023159347474575043, 0.9147942662239075, 0.0011579673737287521, 0.0011579673737287521, 0.0023159347474575043, 0.07063601166009903, 0.005789837334305048, 0.2150210440158844, 0.14334736764431, 0.4300420880317688, 0.071673683822155, 0.5714660286903381, 0.32655200362205505, 0.5541447997093201, 0.23238329589366913, 0.11619164794683456, 0.017875637859106064, 0.07150255143642426, 0.008937818929553032, 0.23557879030704498, 0.008413528092205524, 0.7067363858222961, 0.01682705618441105, 0.004206764046102762, 0.01682705618441105, 0.004206764046102762, 0.004206764046102762, 0.5937079787254333, 0.36753350496292114, 0.18840667605400085, 0.09420333802700043, 0.2826099991798401, 0.3768133521080017, 0.9056726694107056, 0.03483356535434723, 0.263499915599823, 0.17566661536693573, 0.17566661536693573, 0.263499915599823, 0.07023404538631439, 0.9130425453186035, 0.9855229258537292, 0.08943493664264679, 0.8943493962287903, 0.3031945526599884, 0.11395231634378433, 0.19534683227539062, 0.1709284782409668, 0.12209177017211914, 0.024418354034423828, 0.010174313560128212, 0.01627890206873417, 0.004069725517183542, 0.006104588508605957, 0.022383490577340126, 0.006104588508605957, 0.002034862758591771, 0.006104588508605957, 0.14741672575473785, 0.49138909578323364, 0.049138911068439484, 0.049138911068439484, 0.14741672575473785, 0.049138911068439484, 0.4293088912963867, 0.1431029587984085, 0.1431029587984085, 0.07155147939920425, 0.1431029587984085, 0.934152364730835, 0.40240755677223206, 0.26827171444892883, 0.13413585722446442, 0.06706792861223221, 0.06706792861223221, 0.4304558336734772, 0.2152279168367386, 0.07174263894557953, 0.2152279168367386, 0.35072818398475647, 0.07112669199705124, 0.37034934759140015, 0.06131611764431, 0.024526447057724, 0.007357934024184942, 0.049052894115448, 0.0024526447523385286, 0.03924231603741646, 0.009810579009354115, 0.004905289504677057, 0.007357934024184942, 0.42781153321266174, 0.11387789249420166, 0.243144690990448, 0.06001672521233559, 0.05693894624710083, 0.015388904139399529, 0.026161137968301773, 0.007694452069699764, 0.013850013725459576, 0.007694452069699764, 0.0030777808278799057, 0.01077223289757967, 0.006155561655759811, 0.006155561655759811, 0.810464084148407, 0.03813948482275009, 0.009534871205687523, 0.009534871205687523, 0.06674410402774811, 0.028604615479707718, 0.009534871205687523, 0.019069742411375046, 0.47114866971969604, 0.07656165957450867, 0.23361122608184814, 0.05104110762476921, 0.031409911811351776, 0.011778716929256916, 0.08441413938999176, 0.007852477952837944, 0.005889358464628458, 0.005889358464628458, 0.001963119488209486, 0.009815597906708717, 0.005889358464628458, 0.3229290246963501, 0.0026469591539353132, 0.5505675077438354, 0.0026469591539353132, 0.010587836615741253, 0.02911655232310295, 0.034410469233989716, 0.010587836615741253, 0.02911655232310295, 0.0026469591539353132, 0.0563812330365181, 0.2738517224788666, 0.02147856540977955, 0.1315562129020691, 0.23357939720153809, 0.1584044247865677, 0.01610892452299595, 0.0536964125931263, 0.0375874899327755, 0.005369641352444887, 0.010739282704889774, 0.0026848206762224436, 0.9157297015190125, 0.02180308848619461, 0.02180308848619461, 0.3992142975330353, 0.12283516675233841, 0.061417583376169205, 0.061417583376169205, 0.061417583376169205, 0.24567033350467682, 0.5808525681495667, 0.06453917920589447, 0.06453917920589447, 0.19361752271652222, 0.06453917920589447, 0.11836954951286316, 0.12231520563364029, 0.04537499323487282, 0.3255162537097931, 0.10653259605169296, 0.0868043377995491, 0.005918477661907673, 0.1045597717165947, 0.005918477661907673, 0.051293473690748215, 0.0019728257320821285, 0.011836955323815346, 0.007891302928328514, 0.005918477661907673, 0.12265947461128235, 0.18398921191692352, 0.18398921191692352, 0.2453189492225647, 0.061329737305641174, 0.12265947461128235, 0.16083566844463348, 0.37528324127197266, 0.10722377896308899, 0.21444755792617798, 0.053611889481544495, 0.053611889481544495, 0.10327330231666565, 0.28863564133644104, 0.0926811695098877, 0.22243480384349823, 0.09532920271158218, 0.08208903670310974, 0.01588820107281208, 0.06620083749294281, 0.00794410053640604, 0.013240166939795017, 0.005296066869050264, 0.00794410053640604, 0.002648033434525132, 0.5720348358154297, 0.043172437697649, 0.2158621996641159, 0.01079310942441225, 0.01079310942441225, 0.06475865840911865, 0.0215862188488245, 0.01079310942441225, 0.01079310942441225, 0.032379329204559326, 0.26889413595199585, 0.20465831458568573, 0.1613364815711975, 0.13594092428684235, 0.05975424870848656, 0.05975424870848656, 0.02987712435424328, 0.03286483883857727, 0.019420132040977478, 0.01493856217712164, 0.00746928108856082, 0.0029877126216888428, 0.0014938563108444214, 0.0029877126216888428, 0.9831551313400269, 0.008125249296426773, 0.8970023393630981, 0.022425059229135513, 0.022425059229135513, 0.022425059229135513, 0.3365403711795807, 0.12820585072040558, 0.12820585072040558, 0.1201929897069931, 0.09214796125888824, 0.028045030310750008, 0.08814152330160141, 0.016025731340050697, 0.028045030310750008, 0.01201929897069931, 0.008012865670025349, 0.004006432835012674, 0.6740900278091431, 0.08426125347614288, 0.08426125347614288, 0.08426125347614288, 0.8760183453559875, 0.08477596938610077, 0.42395129799842834, 0.5652683973312378, 0.9084811806678772, 0.901856005191803, 0.07946143299341202, 0.45028144121170044, 0.42379429936408997, 0.4409943222999573, 0.17639772593975067, 0.35279545187950134, 0.2679983973503113, 0.16220957040786743, 0.07757848501205444, 0.23273545503616333, 0.11989402770996094, 0.028210358694195747, 0.021157769486308098, 0.056420717388391495, 0.007052589673548937, 0.028210358694195747, 0.05823131650686264, 0.008318759500980377, 0.8318759799003601, 0.09150635451078415, 0.041189391165971756, 0.9061666131019592, 0.01681899093091488, 0.0294332355260849, 0.03363798186182976, 0.8157210946083069, 0.00420474773272872, 0.06727596372365952, 0.025228487327694893, 0.33320870995521545, 0.006058340426534414, 0.5694839954376221, 0.012116680853068829, 0.05452506244182587, 0.006058340426534414, 0.006058340426534414, 0.06443004310131073, 0.15877403318881989, 0.08283862471580505, 0.3428598642349243, 0.1656772494316101, 0.08053755015134811, 0.018408583477139473, 0.034516092389822006, 0.006903218571096659, 0.032215021550655365, 0.006903218571096659, 0.004602145869284868, 0.002301072934642434, 0.9228203296661377, 0.2638578414916992, 0.5936801433563232, 0.1319289207458496, 0.9021102786064148, 0.89634108543396, 0.04717584326863289, 0.023587921634316444, 0.023587921634316444, 0.010993453674018383, 0.24185597896575928, 0.35179051756858826, 0.032980360090732574, 0.35179051756858826, 0.9427242875099182, 0.5939001441001892, 0.023756004869937897, 0.023756004869937897, 0.11878002434968948, 0.21380405128002167, 0.328085720539093, 0.1640428602695465, 0.328085720539093, 0.1640428602695465, 0.29429537057876587, 0.04904922842979431, 0.06306329369544983, 0.14714768528938293, 0.2592602074146271, 0.014014065265655518, 0.14014065265655518, 0.007007032632827759, 0.021021097898483276, 0.007007032632827759, 0.3179774880409241, 0.19431957602500916, 0.01766541600227356, 0.0883270800113678, 0.01766541600227356, 0.3003120720386505, 0.03533083200454712, 0.9092094302177429, 0.9495965838432312, 0.2710453271865845, 0.13552266359329224, 0.13552266359329224, 0.4065679907798767, 0.10830417275428772, 0.09025347977876663, 0.35499700903892517, 0.06016898527741432, 0.2707604467868805, 0.0481351874768734, 0.01203379686921835, 0.018050696700811386, 0.006016898434609175, 0.006016898434609175, 0.006016898434609175, 0.01203379686921835, 0.9225984811782837, 0.4763363301753998, 0.05528904125094414, 0.20414415001869202, 0.025518018752336502, 0.004253003280609846, 0.012759009376168251, 0.02126501500606537, 0.008506006561219692, 0.14460210502147675, 0.004253003280609846, 0.017012013122439384, 0.004253003280609846, 0.008506006561219692, 0.012759009376168251, 0.8879128694534302, 0.08376536518335342, 0.38207918405532837, 0.1204754188656807, 0.1480126678943634, 0.0963803380727768, 0.027537239715456963, 0.05163232237100601, 0.09293818473815918, 0.010326464660465717, 0.006884309928864241, 0.01721077412366867, 0.010326464660465717, 0.01721077412366867, 0.013768619857728481, 0.006884309928864241, 0.7208253145217896, 0.14683479070663452, 0.048944927752017975, 0.004449538886547089, 0.0756421610713005, 0.20195095241069794, 0.21046696603298187, 0.07421088963747025, 0.2554801106452942, 0.09975890815258026, 0.057178884744644165, 0.006082860287278891, 0.020681723952293396, 0.00851600430905819, 0.03893030434846878, 0.009732576087117195, 0.0048662880435585976, 0.009732576087117195, 0.003649716032668948, 0.924807608127594, 0.7386890053749084, 0.1846722513437271, 0.09233612567186356, 0.0766240656375885, 0.4086616635322571, 0.0766240656375885, 0.0766240656375885, 0.025541353970766068, 0.3320375978946686, 0.05845898389816284, 0.35075390338897705, 0.23383593559265137, 0.05845898389816284, 0.05845898389816284, 0.17537695169448853, 0.2958139181137085, 0.1136460229754448, 0.21726445853710175, 0.1637839823961258, 0.06517934054136276, 0.04011036083102226, 0.026740241795778275, 0.0250689759850502, 0.016712650656700134, 0.013370120897889137, 0.006685060448944569, 0.011698856018483639, 0.005013795103877783, 0.6974310278892517, 0.011340341530740261, 0.07938238978385925, 0.022680683061480522, 0.022680683061480522, 0.03402102738618851, 0.05670170858502388, 0.0056701707653701305, 0.0056701707653701305, 0.02835085429251194, 0.011340341530740261, 0.011340341530740261, 0.4355620741844177, 0.09661559015512466, 0.2977660596370697, 0.06968992948532104, 0.02217406965792179, 0.01583862118422985, 0.01583862118422985, 0.001583862118422985, 0.02217406965792179, 0.00316772423684597, 0.00633544847369194, 0.00316772423684597, 0.004751586355268955, 0.004751586355268955, 0.9023548364639282, 0.39658650755882263, 0.2726532220840454, 0.04957331344485283, 0.1487199366092682, 0.09914662688970566, 0.024786656722426414, 0.10642721503973007, 0.3266214430332184, 0.033029135316610336, 0.21652433276176453, 0.06972817331552505, 0.17615538835525513, 0.0073398081585764885, 0.029359232634305954, 0.029359232634305954, 0.0073398081585764885, 0.13335739076137543, 0.29823562502861023, 0.0412195585668087, 0.26186543703079224, 0.07274039834737778, 0.1236586794257164, 0.0024246799293905497, 0.009698719717562199, 0.012123399414122105, 0.01697275973856449, 0.012123399414122105, 0.004849359858781099, 0.007274040021002293, 0.941737949848175, 0.005686062388122082, 0.005686062388122082, 0.9628399014472961, 0.0037907082587480545, 0.01705818623304367, 0.0018953541293740273, 0.006271308287978172, 0.8654405474662781, 0.10034093260765076, 0.018813924863934517, 0.3199423551559448, 0.1317409723997116, 0.09410069137811661, 0.09410069137811661, 0.0376402772963047, 0.1129208356142044, 0.01882013864815235, 0.01882013864815235, 0.0376402772963047, 0.1317409723997116, 0.3156064748764038, 0.09017328172922134, 0.04508664086461067, 0.09017328172922134, 0.04508664086461067, 0.3156064748764038, 0.04508664086461067, 0.04508664086461067, 0.04508664086461067, 0.1975504755973816, 0.14400875568389893, 0.1790878176689148, 0.21232061088085175, 0.09969837218523026, 0.05169545114040375, 0.027693992480635643, 0.03507905453443527, 0.009231330826878548, 0.03323278948664665, 0.007385064382106066, 0.003692532191053033, 0.46813058853149414, 0.11523213982582092, 0.18005022406578064, 0.0744207575917244, 0.021606026217341423, 0.03841071575880051, 0.012003348208963871, 0.019205357879400253, 0.03120870515704155, 0.012003348208963871, 0.009602678939700127, 0.009602678939700127, 0.004801339469850063, 0.004801339469850063, 0.19526825845241547, 0.2175140082836151, 0.08651125431060791, 0.17302250862121582, 0.08898299932479858, 0.07168075442314148, 0.034604500979185104, 0.01483049988746643, 0.022245749831199646, 0.02966099977493286, 0.019774001091718674, 0.009887000545859337, 0.034604500979185104, 0.34223130345344543, 0.1343337744474411, 0.11514323949813843, 0.14712746441364288, 0.05917083099484444, 0.06236925348639488, 0.0351826548576355, 0.01919054053723812, 0.011194481514394283, 0.014392904937267303, 0.011194481514394283, 0.022388963028788567, 0.02398817427456379, 0.0015992115950211883, 0.2813411355018616, 0.2615712285041809, 0.211386039853096, 0.0866834819316864, 0.018249154090881348, 0.03801907226443291, 0.028894495218992233, 0.012166103348135948, 0.03801907226443291, 0.004562288522720337, 0.013686866499483585, 0.003041525837033987, 0.004562288522720337, 0.0948263555765152, 0.0948263555765152, 0.2844790816307068, 0.0948263555765152, 0.1896527111530304, 0.0948263555765152, 0.0948263555765152, 0.5136760473251343, 0.05136760696768761, 0.10273521393537521, 0.25683802366256714, 0.9054301381111145, 0.015610864385962486, 0.015610864385962486, 0.04683259129524231, 0.9847246408462524, 0.031535182148218155, 0.09460554271936417, 0.7253091931343079, 0.12614072859287262, 0.4741922914981842, 0.42427730560302734, 0.09982995688915253, 0.8719214200973511, 0.02399783581495285, 0.07999278604984283, 0.015998557209968567, 0.28262943029403687, 0.471049040555954, 0.09420981258153915, 0.09420981258153915, 0.2880803048610687, 0.22518953680992126, 0.06289077550172806, 0.20693093538284302, 0.044632162898778915, 0.07303444296121597, 0.014201142825186253, 0.02434481494128704, 0.0020287346560508013, 0.03245975449681282, 0.008114938624203205, 0.0020287346560508013, 0.00608620373532176, 0.010143673047423363, 0.16711582243442535, 0.22083161771297455, 0.04973684996366501, 0.23674741387367249, 0.04973684996366501, 0.1313052922487259, 0.01591579243540764, 0.05769474804401398, 0.01591579243540764, 0.013926317915320396, 0.03183158487081528, 0.001989474054425955, 0.00795789621770382, 0.9312109351158142, 0.086404949426651, 0.172809898853302, 0.518429696559906, 0.172809898853302, 0.4044058918952942, 0.08406189829111099, 0.15222018957138062, 0.15676407516002655, 0.04316692054271698, 0.03407914564013481, 0.022719431668519974, 0.01817554607987404, 0.03407914564013481, 0.015903601422905922, 0.020447488874197006, 0.00454388651996851, 0.00454388651996851, 0.00454388651996851, 0.32964351773262024, 0.20469799637794495, 0.09969058632850647, 0.09703216701745987, 0.07975246757268906, 0.049180686473846436, 0.04519306495785713, 0.017279701307415962, 0.017279701307415962, 0.011962870135903358, 0.035888608545064926, 0.007975246757268906, 0.005316831171512604, 0.3616696000099182, 0.5425043702125549, 0.18786507844924927, 0.09393253922462463, 0.18786507844924927, 0.2817976176738739, 0.09393253922462463, 0.1716645509004593, 0.4291613698005676, 0.3433291018009186, 0.013685460202395916, 0.006842730101197958, 0.027370920404791832, 0.006842730101197958, 0.9442967176437378, 0.5231547951698303, 0.40242674946784973, 0.0282011479139328, 0.8742355704307556, 0.0846034437417984, 0.0671561136841774, 0.9178001880645752, 0.13713198900222778, 0.20755112171173096, 0.07412540167570114, 0.19643230736255646, 0.12601317465305328, 0.06300658732652664, 0.018531350418925285, 0.10377556085586548, 0.003706269897520542, 0.04076896980404854, 0.014825079590082169, 0.011118809692561626, 0.46235039830207825, 0.27741023898124695, 0.1849401593208313, 0.3318456709384918, 0.19910739362239838, 0.2654765248298645, 0.13273826241493225, 0.2619597017765045, 0.2619597017765045, 0.13097985088825226, 0.04365995153784752, 0.30561965703964233, 0.19416572153568268, 0.2912485897541046, 0.2912485897541046, 0.09708286076784134, 0.09708286076784134, 0.3249329924583435, 0.08123324811458588, 0.08123324811458588, 0.08123324811458588, 0.3249329924583435, 0.13066338002681732, 0.3266584575176239, 0.3266584575176239, 0.06533169001340866, 0.06533169001340866, 0.06533169001340866, 0.24263842403888702, 0.16175894439220428, 0.16175894439220428, 0.24263842403888702, 0.16175894439220428, 0.3117128610610962, 0.6234257221221924, 0.5840276479721069, 0.09733793884515762, 0.29201382398605347, 0.25855645537376404, 0.12927822768688202, 0.19391734898090363, 0.06463911384344101, 0.25855645537376404, 0.35084617137908936, 0.17542308568954468, 0.17542308568954468, 0.08771154284477234, 0.08771154284477234, 0.08771154284477234, 0.46284398436546326, 0.3702751696109772, 0.0925687924027443, 0.3904748558998108, 0.1952374279499054, 0.1952374279499054, 0.0976187139749527, 0.13675478100776672, 0.8091325163841248, 0.011396232061088085, 0.03418869525194168, 0.15021395683288574, 0.48819538950920105, 0.07510697841644287, 0.2253209501504898, 0.08002512156963348, 0.24007536470890045, 0.08002512156963348, 0.24007536470890045, 0.08002512156963348, 0.08002512156963348, 0.08002512156963348, 0.231361523270607, 0.05784038081765175, 0.5205634236335754, 0.1156807616353035, 0.05784038081765175, 0.05784038081765175, 0.26628661155700684, 0.3550488352775574, 0.3550488352775574, 0.06988240033388138, 0.13976480066776276, 0.052411798387765884, 0.2970001995563507, 0.19217659533023834, 0.06988240033388138, 0.03494120016694069, 0.13976480066776276, 0.2662576735019684, 0.1331288367509842, 0.1996932476758957, 0.2662576735019684, 0.1331288367509842, 0.14037668704986572, 0.28075337409973145, 0.14037668704986572, 0.07018834352493286, 0.21056504547595978, 0.14037668704986572, 0.1895047277212143, 0.1895047277212143, 0.3790094554424286, 0.09475236386060715, 0.09475236386060715, 0.18219785392284393, 0.22774732112884521, 0.18219785392284393, 0.18219785392284393, 0.18219785392284393, 0.2604824900627136, 0.4341374933719635, 0.08682749420404434, 0.08682749420404434, 0.08682749420404434, 0.6529632806777954, 0.31164154410362244, 0.9227515459060669, 0.036126185208559036, 0.6863974928855896, 0.10837855190038681, 0.07225237041711807, 0.036126185208559036, 0.22532811760902405, 0.012875892221927643, 0.00429196422919631, 0.2542988657951355, 0.08262030780315399, 0.2382040023803711, 0.00858392845839262, 0.07081741094589233, 0.04291963949799538, 0.00858392845839262, 0.010729909874498844, 0.002145982114598155, 0.03755468502640724, 0.002145982114598155, 0.940284788608551, 0.026956673711538315, 0.9569619297981262, 0.8415022492408752, 0.14960040152072906, 0.9251360893249512, 0.2818143367767334, 0.40420228242874146, 0.04186955839395523, 0.07890801876783371, 0.0016103676753118634, 0.004831103142350912, 0.003220735350623727, 0.0016103676753118634, 0.09823242574930191, 0.03220735490322113, 0.020934779196977615, 0.009662206284701824, 0.012882941402494907, 0.009662206284701824, 0.19391386210918427, 0.25855180621147156, 0.07756554335355759, 0.06463795155286789, 0.11634831130504608, 0.012927590869367123, 0.06463795155286789, 0.05171036347746849, 0.05171036347746849, 0.07756554335355759, 0.012927590869367123, 0.7864241600036621, 0.17476092278957367, 0.698412299156189, 0.20952369272708893, 0.01397631410509348, 0.01397631410509348, 0.15373945236206055, 0.7127920389175415, 0.08385788649320602, 0.36614990234375, 0.14429552853107452, 0.2038174420595169, 0.13166967034339905, 0.045092351734638214, 0.034270189702510834, 0.010822164826095104, 0.027055412530899048, 0.009018470533192158, 0.009018470533192158, 0.005411082413047552, 0.007214776705950499, 0.005411082413047552, 0.3415624797344208, 0.0853906199336052, 0.1707812398672104, 0.3415624797344208, 0.002574764657765627, 0.9037423729896545, 0.002574764657765627, 0.0849672332406044, 0.002574764657765627, 0.6577749252319336, 0.07308609783649445, 0.07308609783649445, 0.1461721956729889, 0.1647157371044159, 0.24602223932743073, 0.13948269188404083, 0.1759304255247116, 0.06308262050151825, 0.07359639555215836, 0.018223868682980537, 0.03714865818619728, 0.021728459745645523, 0.024532131850719452, 0.011214688420295715, 0.005607344210147858, 0.01752295158803463, 0.0014018360525369644, 0.13623957335948944, 0.3056184947490692, 0.10310021787881851, 0.15096817910671234, 0.09205376356840134, 0.06259655952453613, 0.011046451516449451, 0.08100731670856476, 0.007364301476627588, 0.018410753458738327, 0.007364301476627588, 0.007364301476627588, 0.003682150738313794, 0.011046451516449451, 0.16542895138263702, 0.0643334835767746, 0.7168588042259216, 0.02757149189710617, 0.018380995839834213, 0.05958349630236626, 0.5660431981086731, 0.11916699260473251, 0.02979174815118313, 0.20854224264621735, 0.13166415691375732, 0.3949924409389496, 0.3949924409389496, 0.06583207845687866, 0.11600398272275925, 0.05800199136137962, 0.05800199136137962, 0.6960238814353943, 0.2224053591489792, 0.12439621984958649, 0.09046997874975204, 0.1130874752998352, 0.2676403522491455, 0.04900457337498665, 0.06785248219966888, 0.007539164740592241, 0.026387076824903488, 0.0037695823702961206, 0.015078329481184483, 0.011308747343719006, 0.16984084248542786, 0.23516424000263214, 0.05062563344836235, 0.09798509627580643, 0.2416965812444687, 0.09471892565488815, 0.03919404000043869, 0.017963934689760208, 0.006532339844852686, 0.009798510000109673, 0.017963934689760208, 0.004899255000054836, 0.013064679689705372, 0.0016330849612131715, 0.14990779757499695, 0.5246773362159729, 0.2998155951499939, 0.01873847469687462, 0.6698605418205261, 0.06547509133815765, 0.11584053933620453, 0.03525581583380699, 0.015109635889530182, 0.025182725861668587, 0.025182725861668587, 0.015109635889530182, 0.01007309090346098, 0.00503654545173049, 0.02014618180692196, 0.921513557434082, 0.03544282913208008, 0.18085889518260956, 0.22104977071285248, 0.4220041036605835, 0.020095432177186012, 0.060286298394203186, 0.020095432177186012, 0.08038172870874405, 0.10906876623630524, 0.21813753247261047, 0.43627506494522095, 0.05453438311815262, 0.05453438311815262, 0.10906876623630524, 0.024645501747727394, 0.9611745476722717, 0.04178352653980255, 0.013927842490375042, 0.835670530796051, 0.04178352653980255, 0.013927842490375042, 0.013927842490375042, 0.013927842490375042, 0.0298493430018425, 0.01492467150092125, 0.9253296256065369, 0.01492467150092125, 0.07407165318727493, 0.2819501757621765, 0.09079751372337341, 0.19354206323623657, 0.08123987913131714, 0.11947041004896164, 0.004778816364705563, 0.09796573966741562, 0.007168224547058344, 0.004778816364705563, 0.014336449094116688, 0.02150467410683632, 0.007168224547058344, 0.3694363832473755, 0.13726764917373657, 0.19488616287708282, 0.07964912801980972, 0.054229192435741425, 0.03728257119655609, 0.016946623101830482, 0.02541993372142315, 0.03558790683746338, 0.023725271224975586, 0.006778649054467678, 0.008473311550915241, 0.006778649054467678, 0.0016946622636169195, 0.579181969165802, 0.047473933547735214, 0.21521516144275665, 0.018989574164152145, 0.025319430977106094, 0.01582464389503002, 0.03164928779006004, 0.018989574164152145, 0.025319430977106094, 0.006329857744276524, 0.006329857744276524, 0.003164928872138262, 0.006329857744276524, 0.2794581949710846, 0.0931527316570282, 0.4657636880874634, 0.0931527316570282, 0.4149414598941803, 0.10558118671178818, 0.19639576971530914, 0.11591780930757523, 0.028056539595127106, 0.023626558482646942, 0.0450381301343441, 0.004429979715496302, 0.023626558482646942, 0.01993490941822529, 0.004429979715496302, 0.009598289616405964, 0.006644969806075096, 0.0014766599051654339, 0.2922377288341522, 0.1948251575231552, 0.0899193063378334, 0.1423722356557846, 0.1123991310596466, 0.014986551366746426, 0.0374663770198822, 0.02247982658445835, 0.007493275683373213, 0.007493275683373213, 0.0449596531689167, 0.007493275683373213, 0.33602583408355713, 0.24170278012752533, 0.11200860887765884, 0.0471615195274353, 0.05895189940929413, 0.05895189940929413, 0.005895189940929413, 0.053056709468364716, 0.03537113964557648, 0.01768556982278824, 0.005895189940929413, 0.02358075976371765, 0.3317223787307739, 0.5350360870361328, 0.11770794540643692, 0.525709867477417, 0.033272773027420044, 0.03992732986807823, 0.006654554978013039, 0.3061095178127289, 0.006654554978013039, 0.026618219912052155, 0.03992732986807823, 0.006654554978013039, 0.1300753802061081, 0.2167923003435135, 0.0867169201374054, 0.0433584600687027, 0.3468676805496216, 0.0867169201374054, 0.0433584600687027, 0.14559733867645264, 0.18636459112167358, 0.0174716804176569, 0.19801238179206848, 0.14559733867645264, 0.07571061700582504, 0.0058238934725522995, 0.11647786945104599, 0.0058238934725522995, 0.029119467362761497, 0.046591147780418396, 0.011647786945104599, 0.011647786945104599, 0.3831208348274231, 0.14459381997585297, 0.14881552755832672, 0.11293093860149384, 0.08232348412275314, 0.03271830826997757, 0.014776010066270828, 0.026385731995105743, 0.01794229820370674, 0.010554293170571327, 0.008443434722721577, 0.008443434722721577, 0.005277146585285664, 0.004221717361360788, 0.20064853131771088, 0.6373541355133057, 0.1416342556476593, 0.345401793718338, 0.15419723093509674, 0.16499103605747223, 0.1557392030954361, 0.05396902933716774, 0.021587612107396126, 0.04780114069581032, 0.010793806053698063, 0.007709861267358065, 0.013877750374376774, 0.009251833893358707, 0.0030839445535093546, 0.007709861267358065, 0.004625916946679354, 0.3855515122413635, 0.11256977915763855, 0.2124754637479782, 0.11256977915763855, 0.05909913778305054, 0.042213667184114456, 0.025328200310468674, 0.004221366718411446, 0.014071222394704819, 0.004221366718411446, 0.008442733436822891, 0.007035611197352409, 0.004221366718411446, 0.0056284889578819275, 0.3542265295982361, 0.06822140514850616, 0.21253591775894165, 0.14431451261043549, 0.06297360360622406, 0.023615101352334023, 0.07084530591964722, 0.010495600290596485, 0.010495600290596485, 0.023615101352334023, 0.0026239000726491213, 0.010495600290596485, 0.0026239000726491213, 0.0026239000726491213, 0.026511594653129578, 0.43744131922721863, 0.053023189306259155, 0.06627898663282394, 0.026511594653129578, 0.10604637861251831, 0.19883696734905243, 0.026511594653129578, 0.026511594653129578, 0.013255797326564789, 0.013255797326564789, 0.19128507375717163, 0.038257014006376266, 0.07651402801275253, 0.15302805602550507, 0.5355982184410095, 0.23397549986839294, 0.23222941160202026, 0.0855582058429718, 0.1606398969888687, 0.048890404403209686, 0.09952688962221146, 0.03492171689867973, 0.03142954409122467, 0.05412866175174713, 0.015714772045612335, 0.0017460858216509223, 0.0034921716433018446, 0.43743669986724854, 0.14095182716846466, 0.22357876598834991, 0.058324895799160004, 0.0194416306912899, 0.0194416306912899, 0.03402285650372505, 0.0194416306912899, 0.014581223949790001, 0.004860407672822475, 0.004860407672822475, 0.0194416306912899, 0.5296163558959961, 0.456058531999588, 0.2800809442996979, 0.630182147026062, 0.1503501683473587, 0.7544844746589661, 0.08474282175302505, 0.0027336394414305687, 0.018340518698096275, 0.11004311591386795, 0.6969397068023682, 0.1711781769990921, 0.04982477426528931, 0.8968459367752075, 0.04982477426528931, 0.3152447044849396, 0.2654692232608795, 0.13273461163043976, 0.04147956520318985, 0.04147956520318985, 0.008295913226902485, 0.008295913226902485, 0.008295913226902485, 0.02488773874938488, 0.06636730581521988, 0.008295913226902485, 0.07466321438550949, 0.4726218581199646, 0.0023631092626601458, 0.5080685019493103, 0.0023631092626601458, 0.0047262185253202915, 0.0023631092626601458, 0.0047262185253202915, 0.14507761597633362, 0.008059867657721043, 0.8382261991500854, 0.9086927175521851, 0.4328910708427429, 0.4328910708427429, 0.08657821267843246, 0.030825819820165634, 0.9247745871543884, 0.1522497832775116, 0.19968992471694946, 0.14893999695777893, 0.21292904019355774, 0.08936399966478348, 0.06729881465435028, 0.05516296252608299, 0.028684740886092186, 0.020961925387382507, 0.019858665764331818, 0.0022065185476094484, 0.0022065185476094484, 0.0022065185476094484, 0.09675725549459457, 0.2266884297132492, 0.14098913967609406, 0.19075001776218414, 0.1603405922651291, 0.06911232322454453, 0.0276449304074049, 0.041467394679784775, 0.019351450726389885, 0.00829347874969244, 0.01658695749938488, 0.0027644929941743612, 0.0027644929941743612, 0.49524956941604614, 0.066033273935318, 0.42921629548072815, 0.30897456407546997, 0.2059830278158188, 0.27464404702186584, 0.06866101175546646, 0.03433050587773323, 0.03433050587773323, 0.03433050587773323, 0.06866101175546646, 0.9792028069496155, 0.12556017935276031, 0.16741357743740082, 0.6278008818626404, 0.041853394359350204, 0.8978116512298584, 0.0018941174494102597, 0.0018941174494102597, 0.09470587223768234, 0.0780433863401413, 0.3288971483707428, 0.005574527662247419, 0.09476697444915771, 0.12821413576602936, 0.21183206140995026, 0.06689433753490448, 0.022298110648989677, 0.044596221297979355, 0.01672358438372612, 0.10789625346660614, 0.30708932876586914, 0.020749278366565704, 0.12864552438259125, 0.05809798091650009, 0.19089336693286896, 0.04979826882481575, 0.03734870254993439, 0.024899134412407875, 0.024899134412407875, 0.008299711160361767, 0.008299711160361767, 0.016599422320723534, 0.008299711160361767, 0.2944435179233551, 0.14722175896167755, 0.22083263099193573, 0.14722175896167755, 0.07361087948083878, 0.011586051434278488, 0.9616422653198242, 0.011586051434278488, 0.2469395399093628, 0.10011062771081924, 0.02669616788625717, 0.12013275176286697, 0.153502956032753, 0.0934365838766098, 0.21356934309005737, 0.04004425182938576, 0.538265585899353, 0.3027743995189667, 0.13456639647483826, 0.43362492322921753, 0.019272219389677048, 0.168631911277771, 0.06745276600122452, 0.04818054661154747, 0.05781665816903114, 0.05781665816903114, 0.014454164542257786, 0.07227081805467606, 0.04336249455809593, 0.009636109694838524, 0.04257930442690849, 0.17031721770763397, 0.04257930442690849, 0.12773790955543518, 0.21289652585983276, 0.04257930442690849, 0.04257930442690849, 0.17031721770763397, 0.08515860885381699, 0.975496232509613, 0.01711396872997284, 0.14036887884140015, 0.21055331826210022, 0.2807377576828003, 0.14036887884140015, 0.14036887884140015, 0.07018443942070007, 0.7441045045852661, 0.09301306307315826, 0.09301306307315826, 0.1648317277431488, 0.3296634554862976, 0.1648317277431488, 0.2472476065158844, 0.36134302616119385, 0.5420145392417908, 0.07226860523223877, 0.8674268126487732, 0.010450925678014755, 0.1149601861834526, 0.9603006839752197, 0.8869594931602478, 0.03285035118460655, 0.03285035118460655, 0.23312562704086304, 0.24356409907341003, 0.14265896379947662, 0.18789230287075043, 0.05045256391167641, 0.033055126667022705, 0.034794870764017105, 0.013917948119342327, 0.017397435382008553, 0.013917948119342327, 0.012178204953670502, 0.008698717691004276, 0.0034794870298355818, 0.0017397435149177909, 0.11988450586795807, 0.18312028050422668, 0.049402955919504166, 0.33659881353378296, 0.1389869749546051, 0.059283547103405, 0.021078594028949738, 0.007245766930282116, 0.0032935303170233965, 0.025689536705613136, 0.007904472760856152, 0.005928354803472757, 0.0388636589050293, 0.001976118190214038, 0.10057765245437622, 0.10057765245437622, 0.05028882622718811, 0.7543323636054993, 0.5037727355957031, 0.10075454413890839, 0.35264089703559875, 0.22774989902973175, 0.18219991028308868, 0.1708124279975891, 0.0683249682188034, 0.0683249682188034, 0.0341624841094017, 0.022774988785386086, 0.10248745232820511, 0.022774988785386086, 0.0683249682188034, 0.0341624841094017, 0.24255600571632385, 0.17845192551612854, 0.1680566668510437, 0.1871146410703659, 0.05717391520738602, 0.046778660267591476, 0.027720686048269272, 0.013860343024134636, 0.02079051546752453, 0.010395257733762264, 0.029453229159116745, 0.006930171512067318, 0.005197628866881132, 0.005197628866881132, 0.07391005754470825, 0.9115573763847351, 0.12377564609050751, 0.061887823045253754, 0.061887823045253754, 0.556990385055542, 0.12377564609050751, 0.020566685125231743, 0.0034277806989848614, 0.96320641040802, 0.0034277806989848614, 0.0034277806989848614, 0.7898607850074768, 0.1974651962518692, 0.27272799611091614, 0.09090933203697205, 0.5454559922218323, 0.8806098699569702, 0.050320565700531006, 0.012580141425132751, 0.037740424275398254, 0.8983373641967773, 0.021910667419433594, 0.04382133483886719, 0.2656458914279938, 0.09961721301078796, 0.06641147285699844, 0.5644975304603577, 0.2811673581600189, 0.17768214643001556, 0.10739030689001083, 0.18939745426177979, 0.08200713992118835, 0.0527188777923584, 0.011715305969119072, 0.02538316324353218, 0.013667857274413109, 0.009762754663825035, 0.027335714548826218, 0.005857652984559536, 0.011715305969119072, 0.0039051019120961428, 0.5561747550964355, 0.1853915899991989, 0.09269579499959946, 0.09269579499959946, 0.7105444073677063, 0.06459494680166245, 0.1291898936033249, 0.06459494680166245, 0.5187457203865051, 0.40084895491600037, 0.023579351603984833, 0.023579351603984833, 0.10502399504184723, 0.48033034801483154, 0.05405646935105324, 0.044789645820856094, 0.11737976223230362, 0.06641223281621933, 0.009266823530197144, 0.044789645820856094, 0.006177882198244333, 0.013900235295295715, 0.016989175230264664, 0.04015623405575752, 0.0015444705495610833, 0.13324259221553802, 0.19986388087272644, 0.06662129610776901, 0.11103548854589462, 0.13324259221553802, 0.06662129610776901, 0.24427807331085205, 0.022207098081707954, 0.022207098081707954, 0.42870938777923584, 0.06124419718980789, 0.24497678875923157, 0.24497678875923157, 0.22563055157661438, 0.18802545964717865, 0.03760509192943573, 0.03760509192943573, 0.3760509192943573, 0.11281527578830719, 0.2627701759338379, 0.1741248071193695, 0.27859967947006226, 0.10130897909402847, 0.044322676956653595, 0.025327244773507118, 0.044322676956653595, 0.012663622386753559, 0.03482495993375778, 0.0063318111933767796, 0.0031659055966883898, 0.0031659055966883898, 0.0031659055966883898, 0.0031659055966883898, 0.4084260165691376, 0.3403550088405609, 0.06807100027799606, 0.13614200055599213, 0.7825294733047485, 0.15650588274002075, 0.02677285484969616, 0.937049925327301, 0.02677285484969616, 0.4676647484302521, 0.10939526557922363, 0.10119061917066574, 0.09572085738182068, 0.06563715636730194, 0.0355534590780735, 0.05743251368403435, 0.010939526371657848, 0.013674408197402954, 0.010939526371657848, 0.010939526371657848, 0.002734881592914462, 0.008204644545912743, 0.010939526371657848, 0.6634565591812134, 0.2964380383491516, 0.04234829172492027, 0.38373249769210815, 0.13013537228107452, 0.21021868288516998, 0.08675691485404968, 0.060062479227781296, 0.023357631638646126, 0.010010412894189358, 0.0033368044532835484, 0.03670484945178032, 0.010010412894189358, 0.010010412894189358, 0.023357631638646126, 0.013347217813134193, 0.0033368044532835484, 0.11301308125257492, 0.15068411827087402, 0.009417757391929626, 0.22602616250514984, 0.037671029567718506, 0.2071906477212906, 0.018835514783859253, 0.07534205913543701, 0.009417757391929626, 0.047088783234357834, 0.02825327031314373, 0.06592430174350739, 0.009417757391929626, 0.1514744758605957, 0.530160665512085, 0.07573723793029785, 0.07573723793029785, 0.6423782706260681, 0.06753610074520111, 0.1099424883723259, 0.05497124418616295, 0.02198849804699421, 0.02198849804699421, 0.03926517441868782, 0.009423641487956047, 0.0047118207439780235, 0.0015706069534644485, 0.015706069767475128, 0.007853034883737564, 0.003141213906928897, 0.8205758333206177, 0.14009831845760345, 0.19212530553340912, 0.5489294528961182, 0.027446473017334938, 0.10978589206933975, 0.027446473017334938, 0.08233941346406937, 0.2741734981536865, 0.1827823370695114, 0.0913911685347557, 0.0913911685347557, 0.1827823370695114, 0.0913911685347557, 0.019846221432089806, 0.03969244286417961, 0.11907733231782913, 0.456463098526001, 0.059538666158914566, 0.059538666158914566, 0.019846221432089806, 0.19846221804618835, 0.27835050225257874, 0.4175257384777069, 0.13917525112628937, 0.06958762556314468, 0.0317942351102829, 0.5087077617645264, 0.317942351102829, 0.0953827053308487, 0.17007529735565186, 0.18797796964645386, 0.05907879024744034, 0.2882328927516937, 0.044756658375263214, 0.08414251357316971, 0.048337191343307495, 0.03938585892319679, 0.010741597972810268, 0.023273462429642677, 0.01432213094085455, 0.02685399539768696, 0.5194145441055298, 0.11406750977039337, 0.12221518903970718, 0.1364736258983612, 0.016295358538627625, 0.010184599086642265, 0.022406117990612984, 0.006110759451985359, 0.008147679269313812, 0.022406117990612984, 0.012221518903970718, 0.004073839634656906, 0.006110759451985359, 0.002036919817328453, 0.06285455822944641, 0.25141823291778564, 0.06285455822944641, 0.5971183180809021, 0.029719579964876175, 0.05943915992975235, 0.3566349744796753, 0.05943915992975235, 0.17831748723983765, 0.029719579964876175, 0.17831748723983765, 0.08915874361991882, 0.7562394738197327, 0.15124788880348206, 0.5444709658622742, 0.23334471881389618, 0.1555631458759308, 0.9413610696792603, 0.8564541339874268, 0.12432398647069931, 0.1818736046552658, 0.25462305545806885, 0.10912416875362396, 0.21824833750724792, 0.01818736083805561, 0.07274944335222244, 0.01818736083805561, 0.05456208437681198, 0.03637472167611122, 0.03637472167611122, 0.0476263090968132, 0.920775294303894, 0.0768183022737503, 0.23045490682125092, 0.1536366045475006, 0.23045490682125092, 0.1536366045475006, 0.0768183022737503, 0.48409292101860046, 0.18153484165668488, 0.12102323025465012, 0.18153484165668488, 0.0998450294137001, 0.005255001597106457, 0.8828402161598206, 0.005255001597106457, 0.005255001597106457, 0.9329859614372253, 0.5581284165382385, 0.07973262667655945, 0.07973262667655945, 0.07973262667655945, 0.1594652533531189, 0.0089265713468194, 0.848024308681488, 0.12497200071811676, 0.48576802015304565, 0.330322265625, 0.019430721178650856, 0.15544576942920685, 0.1859801858663559, 0.3719603717327118, 0.27897027134895325, 0.09299009293317795, 0.04263925552368164, 0.08527851104736328, 0.3837532699108124, 0.213196262717247, 0.12791776657104492, 0.04263925552368164, 0.25626736879348755, 0.25626736879348755, 0.08542245626449585, 0.25626736879348755, 0.08542245626449585, 0.8535484075546265, 0.10041745752096176, 0.037656549364328384, 0.289575457572937, 0.3861006200313568, 0.1930503100156784, 0.0965251550078392, 0.42525917291641235, 0.5561081767082214, 0.258401483297348, 0.19922557473182678, 0.1459672600030899, 0.12624195218086243, 0.061148446053266525, 0.061148446053266525, 0.041423141956329346, 0.023670366033911705, 0.015780244022607803, 0.03550554811954498, 0.01972530409693718, 0.005917591508477926, 0.003945061005651951, 0.003945061005651951, 0.3773196339607239, 0.3773196339607239, 0.09432990849018097, 0.09432990849018097, 0.09432990849018097, 0.9162121415138245, 0.37030714750289917, 0.1481228619813919, 0.07406143099069595, 0.1481228619813919, 0.1481228619813919, 0.07406143099069595, 0.905670166015625, 0.06037801131606102, 0.09825582802295685, 0.27925339341163635, 0.11635558307170868, 0.253396600484848, 0.02585679665207863, 0.038785193115472794, 0.031028155237436295, 0.03619951382279396, 0.020685436204075813, 0.06722766906023026, 0.0025856795255094767, 0.01809975691139698, 0.007757038809359074, 0.005171359051018953, 0.031175728887319565, 0.4364601969718933, 0.010391909629106522, 0.010391909629106522, 0.10391909629106522, 0.020783819258213043, 0.2805815637111664, 0.020783819258213043, 0.06235145777463913, 0.020783819258213043, 0.020783819258213043, 0.031006691977381706, 0.341073602437973, 0.06201338395476341, 0.18604014813899994, 0.09302007406949997, 0.09302007406949997, 0.09302007406949997, 0.06201338395476341, 0.029952488839626312, 0.9135509133338928, 0.014976244419813156, 0.014976244419813156, 0.19061461091041565, 0.47653651237487793, 0.09530730545520782, 0.09530730545520782, 0.08033672720193863, 0.16067345440387726, 0.2410101741552353, 0.4820203483104706, 0.13361632823944092, 0.16702041029930115, 0.26723265647888184, 0.15031836926937103, 0.050106123089790344, 0.06680816411972046, 0.03340408205986023, 0.016702041029930115, 0.03340408205986023, 0.06680816411972046, 0.17729803919792175, 0.009849891066551208, 0.7682915329933167, 0.009849891066551208, 0.009849891066551208, 0.009849891066551208, 0.1054149717092514, 0.006200880743563175, 0.8681232929229736, 0.006200880743563175, 0.006200880743563175, 0.3479456901550293, 0.03163142502307892, 0.41120854020118713, 0.03163142502307892, 0.03163142502307892, 0.12652570009231567, 0.16285784542560577, 0.16285784542560577, 0.32571569085121155, 0.05428595095872879, 0.05428595095872879, 0.27142974734306335, 0.7792295813560486, 0.07792296260595322, 0.07792296260595322, 0.08714168518781662, 0.3485667407512665, 0.26142504811286926, 0.08714168518781662, 0.08714168518781662, 0.08714168518781662, 0.06055470183491707, 0.9234592318534851, 0.6165398955345154, 0.0685044378042221, 0.0685044378042221, 0.1370088756084442, 0.9337711930274963, 0.0109855430200696, 0.0439421720802784, 0.3589878976345062, 0.03589878976345062, 0.4666842520236969, 0.03589878976345062, 0.07179757952690125, 0.17360620200634003, 0.13020464777946472, 0.3503125011920929, 0.13950498402118683, 0.05890210345387459, 0.0341012179851532, 0.027900997549295425, 0.031001107767224312, 0.031001107767224312, 0.009300332516431808, 0.009300332516431808, 0.9113911390304565, 0.18482916057109833, 0.3234510123729706, 0.18482916057109833, 0.04620729014277458, 0.13862186670303345, 0.09241458028554916, 0.09241458028554916, 0.3099159598350525, 0.20661064982414246, 0.10330532491207123, 0.3099159598350525, 0.051652662456035614, 0.7554378509521484, 0.00778801878914237, 0.00778801878914237, 0.06230415031313896, 0.06230415031313896, 0.0934562236070633, 0.038974057883024216, 0.038974057883024216, 0.07794811576604843, 0.5846108794212341, 0.2338443547487259, 0.31274592876434326, 0.23455946147441864, 0.39093244075775146, 0.2767148017883301, 0.2767148017883301, 0.055342961102724075, 0.055342961102724075, 0.2767148017883301, 0.055342961102724075, 0.5678045153617859, 0.18926818668842316, 0.09463409334421158, 0.09463409334421158, 0.13993750512599945, 0.4897812604904175, 0.06996875256299973, 0.06996875256299973, 0.13993750512599945, 0.09702432155609131, 0.09702432155609131, 0.19404864311218262, 0.09702432155609131, 0.09702432155609131, 0.19404864311218262, 0.09702432155609131, 0.09702432155609131, 0.24602428078651428, 0.12301214039325714, 0.18451820313930511, 0.06150607019662857, 0.36903640627861023, 0.343482106924057, 0.343482106924057, 0.057247016578912735, 0.1717410534620285, 0.183791846036911, 0.12252789735794067, 0.12252789735794067, 0.12252789735794067, 0.3063197433948517, 0.06126394867897034, 0.5542033314704895, 0.27710166573524475, 0.09236722439527512, 0.15795738995075226, 0.39489346742630005, 0.07897869497537613, 0.15795738995075226, 0.15795738995075226, 0.29302525520324707, 0.29302525520324707, 0.09767508506774902, 0.19535017013549805, 0.09767508506774902, 0.08564025163650513, 0.2569207549095154, 0.17128050327301025, 0.2569207549095154, 0.08564025163650513, 0.6489599943161011, 0.09270856529474258, 0.09270856529474258, 0.09270856529474258, 0.22013185918331146, 0.21166524291038513, 0.1015993133187294, 0.13546575605869293, 0.13546575605869293, 0.055032964795827866, 0.046566352248191833, 0.016933219507336617, 0.012699914164841175, 0.004233304876834154, 0.04233304783701897, 0.004233304876834154, 0.008466609753668308, 0.008466609753668308, 0.9601649641990662, 0.024619614705443382, 0.0919804498553276, 0.0919804498553276, 0.5518826842308044, 0.0919804498553276, 0.0919804498553276, 0.4788329601287842, 0.287299782037735, 0.0478832945227623, 0.1436498910188675, 0.22243301570415497, 0.1263199895620346, 0.17025737464427948, 0.19222606718540192, 0.0604139044880867, 0.04668347164988518, 0.04668347164988518, 0.03020695224404335, 0.04668347164988518, 0.032953038811683655, 0.010984346270561218, 0.005492173135280609, 0.005492173135280609, 0.005492173135280609, 0.1393340826034546, 0.48766928911209106, 0.0696670413017273, 0.1393340826034546, 0.0696670413017273, 0.048439718782901764, 0.12917257845401764, 0.06458628922700882, 0.016146572306752205, 0.6297163367271423, 0.016146572306752205, 0.06458628922700882, 0.7631925940513611, 0.0054513756185770035, 0.0027256878092885017, 0.0027256878092885017, 0.0027256878092885017, 0.14718714356422424, 0.021805502474308014, 0.008177063427865505, 0.008177063427865505, 0.019079813733696938, 0.019079813733696938, 0.5418291687965393, 0.09030486643314362, 0.09030486643314362, 0.27091458439826965, 0.39448100328445435, 0.12663736939430237, 0.10198231041431427, 0.11318915337324142, 0.1199132651090622, 0.036982595920562744, 0.04034464806318283, 0.008965477347373962, 0.0056034233421087265, 0.012327531352639198, 0.024655062705278397, 0.007844792678952217, 0.004482738673686981, 0.0022413693368434906, 0.7514063119888306, 0.22959637641906738, 0.4900704324245453, 0.07433652132749557, 0.22576278448104858, 0.07708972692489624, 0.030285250395536423, 0.013766023330390453, 0.022025637328624725, 0.0027532046660780907, 0.027532046660780907, 0.013766023330390453, 0.011012818664312363, 0.0027532046660780907, 0.008259613998234272, 0.0027532046660780907, 0.7551836371421814, 0.0839092954993248, 0.0839092954993248, 0.0839092954993248, 0.06495177745819092, 0.151554137468338, 0.151554137468338, 0.10825295746326447, 0.08660236746072769, 0.17320473492145538, 0.021650591865181923, 0.17320473492145538, 0.043301183730363846, 0.021650591865181923, 0.715239942073822, 0.097532719373703, 0.097532719373703, 0.065021812915802, 0.03909839317202568, 0.15639357268810272, 0.15639357268810272, 0.3518855571746826, 0.15639357268810272, 0.11729518324136734, 0.36612945795059204, 0.19202594459056854, 0.12801729142665863, 0.1049741804599762, 0.07296985387802124, 0.04224570468068123, 0.02816380374133587, 0.019202593713998795, 0.01024138368666172, 0.011521556414663792, 0.01024138368666172, 0.00512069184333086, 0.00768103776499629, 0.00256034592166543, 0.16883178055286407, 0.16883178055286407, 0.07997294515371323, 0.13328824937343597, 0.07997294515371323, 0.044429413974285126, 0.1066305935382843, 0.01777176558971405, 0.026657648384571075, 0.05331529676914215, 0.01777176558971405, 0.026657648384571075, 0.07997294515371323, 0.161131352186203, 0.161131352186203, 0.2416970282793045, 0.161131352186203, 0.0805656760931015, 0.161131352186203, 0.11714248359203339, 0.11714248359203339, 0.35142746567726135, 0.35142746567726135, 0.05857124179601669, 0.2541891634464264, 0.06751899421215057, 0.49646317958831787, 0.0317736454308033, 0.01588682271540165, 0.003971705678850412, 0.01191511657088995, 0.003971705678850412, 0.051632169634103775, 0.01191511657088995, 0.043688759207725525, 0.003971705678850412, 0.007943411357700825, 0.15285606682300568, 0.07642803341150284, 0.6114242672920227, 0.07642803341150284, 0.5906471610069275, 0.030289599671959877, 0.19688239693641663, 0.015144799835979939, 0.015144799835979939, 0.015144799835979939, 0.07572399824857712, 0.04543439671397209, 0.45108669996261597, 0.10613805055618286, 0.10613805055618286, 0.05306902527809143, 0.07960353791713715, 0.026534512639045715, 0.026534512639045715, 0.05306902527809143, 0.026534512639045715, 0.05306902527809143, 0.4247452914714813, 0.05179820582270622, 0.2071928232908249, 0.05179820582270622, 0.04143856465816498, 0.02071928232908249, 0.010359641164541245, 0.02071928232908249, 0.12431569397449493, 0.02071928232908249, 0.02071928232908249, 0.03887432441115379, 0.27212026715278625, 0.15549729764461517, 0.27212026715278625, 0.03887432441115379, 0.03887432441115379, 0.11662296950817108, 0.03887432441115379, 0.19035665690898895, 0.0832810327410698, 0.13087019324302673, 0.24984310567378998, 0.02379458211362362, 0.04758916422724724, 0.07138374447822571, 0.01189729105681181, 0.07138374447822571, 0.01189729105681181, 0.035691872239112854, 0.02379458211362362, 0.035691872239112854, 0.39325758814811707, 0.39325758814811707, 0.05617965757846832, 0.11235931515693665, 0.21581479907035828, 0.1704936921596527, 0.0787724032998085, 0.19099609553813934, 0.07553517818450928, 0.07337702810764313, 0.031293146312236786, 0.03776758909225464, 0.0658235102891922, 0.01618610881268978, 0.021581480279564857, 0.008632591925561428, 0.011869814246892929, 0.002158147981390357, 0.46959441900253296, 0.3130629360675812, 0.1565314680337906, 0.16066595911979675, 0.7497744560241699, 0.026777660474181175, 0.05355532094836235, 0.5583069324493408, 0.15951627492904663, 0.07975813746452332, 0.15951627492904663, 0.1838131695985794, 0.11488322913646698, 0.1838131695985794, 0.0919065847992897, 0.22976645827293396, 0.06892994046211243, 0.04595329239964485, 0.022976646199822426, 0.04595329239964485, 0.022976646199822426, 0.5685274600982666, 0.07580365985631943, 0.037901829928159714, 0.15160731971263885, 0.037901829928159714, 0.037901829928159714, 0.07580365985631943, 0.3271141052246094, 0.23790115118026733, 0.029737643897533417, 0.029737643897533417, 0.11895057559013367, 0.059475287795066833, 0.029737643897533417, 0.059475287795066833, 0.11895057559013367, 0.5912079215049744, 0.23648318648338318, 0.11824159324169159, 0.38895079493522644, 0.19447539746761322, 0.1296502649784088, 0.0648251324892044, 0.0648251324892044, 0.1296502649784088, 0.32702550292015076, 0.23599779605865479, 0.011799889616668224, 0.08597062528133392, 0.07922782748937607, 0.058999449014663696, 0.021914079785346985, 0.0016856985166668892, 0.053942352533340454, 0.02022838220000267, 0.08091352880001068, 0.013485588133335114, 0.010114191100001335, 0.01070121768862009, 0.5439785718917847, 0.003567072795704007, 0.02318597212433815, 0.16408534348011017, 0.1480335146188736, 0.003567072795704007, 0.055289626121520996, 0.0017835363978520036, 0.014268291182816029, 0.028536582365632057, 0.0017835363978520036, 0.0017835363978520036, 0.04383155331015587, 0.38900503516197205, 0.010957888327538967, 0.03287366405129433, 0.23559460043907166, 0.17532621324062347, 0.016436832025647163, 0.010957888327538967, 0.07122626900672913, 0.010957888327538967, 0.08583337813615799, 0.17166675627231598, 0.25750014185905457, 0.42916688323020935, 0.005784508306533098, 0.3123634457588196, 0.046276066452264786, 0.2660873830318451, 0.08676762878894806, 0.09255213290452957, 0.011569016613066196, 0.11569017171859741, 0.005784508306533098, 0.023138033226132393, 0.023138033226132393, 0.8246281743049622, 0.020112881436944008, 0.06033864617347717, 0.010056440718472004, 0.010056440718472004, 0.040225762873888016, 0.010056440718472004, 0.010056440718472004, 0.18654431402683258, 0.37308862805366516, 0.18654431402683258, 0.09327215701341629, 0.09327215701341629, 0.12227319926023483, 0.04366900026798248, 0.742372989654541, 0.008733800612390041, 0.034935202449560165, 0.04366900026798248, 0.47171181440353394, 0.23585590720176697, 0.07861863821744919, 0.07861863821744919, 0.15723727643489838, 0.18547242879867554, 0.24329619109630585, 0.06546086072921753, 0.20183764398097992, 0.10255534946918488, 0.09928230196237564, 0.014183185994625092, 0.03927651420235634, 0.0076371002942323685, 0.018547244369983673, 0.01091014314442873, 0.005455071572214365, 0.004364057444036007, 0.0010910143610090017, 0.9495415091514587, 0.22728897631168365, 0.056822244077920914, 0.17046673595905304, 0.3409334719181061, 0.056822244077920914, 0.17046673595905304, 0.5717259645462036, 0.06018168106675148, 0.12036336213350296, 0.03009084053337574, 0.03009084053337574, 0.15045420825481415, 0.03009084053337574, 0.4324442744255066, 0.08648885786533356, 0.34595543146133423, 0.08648885786533356, 0.39838916063308716, 0.3414764404296875, 0.05691273882985115, 0.05691273882985115, 0.1138254776597023, 0.1783788800239563, 0.40135249495506287, 0.13378416001796722, 0.26756832003593445, 0.48647886514663696, 0.09729577600955963, 0.09729577600955963, 0.09729577600955963, 0.19459155201911926, 0.36131811141967773, 0.14452724158763885, 0.1746370941400528, 0.13248330354690552, 0.04215377941727638, 0.012043937109410763, 0.036131810396909714, 0.018065905198454857, 0.04215377941727638, 0.012043937109410763, 0.018065905198454857, 0.19065910577774048, 0.058664336800575256, 0.19554778933525085, 0.004888694733381271, 0.009777389466762543, 0.029332168400287628, 0.009777389466762543, 0.46931469440460205, 0.004888694733381271, 0.024443473666906357, 0.48195892572402954, 0.12572841346263885, 0.15716052055358887, 0.04190947115421295, 0.04190947115421295, 0.04190947115421295, 0.010477367788553238, 0.07334157824516296, 0.020954735577106476, 0.9500429630279541, 0.0351867750287056, 0.9831995368003845, 0.9624677896499634, 0.29932835698127747, 0.042761195451021194, 0.3634701669216156, 0.10690298676490784, 0.19242538511753082, 0.6111305356025696, 0.04493606835603714, 0.2246803343296051, 0.03894459083676338, 0.023965902626514435, 0.014978689141571522, 0.017974426969885826, 0.005991475656628609, 0.008987213484942913, 0.0029957378283143044, 0.005991475656628609, 0.9326456189155579, 0.5896073579788208, 0.11946292966604233, 0.11175564676523209, 0.0385364294052124, 0.011560929007828236, 0.02697550132870674, 0.02312185801565647, 0.011560929007828236, 0.04239007085561752, 0.0038536428473889828, 0.011560929007828236, 0.011560929007828236, 0.17493125796318054, 0.3498625159263611, 0.2623968720436096, 0.08746562898159027, 0.08746562898159027, 0.3255142271518707, 0.1668260395526886, 0.19530853629112244, 0.12613676488399506, 0.024413567036390305, 0.02848249487578869, 0.024413567036390305, 0.024413567036390305, 0.02848249487578869, 0.02848249487578869, 0.004068927839398384, 0.004068927839398384, 0.012206783518195152, 0.016275711357593536, 0.3531465232372284, 0.1765732616186142, 0.1765732616186142, 0.1765732616186142, 0.0882866308093071, 0.0957268625497818, 0.3829074501991272, 0.3829074501991272, 0.0957268625497818, 0.0957268625497818, 0.048103224486112595, 0.2585548162460327, 0.12025805562734604, 0.21345806121826172, 0.12627096474170685, 0.1022193506360054, 0.027058063074946404, 0.03607741743326187, 0.003006451530382037, 0.042090319097042084, 0.006012903060764074, 0.006012903060764074, 0.009019354358315468, 0.003006451530382037, 0.3798433244228363, 0.18992166221141815, 0.06330721825361252, 0.2532288730144501, 0.06330721825361252, 0.40498170256614685, 0.17356359958648682, 0.11570905894041061, 0.05785452947020531, 0.11570905894041061, 0.9103831052780151, 0.13788551092147827, 0.2675635516643524, 0.05088632181286812, 0.2445826381444931, 0.05745229870080948, 0.08699919283390045, 0.0164149422198534, 0.03447137773036957, 0.01969793066382408, 0.04103735461831093, 0.0065659768879413605, 0.00492448266595602, 0.0328298844397068, 0.8025310039520264, 0.10700413584709167, 0.02675103396177292, 0.7470158338546753, 0.1556282937526703, 0.09337697923183441, 0.3200448155403137, 0.40005600452423096, 0.08001120388507843, 0.040005601942539215, 0.12001680582761765, 0.9332168698310852, 0.05489511042833328, 0.24094288051128387, 0.08031429350376129, 0.4336971640586853, 0.03212571516633034, 0.14456573128700256, 0.03212571516633034, 0.01606285758316517, 0.0411684550344944, 0.5557741522789001, 0.0205842275172472, 0.39110031723976135, 0.4191047251224518, 0.13234885036945343, 0.02941085770726204, 0.11764343082904816, 0.07352714240550995, 0.02941085770726204, 0.036763571202754974, 0.01470542885363102, 0.06617442518472672, 0.01470542885363102, 0.05146900191903114, 0.01470542885363102, 0.30192676186561584, 0.23380912840366364, 0.10861998796463013, 0.12334812432527542, 0.04602541774511337, 0.06259457021951675, 0.03129728510975838, 0.025774234905838966, 0.022092200815677643, 0.0073640672490000725, 0.01841016858816147, 0.011046100407838821, 0.005523050203919411, 0.0018410168122500181, 0.05120004713535309, 0.2645335793495178, 0.1792001575231552, 0.1792001575231552, 0.10240009427070618, 0.0938667505979538, 0.017066681757569313, 0.017066681757569313, 0.0938667505979538, 0.317853718996048, 0.176585391163826, 0.176585391163826, 0.0706341564655304, 0.0353170782327652, 0.1412683129310608, 0.9370856881141663, 0.052060317248106, 0.12169182300567627, 0.12169182300567627, 0.08112788200378418, 0.16225576400756836, 0.12169182300567627, 0.08112788200378418, 0.24338364601135254, 0.04056394100189209, 0.09473485499620438, 0.2842045724391937, 0.035845618695020676, 0.4263068437576294, 0.020483212545514107, 0.017922809347510338, 0.007681204471737146, 0.0294446162879467, 0.003840602235868573, 0.04480702430009842, 0.012802007608115673, 0.0025604015681892633, 0.017922809347510338, 0.27801746129989624, 0.13042794167995453, 0.20250654220581055, 0.1510218381881714, 0.027458515018224716, 0.07207860052585602, 0.02402620017528534, 0.013729257509112358, 0.03775545954704285, 0.03775545954704285, 0.013729257509112358, 0.013729257509112358, 0.1732521504163742, 0.23458033800125122, 0.08432626724243164, 0.2353469431400299, 0.06976082175970078, 0.06976082175970078, 0.02606448158621788, 0.03833011910319328, 0.012265638448297977, 0.030664095655083656, 0.005366216879338026, 0.007666023913770914, 0.010732433758676052, 0.0015332048060372472, 0.9336754083633423, 0.01965632475912571, 0.01965632475912571, 0.33069461584091187, 0.15409331023693085, 0.18352685868740082, 0.16707868874073029, 0.03289632499217987, 0.045881714671850204, 0.032030630856752396, 0.02164231799542904, 0.004328463692218065, 0.010388312861323357, 0.004328463692218065, 0.00865692738443613, 0.003462770953774452, 0.02964618243277073, 0.5039851069450378, 0.08152700215578079, 0.05188082158565521, 0.08893854916095734, 0.04446927458047867, 0.022234637290239334, 0.15564246475696564, 0.007411545608192682, 0.014823091216385365, 0.5197376608848572, 0.1299344152212143, 0.32483601570129395, 0.2772602140903473, 0.10397258400917053, 0.13863010704517365, 0.24260270595550537, 0.10397258400917053, 0.03465752676129341, 0.06931505352258682, 0.24375277757644653, 0.4062546193599701, 0.3250036835670471, 0.6639371514320374, 0.06035792455077171, 0.24143169820308685, 0.37608471512794495, 0.1253615766763687, 0.21888528764247894, 0.07362505048513412, 0.0457669235765934, 0.04775678738951683, 0.0457669235765934, 0.013929063454270363, 0.011939196847379208, 0.003979732282459736, 0.011939196847379208, 0.017908794805407524, 0.003979732282459736, 0.001989866141229868, 0.9538410902023315, 0.11721383780241013, 0.37768903374671936, 0.039071276783943176, 0.05209503695368767, 0.13023759424686432, 0.06511879712343216, 0.03038877248764038, 0.08682506531476974, 0.013023759238421917, 0.01736501231789589, 0.056436289101839066, 0.004341253079473972, 0.004341253079473972, 0.004341253079473972, 0.04165590554475784, 0.12496770918369293, 0.16662362217903137, 0.4582149386405945, 0.12496770918369293, 0.05790984630584717, 0.05790984630584717, 0.694918155670166, 0.11581969261169434, 0.724543035030365, 0.034917738288640976, 0.17458868026733398, 0.026188302785158157, 0.008729434572160244, 0.017458869144320488, 0.4659380316734314, 0.0931876078248024, 0.1863752156496048, 0.1863752156496048, 0.0931876078248024, 0.5474714040756226, 0.3128408193588257, 0.07821020483970642, 0.9057067036628723, 0.02663843333721161, 0.02663843333721161, 0.15284164249897003, 0.30568328499794006, 0.509472131729126, 0.3175690174102783, 0.6351380348205566, 0.09541979432106018, 0.19083958864212036, 0.28625938296318054, 0.19083958864212036, 0.09541979432106018, 0.09541979432106018, 0.12017982453107834, 0.2203296720981598, 0.09347319602966309, 0.1268564760684967, 0.18694639205932617, 0.18694639205932617, 0.026706626638770103, 0.006676656659692526, 0.006676656659692526, 0.013353313319385052, 0.1557096689939499, 0.051903221756219864, 0.10380644351243973, 0.20761288702487946, 0.5190322399139404, 0.39580968022346497, 0.5277462601661682, 0.05054585263133049, 0.9350982308387756, 0.05401521548628807, 0.10803043097257614, 0.3781065046787262, 0.10803043097257614, 0.1620456427335739, 0.1620456427335739, 0.684904158115387, 0.09784344583749771, 0.09784344583749771, 0.7382433414459229, 0.1845608353614807, 0.09228041768074036, 0.398112416267395, 0.020953286439180374, 0.35620585083961487, 0.020953286439180374, 0.14667299389839172, 0.04190657287836075, 0.8929594159126282, 0.05580996349453926, 0.4279138743877411, 0.4707052707672119, 0.04279138892889023, 0.2977258265018463, 0.22329437732696533, 0.44658875465393066, 0.1853564977645874, 0.0926782488822937, 0.3707129955291748, 0.0926782488822937, 0.1853564977645874, 0.6321967840194702, 0.27094146609306335, 0.3742365539073944, 0.062372758984565735, 0.24949103593826294, 0.062372758984565735, 0.24949103593826294, 0.062372758984565735, 0.049177248030900955, 0.9343676567077637, 0.008196207694709301, 0.13001903891563416, 0.19502854347229004, 0.5200761556625366, 0.06500951945781708, 0.06500951945781708, 0.8090884685516357, 0.1264200657606125, 0.025284014642238617, 0.012642007321119308, 0.20243850350379944, 0.19323675334453583, 0.0858829990029335, 0.2453799992799759, 0.06747949868440628, 0.06134499981999397, 0.021470749750733376, 0.021470749750733376, 0.03373974934220314, 0.015336249954998493, 0.01226900052279234, 0.02453800104558468, 0.015336249954998493, 0.078961081802845, 0.5527275800704956, 0.31584432721138, 0.3130740523338318, 0.15222866833209991, 0.12350627779960632, 0.18525941669940948, 0.09191165119409561, 0.053136423230171204, 0.020105673000216484, 0.015797315165400505, 0.01292507629841566, 0.018669554963707924, 0.004308358766138554, 0.002872239099815488, 0.005744478199630976, 0.15144363045692444, 0.07572181522846222, 0.07572181522846222, 0.4543308913707733, 0.07572181522846222, 0.07572181522846222, 0.9188388586044312, 0.40987783670425415, 0.11796484142541885, 0.18994338810443878, 0.06598033756017685, 0.03199046477675438, 0.07197854667901993, 0.03398986905813217, 0.03199046477675438, 0.00599821237847209, 0.01199642475694418, 0.009997020475566387, 0.003998808097094297, 0.01199642475694418, 0.003998808097094297, 0.002295464975759387, 0.8447310924530029, 0.002295464975759387, 0.1446142941713333, 0.002295464975759387, 0.1695246547460556, 0.7628609538078308, 0.5513105988502502, 0.055131059139966965, 0.3307863473892212, 0.7320939302444458, 0.024677323177456856, 0.16451549530029297, 0.012338661588728428, 0.008225774392485619, 0.024677323177456856, 0.012338661588728428, 0.004112887196242809, 0.004112887196242809, 0.004112887196242809, 0.26442885398864746, 0.42308616638183594, 0.15865731239318848, 0.10577154159545898, 0.005397547036409378, 0.28606998920440674, 0.43720129132270813, 0.26447978615760803, 0.1404476910829544, 0.2592880427837372, 0.039613451808691025, 0.20166848599910736, 0.06842323392629623, 0.08642935007810593, 0.061220791190862656, 0.03241100534796715, 0.05041712149977684, 0.02160733751952648, 0.003601222997531295, 0.018006114289164543, 0.018006114289164543, 0.04571811109781265, 0.04571811109781265, 0.2514496147632599, 0.3543153703212738, 0.13715434074401855, 0.14858385920524597, 0.011429527774453163, 0.8825283050537109, 0.11403455585241318, 0.1545284539461136, 0.0772642269730568, 0.1545284539461136, 0.1545284539461136, 0.3090569078922272, 0.0772642269730568, 0.18810732662677765, 0.18810732662677765, 0.11324828863143921, 0.22073818743228912, 0.07485903799533844, 0.08445634692907333, 0.02303355000913143, 0.044147636741399765, 0.017275162041187286, 0.01343623735010624, 0.019194625318050385, 0.0019194624619558454, 0.007677849847823381, 0.0019194624619558454, 0.003221074352040887, 0.8503636717796326, 0.003221074352040887, 0.003221074352040887, 0.10307437926530838, 0.035431817173957825, 0.24747581779956818, 0.12949316203594208, 0.27049681544303894, 0.12661553919315338, 0.025898631662130356, 0.048919640481472015, 0.04028676077723503, 0.01726575568318367, 0.06330776959657669, 0.008632877841591835, 0.005755251739174128, 0.008632877841591835, 0.008632877841591835, 0.002877625869587064, 0.2142886370420456, 0.08801140636205673, 0.4362304210662842, 0.0535721592605114, 0.049745574593544006, 0.0267860796302557, 0.049745574593544006, 0.0038265828043222427, 0.0535721592605114, 0.0038265828043222427, 0.011479748412966728, 0.0076531656086444855, 0.08189717680215836, 0.18612995743751526, 0.2531367540359497, 0.11912316828966141, 0.06700678169727325, 0.0893423780798912, 0.007445198018103838, 0.14145876467227936, 0.0223355945199728, 0.007445198018103838, 0.014890396036207676, 0.007445198018103838, 0.007445198018103838, 0.47127586603164673, 0.03366256132721901, 0.23563793301582336, 0.10098768770694733, 0.10098768770694733, 0.34134796261787415, 0.19911964237689972, 0.07269447296857834, 0.10114013403654099, 0.08533699065446854, 0.015803145244717598, 0.015803145244717598, 0.06953383982181549, 0.025285033509135246, 0.031606290489435196, 0.015803145244717598, 0.006321258377283812, 0.012642516754567623, 0.006321258377283812, 0.29764342308044434, 0.16554325819015503, 0.11537863314151764, 0.14547741413116455, 0.05016462132334709, 0.06688616424798965, 0.03678739070892334, 0.01170507911592722, 0.015049386769533157, 0.03177092969417572, 0.025082310661673546, 0.0050164624117314816, 0.03177092969417572, 0.0033443081192672253, 0.12889692187309265, 0.1874864399433136, 0.05858951061964035, 0.2577938437461853, 0.08202531188726425, 0.0234358049929142, 0.0117179024964571, 0.0703074112534523, 0.0234358049929142, 0.05858951061964035, 0.0937432199716568, 0.13480307161808014, 0.1938740760087967, 0.1332884281873703, 0.23325474560260773, 0.1484348475933075, 0.04998316243290901, 0.013631771318614483, 0.025748901069164276, 0.0030292824376374483, 0.027263542637228966, 0.004543923772871494, 0.021204978227615356, 0.009087847545742989, 0.0739368349313736, 0.1109052449464798, 0.0184842087328434, 0.0369684174656868, 0.4805894196033478, 0.0739368349313736, 0.0739368349313736, 0.0184842087328434, 0.0554526224732399, 0.0369684174656868, 0.1791514903306961, 0.1791514903306961, 0.5374544262886047, 0.0358302965760231, 0.0358302965760231, 0.1535707414150238, 0.2303561270236969, 0.3071414828300476, 0.0767853707075119, 0.2303561270236969, 0.9345918297767639, 0.6617159843444824, 0.2786172330379486, 0.034827154129743576], \"Term\": [\"abandoned\", \"abandoned\", \"abandoned\", \"abbey\", \"abhorrence\", \"abhorrence\", \"abhorrence\", \"abhorrence\", \"absolutely\", \"absolutely\", \"absolutely\", \"absolutely\", \"absolutely\", \"absolutely\", \"absolutely\", \"absolutely\", \"absolutely\", \"absolutely\", \"absolutely\", \"absolutely\", \"acknowledging\", \"acknowledging\", \"acquaintances\", \"acquaintances\", \"acquaintances\", \"acquiescence\", \"acquiescence\", \"acquiescence\", \"acquiescence\", \"acquiescence\", \"acquiescence\", \"acquit\", \"acquit\", \"acquit\", \"acquit\", \"added\", \"added\", \"added\", \"added\", \"added\", \"added\", \"added\", \"added\", \"added\", \"added\", \"added\", \"added\", \"added\", \"addresses\", \"addresses\", \"addresses\", \"addresses\", \"addresses\", \"adele\", \"adele\", \"adele\", \"adele\", \"adele\", \"adele\", \"adieu\", \"adieu\", \"adieu\", \"adieu\", \"adopted\", \"adopted\", \"adopted\", \"adopted\", \"adopted\", \"advocate\", \"advocate\", \"advocate\", \"advocate\", \"affection\", \"affection\", \"affection\", \"affection\", \"affection\", \"affection\", \"affection\", \"affection\", \"affection\", \"affection\", \"agent\", \"agreeable\", \"agreeable\", \"agreeable\", \"agreeable\", \"agreeable\", \"agreeable\", \"agreeable\", \"agreeable\", \"agreeable\", \"agreeable\", \"ah\", \"ah\", \"ah\", \"ah\", \"ah\", \"ah\", \"ah\", \"ah\", \"ah\", \"air\", \"air\", \"air\", \"air\", \"air\", \"air\", \"air\", \"air\", \"air\", \"air\", \"air\", \"air\", \"air\", \"alarm\", \"alarm\", \"alarm\", \"alarm\", \"alarm\", \"alarm\", \"alarm\", \"alarm\", \"alarm\", \"allenham\", \"allenham\", \"announcing\", \"announcing\", \"announcing\", \"announcing\", \"answered\", \"answered\", \"answered\", \"answered\", \"answered\", \"answered\", \"answered\", \"answered\", \"answered\", \"answered\", \"answered\", \"answered\", \"aperture\", \"apple\", \"apple\", \"apple\", \"apple\", \"apple\", \"apprehensions\", \"apprehensions\", \"apprehensions\", \"apprehensions\", \"apprehensions\", \"arms\", \"arms\", \"arms\", \"arms\", \"arms\", \"arms\", \"arms\", \"arms\", \"arrangements\", \"arrangements\", \"arrangements\", \"arrangements\", \"arrangements\", \"arrival\", \"arrival\", \"arrival\", \"arrival\", \"arrival\", \"arrival\", \"arrival\", \"arrival\", \"arrival\", \"arrival\", \"ascertained\", \"ascertained\", \"ascertained\", \"ascertained\", \"asked\", \"asked\", \"asked\", \"asked\", \"asked\", \"asked\", \"asked\", \"asked\", \"asked\", \"asked\", \"asked\", \"asked\", \"asked\", \"asked\", \"assistance\", \"assistance\", \"assistance\", \"assistance\", \"assistance\", \"assistance\", \"assistance\", \"assistance\", \"assistance\", \"assistance\", \"assure\", \"assure\", \"assure\", \"assure\", \"assure\", \"assure\", \"assure\", \"assure\", \"assure\", \"assure\", \"attach\", \"attach\", \"attach\", \"attach\", \"attach\", \"attained\", \"attained\", \"attained\", \"attained\", \"attained\", \"attained\", \"aunt\", \"aunt\", \"aunt\", \"aunt\", \"aunt\", \"aunt\", \"aunt\", \"aunt\", \"aunt\", \"aunt\", \"aunt\", \"aversion\", \"aversion\", \"aversion\", \"aversion\", \"avez\", \"away\", \"away\", \"away\", \"away\", \"away\", \"away\", \"away\", \"away\", \"away\", \"away\", \"away\", \"away\", \"away\", \"away\", \"baby\", \"baby\", \"baby\", \"baby\", \"baby\", \"baked\", \"baked\", \"baked\", \"baked\", \"baked\", \"ball\", \"ball\", \"ball\", \"ball\", \"ball\", \"ball\", \"ball\", \"barely\", \"barely\", \"barely\", \"barely\", \"barton\", \"barton\", \"bates\", \"bates\", \"bates\", \"bates\", \"bath\", \"bath\", \"bath\", \"bath\", \"bath\", \"beauties\", \"beauties\", \"beauties\", \"beauties\", \"beauties\", \"beauties\", \"bed\", \"bed\", \"bed\", \"bed\", \"bed\", \"bed\", \"bed\", \"bed\", \"bed\", \"bed\", \"bed\", \"bed\", \"bedside\", \"beggar\", \"beggar\", \"beggar\", \"beggar\", \"begging\", \"begging\", \"begging\", \"begging\", \"begging\", \"belgian\", \"belgian\", \"believe\", \"believe\", \"believe\", \"believe\", \"believe\", \"believe\", \"believe\", \"believe\", \"believe\", \"believe\", \"believe\", \"believe\", \"bells\", \"benign\", \"benign\", \"bennet\", \"bennet\", \"bennet\", \"bennet\", \"berkeley\", \"berkeley\", \"bessie\", \"bessie\", \"bessie\", \"bessie\", \"bessie\", \"better\", \"better\", \"better\", \"better\", \"better\", \"better\", \"better\", \"better\", \"better\", \"better\", \"better\", \"better\", \"better\", \"bien\", \"bien\", \"bien\", \"bingley\", \"bingley\", \"bingley\", \"bitterly\", \"bitterly\", \"bitterly\", \"bitterly\", \"bitterness\", \"bitterness\", \"bitterness\", \"bitterness\", \"bitterness\", \"black\", \"black\", \"black\", \"black\", \"black\", \"black\", \"black\", \"black\", \"black\", \"blanche\", \"blanche\", \"blanche\", \"blanche\", \"blew\", \"blew\", \"body\", \"body\", \"body\", \"body\", \"body\", \"body\", \"body\", \"body\", \"body\", \"body\", \"body\", \"body\", \"body\", \"body\", \"bolt\", \"bolt\", \"bolt\", \"bourgh\", \"bourgh\", \"braided\", \"braided\", \"brandon\", \"brandon\", \"bread\", \"bread\", \"bread\", \"bread\", \"bread\", \"bread\", \"bread\", \"bread\", \"bretton\", \"bretton\", \"bretton\", \"bretton\", \"brighton\", \"brighton\", \"brighton\", \"brocklehurst\", \"brocklehurst\", \"brocklehurst\", \"brocklehurst\", \"brocklehurst\", \"brocklehurst\", \"brother\", \"brother\", \"brother\", \"brother\", \"brother\", \"brother\", \"brother\", \"brother\", \"brother\", \"brother\", \"brother\", \"brother\", \"brother\", \"brown\", \"brown\", \"brown\", \"brown\", \"brown\", \"brown\", \"brown\", \"brunswick\", \"brunswick\", \"burdened\", \"burdened\", \"burdened\", \"business\", \"business\", \"business\", \"business\", \"business\", \"business\", \"business\", \"business\", \"business\", \"business\", \"business\", \"business\", \"cake\", \"cake\", \"cake\", \"cake\", \"cake\", \"came\", \"came\", \"came\", \"came\", \"came\", \"came\", \"came\", \"came\", \"came\", \"came\", \"came\", \"came\", \"came\", \"came\", \"campbell\", \"campbell\", \"campbell\", \"campbell\", \"campbell\", \"candle\", \"candle\", \"candle\", \"candle\", \"candle\", \"caprice\", \"caprice\", \"caprice\", \"caprice\", \"caprice\", \"caprice\", \"caprice\", \"caprice\", \"caroline\", \"caroline\", \"caroline\", \"caroline\", \"casket\", \"cat\", \"cat\", \"cat\", \"catherine\", \"catherine\", \"catherine\", \"causes\", \"causes\", \"causes\", \"causes\", \"ce\", \"ce\", \"cela\", \"cela\", \"chamber\", \"chamber\", \"chamber\", \"chamber\", \"chamber\", \"chamber\", \"chamber\", \"chamber\", \"chamber\", \"change\", \"change\", \"change\", \"change\", \"change\", \"change\", \"change\", \"change\", \"change\", \"change\", \"change\", \"change\", \"character\", \"character\", \"character\", \"character\", \"character\", \"character\", \"character\", \"character\", \"character\", \"character\", \"character\", \"character\", \"charles\", \"charles\", \"charles\", \"charles\", \"charlotte\", \"charlotte\", \"charlotte\", \"children\", \"children\", \"children\", \"children\", \"children\", \"children\", \"children\", \"children\", \"children\", \"children\", \"children\", \"children\", \"children\", \"children\", \"chimney\", \"chimney\", \"chimney\", \"chimney\", \"chimney\", \"christian\", \"christian\", \"christian\", \"christian\", \"christian\", \"christian\", \"christian\", \"christian\", \"church\", \"church\", \"church\", \"church\", \"church\", \"church\", \"church\", \"church\", \"church\", \"church\", \"church\", \"churchill\", \"churchill\", \"churchill\", \"civility\", \"civility\", \"civility\", \"civility\", \"civility\", \"civility\", \"civility\", \"civility\", \"civility\", \"class\", \"class\", \"class\", \"class\", \"class\", \"class\", \"class\", \"clergyman\", \"clergyman\", \"clergyman\", \"clergyman\", \"clergyman\", \"clergyman\", \"clergyman\", \"clergyman\", \"clergyman\", \"clerk\", \"clerk\", \"clerk\", \"clerk\", \"clerk\", \"clerk\", \"clerk\", \"cleveland\", \"cleveland\", \"cloak\", \"cloak\", \"cloak\", \"closet\", \"closet\", \"closet\", \"closet\", \"closet\", \"closet\", \"closet\", \"coldly\", \"coldly\", \"coldly\", \"coldly\", \"coldly\", \"coldly\", \"cole\", \"cole\", \"coles\", \"collins\", \"collins\", \"collins\", \"collins\", \"colonel\", \"colonel\", \"colonel\", \"colonel\", \"colonel\", \"colonel\", \"colonel\", \"colonel\", \"colonel\", \"colonel\", \"colonel\", \"combe\", \"come\", \"come\", \"come\", \"come\", \"come\", \"come\", \"come\", \"come\", \"come\", \"come\", \"come\", \"come\", \"come\", \"come\", \"communications\", \"communications\", \"communications\", \"communications\", \"communications\", \"communications\", \"compact\", \"compact\", \"comprised\", \"comprised\", \"comprised\", \"comprised\", \"comprised\", \"comprised\", \"conclude\", \"conclude\", \"conclude\", \"conclude\", \"conclude\", \"conclude\", \"conclude\", \"condescension\", \"condescension\", \"condescension\", \"conduct\", \"conduct\", \"conduct\", \"conduct\", \"conduct\", \"conduct\", \"conduct\", \"conduct\", \"conduct\", \"conduct\", \"confound\", \"confound\", \"confound\", \"confound\", \"congratulations\", \"congratulations\", \"congratulations\", \"congratulations\", \"congratulations\", \"congratulations\", \"connexion\", \"connexion\", \"considerations\", \"considerations\", \"considerations\", \"considerations\", \"considers\", \"considers\", \"console\", \"console\", \"console\", \"console\", \"consternation\", \"consternation\", \"consternation\", \"consternation\", \"consternation\", \"consternation\", \"contain\", \"contain\", \"contain\", \"contain\", \"convent\", \"conversation\", \"conversation\", \"conversation\", \"conversation\", \"conversation\", \"conversation\", \"conversation\", \"conversation\", \"conversation\", \"conversation\", \"conversation\", \"convincing\", \"convincing\", \"convincing\", \"convincing\", \"convincing\", \"cottage\", \"cottage\", \"cottage\", \"cottage\", \"cottage\", \"cottage\", \"cottage\", \"cottage\", \"counting\", \"counting\", \"counting\", \"counting\", \"cousin\", \"cousin\", \"cousin\", \"cousin\", \"cousin\", \"cousin\", \"cousin\", \"cousin\", \"creed\", \"creed\", \"creed\", \"creed\", \"crib\", \"cried\", \"cried\", \"cried\", \"cried\", \"cried\", \"cried\", \"cried\", \"cried\", \"cried\", \"cried\", \"cried\", \"cried\", \"cried\", \"crimsworth\", \"crimsworth\", \"crimsworth\", \"cruelly\", \"cruelly\", \"cruelly\", \"cruelly\", \"danced\", \"danced\", \"danced\", \"danced\", \"danced\", \"danced\", \"dances\", \"dances\", \"dances\", \"darcy\", \"darcy\", \"darcy\", \"darcy\", \"darcy\", \"dark\", \"dark\", \"dark\", \"dark\", \"dark\", \"dark\", \"dark\", \"dark\", \"dashwood\", \"dashwood\", \"dashwood\", \"dashwoods\", \"dashwoods\", \"daughter\", \"daughter\", \"daughter\", \"daughter\", \"daughter\", \"daughter\", \"daughter\", \"daughter\", \"daughter\", \"daughter\", \"daughter\", \"daughters\", \"daughters\", \"daughters\", \"daughters\", \"daughters\", \"daughters\", \"daughters\", \"daughters\", \"daughters\", \"daughters\", \"daughters\", \"day\", \"day\", \"day\", \"day\", \"day\", \"day\", \"day\", \"day\", \"day\", \"day\", \"day\", \"day\", \"day\", \"day\", \"deaf\", \"deaf\", \"deaf\", \"deaf\", \"deal\", \"deal\", \"deal\", \"deal\", \"deal\", \"deal\", \"deal\", \"deal\", \"deal\", \"deal\", \"deal\", \"deal\", \"dear\", \"dear\", \"dear\", \"dear\", \"dear\", \"dear\", \"dear\", \"dear\", \"dear\", \"dear\", \"dear\", \"dear\", \"dear\", \"dear\", \"debts\", \"debts\", \"debts\", \"debts\", \"debts\", \"delaford\", \"delaford\", \"delightfully\", \"delightfully\", \"delightfully\", \"delightfully\", \"delightfully\", \"delightfully\", \"delightfully\", \"delightfully\", \"dent\", \"dent\", \"depends\", \"depends\", \"depends\", \"depends\", \"depends\", \"derbyshire\", \"derbyshire\", \"derbyshire\", \"des\", \"des\", \"design\", \"design\", \"design\", \"design\", \"design\", \"design\", \"design\", \"desk\", \"desk\", \"desk\", \"desk\", \"desk\", \"desk\", \"desk\", \"despised\", \"despised\", \"despised\", \"despised\", \"destitute\", \"destitute\", \"destitute\", \"destitute\", \"detain\", \"detain\", \"detain\", \"detain\", \"detain\", \"detain\", \"detected\", \"detected\", \"detected\", \"detected\", \"detected\", \"devonshire\", \"devonshire\", \"diana\", \"diana\", \"diana\", \"diana\", \"diana\", \"diana\", \"diana\", \"dieu\", \"dim\", \"dim\", \"directly\", \"directly\", \"directly\", \"directly\", \"directly\", \"directly\", \"directly\", \"directly\", \"directly\", \"directly\", \"directly\", \"directress\", \"discoveries\", \"discoveries\", \"discoveries\", \"discoveries\", \"discoveries\", \"discoveries\", \"discovering\", \"discovering\", \"discovering\", \"discovering\", \"disengaged\", \"disengaged\", \"disengaged\", \"disengaged\", \"dismiss\", \"dismiss\", \"dismiss\", \"dit\", \"dixon\", \"dixon\", \"dixon\", \"dixon\", \"donwell\", \"donwell\", \"door\", \"door\", \"door\", \"door\", \"door\", \"door\", \"door\", \"door\", \"door\", \"door\", \"door\", \"door\", \"dormitory\", \"dormitory\", \"dr\", \"dr\", \"dr\", \"dr\", \"dr\", \"dr\", \"drapery\", \"drapery\", \"drawers\", \"drawers\", \"drawers\", \"drawers\", \"dreaming\", \"dreaming\", \"dreaming\", \"dreaming\", \"dying\", \"dying\", \"dying\", \"dying\", \"dying\", \"dying\", \"eccentric\", \"eccentric\", \"eccentric\", \"eccentric\", \"eccentric\", \"educated\", \"educated\", \"educated\", \"educated\", \"educated\", \"edward\", \"edward\", \"edward\", \"edward\", \"edward\", \"edward\", \"edward\", \"edward\", \"edward\", \"elder\", \"elder\", \"elder\", \"elder\", \"elder\", \"elder\", \"elder\", \"elinor\", \"elinor\", \"elinor\", \"elinor\", \"eliza\", \"eliza\", \"eliza\", \"eliza\", \"eliza\", \"elizabeth\", \"elizabeth\", \"elizabeth\", \"elizabeth\", \"elizabeth\", \"elizabeth\", \"elizabeth\", \"elizabeth\", \"elizabeth\", \"elle\", \"elle\", \"elton\", \"elton\", \"elton\", \"elton\", \"elton\", \"eltons\", \"emanuel\", \"emanuel\", \"emma\", \"emma\", \"emma\", \"emma\", \"emma\", \"emma\", \"emma\", \"emma\", \"endeavours\", \"endeavours\", \"endeavours\", \"endeavours\", \"energies\", \"energies\", \"engagement\", \"engagement\", \"engagement\", \"engagement\", \"engagement\", \"engagement\", \"english\", \"english\", \"english\", \"english\", \"english\", \"english\", \"english\", \"english\", \"enscombe\", \"enscombe\", \"entailed\", \"entailed\", \"entailed\", \"entailed\", \"eshton\", \"eshton\", \"essential\", \"essential\", \"essential\", \"essential\", \"est\", \"est\", \"estrade\", \"et\", \"et\", \"evening\", \"evening\", \"evening\", \"evening\", \"evening\", \"evening\", \"evening\", \"evening\", \"evening\", \"evening\", \"evening\", \"evening\", \"evening\", \"evening\", \"excepting\", \"excepting\", \"excepting\", \"excepting\", \"excepting\", \"excepting\", \"excess\", \"excess\", \"excess\", \"excess\", \"excess\", \"exeter\", \"exposed\", \"exposed\", \"exposed\", \"exposed\", \"exposed\", \"extensive\", \"extensive\", \"extensive\", \"extensive\", \"eye\", \"eye\", \"eye\", \"eye\", \"eye\", \"eye\", \"eye\", \"eye\", \"eye\", \"eye\", \"eye\", \"eye\", \"eyes\", \"eyes\", \"eyes\", \"eyes\", \"eyes\", \"eyes\", \"eyes\", \"eyes\", \"eyes\", \"eyes\", \"eyes\", \"eyes\", \"eyes\", \"eyes\", \"eyre\", \"eyre\", \"eyre\", \"eyre\", \"eyre\", \"eyre\", \"eyre\", \"eyre\", \"face\", \"face\", \"face\", \"face\", \"face\", \"face\", \"face\", \"face\", \"face\", \"face\", \"face\", \"face\", \"face\", \"fairfax\", \"fairfax\", \"fairfax\", \"fairfax\", \"fairfax\", \"fairfax\", \"fairfax\", \"fairfax\", \"fairfax\", \"fairfax\", \"family\", \"family\", \"family\", \"family\", \"family\", \"family\", \"family\", \"family\", \"family\", \"family\", \"family\", \"family\", \"fanny\", \"fanny\", \"fanny\", \"farewell\", \"farewell\", \"farewell\", \"farewell\", \"farewell\", \"farewell\", \"fasten\", \"fasten\", \"fasten\", \"fasten\", \"fasten\", \"father\", \"father\", \"father\", \"father\", \"father\", \"father\", \"father\", \"father\", \"father\", \"father\", \"father\", \"father\", \"father\", \"father\", \"fatigued\", \"fatigued\", \"fatigued\", \"fatigued\", \"fatigued\", \"fatigued\", \"february\", \"february\", \"february\", \"february\", \"february\", \"february\", \"feelings\", \"feelings\", \"feelings\", \"feelings\", \"feelings\", \"feelings\", \"feelings\", \"feelings\", \"feelings\", \"feelings\", \"feelings\", \"feelings\", \"feelings\", \"feet\", \"feet\", \"feet\", \"feet\", \"feet\", \"feet\", \"feet\", \"feet\", \"feet\", \"feet\", \"felt\", \"felt\", \"felt\", \"felt\", \"felt\", \"felt\", \"felt\", \"felt\", \"felt\", \"felt\", \"felt\", \"felt\", \"felt\", \"felt\", \"ferrars\", \"ferrars\", \"fields\", \"fields\", \"fields\", \"fields\", \"fine\", \"fine\", \"fine\", \"fine\", \"fine\", \"fine\", \"fine\", \"fine\", \"fine\", \"fine\", \"fine\", \"fine\", \"fires\", \"fires\", \"fires\", \"fires\", \"fitzwilliam\", \"fitzwilliam\", \"flash\", \"flash\", \"flashed\", \"flood\", \"forster\", \"forster\", \"forster\", \"fortunes\", \"fortunes\", \"fortunes\", \"forward\", \"forward\", \"forward\", \"forward\", \"forward\", \"forward\", \"forward\", \"forward\", \"forward\", \"forward\", \"frances\", \"frances\", \"frances\", \"frances\", \"francs\", \"francs\", \"frank\", \"frank\", \"frank\", \"frank\", \"frank\", \"frank\", \"frank\", \"french\", \"french\", \"french\", \"french\", \"french\", \"french\", \"french\", \"friend\", \"friend\", \"friend\", \"friend\", \"friend\", \"friend\", \"friend\", \"friend\", \"friend\", \"friend\", \"friend\", \"friend\", \"friend\", \"frock\", \"fun\", \"fun\", \"fun\", \"gale\", \"gallery\", \"gallery\", \"gallery\", \"gallery\", \"gardiner\", \"gardiner\", \"gardiner\", \"gardiner\", \"gardiner\", \"garret\", \"gateshead\", \"gateshead\", \"gateshead\", \"gateshead\", \"gateshead\", \"genteel\", \"genteel\", \"genteel\", \"genteel\", \"gentlemen\", \"gentlemen\", \"gentlemen\", \"gentlemen\", \"gentlemen\", \"gentlemen\", \"gentlemen\", \"gentlemen\", \"gentlemen\", \"gentlemen\", \"georgiana\", \"georgiana\", \"georgiana\", \"georgiana\", \"georgiana\", \"georgiana\", \"georgiana\", \"ghastly\", \"ghost\", \"gipsy\", \"gipsy\", \"gipsy\", \"gipsy\", \"girls\", \"girls\", \"girls\", \"girls\", \"girls\", \"girls\", \"girls\", \"girls\", \"girls\", \"girls\", \"girls\", \"girls\", \"gleamed\", \"god\", \"god\", \"god\", \"god\", \"god\", \"god\", \"god\", \"god\", \"god\", \"god\", \"god\", \"god\", \"god\", \"god\", \"goddard\", \"goddard\", \"got\", \"got\", \"got\", \"got\", \"got\", \"got\", \"got\", \"got\", \"got\", \"got\", \"got\", \"got\", \"got\", \"got\", \"graham\", \"graham\", \"graham\", \"graham\", \"graham\", \"great\", \"great\", \"great\", \"great\", \"great\", \"great\", \"great\", \"great\", \"great\", \"great\", \"great\", \"great\", \"great\", \"great\", \"grec\", \"groups\", \"groups\", \"groups\", \"grove\", \"grove\", \"grove\", \"grove\", \"grove\", \"grove\", \"guided\", \"guided\", \"guided\", \"guided\", \"guided\", \"guided\", \"half\", \"half\", \"half\", \"half\", \"half\", \"half\", \"half\", \"half\", \"half\", \"half\", \"half\", \"half\", \"half\", \"hall\", \"hall\", \"hall\", \"hall\", \"hall\", \"hall\", \"hall\", \"hall\", \"hall\", \"hall\", \"hall\", \"hall\", \"hand\", \"hand\", \"hand\", \"hand\", \"hand\", \"hand\", \"hand\", \"hand\", \"hand\", \"hand\", \"hand\", \"hand\", \"hand\", \"hand\", \"hangings\", \"hannah\", \"hannah\", \"hannah\", \"hannah\", \"hannah\", \"hannah\", \"happiness\", \"happiness\", \"happiness\", \"happiness\", \"happiness\", \"happiness\", \"happiness\", \"happiness\", \"happiness\", \"happiness\", \"happy\", \"happy\", \"happy\", \"happy\", \"happy\", \"happy\", \"happy\", \"happy\", \"happy\", \"happy\", \"happy\", \"happy\", \"happy\", \"harley\", \"harriet\", \"harriet\", \"harriet\", \"harriet\", \"harriet\", \"harriet\", \"hartfield\", \"hartfield\", \"hartfield\", \"hartfield\", \"hastily\", \"hastily\", \"hastily\", \"hastily\", \"hastily\", \"hastily\", \"hastily\", \"hastily\", \"hastily\", \"hastily\", \"haughty\", \"haughty\", \"haughty\", \"haughty\", \"haughty\", \"haughty\", \"haughty\", \"haughty\", \"haughty\", \"having\", \"having\", \"having\", \"having\", \"having\", \"having\", \"having\", \"having\", \"having\", \"having\", \"having\", \"having\", \"head\", \"head\", \"head\", \"head\", \"head\", \"head\", \"head\", \"head\", \"head\", \"head\", \"head\", \"head\", \"head\", \"head\", \"hear\", \"hear\", \"hear\", \"hear\", \"hear\", \"hear\", \"hear\", \"hear\", \"hear\", \"hear\", \"hear\", \"hear\", \"hear\", \"heard\", \"heard\", \"heard\", \"heard\", \"heard\", \"heard\", \"heard\", \"heard\", \"heard\", \"heard\", \"heard\", \"heard\", \"heard\", \"heard\", \"heart\", \"heart\", \"heart\", \"heart\", \"heart\", \"heart\", \"heart\", \"heart\", \"heart\", \"heart\", \"heart\", \"heart\", \"heart\", \"hearty\", \"hearty\", \"hearty\", \"hearty\", \"hearty\", \"hearty\", \"hearty\", \"heath\", \"heath\", \"heath\", \"heath\", \"helen\", \"helen\", \"helen\", \"helen\", \"henri\", \"henry\", \"henry\", \"henry\", \"henry\", \"hertfordshire\", \"hertfordshire\", \"hertfordshire\", \"highbury\", \"highbury\", \"highbury\", \"highbury\", \"hinted\", \"hinted\", \"hinted\", \"hinted\", \"home\", \"home\", \"home\", \"home\", \"home\", \"home\", \"home\", \"home\", \"home\", \"home\", \"home\", \"home\", \"home\", \"home\", \"hope\", \"hope\", \"hope\", \"hope\", \"hope\", \"hope\", \"hope\", \"hope\", \"hope\", \"hope\", \"hope\", \"hope\", \"hope\", \"horizon\", \"horseback\", \"horseback\", \"horseback\", \"horseback\", \"hour\", \"hour\", \"hour\", \"hour\", \"hour\", \"hour\", \"hour\", \"hour\", \"hour\", \"hour\", \"hour\", \"hour\", \"hour\", \"hour\", \"house\", \"house\", \"house\", \"house\", \"house\", \"house\", \"house\", \"house\", \"house\", \"house\", \"house\", \"house\", \"house\", \"hovering\", \"hovering\", \"humbled\", \"humbled\", \"humbled\", \"humbled\", \"humbled\", \"humph\", \"humph\", \"humph\", \"hunsden\", \"hunsden\", \"hunsden\", \"hunsden\", \"hunsden\", \"hunsford\", \"hunsford\", \"hurst\", \"hurst\", \"hurst\", \"il\", \"il\", \"ill\", \"ill\", \"ill\", \"ill\", \"ill\", \"ill\", \"ill\", \"ill\", \"ill\", \"ill\", \"ill\", \"ill\", \"immense\", \"immense\", \"immense\", \"impropriety\", \"impropriety\", \"impropriety\", \"impropriety\", \"imprudent\", \"imprudent\", \"imprudent\", \"imprudent\", \"imprudent\", \"impudence\", \"impudence\", \"impudence\", \"impudence\", \"impudence\", \"imputed\", \"imputed\", \"imputed\", \"imputed\", \"imputed\", \"included\", \"included\", \"included\", \"included\", \"included\", \"included\", \"inconvenient\", \"inconvenient\", \"inconvenient\", \"inconvenient\", \"inconvenient\", \"india\", \"india\", \"indian\", \"indian\", \"indian\", \"inducement\", \"inducement\", \"inducement\", \"inducement\", \"inducement\", \"indulging\", \"indulging\", \"indulging\", \"indulging\", \"indulging\", \"indulging\", \"inexorable\", \"inexorable\", \"inexorable\", \"inflict\", \"inflict\", \"inflict\", \"inflict\", \"ingram\", \"ingram\", \"ingram\", \"ingram\", \"injured\", \"injured\", \"injured\", \"injured\", \"injury\", \"injury\", \"injury\", \"injury\", \"injury\", \"injury\", \"injury\", \"insist\", \"insist\", \"insist\", \"insist\", \"insist\", \"insist\", \"inspiration\", \"inspiration\", \"inspiration\", \"instrument\", \"instrument\", \"instrument\", \"instrument\", \"instrument\", \"instrument\", \"instrument\", \"instrument\", \"intending\", \"intending\", \"intending\", \"intending\", \"intending\", \"interposed\", \"interposed\", \"interposed\", \"interposed\", \"interposed\", \"interposed\", \"invalid\", \"invalid\", \"invalid\", \"invalid\", \"invalid\", \"ireland\", \"ireland\", \"ireland\", \"ireland\", \"ireland\", \"irksome\", \"irksome\", \"irksome\", \"irksome\", \"irksome\", \"isabella\", \"isabella\", \"ivy\", \"james\", \"james\", \"james\", \"james\", \"james\", \"jane\", \"jane\", \"jane\", \"jane\", \"jane\", \"jane\", \"jane\", \"jane\", \"jane\", \"jane\", \"jane\", \"jane\", \"jane\", \"jane\", \"janet\", \"je\", \"je\", \"jennings\", \"jennings\", \"jeune\", \"john\", \"john\", \"john\", \"john\", \"john\", \"john\", \"john\", \"john\", \"john\", \"john\", \"john\", \"john\", \"john\", \"john\", \"journey\", \"journey\", \"journey\", \"journey\", \"journey\", \"journey\", \"journey\", \"journey\", \"journey\", \"journey\", \"journey\", \"judgement\", \"judgement\", \"kent\", \"kent\", \"kitty\", \"kitty\", \"kitty\", \"kitty\", \"kitty\", \"knew\", \"knew\", \"knew\", \"knew\", \"knew\", \"knew\", \"knew\", \"knew\", \"knew\", \"knew\", \"knew\", \"knew\", \"knew\", \"knife\", \"knife\", \"knife\", \"knife\", \"knightley\", \"knightley\", \"knightley\", \"knightley\", \"knightley\", \"knock\", \"knock\", \"knock\", \"knock\", \"know\", \"know\", \"know\", \"know\", \"know\", \"know\", \"know\", \"know\", \"know\", \"know\", \"know\", \"know\", \"know\", \"know\", \"known\", \"known\", \"known\", \"known\", \"known\", \"known\", \"known\", \"known\", \"known\", \"known\", \"known\", \"known\", \"known\", \"known\", \"la\", \"la\", \"la\", \"la\", \"la\", \"labour\", \"labour\", \"labour\", \"labour\", \"labour\", \"labours\", \"labours\", \"labours\", \"labours\", \"lad\", \"lad\", \"lad\", \"lad\", \"ladies\", \"ladies\", \"ladies\", \"ladies\", \"ladies\", \"ladies\", \"ladies\", \"ladies\", \"ladies\", \"ladies\", \"ladies\", \"ladies\", \"lady\", \"lady\", \"lady\", \"lady\", \"lady\", \"lady\", \"lady\", \"lady\", \"lady\", \"lady\", \"lady\", \"lady\", \"lady\", \"lady\", \"ladyship\", \"ladyship\", \"ladyship\", \"ladyship\", \"lay\", \"lay\", \"lay\", \"lay\", \"lay\", \"lay\", \"lay\", \"lay\", \"lay\", \"lay\", \"lay\", \"leah\", \"leah\", \"learned\", \"learned\", \"learned\", \"learned\", \"learned\", \"learned\", \"learned\", \"learning\", \"learning\", \"learning\", \"learning\", \"learning\", \"learning\", \"les\", \"les\", \"lesson\", \"lesson\", \"lesson\", \"lesson\", \"lesson\", \"lesson\", \"lesson\", \"lessons\", \"lessons\", \"lessons\", \"lessons\", \"letter\", \"letter\", \"letter\", \"letter\", \"letter\", \"letter\", \"letter\", \"letter\", \"letter\", \"letter\", \"letter\", \"letter\", \"letter\", \"life\", \"life\", \"life\", \"life\", \"life\", \"life\", \"life\", \"life\", \"life\", \"life\", \"life\", \"life\", \"life\", \"life\", \"light\", \"light\", \"light\", \"light\", \"light\", \"light\", \"light\", \"light\", \"light\", \"light\", \"light\", \"light\", \"light\", \"lightly\", \"lightly\", \"lightly\", \"lightly\", \"like\", \"like\", \"like\", \"like\", \"like\", \"like\", \"like\", \"like\", \"like\", \"like\", \"like\", \"like\", \"like\", \"like\", \"lived\", \"lived\", \"lived\", \"lived\", \"lived\", \"lived\", \"lived\", \"lived\", \"lived\", \"lived\", \"lived\", \"lived\", \"living\", \"living\", \"living\", \"living\", \"living\", \"living\", \"living\", \"living\", \"living\", \"living\", \"living\", \"living\", \"lizzy\", \"lizzy\", \"lizzy\", \"ll\", \"ll\", \"ll\", \"ll\", \"ll\", \"ll\", \"ll\", \"ll\", \"ll\", \"lodgings\", \"lodgings\", \"lodgings\", \"lodgings\", \"lodgings\", \"lodgings\", \"lodgings\", \"london\", \"london\", \"london\", \"london\", \"london\", \"london\", \"london\", \"london\", \"london\", \"london\", \"london\", \"london\", \"london\", \"long\", \"long\", \"long\", \"long\", \"long\", \"long\", \"long\", \"long\", \"long\", \"long\", \"long\", \"long\", \"long\", \"long\", \"longbourn\", \"longbourn\", \"longbourn\", \"look\", \"look\", \"look\", \"look\", \"look\", \"look\", \"look\", \"look\", \"look\", \"look\", \"look\", \"look\", \"look\", \"look\", \"looked\", \"looked\", \"looked\", \"looked\", \"looked\", \"looked\", \"looked\", \"looked\", \"looked\", \"looked\", \"looked\", \"looked\", \"looked\", \"looked\", \"looking\", \"looking\", \"looking\", \"looking\", \"looking\", \"looking\", \"looking\", \"looking\", \"looking\", \"looking\", \"looking\", \"looking\", \"looking\", \"looking\", \"lord\", \"lord\", \"lord\", \"lord\", \"lord\", \"lord\", \"lord\", \"lord\", \"lord\", \"lord\", \"lord\", \"louisa\", \"louisa\", \"louisa\", \"louisa\", \"louisa\", \"love\", \"love\", \"love\", \"love\", \"love\", \"love\", \"love\", \"love\", \"love\", \"love\", \"love\", \"love\", \"low\", \"low\", \"low\", \"low\", \"low\", \"low\", \"low\", \"low\", \"low\", \"low\", \"low\", \"low\", \"lucas\", \"lucas\", \"lucases\", \"lucases\", \"lucy\", \"lucy\", \"lucy\", \"lucy\", \"lydia\", \"lydia\", \"lydia\", \"lydia\", \"lynn\", \"lynn\", \"lynn\", \"ma\", \"ma\", \"ma\", \"ma\", \"ma\", \"ma\", \"ma\", \"ma\", \"ma\", \"ma\", \"ma\", \"ma\", \"madame\", \"madame\", \"madame\", \"madame\", \"madame\", \"madame\", \"madame\", \"mademoiselle\", \"mademoiselle\", \"mademoiselle\", \"magic\", \"maids\", \"maids\", \"maids\", \"mais\", \"mais\", \"man\", \"man\", \"man\", \"man\", \"man\", \"man\", \"man\", \"man\", \"man\", \"man\", \"man\", \"man\", \"man\", \"manner\", \"manner\", \"manner\", \"manner\", \"manner\", \"manner\", \"manner\", \"manner\", \"manner\", \"manner\", \"manner\", \"manner\", \"manner\", \"maple\", \"maple\", \"maple\", \"march\", \"march\", \"march\", \"march\", \"march\", \"march\", \"march\", \"march\", \"margaret\", \"maria\", \"maria\", \"maria\", \"maria\", \"marianne\", \"marianne\", \"marianne\", \"marianne\", \"marriage\", \"marriage\", \"marriage\", \"marriage\", \"marriage\", \"marriage\", \"marriage\", \"marriage\", \"marriage\", \"marriage\", \"married\", \"married\", \"married\", \"married\", \"married\", \"married\", \"married\", \"married\", \"married\", \"married\", \"married\", \"married\", \"married\", \"married\", \"marsh\", \"marsh\", \"marsh\", \"marsh\", \"marsh\", \"martin\", \"martin\", \"martin\", \"mary\", \"mary\", \"mary\", \"mary\", \"mary\", \"mary\", \"mary\", \"mary\", \"mason\", \"mason\", \"mason\", \"master\", \"master\", \"master\", \"master\", \"master\", \"master\", \"master\", \"master\", \"master\", \"master\", \"master\", \"matrimony\", \"matrimony\", \"matrimony\", \"matrimony\", \"matrimony\", \"matrimony\", \"matrimony\", \"matrimony\", \"matrimony\", \"mdlle\", \"mdlle\", \"meals\", \"meals\", \"meals\", \"meals\", \"meals\", \"meals\", \"melting\", \"melting\", \"melting\", \"mentally\", \"mentally\", \"mentally\", \"mentally\", \"meryton\", \"meryton\", \"meryton\", \"middleton\", \"middleton\", \"middleton\", \"middletons\", \"millcote\", \"millcote\", \"millcote\", \"mind\", \"mind\", \"mind\", \"mind\", \"mind\", \"mind\", \"mind\", \"mind\", \"mind\", \"mind\", \"mind\", \"mind\", \"mind\", \"mind\", \"miss\", \"miss\", \"miss\", \"miss\", \"miss\", \"miss\", \"miss\", \"miss\", \"miss\", \"miss\", \"miss\", \"miss\", \"miss\", \"miss\", \"missionary\", \"missionary\", \"missionary\", \"missionary\", \"missis\", \"missis\", \"missis\", \"mistress\", \"mistress\", \"mistress\", \"mistress\", \"mistress\", \"mistress\", \"mistress\", \"mistress\", \"mistress\", \"mistress\", \"mistress\", \"moment\", \"moment\", \"moment\", \"moment\", \"moment\", \"moment\", \"moment\", \"moment\", \"moment\", \"moment\", \"moment\", \"moment\", \"moment\", \"moment\", \"mon\", \"mon\", \"monday\", \"monday\", \"monday\", \"monday\", \"monday\", \"monsieur\", \"monsieur\", \"monsieur\", \"monsieur\", \"monsieur\", \"monstrous\", \"monstrous\", \"moods\", \"moods\", \"moods\", \"moon\", \"moon\", \"moon\", \"moon\", \"moonlight\", \"moonlight\", \"moonlight\", \"moor\", \"moor\", \"moor\", \"moor\", \"morning\", \"morning\", \"morning\", \"morning\", \"morning\", \"morning\", \"morning\", \"morning\", \"morning\", \"morning\", \"morning\", \"morning\", \"morning\", \"morning\", \"mornings\", \"mornings\", \"mornings\", \"mornings\", \"morsel\", \"morsel\", \"morsel\", \"morsel\", \"morton\", \"morton\", \"morton\", \"morton\", \"mother\", \"mother\", \"mother\", \"mother\", \"mother\", \"mother\", \"mother\", \"mother\", \"mother\", \"mother\", \"mother\", \"mother\", \"mother\", \"motive\", \"motive\", \"motive\", \"motive\", \"motive\", \"motive\", \"motive\", \"motive\", \"motive\", \"mountain\", \"mountain\", \"mountain\", \"mountain\", \"musical\", \"musical\", \"musical\", \"musical\", \"musical\", \"musical\", \"nature\", \"nature\", \"nature\", \"nature\", \"nature\", \"nature\", \"nature\", \"nature\", \"nature\", \"nature\", \"nature\", \"nature\", \"nature\", \"nature\", \"natures\", \"natures\", \"natures\", \"natures\", \"naughty\", \"naughty\", \"ne\", \"ne\", \"ne\", \"near\", \"near\", \"near\", \"near\", \"near\", \"near\", \"near\", \"near\", \"near\", \"near\", \"near\", \"near\", \"near\", \"near\", \"netherfield\", \"netherfield\", \"netherfield\", \"new\", \"new\", \"new\", \"new\", \"new\", \"new\", \"new\", \"new\", \"new\", \"new\", \"new\", \"new\", \"new\", \"new\", \"news\", \"news\", \"news\", \"news\", \"news\", \"news\", \"news\", \"news\", \"news\", \"news\", \"news\", \"news\", \"news\", \"nieces\", \"nieces\", \"nieces\", \"nieces\", \"night\", \"night\", \"night\", \"night\", \"night\", \"night\", \"night\", \"night\", \"night\", \"night\", \"night\", \"night\", \"night\", \"norland\", \"norland\", \"nose\", \"nose\", \"nose\", \"nose\", \"nose\", \"nose\", \"obedience\", \"obedience\", \"obedience\", \"obedience\", \"obedience\", \"obedience\", \"obliging\", \"obliging\", \"obliging\", \"obliging\", \"obliging\", \"obliging\", \"obliging\", \"obliging\", \"officer\", \"officer\", \"officer\", \"officer\", \"officers\", \"officers\", \"officers\", \"officers\", \"oh\", \"oh\", \"oh\", \"oh\", \"oh\", \"oh\", \"oh\", \"oh\", \"oh\", \"oh\", \"oh\", \"oh\", \"old\", \"old\", \"old\", \"old\", \"old\", \"old\", \"old\", \"old\", \"old\", \"old\", \"old\", \"old\", \"old\", \"old\", \"oliver\", \"oliver\", \"oliver\", \"oliver\", \"ones\", \"ones\", \"ones\", \"ones\", \"ones\", \"ones\", \"ones\", \"ones\", \"oxford\", \"oxford\", \"paint\", \"paint\", \"paint\", \"paletot\", \"palmer\", \"palmer\", \"parting\", \"parting\", \"parting\", \"parting\", \"parting\", \"parting\", \"parting\", \"parting\", \"parting\", \"parting\", \"pas\", \"pas\", \"patronage\", \"patronage\", \"patronage\", \"patronage\", \"patronage\", \"patronage\", \"pattern\", \"pattern\", \"pattern\", \"pattern\", \"paul\", \"paul\", \"paul\", \"paul\", \"paul\", \"pearl\", \"peculiarities\", \"peculiarities\", \"peculiarities\", \"peculiarities\", \"peculiarities\", \"pelet\", \"pelet\", \"pelet\", \"pemberley\", \"pemberley\", \"pemberley\", \"pemberley\", \"penance\", \"penance\", \"penance\", \"penance\", \"perfection\", \"perfection\", \"perfection\", \"perfection\", \"perfection\", \"perfection\", \"permanently\", \"permanently\", \"permanently\", \"permanently\", \"permanently\", \"perry\", \"perry\", \"perry\", \"persuading\", \"persuading\", \"persuading\", \"persuading\", \"phillips\", \"phillips\", \"place\", \"place\", \"place\", \"place\", \"place\", \"place\", \"place\", \"place\", \"place\", \"place\", \"place\", \"place\", \"place\", \"place\", \"plates\", \"plates\", \"plates\", \"plates\", \"plates\", \"plus\", \"pondering\", \"pondering\", \"pondering\", \"pondering\", \"pondering\", \"pondering\", \"poole\", \"poole\", \"poor\", \"poor\", \"poor\", \"poor\", \"poor\", \"poor\", \"poor\", \"poor\", \"poor\", \"poor\", \"poor\", \"poor\", \"poor\", \"poor\", \"pounds\", \"pounds\", \"pounds\", \"pounds\", \"pounds\", \"pounds\", \"pounds\", \"pounds\", \"pounds\", \"pounds\", \"pounds\", \"produce\", \"produce\", \"produce\", \"produce\", \"produce\", \"produce\", \"produce\", \"produce\", \"professor\", \"professor\", \"professor\", \"professor\", \"prosperous\", \"prosperous\", \"prosperous\", \"prosperous\", \"protested\", \"protested\", \"protested\", \"protested\", \"prove\", \"prove\", \"prove\", \"prove\", \"prove\", \"prove\", \"prove\", \"prove\", \"prove\", \"prove\", \"pupil\", \"pupil\", \"pupil\", \"pupil\", \"pupil\", \"pupil\", \"pupils\", \"pupils\", \"pupils\", \"pupils\", \"pupils\", \"purse\", \"purse\", \"purse\", \"purse\", \"purse\", \"purse\", \"pursue\", \"pursue\", \"pursue\", \"pursue\", \"pursue\", \"pursue\", \"pursuits\", \"pursuits\", \"pursuits\", \"quarrelled\", \"quarrelled\", \"quarrelled\", \"quarrelled\", \"quarrelled\", \"quarrelled\", \"que\", \"que\", \"rained\", \"rained\", \"rained\", \"rained\", \"randalls\", \"randalls\", \"randalls\", \"rarely\", \"rarely\", \"rarely\", \"rarely\", \"rarely\", \"read\", \"read\", \"read\", \"read\", \"read\", \"read\", \"read\", \"read\", \"read\", \"read\", \"read\", \"realized\", \"reconciled\", \"reconciled\", \"reconciled\", \"reconciled\", \"reconciled\", \"reconciled\", \"reconciled\", \"recover\", \"recover\", \"recover\", \"recover\", \"recover\", \"reed\", \"reed\", \"reed\", \"reed\", \"reed\", \"reed\", \"regiment\", \"regiment\", \"regiment\", \"regiment\", \"regiment\", \"reiterated\", \"reiterated\", \"reiterated\", \"rejoice\", \"rejoice\", \"rejoice\", \"rejoice\", \"rejoice\", \"rejoice\", \"relatives\", \"relatives\", \"relatives\", \"relatives\", \"remainder\", \"remainder\", \"remainder\", \"remainder\", \"remainder\", \"remedy\", \"remedy\", \"remedy\", \"remedy\", \"remedy\", \"remedy\", \"remedy\", \"remedy\", \"remorse\", \"remorse\", \"remorse\", \"remorse\", \"remorse\", \"repair\", \"repair\", \"repair\", \"repair\", \"repaired\", \"repaired\", \"repaired\", \"repaired\", \"repaired\", \"repaired\", \"repast\", \"repast\", \"repast\", \"repulsed\", \"repulsed\", \"repulsed\", \"repulsed\", \"repulsed\", \"requires\", \"requires\", \"requires\", \"requires\", \"requires\", \"resent\", \"resent\", \"resent\", \"resent\", \"resent\", \"resident\", \"resident\", \"resident\", \"resident\", \"returned\", \"returned\", \"returned\", \"returned\", \"returned\", \"returned\", \"returned\", \"returned\", \"returned\", \"returned\", \"returned\", \"returned\", \"returned\", \"returned\", \"reuter\", \"reuter\", \"revolt\", \"revolt\", \"revolt\", \"revolt\", \"revolt\", \"ribbon\", \"ribbon\", \"ribbon\", \"ribbon\", \"right\", \"right\", \"right\", \"right\", \"right\", \"right\", \"right\", \"right\", \"right\", \"right\", \"right\", \"right\", \"right\", \"right\", \"rigid\", \"rigid\", \"rigid\", \"rigid\", \"rigid\", \"rivers\", \"rivers\", \"rivers\", \"rivers\", \"rivers\", \"rivers\", \"rivers\", \"rochester\", \"rochester\", \"rochester\", \"rochester\", \"rochester\", \"rochester\", \"rochester\", \"rochester\", \"rochester\", \"rochester\", \"rochester\", \"rocks\", \"rocks\", \"rocks\", \"rocks\", \"room\", \"room\", \"room\", \"room\", \"room\", \"room\", \"room\", \"room\", \"room\", \"room\", \"room\", \"room\", \"room\", \"room\", \"rosings\", \"rosings\", \"round\", \"round\", \"round\", \"round\", \"round\", \"round\", \"round\", \"round\", \"round\", \"round\", \"round\", \"round\", \"round\", \"round\", \"runs\", \"runs\", \"runs\", \"runs\", \"sacrifice\", \"sacrifice\", \"sacrifice\", \"sacrifice\", \"sacrifice\", \"sacrifice\", \"sacrifice\", \"sacrifice\", \"sacrifice\", \"sacrifice\", \"sank\", \"sank\", \"sank\", \"sank\", \"saturday\", \"saturday\", \"saturday\", \"saturday\", \"saturday\", \"saturday\", \"saw\", \"saw\", \"saw\", \"saw\", \"saw\", \"saw\", \"saw\", \"saw\", \"saw\", \"saw\", \"saw\", \"saw\", \"saw\", \"saw\", \"says\", \"says\", \"says\", \"says\", \"says\", \"says\", \"says\", \"says\", \"says\", \"says\", \"says\", \"says\", \"says\", \"scanty\", \"scanty\", \"scanty\", \"scanty\", \"scanty\", \"scanty\", \"scholars\", \"scholars\", \"scholars\", \"scholars\", \"scholars\", \"school\", \"school\", \"school\", \"school\", \"school\", \"school\", \"school\", \"school\", \"school\", \"school\", \"school\", \"school\", \"school\", \"scotland\", \"scotland\", \"scotland\", \"scotland\", \"sea\", \"sea\", \"sea\", \"sea\", \"sea\", \"sea\", \"sea\", \"sea\", \"season\", \"season\", \"season\", \"season\", \"season\", \"season\", \"season\", \"season\", \"season\", \"season\", \"seek\", \"seek\", \"seek\", \"seek\", \"seek\", \"seek\", \"seek\", \"seek\", \"seek\", \"seek\", \"seek\", \"sending\", \"sending\", \"sending\", \"sending\", \"sending\", \"sending\", \"sending\", \"sending\", \"service\", \"service\", \"service\", \"service\", \"service\", \"service\", \"service\", \"service\", \"service\", \"service\", \"service\", \"service\", \"service\", \"sewing\", \"sewing\", \"sewing\", \"sewing\", \"shall\", \"shall\", \"shall\", \"shall\", \"shall\", \"shall\", \"shall\", \"shall\", \"shall\", \"shall\", \"shall\", \"shall\", \"shall\", \"shall\", \"sharply\", \"sharply\", \"sharply\", \"shew\", \"shew\", \"shew\", \"shew\", \"shillings\", \"shillings\", \"shillings\", \"shillings\", \"shire\", \"shire\", \"shire\", \"shire\", \"shire\", \"shire\", \"shire\", \"shire\", \"shire\", \"shire\", \"shoes\", \"shoes\", \"shoes\", \"shoes\", \"shoes\", \"shoes\", \"shoes\", \"shop\", \"shop\", \"shop\", \"shop\", \"shop\", \"shop\", \"shop\", \"shop\", \"shop\", \"shower\", \"shower\", \"shower\", \"sickly\", \"sickly\", \"sickly\", \"sickly\", \"sickly\", \"sickly\", \"sir\", \"sir\", \"sir\", \"sir\", \"sir\", \"sir\", \"sir\", \"sir\", \"sir\", \"sir\", \"sir\", \"sir\", \"sir\", \"sister\", \"sister\", \"sister\", \"sister\", \"sister\", \"sister\", \"sister\", \"sister\", \"sister\", \"sister\", \"sister\", \"sister\", \"sister\", \"sisters\", \"sisters\", \"sisters\", \"sisters\", \"sisters\", \"sisters\", \"sisters\", \"sisters\", \"sisters\", \"sisters\", \"sits\", \"sits\", \"sits\", \"sits\", \"situation\", \"situation\", \"situation\", \"situation\", \"situation\", \"situation\", \"situation\", \"situation\", \"situation\", \"situation\", \"situation\", \"sky\", \"sky\", \"sky\", \"sky\", \"sky\", \"sky\", \"sky\", \"sky\", \"slice\", \"slice\", \"slice\", \"slice\", \"slice\", \"smith\", \"smith\", \"smith\", \"smith\", \"smith\", \"smith\", \"solemnly\", \"solemnly\", \"solemnly\", \"solemnly\", \"solemnly\", \"soon\", \"soon\", \"soon\", \"soon\", \"soon\", \"soon\", \"soon\", \"soon\", \"soon\", \"soon\", \"soon\", \"soon\", \"soon\", \"soon\", \"sophie\", \"sore\", \"sore\", \"sore\", \"sore\", \"sore\", \"sore\", \"south\", \"south\", \"south\", \"south\", \"south\", \"south\", \"south\", \"spanish\", \"spanish\", \"spanish\", \"spanish\", \"speaker\", \"speaker\", \"speaker\", \"speaker\", \"speaker\", \"spectacles\", \"spectacles\", \"spectacles\", \"spectacles\", \"speedy\", \"speedy\", \"speedy\", \"speedy\", \"speedy\", \"spirit\", \"spirit\", \"spirit\", \"spirit\", \"spirit\", \"spirit\", \"spirit\", \"spirit\", \"spirit\", \"spirit\", \"spirit\", \"st\", \"st\", \"st\", \"st\", \"st\", \"st\", \"st\", \"st\", \"st\", \"st\", \"stairs\", \"stairs\", \"stairs\", \"stairs\", \"stairs\", \"stairs\", \"stairs\", \"stairs\", \"stairs\", \"stars\", \"stars\", \"steele\", \"steeles\", \"stern\", \"stern\", \"stern\", \"stern\", \"stern\", \"stood\", \"stood\", \"stood\", \"stood\", \"stood\", \"stood\", \"stood\", \"stood\", \"stood\", \"stood\", \"stood\", \"storey\", \"strange\", \"strange\", \"strange\", \"strange\", \"strange\", \"strange\", \"strange\", \"strange\", \"strange\", \"strange\", \"strange\", \"strange\", \"strictly\", \"strictly\", \"strictly\", \"strictly\", \"strictly\", \"strong\", \"strong\", \"strong\", \"strong\", \"strong\", \"strong\", \"strong\", \"strong\", \"strong\", \"strong\", \"strong\", \"strong\", \"strong\", \"strong\", \"struggled\", \"struggled\", \"struggled\", \"struggled\", \"struggled\", \"stubborn\", \"stubborn\", \"stubborn\", \"stubborn\", \"stubborn\", \"subject\", \"subject\", \"subject\", \"subject\", \"subject\", \"subject\", \"subject\", \"subject\", \"subject\", \"subject\", \"subject\", \"subject\", \"subject\", \"subject\", \"subsequent\", \"subsequent\", \"subsequent\", \"subsequent\", \"subsequent\", \"suffice\", \"suffice\", \"suffice\", \"suffice\", \"suffice\", \"suis\", \"sure\", \"sure\", \"sure\", \"sure\", \"sure\", \"sure\", \"sure\", \"sure\", \"sure\", \"sure\", \"sure\", \"sure\", \"sure\", \"surprize\", \"surprize\", \"surprize\", \"surprized\", \"surprized\", \"surprized\", \"suspicions\", \"suspicions\", \"suspicions\", \"suspicions\", \"suspicions\", \"tales\", \"tales\", \"task\", \"task\", \"task\", \"task\", \"task\", \"task\", \"task\", \"taylor\", \"taylor\", \"taylor\", \"taylor\", \"tea\", \"tea\", \"tea\", \"tea\", \"tea\", \"tea\", \"tea\", \"tea\", \"tea\", \"tea\", \"tea\", \"tea\", \"tell\", \"tell\", \"tell\", \"tell\", \"tell\", \"tell\", \"tell\", \"tell\", \"tell\", \"tell\", \"tell\", \"tell\", \"tell\", \"tell\", \"temper\", \"temper\", \"temper\", \"temper\", \"temper\", \"temper\", \"temper\", \"temper\", \"temper\", \"tempered\", \"tempered\", \"tempered\", \"tempered\", \"tempered\", \"tempered\", \"terrasse\", \"terrasse\", \"th\", \"th\", \"th\", \"th\", \"th\", \"th\", \"th\", \"th\", \"thing\", \"thing\", \"thing\", \"thing\", \"thing\", \"thing\", \"thing\", \"thing\", \"thing\", \"thing\", \"thing\", \"thing\", \"thing\", \"things\", \"things\", \"things\", \"things\", \"things\", \"things\", \"things\", \"things\", \"things\", \"things\", \"things\", \"things\", \"think\", \"think\", \"think\", \"think\", \"think\", \"think\", \"think\", \"think\", \"think\", \"think\", \"think\", \"think\", \"think\", \"think\", \"thornfield\", \"thornfield\", \"thornfield\", \"thought\", \"thought\", \"thought\", \"thought\", \"thought\", \"thought\", \"thought\", \"thought\", \"thought\", \"thought\", \"thought\", \"thought\", \"thought\", \"thousand\", \"thousand\", \"thousand\", \"thousand\", \"thousand\", \"thousand\", \"thousand\", \"thousand\", \"thousand\", \"thousand\", \"thrilled\", \"thrilled\", \"thrilled\", \"throat\", \"throat\", \"throat\", \"throat\", \"throat\", \"throat\", \"throat\", \"toil\", \"toil\", \"toil\", \"tomorrow\", \"tomorrow\", \"tomorrow\", \"took\", \"took\", \"took\", \"took\", \"took\", \"took\", \"took\", \"took\", \"took\", \"took\", \"took\", \"took\", \"took\", \"took\", \"tout\", \"town\", \"town\", \"town\", \"town\", \"town\", \"town\", \"town\", \"town\", \"town\", \"town\", \"town\", \"town\", \"town\", \"town\", \"trade\", \"trade\", \"trade\", \"trade\", \"trade\", \"tradesman\", \"tradesman\", \"tradesman\", \"tradesman\", \"trees\", \"trees\", \"trees\", \"trees\", \"trees\", \"trees\", \"trifles\", \"trifles\", \"trifles\", \"trifles\", \"trifles\", \"troubles\", \"troubles\", \"troubles\", \"trunk\", \"trunk\", \"trunk\", \"tyrant\", \"tyrant\", \"tyrant\", \"unaffected\", \"unaffected\", \"uncivil\", \"uncivil\", \"uncivil\", \"uncivil\", \"uncivil\", \"uncivil\", \"uncle\", \"uncle\", \"uncle\", \"uncle\", \"uncle\", \"uncle\", \"uncle\", \"uncle\", \"uncle\", \"uncle\", \"uncles\", \"uncles\", \"uncles\", \"uncles\", \"uncles\", \"uncommonly\", \"uncommonly\", \"une\", \"une\", \"unequal\", \"unequal\", \"unequal\", \"unequal\", \"unequal\", \"unequal\", \"unkindness\", \"unkindness\", \"unkindness\", \"unwonted\", \"unwonted\", \"unwonted\", \"ve\", \"ve\", \"ve\", \"ve\", \"ve\", \"ve\", \"vicarage\", \"vicarage\", \"victor\", \"victor\", \"victor\", \"violently\", \"violently\", \"violently\", \"virtues\", \"virtues\", \"virtues\", \"virtues\", \"virtues\", \"viz\", \"viz\", \"vocation\", \"vocation\", \"vocation\", \"vocation\", \"vocation\", \"vocation\", \"vous\", \"vous\", \"vous\", \"wages\", \"wages\", \"wages\", \"wages\", \"wages\", \"wall\", \"wall\", \"wall\", \"wall\", \"want\", \"want\", \"want\", \"want\", \"want\", \"want\", \"want\", \"want\", \"want\", \"want\", \"want\", \"want\", \"want\", \"warmest\", \"warmest\", \"warmest\", \"way\", \"way\", \"way\", \"way\", \"way\", \"way\", \"way\", \"way\", \"way\", \"way\", \"way\", \"way\", \"way\", \"wednesday\", \"wednesday\", \"wednesday\", \"wednesday\", \"wednesday\", \"wednesday\", \"weeping\", \"went\", \"went\", \"went\", \"went\", \"went\", \"went\", \"went\", \"went\", \"went\", \"went\", \"went\", \"went\", \"went\", \"went\", \"weston\", \"weston\", \"weston\", \"weston\", \"weston\", \"westons\", \"westons\", \"weymouth\", \"weymouth\", \"weymouth\", \"white\", \"white\", \"white\", \"white\", \"white\", \"white\", \"white\", \"white\", \"white\", \"white\", \"wholesome\", \"wholesome\", \"wholesome\", \"wholesome\", \"wickham\", \"wickham\", \"wickham\", \"wickham\", \"wife\", \"wife\", \"wife\", \"wife\", \"wife\", \"wife\", \"wife\", \"wife\", \"wife\", \"wife\", \"wife\", \"wife\", \"wife\", \"william\", \"william\", \"william\", \"william\", \"william\", \"william\", \"william\", \"willoughby\", \"willoughby\", \"wisely\", \"wisely\", \"wisely\", \"wisely\", \"wisely\", \"wisely\", \"wish\", \"wish\", \"wish\", \"wish\", \"wish\", \"wish\", \"wish\", \"wish\", \"wish\", \"wish\", \"wish\", \"wish\", \"wish\", \"wish\", \"woodhouse\", \"woodhouse\", \"woodhouse\", \"woodhouse\", \"woodhouse\", \"woodhouse\", \"words\", \"words\", \"words\", \"words\", \"words\", \"words\", \"words\", \"words\", \"words\", \"words\", \"words\", \"words\", \"words\", \"words\", \"work\", \"work\", \"work\", \"work\", \"work\", \"work\", \"work\", \"work\", \"work\", \"work\", \"work\", \"work\", \"write\", \"write\", \"write\", \"write\", \"write\", \"write\", \"write\", \"write\", \"write\", \"write\", \"write\", \"write\", \"write\", \"ye\", \"ye\", \"ye\", \"ye\", \"ye\", \"years\", \"years\", \"years\", \"years\", \"years\", \"years\", \"years\", \"years\", \"years\", \"years\", \"years\", \"years\", \"years\", \"years\", \"yes\", \"yes\", \"yes\", \"yes\", \"yes\", \"yes\", \"yes\", \"yes\", \"yes\", \"yes\", \"yes\", \"yes\", \"yes\", \"yes\", \"yesterday\", \"yesterday\", \"yesterday\", \"yesterday\", \"yesterday\", \"yesterday\", \"yesterday\", \"yesterday\", \"yesterday\", \"yesterday\", \"yesterday\", \"young\", \"young\", \"young\", \"young\", \"young\", \"young\", \"young\", \"young\", \"young\", \"young\", \"young\", \"young\", \"young\", \"younger\", \"younger\", \"younger\", \"younger\", \"younger\", \"younger\", \"younger\", \"younger\", \"younger\", \"younger\", \"youngest\", \"youngest\", \"youngest\", \"youngest\", \"youngest\", \"zeal\", \"zeal\", \"zeal\", \"zeal\", \"zeal\", \"zelie\", \"zoraide\", \"zoraide\", \"zoraide\"]}, \"R\": 30, \"lambda.step\": 0.01, \"plot.opts\": {\"xlab\": \"PC1\", \"ylab\": \"PC2\"}, \"topic.order\": [13, 10, 6, 9, 5, 11, 8, 4, 15, 3, 14, 12, 7, 2, 1]};\n",
       "\n",
       "function LDAvis_load_lib(url, callback){\n",
       "  var s = document.createElement('script');\n",
       "  s.src = url;\n",
       "  s.async = true;\n",
       "  s.onreadystatechange = s.onload = callback;\n",
       "  s.onerror = function(){console.warn(\"failed to load library \" + url);};\n",
       "  document.getElementsByTagName(\"head\")[0].appendChild(s);\n",
       "}\n",
       "\n",
       "if(typeof(LDAvis) !== \"undefined\"){\n",
       "   // already loaded: just create the visualization\n",
       "   !function(LDAvis){\n",
       "       new LDAvis(\"#\" + \"ldavis_el1898021030576449046946818965\", ldavis_el1898021030576449046946818965_data);\n",
       "   }(LDAvis);\n",
       "}else if(typeof define === \"function\" && define.amd){\n",
       "   // require.js is available: use it to load d3/LDAvis\n",
       "   require.config({paths: {d3: \"https://cdnjs.cloudflare.com/ajax/libs/d3/3.5.5/d3.min\"}});\n",
       "   require([\"d3\"], function(d3){\n",
       "      window.d3 = d3;\n",
       "      LDAvis_load_lib(\"https://cdn.rawgit.com/bmabey/pyLDAvis/files/ldavis.v1.0.0.js\", function(){\n",
       "        new LDAvis(\"#\" + \"ldavis_el1898021030576449046946818965\", ldavis_el1898021030576449046946818965_data);\n",
       "      });\n",
       "    });\n",
       "}else{\n",
       "    // require.js not available: dynamically load d3 & LDAvis\n",
       "    LDAvis_load_lib(\"https://cdnjs.cloudflare.com/ajax/libs/d3/3.5.5/d3.min.js\", function(){\n",
       "         LDAvis_load_lib(\"https://cdn.rawgit.com/bmabey/pyLDAvis/files/ldavis.v1.0.0.js\", function(){\n",
       "                 new LDAvis(\"#\" + \"ldavis_el1898021030576449046946818965\", ldavis_el1898021030576449046946818965_data);\n",
       "            })\n",
       "         });\n",
       "}\n",
       "</script>"
      ],
      "text/plain": [
       "PreparedData(topic_coordinates=              x         y  topics  cluster       Freq\n",
       "topic                                                \n",
       "12     0.106132  0.021048       1        1  27.061514\n",
       "9     -0.056052 -0.023343       2        1  17.491405\n",
       "5      0.099609 -0.010929       3        1  16.611914\n",
       "8     -0.092838  0.031784       4        1  14.483068\n",
       "4     -0.093641 -0.036056       5        1   7.120611\n",
       "10    -0.098865 -0.056759       6        1   5.319049\n",
       "7      0.067319  0.001372       7        1   2.986785\n",
       "3     -0.121154 -0.053146       8        1   2.567614\n",
       "14     0.101883 -0.100701       9        1   1.679491\n",
       "2     -0.096512  0.052815      10        1   1.610345\n",
       "13    -0.035157 -0.016178      11        1   1.210585\n",
       "11     0.071414  0.086691      12        1   0.710734\n",
       "6     -0.039411  0.117158      13        1   0.708700\n",
       "1      0.113866 -0.019705      14        1   0.419344\n",
       "0      0.073406  0.005950      15        1   0.018844, topic_info=     Category         Freq       Term        Total  loglift  logprob\n",
       "170   Default  1518.000000       miss  1518.000000  30.0000  30.0000\n",
       "81    Default   863.000000       emma   863.000000  29.0000  29.0000\n",
       "4183  Default   639.000000     elinor   639.000000  28.0000  28.0000\n",
       "139   Default   931.000000       jane   931.000000  27.0000  27.0000\n",
       "372   Default  1426.000000       know  1426.000000  26.0000  26.0000\n",
       "4186  Default   527.000000   marianne   527.000000  25.0000  25.0000\n",
       "376   Default  1354.000000       like  1354.000000  24.0000  24.0000\n",
       "1370  Default   620.000000       john   620.000000  23.0000  23.0000\n",
       "260   Default  1304.000000      think  1304.000000  22.0000  22.0000\n",
       "1203  Default   618.000000  elizabeth   618.000000  21.0000  21.0000\n",
       "278   Default   435.000000     weston   435.000000  20.0000  20.0000\n",
       "173   Default   647.000000     mother   647.000000  19.0000  19.0000\n",
       "418   Default   926.000000      shall   926.000000  18.0000  18.0000\n",
       "421   Default   593.000000        sir   593.000000  17.0000  17.0000\n",
       "258   Default   781.000000      thing   781.000000  16.0000  16.0000\n",
       "312   Default   835.000000       come   835.000000  15.0000  15.0000\n",
       "918   Default   527.000000    harriet   527.000000  14.0000  14.0000\n",
       "59    Default  1062.000000        day  1062.000000  13.0000  13.0000\n",
       "371   Default   388.000000  knightley   388.000000  12.0000  12.0000\n",
       "4662  Default   366.000000  rochester   366.000000  11.0000  11.0000\n",
       "782   Default   625.000000      heard   625.000000  10.0000  10.0000\n",
       "1179  Default   598.000000        yes   598.000000   9.0000   9.0000\n",
       "428   Default   609.000000       sure   609.000000   8.0000   8.0000\n",
       "820   Default   892.000000       room   892.000000   7.0000   7.0000\n",
       "282   Default   310.000000  woodhouse   310.000000   6.0000   6.0000\n",
       "152   Default   947.000000       long   947.000000   5.0000   5.0000\n",
       "109   Default   821.000000      great   821.000000   4.0000   4.0000\n",
       "3806  Default   399.000000      darcy   399.000000   3.0000   3.0000\n",
       "2109  Default   377.000000    fairfax   377.000000   2.0000   2.0000\n",
       "570   Default   660.000000      young   660.000000   1.0000   1.0000\n",
       "...       ...          ...        ...          ...      ...      ...\n",
       "59    Topic15     0.048148        day  1062.960815  -1.4256  -7.0233\n",
       "258   Topic15     0.042310      thing   781.127502  -1.2468  -7.1525\n",
       "285   Topic15     0.031527      years   316.392700  -0.6372  -7.4467\n",
       "4666  Topic15     0.023981      adele   140.888275  -0.1018  -7.7203\n",
       "553   Topic15     0.031251    subject   332.618042  -0.6960  -7.4555\n",
       "820   Topic15     0.042122       room   892.311646  -1.3843  -7.1570\n",
       "4705  Topic15     0.029711   monsieur   291.733948  -0.6154  -7.5061\n",
       "376   Topic15     0.047214       like  1354.407959  -1.6875  -7.0429\n",
       "3746  Topic15     0.033289     madame   423.171295  -0.8736  -7.3923\n",
       "1179  Topic15     0.036401        yes   598.031006  -1.1301  -7.3030\n",
       "918   Topic15     0.035022    harriet   527.605896  -1.0434  -7.3416\n",
       "1370  Topic15     0.036051       john   620.976196  -1.1774  -7.3126\n",
       "261   Topic15     0.041885    thought  1155.144287  -1.6481  -7.1626\n",
       "19    Topic15     0.036001       away   679.393799  -1.2687  -7.3140\n",
       "372   Topic15     0.044212       know  1426.700317  -1.8052  -7.1086\n",
       "81    Topic15     0.038199       emma   863.582153  -1.4493  -7.2548\n",
       "157   Topic15     0.038288        man   906.405273  -1.4954  -7.2524\n",
       "1123  Topic15     0.030560      asked   404.213318  -0.9133  -7.4779\n",
       "147   Topic15     0.033599       life   590.088074  -1.1968  -7.3831\n",
       "4662  Topic15     0.029605  rochester   366.879883  -0.8481  -7.5096\n",
       "125   Topic15     0.031778       home   492.918091  -1.0726  -7.4388\n",
       "312   Topic15     0.035586       come   835.368164  -1.4870  -7.3256\n",
       "152   Topic15     0.036001       long   947.481750  -1.6013  -7.3140\n",
       "260   Topic15     0.037956      think  1304.457153  -1.8682  -7.2611\n",
       "694   Topic15     0.034232        saw   781.144470  -1.4587  -7.3644\n",
       "370   Topic15     0.032135       knew   554.417725  -1.1790  -7.4276\n",
       "418   Topic15     0.034295      shall   926.720520  -1.6277  -7.3626\n",
       "121   Topic15     0.032751      heart   657.564697  -1.3306  -7.4086\n",
       "1290  Topic15     0.031904       hand   631.368103  -1.3162  -7.4348\n",
       "241   Topic15     0.032392       soon   916.578247  -1.6738  -7.4196\n",
       "\n",
       "[1036 rows x 6 columns], token_table=      Topic      Freq           Term\n",
       "term                                \n",
       "4285      1  0.784437      abandoned\n",
       "4285      2  0.078444      abandoned\n",
       "4285     14  0.078444      abandoned\n",
       "728       4  0.965031          abbey\n",
       "3983      2  0.243046     abhorrence\n",
       "3983      3  0.162031     abhorrence\n",
       "3983      6  0.243046     abhorrence\n",
       "3983      8  0.243046     abhorrence\n",
       "1730      1  0.100622     absolutely\n",
       "1730      2  0.160995     absolutely\n",
       "1730      3  0.100622     absolutely\n",
       "1730      4  0.271678     absolutely\n",
       "1730      5  0.060373     absolutely\n",
       "1730      6  0.050311     absolutely\n",
       "1730      7  0.010062     absolutely\n",
       "1730      8  0.100622     absolutely\n",
       "1730      9  0.100622     absolutely\n",
       "1730     10  0.010062     absolutely\n",
       "1730     12  0.010062     absolutely\n",
       "1730     13  0.020124     absolutely\n",
       "2535      2  0.521255  acknowledging\n",
       "2535      4  0.372325  acknowledging\n",
       "3797      2  0.210868  acquaintances\n",
       "3797      5  0.210868  acquaintances\n",
       "3797      6  0.492026  acquaintances\n",
       "2955      2  0.177053   acquiescence\n",
       "2955      4  0.354107   acquiescence\n",
       "2955      6  0.088527   acquiescence\n",
       "2955      8  0.088527   acquiescence\n",
       "2955     11  0.177053   acquiescence\n",
       "...     ...       ...            ...\n",
       "570       8  0.025749          young\n",
       "570       9  0.003029          young\n",
       "570      10  0.027264          young\n",
       "570      11  0.004544          young\n",
       "570      12  0.021205          young\n",
       "570      13  0.009088          young\n",
       "2593      1  0.073937        younger\n",
       "2593      2  0.110905        younger\n",
       "2593      3  0.018484        younger\n",
       "2593      4  0.036968        younger\n",
       "2593      5  0.480589        younger\n",
       "2593      6  0.073937        younger\n",
       "2593      7  0.073937        younger\n",
       "2593      8  0.018484        younger\n",
       "2593     11  0.055453        younger\n",
       "2593     14  0.036968        younger\n",
       "286       2  0.179151       youngest\n",
       "286       3  0.179151       youngest\n",
       "286       5  0.537454       youngest\n",
       "286       6  0.035830       youngest\n",
       "286      10  0.035830       youngest\n",
       "2462      2  0.153571           zeal\n",
       "2462      3  0.230356           zeal\n",
       "2462      4  0.307141           zeal\n",
       "2462      5  0.076785           zeal\n",
       "2462      9  0.230356           zeal\n",
       "4919      3  0.934592          zelie\n",
       "4873      3  0.661716        zoraide\n",
       "4873      7  0.278617        zoraide\n",
       "4873     12  0.034827        zoraide\n",
       "\n",
       "[4205 rows x 3 columns], R=30, lambda_step=0.01, plot_opts={'xlab': 'PC1', 'ylab': 'PC2'}, topic_order=[13, 10, 6, 9, 5, 11, 8, 4, 15, 3, 14, 12, 7, 2, 1])"
      ]
     },
     "execution_count": 35,
     "metadata": {},
     "output_type": "execute_result"
    }
   ],
   "source": [
    "pyLDAvis.gensim.prepare(lda, corpus, id2word)\n",
    "#overall term frequency\n",
    "#estimated term frequency of particular topic\n",
    "#good for what the model is trying to express\n",
    "#ie topic 1 is half frequency of like\n",
    "#look for extinguishable\n",
    "#bubbles of same size what percentage of documents hae topic 1\n",
    "#bubbles that don't overlap\n",
    "#size of bubbles - how many documents have word occurrence\n",
    "#term frequency how many times word appears\n",
    "#inner topic distance to diagnose how similar dissimilar topics are, topics overlapping, how good our topic model is\n",
    "\n",
    "#no selection, represents 30 most salient terms - most import words in corpus\n",
    "#select 1 - overall term frequency as the glue\n",
    "#estimated term frequency within selected topic - like appears a bit, salient of like is half of frequency of all occurence\n",
    "#if sample topic one, 50 samples, I'd expect estimate term frequency is half that of term frequency of like\n",
    "#slider - at 0, shows words that are most important, 50-50 words that are important to both- shows what topic is trying to express\n",
    "#overall term frequency is total occurrence word appears"
   ]
  },
  {
   "cell_type": "markdown",
   "metadata": {},
   "source": [
    "### Overall Model / Documents"
   ]
  },
  {
   "cell_type": "code",
   "execution_count": 36,
   "metadata": {},
   "outputs": [
    {
     "data": {
      "text/plain": [
       "[(2, 0.41472727), (4, 0.27677014), (8, 0.2740911), (9, 0.03259636)]"
      ]
     },
     "execution_count": 36,
     "metadata": {},
     "output_type": "execute_result"
    }
   ],
   "source": [
    "lda[corpus[0]]#first chapter\n",
    "#we've been working with topics themselves, but we want to score topic distribution\n",
    "#document topic distribution - [] whatever document we want - 0 - first document"
   ]
  },
  {
   "cell_type": "code",
   "execution_count": 37,
   "metadata": {},
   "outputs": [],
   "source": [
    "distro = [lda[d] for d in corpus]"
   ]
  },
  {
   "cell_type": "code",
   "execution_count": 38,
   "metadata": {},
   "outputs": [
    {
     "data": {
      "text/plain": [
       "[(2, 0.41470346), (4, 0.2773193), (8, 0.27497435), (9, 0.031187696)]"
      ]
     },
     "execution_count": 38,
     "metadata": {},
     "output_type": "execute_result"
    }
   ],
   "source": [
    "distro[0]"
   ]
  },
  {
   "cell_type": "code",
   "execution_count": 40,
   "metadata": {},
   "outputs": [],
   "source": [
    "def update(doc):\n",
    "        d_dist = {k:0 for k in range(0,15)}\n",
    "        for t in doc:\n",
    "            d_dist[t[0]] = t[1]\n",
    "        return d_dist\n",
    "    \n",
    "new_distro = [update(d) for d in distro]\n",
    "\n",
    "#transforms distro into a complete distribution"
   ]
  },
  {
   "cell_type": "code",
   "execution_count": 41,
   "metadata": {},
   "outputs": [],
   "source": [
    "d_dist = {k:0 for k in range(0,15)}"
   ]
  },
  {
   "cell_type": "code",
   "execution_count": 42,
   "metadata": {},
   "outputs": [
    {
     "data": {
      "text/plain": [
       "{0: 0,\n",
       " 1: 0,\n",
       " 2: 0,\n",
       " 3: 0,\n",
       " 4: 0,\n",
       " 5: 0,\n",
       " 6: 0,\n",
       " 7: 0,\n",
       " 8: 0,\n",
       " 9: 0,\n",
       " 10: 0,\n",
       " 11: 0,\n",
       " 12: 0,\n",
       " 13: 0,\n",
       " 14: 0}"
      ]
     },
     "execution_count": 42,
     "metadata": {},
     "output_type": "execute_result"
    }
   ],
   "source": [
    "d_dist"
   ]
  },
  {
   "cell_type": "code",
   "execution_count": 43,
   "metadata": {},
   "outputs": [],
   "source": [
    "df = pd.DataFrame.from_records(new_distro, index=titles)\n",
    "df.columns = topics\n",
    "df['author'] = df.reset_index()['index'].apply(lambda x: x.split('_')[0]).tolist()"
   ]
  },
  {
   "cell_type": "code",
   "execution_count": 44,
   "metadata": {},
   "outputs": [
    {
     "data": {
      "text/html": [
       "<div>\n",
       "<style scoped>\n",
       "    .dataframe tbody tr th:only-of-type {\n",
       "        vertical-align: middle;\n",
       "    }\n",
       "\n",
       "    .dataframe tbody tr th {\n",
       "        vertical-align: top;\n",
       "    }\n",
       "\n",
       "    .dataframe thead th {\n",
       "        text-align: right;\n",
       "    }\n",
       "</style>\n",
       "<table border=\"1\" class=\"dataframe\">\n",
       "  <thead>\n",
       "    <tr style=\"text-align: right;\">\n",
       "      <th></th>\n",
       "      <th>miss day like know thing</th>\n",
       "      <th>mason rochester sir mary john</th>\n",
       "      <th>weston emma think miss thing</th>\n",
       "      <th>jane father know think wickham</th>\n",
       "      <th>elizabeth darcy miss bingley bennet</th>\n",
       "      <th>monsieur like madame thought know</th>\n",
       "      <th>miss jane mother know sure</th>\n",
       "      <th>hunsden crimsworth ingram like rochester</th>\n",
       "      <th>emma miss harriet weston elton</th>\n",
       "      <th>elinor marianne know mother think</th>\n",
       "      <th>elizabeth jane bennet lydia know</th>\n",
       "      <th>graham georgiana young heard bessie</th>\n",
       "      <th>like night thought long room</th>\n",
       "      <th>elinor marianne sir colonel jennings</th>\n",
       "      <th>st shall john diana jane</th>\n",
       "      <th>author</th>\n",
       "    </tr>\n",
       "  </thead>\n",
       "  <tbody>\n",
       "    <tr>\n",
       "      <th>Austen_Emma0000</th>\n",
       "      <td>0</td>\n",
       "      <td>0.0</td>\n",
       "      <td>0.414703</td>\n",
       "      <td>0.0</td>\n",
       "      <td>0.277319</td>\n",
       "      <td>0.0</td>\n",
       "      <td>0.0</td>\n",
       "      <td>0.0</td>\n",
       "      <td>0.274974</td>\n",
       "      <td>0.031188</td>\n",
       "      <td>0.0</td>\n",
       "      <td>0.0</td>\n",
       "      <td>0.0</td>\n",
       "      <td>0.0</td>\n",
       "      <td>0.0</td>\n",
       "      <td>Austen</td>\n",
       "    </tr>\n",
       "    <tr>\n",
       "      <th>Austen_Emma0001</th>\n",
       "      <td>0</td>\n",
       "      <td>0.0</td>\n",
       "      <td>0.000000</td>\n",
       "      <td>0.0</td>\n",
       "      <td>0.000000</td>\n",
       "      <td>0.0</td>\n",
       "      <td>0.0</td>\n",
       "      <td>0.0</td>\n",
       "      <td>0.997247</td>\n",
       "      <td>0.000000</td>\n",
       "      <td>0.0</td>\n",
       "      <td>0.0</td>\n",
       "      <td>0.0</td>\n",
       "      <td>0.0</td>\n",
       "      <td>0.0</td>\n",
       "      <td>Austen</td>\n",
       "    </tr>\n",
       "    <tr>\n",
       "      <th>Austen_Emma0002</th>\n",
       "      <td>0</td>\n",
       "      <td>0.0</td>\n",
       "      <td>0.242974</td>\n",
       "      <td>0.0</td>\n",
       "      <td>0.000000</td>\n",
       "      <td>0.0</td>\n",
       "      <td>0.0</td>\n",
       "      <td>0.0</td>\n",
       "      <td>0.754632</td>\n",
       "      <td>0.000000</td>\n",
       "      <td>0.0</td>\n",
       "      <td>0.0</td>\n",
       "      <td>0.0</td>\n",
       "      <td>0.0</td>\n",
       "      <td>0.0</td>\n",
       "      <td>Austen</td>\n",
       "    </tr>\n",
       "    <tr>\n",
       "      <th>Austen_Emma0003</th>\n",
       "      <td>0</td>\n",
       "      <td>0.0</td>\n",
       "      <td>0.275066</td>\n",
       "      <td>0.0</td>\n",
       "      <td>0.000000</td>\n",
       "      <td>0.0</td>\n",
       "      <td>0.0</td>\n",
       "      <td>0.0</td>\n",
       "      <td>0.331318</td>\n",
       "      <td>0.391460</td>\n",
       "      <td>0.0</td>\n",
       "      <td>0.0</td>\n",
       "      <td>0.0</td>\n",
       "      <td>0.0</td>\n",
       "      <td>0.0</td>\n",
       "      <td>Austen</td>\n",
       "    </tr>\n",
       "    <tr>\n",
       "      <th>Austen_Emma0004</th>\n",
       "      <td>0</td>\n",
       "      <td>0.0</td>\n",
       "      <td>0.000000</td>\n",
       "      <td>0.0</td>\n",
       "      <td>0.127498</td>\n",
       "      <td>0.0</td>\n",
       "      <td>0.0</td>\n",
       "      <td>0.0</td>\n",
       "      <td>0.870351</td>\n",
       "      <td>0.000000</td>\n",
       "      <td>0.0</td>\n",
       "      <td>0.0</td>\n",
       "      <td>0.0</td>\n",
       "      <td>0.0</td>\n",
       "      <td>0.0</td>\n",
       "      <td>Austen</td>\n",
       "    </tr>\n",
       "  </tbody>\n",
       "</table>\n",
       "</div>"
      ],
      "text/plain": [
       "                 miss day like know thing  mason rochester sir mary john  \\\n",
       "Austen_Emma0000                         0                            0.0   \n",
       "Austen_Emma0001                         0                            0.0   \n",
       "Austen_Emma0002                         0                            0.0   \n",
       "Austen_Emma0003                         0                            0.0   \n",
       "Austen_Emma0004                         0                            0.0   \n",
       "\n",
       "                 weston emma think miss thing  jane father know think wickham  \\\n",
       "Austen_Emma0000                      0.414703                             0.0   \n",
       "Austen_Emma0001                      0.000000                             0.0   \n",
       "Austen_Emma0002                      0.242974                             0.0   \n",
       "Austen_Emma0003                      0.275066                             0.0   \n",
       "Austen_Emma0004                      0.000000                             0.0   \n",
       "\n",
       "                 elizabeth darcy miss bingley bennet  \\\n",
       "Austen_Emma0000                             0.277319   \n",
       "Austen_Emma0001                             0.000000   \n",
       "Austen_Emma0002                             0.000000   \n",
       "Austen_Emma0003                             0.000000   \n",
       "Austen_Emma0004                             0.127498   \n",
       "\n",
       "                 monsieur like madame thought know  \\\n",
       "Austen_Emma0000                                0.0   \n",
       "Austen_Emma0001                                0.0   \n",
       "Austen_Emma0002                                0.0   \n",
       "Austen_Emma0003                                0.0   \n",
       "Austen_Emma0004                                0.0   \n",
       "\n",
       "                 miss jane mother know sure  \\\n",
       "Austen_Emma0000                         0.0   \n",
       "Austen_Emma0001                         0.0   \n",
       "Austen_Emma0002                         0.0   \n",
       "Austen_Emma0003                         0.0   \n",
       "Austen_Emma0004                         0.0   \n",
       "\n",
       "                 hunsden crimsworth ingram like rochester  \\\n",
       "Austen_Emma0000                                       0.0   \n",
       "Austen_Emma0001                                       0.0   \n",
       "Austen_Emma0002                                       0.0   \n",
       "Austen_Emma0003                                       0.0   \n",
       "Austen_Emma0004                                       0.0   \n",
       "\n",
       "                 emma miss harriet weston elton  \\\n",
       "Austen_Emma0000                        0.274974   \n",
       "Austen_Emma0001                        0.997247   \n",
       "Austen_Emma0002                        0.754632   \n",
       "Austen_Emma0003                        0.331318   \n",
       "Austen_Emma0004                        0.870351   \n",
       "\n",
       "                 elinor marianne know mother think  \\\n",
       "Austen_Emma0000                           0.031188   \n",
       "Austen_Emma0001                           0.000000   \n",
       "Austen_Emma0002                           0.000000   \n",
       "Austen_Emma0003                           0.391460   \n",
       "Austen_Emma0004                           0.000000   \n",
       "\n",
       "                 elizabeth jane bennet lydia know  \\\n",
       "Austen_Emma0000                               0.0   \n",
       "Austen_Emma0001                               0.0   \n",
       "Austen_Emma0002                               0.0   \n",
       "Austen_Emma0003                               0.0   \n",
       "Austen_Emma0004                               0.0   \n",
       "\n",
       "                 graham georgiana young heard bessie  \\\n",
       "Austen_Emma0000                                  0.0   \n",
       "Austen_Emma0001                                  0.0   \n",
       "Austen_Emma0002                                  0.0   \n",
       "Austen_Emma0003                                  0.0   \n",
       "Austen_Emma0004                                  0.0   \n",
       "\n",
       "                 like night thought long room  \\\n",
       "Austen_Emma0000                           0.0   \n",
       "Austen_Emma0001                           0.0   \n",
       "Austen_Emma0002                           0.0   \n",
       "Austen_Emma0003                           0.0   \n",
       "Austen_Emma0004                           0.0   \n",
       "\n",
       "                 elinor marianne sir colonel jennings  \\\n",
       "Austen_Emma0000                                   0.0   \n",
       "Austen_Emma0001                                   0.0   \n",
       "Austen_Emma0002                                   0.0   \n",
       "Austen_Emma0003                                   0.0   \n",
       "Austen_Emma0004                                   0.0   \n",
       "\n",
       "                 st shall john diana jane  author  \n",
       "Austen_Emma0000                       0.0  Austen  \n",
       "Austen_Emma0001                       0.0  Austen  \n",
       "Austen_Emma0002                       0.0  Austen  \n",
       "Austen_Emma0003                       0.0  Austen  \n",
       "Austen_Emma0004                       0.0  Austen  "
      ]
     },
     "execution_count": 44,
     "metadata": {},
     "output_type": "execute_result"
    }
   ],
   "source": [
    "df.head()\n",
    "#preprocessing isn't sufficient enough for good result. the result of analysis shows different characters they write about\n",
    "#we can extract names, create a list of names - label names male and female to see other themes"
   ]
  },
  {
   "cell_type": "code",
   "execution_count": 45,
   "metadata": {},
   "outputs": [
    {
     "data": {
      "text/html": [
       "<div>\n",
       "<style scoped>\n",
       "    .dataframe tbody tr th:only-of-type {\n",
       "        vertical-align: middle;\n",
       "    }\n",
       "\n",
       "    .dataframe tbody tr th {\n",
       "        vertical-align: top;\n",
       "    }\n",
       "\n",
       "    .dataframe thead th {\n",
       "        text-align: right;\n",
       "    }\n",
       "</style>\n",
       "<table border=\"1\" class=\"dataframe\">\n",
       "  <thead>\n",
       "    <tr style=\"text-align: right;\">\n",
       "      <th></th>\n",
       "      <th>miss day like know thing</th>\n",
       "      <th>mason rochester sir mary john</th>\n",
       "      <th>weston emma think miss thing</th>\n",
       "      <th>jane father know think wickham</th>\n",
       "      <th>elizabeth darcy miss bingley bennet</th>\n",
       "      <th>monsieur like madame thought know</th>\n",
       "      <th>miss jane mother know sure</th>\n",
       "      <th>hunsden crimsworth ingram like rochester</th>\n",
       "      <th>emma miss harriet weston elton</th>\n",
       "      <th>elinor marianne know mother think</th>\n",
       "      <th>elizabeth jane bennet lydia know</th>\n",
       "      <th>graham georgiana young heard bessie</th>\n",
       "      <th>like night thought long room</th>\n",
       "      <th>elinor marianne sir colonel jennings</th>\n",
       "      <th>st shall john diana jane</th>\n",
       "    </tr>\n",
       "    <tr>\n",
       "      <th>author</th>\n",
       "      <th></th>\n",
       "      <th></th>\n",
       "      <th></th>\n",
       "      <th></th>\n",
       "      <th></th>\n",
       "      <th></th>\n",
       "      <th></th>\n",
       "      <th></th>\n",
       "      <th></th>\n",
       "      <th></th>\n",
       "      <th></th>\n",
       "      <th></th>\n",
       "      <th></th>\n",
       "      <th></th>\n",
       "      <th></th>\n",
       "    </tr>\n",
       "  </thead>\n",
       "  <tbody>\n",
       "    <tr>\n",
       "      <th>Austen</th>\n",
       "      <td>0</td>\n",
       "      <td>0.000701</td>\n",
       "      <td>0.034084</td>\n",
       "      <td>0.057485</td>\n",
       "      <td>0.151256</td>\n",
       "      <td>0.002134</td>\n",
       "      <td>0.010567</td>\n",
       "      <td>0.001796</td>\n",
       "      <td>0.305976</td>\n",
       "      <td>0.289046</td>\n",
       "      <td>0.114940</td>\n",
       "      <td>0.000000</td>\n",
       "      <td>0.010373</td>\n",
       "      <td>0.018780</td>\n",
       "      <td>0.000000</td>\n",
       "    </tr>\n",
       "    <tr>\n",
       "      <th>CBronte</th>\n",
       "      <td>0</td>\n",
       "      <td>0.006914</td>\n",
       "      <td>0.000096</td>\n",
       "      <td>0.002775</td>\n",
       "      <td>0.007147</td>\n",
       "      <td>0.293535</td>\n",
       "      <td>0.004138</td>\n",
       "      <td>0.053961</td>\n",
       "      <td>0.003582</td>\n",
       "      <td>0.075156</td>\n",
       "      <td>0.006658</td>\n",
       "      <td>0.015023</td>\n",
       "      <td>0.488894</td>\n",
       "      <td>0.005118</td>\n",
       "      <td>0.034242</td>\n",
       "    </tr>\n",
       "  </tbody>\n",
       "</table>\n",
       "</div>"
      ],
      "text/plain": [
       "         miss day like know thing  mason rochester sir mary john  \\\n",
       "author                                                             \n",
       "Austen                          0                       0.000701   \n",
       "CBronte                         0                       0.006914   \n",
       "\n",
       "         weston emma think miss thing  jane father know think wickham  \\\n",
       "author                                                                  \n",
       "Austen                       0.034084                        0.057485   \n",
       "CBronte                      0.000096                        0.002775   \n",
       "\n",
       "         elizabeth darcy miss bingley bennet  \\\n",
       "author                                         \n",
       "Austen                              0.151256   \n",
       "CBronte                             0.007147   \n",
       "\n",
       "         monsieur like madame thought know  miss jane mother know sure  \\\n",
       "author                                                                   \n",
       "Austen                            0.002134                    0.010567   \n",
       "CBronte                           0.293535                    0.004138   \n",
       "\n",
       "         hunsden crimsworth ingram like rochester  \\\n",
       "author                                              \n",
       "Austen                                   0.001796   \n",
       "CBronte                                  0.053961   \n",
       "\n",
       "         emma miss harriet weston elton  elinor marianne know mother think  \\\n",
       "author                                                                       \n",
       "Austen                         0.305976                           0.289046   \n",
       "CBronte                        0.003582                           0.075156   \n",
       "\n",
       "         elizabeth jane bennet lydia know  \\\n",
       "author                                      \n",
       "Austen                           0.114940   \n",
       "CBronte                          0.006658   \n",
       "\n",
       "         graham georgiana young heard bessie  like night thought long room  \\\n",
       "author                                                                       \n",
       "Austen                              0.000000                      0.010373   \n",
       "CBronte                             0.015023                      0.488894   \n",
       "\n",
       "         elinor marianne sir colonel jennings  st shall john diana jane  \n",
       "author                                                                   \n",
       "Austen                               0.018780                  0.000000  \n",
       "CBronte                              0.005118                  0.034242  "
      ]
     },
     "execution_count": 45,
     "metadata": {},
     "output_type": "execute_result"
    }
   ],
   "source": [
    "df.groupby('author').mean()"
   ]
  },
  {
   "cell_type": "markdown",
   "metadata": {},
   "source": [
    "## Can we see if one of the authors focus more on men than women? - Ned\n",
    "\n",
    "*  Use Spacy for text prepocessing\n",
    "*  Extract the Named Entities from the documents using Spacy (command is fairly straight forward)\n",
    "*  Create unique list of names from the authors (you'll find that there are different types of named entities not all people)\n",
    "*  Label the names with genders (can you this by hand or you use the US census name lists)\n",
    "*  Customize your processing to replace the proper name with your gender from the previous step's lookup table\n",
    "*  Then follow the rest of the LDA flow\n"
   ]
  },
  {
   "cell_type": "markdown",
   "metadata": {},
   "source": [
    "## Part 4: Selecting the Number of Topics\n",
    "<a id=\"#p4\"></a>"
   ]
  },
  {
   "cell_type": "code",
   "execution_count": 63,
   "metadata": {},
   "outputs": [],
   "source": [
    "from gensim.models.coherencemodel import CoherenceModel#selects proper number of topics as metric like skre or elbow plot, most coherent model possible, \n",
    "#model invented in 2003 lda model\n",
    "\n",
    "def compute_coherence_values(dictionary, corpus, path, limit, start=2, step=3):\n",
    "    \"\"\"\n",
    "    Compute c_v coherence for various number of topics\n",
    "\n",
    "    Parameters:\n",
    "    ----------\n",
    "    dictionary : Gensim dictionary\n",
    "    corpus : Gensim corpus\n",
    "    path : path to input texts\n",
    "    limit : Max num of topics\n",
    "\n",
    "    Returns:\n",
    "    -------\n",
    "    model_list : List of LDA topic models \n",
    "    coherence_values : Coherence values corresponding to the LDA model with respective number of topics\n",
    "    \"\"\"\n",
    "    coherence_values = []\n",
    "    model_list = []\n",
    "    for num_topics in range(start, limit, step):\n",
    "        stream = doc_stream(path)\n",
    "        model = LdaMulticore(corpus=corpus, num_topics=num_topics, id2word=id2word, workers=4)\n",
    "        model_list.append(model)\n",
    "        coherencemodel = CoherenceModel(model=model, texts=stream, dictionary=dictionary, coherence='c_v')#pass in our lda model, as text, dictionary, pass in type of coherence value\n",
    "        coherence_values.append(coherencemodel.get_coherence())\n",
    "\n",
    "    return model_list, coherence_values"
   ]
  },
  {
   "cell_type": "code",
   "execution_count": 64,
   "metadata": {},
   "outputs": [],
   "source": [
    "# Can take a long time to run.\n",
    "\n",
    "import warnings\n",
    "warnings.filterwarnings('ignore')\n",
    "model_list, coherence_values = compute_coherence_values(dictionary=id2word, \n",
    "                                                        corpus=corpus, \n",
    "                                                        path=path, \n",
    "                                                        start=2, \n",
    "                                                        limit=40, \n",
    "                                                        step=6)"
   ]
  },
  {
   "cell_type": "code",
   "execution_count": 65,
   "metadata": {},
   "outputs": [
    {
     "data": {
      "image/png": "[encoded data removed]",
      "text/plain": [
       "<Figure size 432x288 with 1 Axes>"
      ]
     },
     "metadata": {
      "needs_background": "light"
     },
     "output_type": "display_data"
    }
   ],
   "source": [
    "# Show graph\n",
    "import matplotlib.pyplot as plt\n",
    "\n",
    "limit=40; start=2; step=6;\n",
    "x = range(start, limit, step)\n",
    "plt.plot(x, coherence_values)\n",
    "plt.xlabel(\"Num Topics\")\n",
    "plt.ylabel(\"Coherence score\")\n",
    "plt.legend((\"coherence_values\"), loc='best')\n",
    "plt.show()\n",
    "#we're looking for the highest coherence value, we want to see the highest point possible before it dips down. \n",
    "#looking for closer to 1, individual observations possible. \n",
    "#highest coherence possible, lowest number of topics\n",
    "\n",
    "#distinct categories that don't overlap\n",
    "#words inside categories to go together in a particular way"
   ]
  },
  {
   "cell_type": "code",
   "execution_count": 66,
   "metadata": {},
   "outputs": [
    {
     "name": "stdout",
     "output_type": "stream",
     "text": [
      "Num Topics = 2  has Coherence Value of 0.2982\n",
      "Num Topics = 8  has Coherence Value of 0.2843\n",
      "Num Topics = 14  has Coherence Value of 0.2859\n",
      "Num Topics = 20  has Coherence Value of 0.2842\n",
      "Num Topics = 26  has Coherence Value of 0.2945\n",
      "Num Topics = 32  has Coherence Value of 0.298\n",
      "Num Topics = 38  has Coherence Value of 0.2836\n"
     ]
    }
   ],
   "source": [
    "# Print the coherence scores\n",
    "for m, cv in zip(x, coherence_values):\n",
    "    print(\"Num Topics =\", m, \" has Coherence Value of\", round(cv, 4))\n",
    "    #these topics have the highest coherence values\n",
    "    #coherence is quality topic model\n",
    "    # we can highest quality when the number of topics is at 8 \n",
    "    #coherence - how distinct are topics from one another, how well the words within a topic belong together\n",
    "    #way of expressing topics are distinct"
   ]
  },
  {
   "cell_type": "code",
   "execution_count": 80,
   "metadata": {},
   "outputs": [
    {
     "ename": "TypeError",
     "evalue": "'function' object is not subscriptable",
     "output_type": "error",
     "traceback": [
      "\u001b[1;31m---------------------------------------------------------------------------\u001b[0m",
      "\u001b[1;31mTypeError\u001b[0m                                 Traceback (most recent call last)",
      "\u001b[1;32m<ipython-input-80-dabd5ae48936>\u001b[0m in \u001b[0;36m<module>\u001b[1;34m\u001b[0m\n\u001b[1;32m----> 1\u001b[1;33m \u001b[0mlda\u001b[0m\u001b[1;33m[\u001b[0m\u001b[0mid2word\u001b[0m\u001b[1;33m.\u001b[0m\u001b[0mdoc2bow\u001b[0m\u001b[1;33m[\u001b[0m\u001b[0mtokenize\u001b[0m\u001b[1;33m[\u001b[0m\u001b[1;34m'This is a sample document to score with a topic distribution'\u001b[0m\u001b[1;33m]\u001b[0m\u001b[1;33m]\u001b[0m\u001b[1;33m]\u001b[0m\u001b[1;33m\u001b[0m\u001b[1;33m\u001b[0m\u001b[0m\n\u001b[0m",
      "\u001b[1;31mTypeError\u001b[0m: 'function' object is not subscriptable"
     ]
    }
   ],
   "source": [
    "lda[id2word.doc2bow[tokenize['This is a sample document to score with a topic distribution']]]"
   ]
  },
  {
   "cell_type": "code",
   "execution_count": 67,
   "metadata": {},
   "outputs": [],
   "source": [
    "import spacy\n",
    "\n",
    "nlp = spacy.load('en_core_web_md')"
   ]
  },
  {
   "cell_type": "code",
   "execution_count": 68,
   "metadata": {},
   "outputs": [],
   "source": [
    "test = \"Ned ask me a question about England today.\""
   ]
  },
  {
   "cell_type": "code",
   "execution_count": 72,
   "metadata": {},
   "outputs": [
    {
     "name": "stdout",
     "output_type": "stream",
     "text": [
      "Ned Ned PROPN\n",
      "ask ask VERB\n",
      "me -PRON- PRON\n",
      "a a DET\n",
      "question question NOUN\n",
      "about about ADP\n",
      "England England PROPN\n",
      "today today NOUN\n",
      ". . PUNCT\n"
     ]
    }
   ],
   "source": [
    "import spacy\n",
    "nlp = spacy.load('en_core_web_md')\n",
    "doc = nlp(test)\n",
    "\n",
    "for token in doc:\n",
    "    print(token.text, token.lemma_, token.pos_)#to get named entities out of spacey, tagging on sentence, so we get proper noun\n",
    "    #parse speech tagging\n",
    "    #named entity is gets from speech tagging\n",
    "    # we query from ent.text\n",
    "    \n",
    "#refit lda model with those specific topics"
   ]
  },
  {
   "cell_type": "code",
   "execution_count": 73,
   "metadata": {},
   "outputs": [
    {
     "name": "stdout",
     "output_type": "stream",
     "text": [
      "Ned PERSON\n",
      "England GPE\n",
      "today DATE\n"
     ]
    }
   ],
   "source": [
    "for ent in doc.ents:\n",
    "    print(ent.text, ent.label_)\n",
    "    \n",
    "#sometimes you do what to excluded proper nouns but you need to figure out how often the nounds are mentioned"
   ]
  },
  {
   "cell_type": "code",
   "execution_count": 74,
   "metadata": {},
   "outputs": [],
   "source": [
    "#I want to inspect people from the data\n",
    "\n",
    "def doc_stream(path):#for reference\n",
    "    for f in os.listdir(path):\n",
    "        with open(os.path.join(path,f)) as t:\n",
    "            text = t.read().strip('\\n')\n",
    "            yield text\n",
    "\n",
    "def get_people(docstream):#empty list iterate items in doctring, return named entities, we get a list of people\n",
    "    \n",
    "    ppl = []\n",
    "    \n",
    "    for d in docstream:\n",
    "        \n",
    "        doc = nlp(d)\n",
    "        \n",
    "        for ent in doc.ents:\n",
    "            \n",
    "            if ent.label_ == \"PERSON\":\n",
    "                ppl.append(ent.text)\n",
    "                \n",
    "    return set(ppl)\n",
    "#entity recognition has a neural network behind it"
   ]
  },
  {
   "cell_type": "code",
   "execution_count": 75,
   "metadata": {},
   "outputs": [],
   "source": [
    "people = get_people(doc_stream(path))"
   ]
  },
  {
   "cell_type": "code",
   "execution_count": 76,
   "metadata": {},
   "outputs": [],
   "source": [
    "people = pd.Series(list(people))"
   ]
  },
  {
   "cell_type": "code",
   "execution_count": 77,
   "metadata": {},
   "outputs": [
    {
     "data": {
      "text/plain": [
       "(1802,)"
      ]
     },
     "execution_count": 77,
     "metadata": {},
     "output_type": "execute_result"
    }
   ],
   "source": [
    "people.shape#1800 names"
   ]
  },
  {
   "cell_type": "code",
   "execution_count": 78,
   "metadata": {},
   "outputs": [
    {
     "data": {
      "text/plain": [
       "0                 I. BRETTON\\nII\n",
       "1                          Queen\n",
       "2                Dashwood?--Poor\n",
       "3                      Goldsmith\n",
       "4                    Maria Lucas\n",
       "5                     M. Isidore\n",
       "6                this M. Emanuel\n",
       "7          Woodhouse Miss Taylor\n",
       "8             sufficient.-- Emma\n",
       "9                   Harriet!--It\n",
       "10                        Allons\n",
       "11                Hawkins!--Good\n",
       "12                 M. PAUL\\nXXXI\n",
       "13                 Je ne vous ai\n",
       "14                Donwell Lane\\n\n",
       "15                   her.-- Emma\n",
       "16           Marianne of farther\n",
       "17                 Richard Mason\n",
       "18       the Misses Brocklehurst\n",
       "19                      Matthieu\n",
       "20                         Gryce\n",
       "21                         Jesus\n",
       "22               De Bassompierre\n",
       "23                         Elton\n",
       "24                           Vos\n",
       "25                    Guy Fawkes\n",
       "26                       Goddard\n",
       "27                  Paul de Kock\n",
       "28    Vous etes donc bien malade\n",
       "29                          Mais\n",
       "30                Labassecourien\n",
       "31                           Joe\n",
       "32              John\\nKnightleys\n",
       "33                     L. L. B.\"\n",
       "34                  M. Isidore's\n",
       "35            Harriet Smith!--It\n",
       "36                      Theodore\n",
       "37                      Hatfield\n",
       "38             Sortez\\ndonc tant\n",
       "39                        Pierre\n",
       "40                Elle est toute\n",
       "41                    M. Pelet's\n",
       "42                          Moon\n",
       "43                         Greys\n",
       "44                Lady Catherine\n",
       "45                 Will Monsieur\n",
       "46                      Forsters\n",
       "47                  Englishwoman\n",
       "48                        Clarke\n",
       "49                  deserve.--He\n",
       "dtype: object"
      ]
     },
     "execution_count": 78,
     "metadata": {},
     "output_type": "execute_result"
    }
   ],
   "source": [
    "people.head(50)"
   ]
  },
  {
   "cell_type": "markdown",
   "metadata": {},
   "source": [
    "## Additional Resources\n",
    "## Resources\n",
    "\n",
    "* [Gensim](https://radimrehurek.com/gensim/): Python package for topic modeling, nlp, word vectorization, and few other things. Well maintained and well documented.\n",
    "* [Topic Modeling with Gensim](http://www.machinelearningplus.com/nlp/topic-modeling-gensim-python/#11createthedictionaryandcorpusneededfortopicmodeling): A kind of cookbook for LDA with gensim. Excellent overview, but the you need to be aware of missing import statements and assumed prior knowledge.\n",
    "* [Chinese Restuarant Process](https://en.wikipedia.org/wiki/Chinese_restaurant_process): That really obscure stats thing I mentioned... \n",
    "* [PyLDAvis](https://github.com/bmabey/pyLDAvis): Library for visualizing the topic model and performing some exploratory work. Works well. Has a direct parrell implementation in R as well. \n",
    "* [Rare Technologies](https://rare-technologies.com/): The people that made & maintain gensim and a few other libraries.\n",
    "* [Jane Austen v. Charlotte Bronte](https://www.literaryladiesguide.com/literary-musings/jane-austen-charlotte-bronte-different-alike/)"
   ]
  },
  {
   "cell_type": "code",
   "execution_count": null,
   "metadata": {},
   "outputs": [],
   "source": [
    "#what do people say by topic of ratings\n",
    "#topic modeling as an addendum to all kinds of classfication\n",
    "#topic modelings - for information retrieval like search on Tuesday\n",
    "#genetics in distribution, originally applied to study genomic sequences"
   ]
  }
 ],
 "metadata": {
  "kernelspec": {
   "display_name": "U4-S1-NLP (Python 3.6)",
   "language": "python",
   "name": "u4-s1-nlp"
  },
  "language_info": {
   "codemirror_mode": {
    "name": "ipython",
    "version": 3
   },
   "file_extension": ".py",
   "mimetype": "text/x-python",
   "name": "python",
   "nbconvert_exporter": "python",
   "pygments_lexer": "ipython3",
   "version": "3.7.3"
  }
 },
 "nbformat": 4,
 "nbformat_minor": 2
}
